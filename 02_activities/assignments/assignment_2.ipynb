{
  "cells": [
    {
      "cell_type": "markdown",
      "id": "7c6788aef474ca12",
      "metadata": {
        "collapsed": false,
        "id": "7c6788aef474ca12"
      },
      "source": [
        "# Creative Text Generation with Recurrent Neural Networks (RNNs)\n",
        "\n",
        "In this assignment, you'll build upon your understanding of RNNs and Keras to develop a word-level text generation model.  Your goal is to train a model that learns the stylistic nuances of a chosen corpus and generates new, original text segments that echo the source material's essence.\n",
        "\n",
        "**Datasets**\n",
        "\n",
        "We've provided several intriguing text corpora to get you started:\n",
        "\n",
        "*   Mark Twain\n",
        "*   Charles Dickens\n",
        "*   William Shakespeare\n",
        "\n",
        "**Feel free to explore!**  If you have a particular passion for another author, genre, or a specific text, you're encouraged to use your own dataset of raw text."
      ]
    },
    {
      "cell_type": "code",
      "execution_count": 1,
      "id": "2d0bfedcfe52aedc",
      "metadata": {
        "colab": {
          "base_uri": "https://localhost:8080/"
        },
        "id": "2d0bfedcfe52aedc",
        "outputId": "15c0df7f-74b1-4e56-dcd1-6bbeaa10d176"
      },
      "outputs": [
        {
          "name": "stdout",
          "output_type": "stream",
          "text": [
            "No GPU available. If you're on Colab, go to Runtime > Change runtime and select a GPU hardware accelerator.\n"
          ]
        }
      ],
      "source": [
        "# Check if we have a GPU available\n",
        "import tensorflow as tf\n",
        "if tf.test.gpu_device_name():\n",
        "    print('Default GPU Device: {}'.format(tf.test.gpu_device_name()))\n",
        "else:\n",
        "    print(\"No GPU available. If you're on Colab, go to Runtime > Change runtime and select a GPU hardware accelerator.\")"
      ]
    },
    {
      "cell_type": "code",
      "execution_count": 21,
      "id": "9c28c497f620b775",
      "metadata": {
        "colab": {
          "base_uri": "https://localhost:8080/"
        },
        "id": "9c28c497f620b775",
        "outputId": "8dbb9fd4-7dae-4da9-82d1-528a3fcbe7b4"
      },
      "outputs": [
        {
          "name": "stdout",
          "output_type": "stream",
          "text": [
            "Choose a book to download:\n",
            "1: Charles Dickens\n",
            "2: Mark Twain\n",
            "3: William Shakespeare\n",
            "Downloaded mark_twain.txt successfully!\n",
            "Dataset loaded successfully!\n"
          ]
        }
      ],
      "source": [
        "import requests\n",
        "import os\n",
        "\n",
        "def download_file(book_name):\n",
        "    base_url = \"https://raw.githubusercontent.com/UofT-DSI/deep_learning/refs/heads/main/02_activities/assignments/downloaded_books/\"\n",
        "    file_url = base_url + book_name\n",
        "    local_filename = book_name\n",
        "\n",
        "    response = requests.get(file_url)\n",
        "    if response.status_code == 200:\n",
        "        with open(local_filename, 'w', encoding='utf-8') as f:\n",
        "            f.write(response.text)\n",
        "        print(f\"Downloaded {book_name} successfully!\")\n",
        "        return local_filename\n",
        "    else:\n",
        "        raise ValueError(\"Failed to download the file. Please check the filename and try again.\")\n",
        "\n",
        "def load_dataset(file_path, fraction=1.0):\n",
        "    with open(file_path, 'r', encoding='utf-8') as f:\n",
        "        raw_text = f.read()\n",
        "    return raw_text[:int(fraction * len(raw_text))]\n",
        "\n",
        "# Prompt user to select a book\n",
        "title_options = {\n",
        "    \"1\": \"charles_dickens.txt\",\n",
        "    \"2\": \"mark_twain.txt\",\n",
        "    \"3\": \"shakespeare.txt\"\n",
        "}\n",
        "\n",
        "print(\"Choose a book to download:\")\n",
        "print(\"1: Charles Dickens\")\n",
        "print(\"2: Mark Twain\")\n",
        "print(\"3: William Shakespeare\")\n",
        "\n",
        "choice = None\n",
        "while choice not in title_options:\n",
        "    choice = input(\"Enter the number corresponding to your choice (1, 2, or 3): \").strip()\n",
        "    if choice not in title_options:\n",
        "        print(\"Invalid choice. Please enter 1, 2, or 3.\")\n",
        "\n",
        "selected_book = title_options[choice]\n",
        "file_path = download_file(selected_book)\n",
        "\n",
        "# Load chosen dataset\n",
        "#fraction = 0.1  # Adjust fraction if running out of memory\n",
        "fraction = 0.01  # Adjust fraction if running out of memory\n",
        "text = load_dataset(file_path, fraction=fraction)\n",
        "\n",
        "print(\"Dataset loaded successfully!\")"
      ]
    },
    {
      "cell_type": "code",
      "execution_count": 22,
      "id": "b8a1388f",
      "metadata": {},
      "outputs": [
        {
          "data": {
            "text/plain": [
              "129191"
            ]
          },
          "execution_count": 22,
          "metadata": {},
          "output_type": "execute_result"
        }
      ],
      "source": [
        "len(text)"
      ]
    },
    {
      "cell_type": "markdown",
      "id": "dab51c764031e606",
      "metadata": {
        "collapsed": false,
        "id": "dab51c764031e606"
      },
      "source": [
        "# 1. Data Preparation (10 Marks)\n",
        "\n",
        "Before we can begin training an RNN model, we need to prepare the dataset. This involves cleaning the text, tokenizing words, and creating sequences the model can be trained on.\n",
        "\n",
        "## 1.1 Data Exploration (3 Marks)\n",
        "\n",
        "Print the first 1000 characters of the dataset. Report the dataset's size and the number of unique characters it contains."
      ]
    },
    {
      "cell_type": "code",
      "execution_count": 23,
      "id": "BunkZmdkl0Wn",
      "metadata": {
        "colab": {
          "base_uri": "https://localhost:8080/"
        },
        "id": "BunkZmdkl0Wn",
        "outputId": "a8dd1821-24ec-423a-dd1a-dd0929eca8a7"
      },
      "outputs": [
        {
          "name": "stdout",
          "output_type": "stream",
          "text": [
            "\n",
            "\n",
            "The Project Gutenberg EBook of The Prince and The Pauper, Complete by\n",
            "\n",
            "Mark Twain (Samuel Clemens)\n",
            "\n",
            "\n",
            "\n",
            "This eBook is for the use of anyone anywhere at no cost and with almost\n",
            "\n",
            "no restrictions whatsoever. You may copy it, give it away or re-use\n",
            "\n",
            "it under the terms of the Project Gutenberg License included with this\n",
            "\n",
            "eBook or online at www.gutenberg.org\n",
            "\n",
            "\n",
            "\n",
            "Title: The Prince and The Pauper, Complete\n",
            "\n",
            "\n",
            "\n",
            "Author: Mark Twain (Samuel Clemens)\n",
            "\n",
            "\n",
            "\n",
            "Release Date: August 20, 2006 [EBook #1837]\n",
            "\n",
            "Last Updated: February 19, 2018\n",
            "\n",
            "\n",
            "\n",
            "Language: English\n",
            "\n",
            "\n",
            "\n",
            "Character set encoding: UTF-8\n",
            "\n",
            "\n",
            "\n",
            "*** START OF THIS PROJECT GUTENBERG EBOOK PRINCE AND THE PAUPER ***\n",
            "\n",
            "\n",
            "\n",
            "Produced by David Widger. The earliest PG edition was prepared by Les\n",
            "\n",
            "Bowler\n",
            "\n",
            "\n",
            "\n",
            "\n",
            "\n",
            "\n",
            "\n",
            "\n",
            "\n",
            "THE PRINCE AND THE PAUPER\n",
            "\n",
            "\n",
            "\n",
            "by Mark Twain\n",
            "\n",
            "\n",
            "\n",
            "The Great Seal\n",
            "\n",
            "\n",
            "\n",
            "I will set down a tale as it was told to me by one who had it of his\n",
            "\n",
            "father, which latter had it of HIS father, this last having in like\n",
            "\n",
            "manner had it of HIS father--and so on, back and still back, t\n",
            "The dataset contains 129191 characters.\n",
            "The dataset contains 83 unique characters.\n"
          ]
        }
      ],
      "source": [
        "# Solution\n",
        "print(text[:1000])\n",
        "print('The dataset contains {} characters.'.format(len(text)))\n",
        "unique_chars = sorted(set(text))\n",
        "print('The dataset contains {} unique characters.'.format(len(unique_chars)))"
      ]
    },
    {
      "cell_type": "markdown",
      "id": "3ae1639f5ecfe587",
      "metadata": {
        "collapsed": false,
        "id": "3ae1639f5ecfe587"
      },
      "source": [
        "## 1.2 Text Pre-Processing (4 Marks)\n",
        "\n",
        "To prepare the dataset for training, we need to clean the text and create a numerical representation the model can interpret. Perform the following pre-processing steps:\n",
        "\n",
        "*   Convert the entire text to lowercase.\n",
        "*   Use the `Tokenizer` class from the `keras.preprocessing.text` module to tokenize the text. You should fit the tokenizer on the text and then convert the text to a sequence of numbers. You can use the `texts_to_sequences` method to do this.\n",
        "\n",
        "**Note**:\n",
        "* You'll need to specify an appropriate size for the vocabulary. The number of words in the list of most common words can serve as a guide - does it seem like a reasonable vocabulary size?\n",
        "* Some of the words will be excluded from the vocabulary, as they don't appear often enough. It's important to provide a value for `oov_token` when creating the Tokenizer instance, so that these words can be represented as \"unknown\"."
      ]
    },
    {
      "cell_type": "code",
      "execution_count": 24,
      "id": "4d0d30cd98ea453c",
      "metadata": {
        "id": "4d0d30cd98ea453c"
      },
      "outputs": [],
      "source": [
        "# Solution\n",
        "from tensorflow.keras.preprocessing.text import Tokenizer\n",
        "\n",
        "#VOCAB_SIZE = None\n",
        "VOCAB_SIZE = 10000\n",
        "\n",
        "#OOV_TOKEN = None\n",
        "OOV_TOKEN = \"<OOV>\"\n",
        "\n",
        "# Convert the entire text to lowercase\n",
        "text = text.lower()\n",
        "\n",
        "\n",
        "# Tokenize the text\n",
        "tokenizer = Tokenizer(num_words=VOCAB_SIZE, oov_token=OOV_TOKEN)\n",
        "\n",
        "tokenizer.fit_on_texts([text])\n"
      ]
    },
    {
      "cell_type": "markdown",
      "id": "89d32bb9356f711",
      "metadata": {
        "collapsed": false,
        "id": "89d32bb9356f711"
      },
      "source": [
        "If everything worked, the following line should show you the first 10 words in the vocabulary:"
      ]
    },
    {
      "cell_type": "code",
      "execution_count": 25,
      "id": "6a7cd547a19feece",
      "metadata": {
        "colab": {
          "base_uri": "https://localhost:8080/"
        },
        "id": "6a7cd547a19feece",
        "outputId": "db11e77f-3547-4923-fbd7-4e21c7e8b350"
      },
      "outputs": [
        {
          "name": "stdout",
          "output_type": "stream",
          "text": [
            "[('<OOV>', 1), ('the', 2), ('and', 3), ('of', 4), ('to', 5), ('a', 6), ('his', 7), ('in', 8), ('”', 9), ('with', 10)]\n"
          ]
        }
      ],
      "source": [
        "print(list(tokenizer.word_index.items())[:10])"
      ]
    },
    {
      "cell_type": "markdown",
      "id": "da504e4bc6617613",
      "metadata": {
        "collapsed": false,
        "id": "da504e4bc6617613"
      },
      "source": [
        "## 1.3 Sequence Generation (3 Marks)\n",
        "\n",
        "Now that the text has been tokenized, we need to create sequences the model can be trained on. There are two parts to this:\n",
        "\n",
        "*   Use the `texts_to_sequences` method from the tokenizer to convert the text to a list of sequences of numbers.\n",
        "*   Generate the training sequences. Each training sequence should contain `SEQ_LENGTH` token IDs from the text. The target token for each sequence should be the word that follows the sequence in the text."
      ]
    },
    {
      "cell_type": "code",
      "execution_count": 26,
      "id": "4ff5fc8d0273709c",
      "metadata": {
        "id": "4ff5fc8d0273709c"
      },
      "outputs": [],
      "source": [
        "# Solution\n",
        "#SEQ_LENGTH = None\n",
        "SEQ_LENGTH = 20\n",
        "\n",
        "\n",
        "# Convert the text to a list of sequences of numbers\n",
        "sequences = tokenizer.texts_to_sequences([text])[0]\n",
        "\n",
        "\n",
        "# Generate the training sequences\n",
        "X = []\n",
        "y = []\n",
        "\n",
        "for i in range(SEQ_LENGTH, len(sequences)):\n",
        "    input_seq = sequences[i-SEQ_LENGTH:i]\n",
        "    target = sequences[i]\n",
        "    X.append(input_seq)\n",
        "    y.append(target)\n"
      ]
    },
    {
      "cell_type": "markdown",
      "id": "3b6bdc0deb930df1",
      "metadata": {
        "collapsed": false,
        "id": "3b6bdc0deb930df1"
      },
      "source": [
        "Assuming your sequences are stored in `X` and the corresponding targets in `y`, the following line should print the first training sequence and its target:"
      ]
    },
    {
      "cell_type": "code",
      "execution_count": 27,
      "id": "a495cab04001ce92",
      "metadata": {
        "colab": {
          "base_uri": "https://localhost:8080/"
        },
        "id": "a495cab04001ce92",
        "outputId": "ee0da097-f087-4c68-8b7c-81af94675b1c"
      },
      "outputs": [
        {
          "name": "stdout",
          "output_type": "stream",
          "text": [
            "Sequence: [2, 826, 646, 532, 4, 2, 19, 3, 2, 194, 827, 29, 335, 828, 1181, 1182, 26, 532, 22, 20]\n",
            "Target: 2\n",
            "Translated back to words: ['the', 'project', 'gutenberg', 'ebook', 'of', 'the', 'prince', 'and', 'the', 'pauper', 'complete', 'by', 'mark', 'twain', 'samuel', 'clemens', 'this', 'ebook', 'is', 'for'] -> the\n"
          ]
        }
      ],
      "source": [
        "print(f'Sequence: {X[0]}\\nTarget: {y[0]}')\n",
        "print(f'Translated back to words: {[tokenizer.index_word[i] for i in X[0]]} -> {tokenizer.index_word[y[0]]}')"
      ]
    },
    {
      "cell_type": "markdown",
      "id": "d5bb2c55da17aaa0",
      "metadata": {
        "collapsed": false,
        "id": "d5bb2c55da17aaa0"
      },
      "source": [
        "And the following code will transform y into a one-hot encoded matrix, and split everything into training and validation sets:"
      ]
    },
    {
      "cell_type": "code",
      "execution_count": 28,
      "id": "3a929b2e6c2cc921",
      "metadata": {
        "colab": {
          "base_uri": "https://localhost:8080/"
        },
        "id": "3a929b2e6c2cc921",
        "outputId": "ed37d99f-19cf-465f-f253-b828abfa9643"
      },
      "outputs": [
        {
          "name": "stdout",
          "output_type": "stream",
          "text": [
            "X_train shape: (18369, 20)\n",
            "y_train shape: (18369, 10000)\n"
          ]
        }
      ],
      "source": [
        "from sklearn.model_selection import train_test_split\n",
        "from tensorflow.keras.utils import to_categorical\n",
        "import numpy as np\n",
        "\n",
        "# Convert X and y to numpy arrays\n",
        "X = np.array(X)\n",
        "y = np.array(y)\n",
        "\n",
        "# One last thing: let's drop any examples where the target is the OOV token - we don't want our model to predict that (boring!)\n",
        "mask = y != tokenizer.word_index[OOV_TOKEN]\n",
        "X = X[mask]\n",
        "y = y[mask]\n",
        "\n",
        "# One-hot encode the target token\n",
        "y = to_categorical(y, num_classes=VOCAB_SIZE)\n",
        "\n",
        "# Split the data into training and validation sets\n",
        "X_train, X_val, y_train, y_val = train_test_split(X, y, test_size=0.2, random_state=42)\n",
        "\n",
        "print(f'X_train shape: {X_train.shape}')\n",
        "print(f'y_train shape: {y_train.shape}')"
      ]
    },
    {
      "cell_type": "markdown",
      "id": "b6e4161897210434",
      "metadata": {
        "collapsed": false,
        "id": "b6e4161897210434"
      },
      "source": [
        "# 2. Model Development (10 Marks)\n",
        "\n",
        "With the dataset prepared, it's time to develop the RNN model. You'll need to define the architecture of the model, compile it, and prepare it for training.\n",
        "\n",
        "## 2.1 Model Architecture (4 Marks)\n",
        "\n",
        "Define the architecture of your RNN model. You can design it however you like, but there are a few features that it's important to include:\n",
        "\n",
        "*   An embedding layer that learns a dense representation of the input tokens. You'll need to specify the input dimension (the size of the vocabulary) and the output dimension (the size of the dense representation). Remember, you can look at the documentation [here](https://keras.io/api/layers/core_layers/embedding/).\n",
        "*   At least one recurrent layer. We have learned how to use LSTM layers in class, but you can use other types of recurrent layers if you prefer. You can find the documentation [here](https://keras.io/api/layers/recurrent_layers/lstm/).\n",
        "*   A dense layer with a softmax activation function. This layer will output a probability distribution over the vocabulary, so that the model can make predictions about the next token."
      ]
    },
    {
      "cell_type": "code",
      "execution_count": 29,
      "id": "9fdfaad93818fc8d",
      "metadata": {
        "colab": {
          "base_uri": "https://localhost:8080/",
          "height": 234
        },
        "id": "9fdfaad93818fc8d",
        "outputId": "bff6fc2d-ad89-4155-8100-78a368258bb5"
      },
      "outputs": [
        {
          "name": "stdout",
          "output_type": "stream",
          "text": [
            "Model: \"sequential\"\n",
            "_________________________________________________________________\n",
            " Layer (type)                Output Shape              Param #   \n",
            "=================================================================\n",
            " embedding (Embedding)       (None, None, 128)         1280000   \n",
            "                                                                 \n",
            " lstm (LSTM)                 (None, 256)               394240    \n",
            "                                                                 \n",
            " dense (Dense)               (None, 10000)             2570000   \n",
            "                                                                 \n",
            "=================================================================\n",
            "Total params: 4,244,240\n",
            "Trainable params: 4,244,240\n",
            "Non-trainable params: 0\n",
            "_________________________________________________________________\n"
          ]
        }
      ],
      "source": [
        "from tensorflow.keras.models import Sequential\n",
        "from tensorflow.keras.layers import Embedding, LSTM, Dense\n",
        "\n",
        "embedding_dim = 128  # Size of dense embedding\n",
        "lstm_units = 256  # Number of LSTM units, dimension of the output\n",
        "\n",
        "model = Sequential([\n",
        "    # Embedding layer\n",
        "    #Embedding(input_dim=VOCAB_SIZE, output_dim=embedding_dim, input_length=SEQ_LENGTH),\n",
        "    Embedding(input_dim=VOCAB_SIZE, output_dim=embedding_dim),\n",
        "\n",
        "    # LSTM layer\n",
        "    LSTM(units=lstm_units, return_sequences=False),\n",
        "\n",
        "    # Dense output layer\n",
        "    Dense(units=VOCAB_SIZE, activation='softmax')\n",
        "])\n",
        "\n",
        "model.summary()"
      ]
    },
    {
      "cell_type": "markdown",
      "id": "2fafd2dbb0d589fc",
      "metadata": {
        "collapsed": false,
        "id": "2fafd2dbb0d589fc"
      },
      "source": [
        "## 2.2 Model Compilation (3 Marks)\n",
        "\n",
        "Compile the model with an appropriate loss function and optimizer. You might also want to track additional metrics, such as accuracy.\n",
        "\n",
        "Give a short explanation of your choice of loss function and optimizer:\n",
        "\n",
        "_your explanation here_"
      ]
    },
    {
      "cell_type": "markdown",
      "id": "394a53c6",
      "metadata": {},
      "source": [
        "> \"categorical_crossentropy\" loss function works well with one-hot labels multy-class classificaation   "
      ]
    },
    {
      "cell_type": "code",
      "execution_count": 33,
      "id": "ae4ca7a12051b1fd",
      "metadata": {
        "id": "ae4ca7a12051b1fd"
      },
      "outputs": [],
      "source": [
        "# Solution\n",
        "model.compile(\n",
        "    optimizer='adam',\n",
        "    #loss='sparse_categorical_crossentropy',\n",
        "    loss='categorical_crossentropy',\n",
        "    metrics=['accuracy']\n",
        ")"
      ]
    },
    {
      "cell_type": "code",
      "execution_count": 34,
      "id": "BMhC7ska8JhZ",
      "metadata": {
        "colab": {
          "base_uri": "https://localhost:8080/",
          "height": 234
        },
        "id": "BMhC7ska8JhZ",
        "outputId": "198c2d04-127c-41a3-cc98-062e5da77956"
      },
      "outputs": [
        {
          "name": "stdout",
          "output_type": "stream",
          "text": [
            "Model: \"sequential\"\n",
            "_________________________________________________________________\n",
            " Layer (type)                Output Shape              Param #   \n",
            "=================================================================\n",
            " embedding (Embedding)       (None, None, 128)         1280000   \n",
            "                                                                 \n",
            " lstm (LSTM)                 (None, 256)               394240    \n",
            "                                                                 \n",
            " dense (Dense)               (None, 10000)             2570000   \n",
            "                                                                 \n",
            "=================================================================\n",
            "Total params: 4,244,240\n",
            "Trainable params: 4,244,240\n",
            "Non-trainable params: 0\n",
            "_________________________________________________________________\n"
          ]
        }
      ],
      "source": [
        "model.summary()"
      ]
    },
    {
      "cell_type": "markdown",
      "id": "c2f0b90a448c4f4b",
      "metadata": {
        "collapsed": false,
        "id": "c2f0b90a448c4f4b"
      },
      "source": [
        "## 2.3 Model Training (3 Marks)\n",
        "\n",
        "Train the model on the training data you've prepared.\n",
        "\n",
        "* Train your model for 5 epochs with a batch size of 128. Use the validation data for validation.\n",
        "* Store the training history in a variable called `history`."
      ]
    },
    {
      "cell_type": "code",
      "execution_count": 35,
      "id": "256b1ea138c67ef7",
      "metadata": {
        "id": "256b1ea138c67ef7"
      },
      "outputs": [
        {
          "name": "stdout",
          "output_type": "stream",
          "text": [
            "Epoch 1/5\n",
            "144/144 [==============================] - 12s 66ms/step - loss: 7.3568 - accuracy: 0.0492 - val_loss: 6.9766 - val_accuracy: 0.0459\n",
            "Epoch 2/5\n",
            "144/144 [==============================] - 10s 66ms/step - loss: 6.6021 - accuracy: 0.0547 - val_loss: 7.0569 - val_accuracy: 0.0638\n",
            "Epoch 3/5\n",
            "144/144 [==============================] - 11s 73ms/step - loss: 6.4789 - accuracy: 0.0635 - val_loss: 7.1446 - val_accuracy: 0.0658\n",
            "Epoch 4/5\n",
            "144/144 [==============================] - 11s 76ms/step - loss: 6.3654 - accuracy: 0.0709 - val_loss: 7.1501 - val_accuracy: 0.0686\n",
            "Epoch 5/5\n",
            "144/144 [==============================] - 11s 77ms/step - loss: 6.2289 - accuracy: 0.0811 - val_loss: 7.1307 - val_accuracy: 0.0736\n"
          ]
        }
      ],
      "source": [
        "# Train the model\n",
        "history = model.fit(\n",
        "    X_train, y_train,\n",
        "    epochs=5,\n",
        "    batch_size=128,\n",
        "    validation_data=(X_val, y_val)\n",
        ")\n"
      ]
    },
    {
      "cell_type": "markdown",
      "id": "195c59bf80d2a2c4",
      "metadata": {
        "collapsed": false,
        "id": "195c59bf80d2a2c4"
      },
      "source": [
        "Plot the training history to visualize the model's learning progress. Your plot should include the training and validation loss."
      ]
    },
    {
      "cell_type": "code",
      "execution_count": 45,
      "id": "9e8cacec70d8f313",
      "metadata": {
        "id": "9e8cacec70d8f313"
      },
      "outputs": [
        {
          "data": {
            "image/png": "[encoded data removed]",
            "text/plain": [
              "<Figure size 640x480 with 1 Axes>"
            ]
          },
          "metadata": {},
          "output_type": "display_data"
        }
      ],
      "source": [
        "# Solution\n",
        "import matplotlib.pyplot as plt\n",
        "\n",
        "plt.plot(history.history['loss'], label='train')\n",
        "plt.plot(history.history['val_loss'], label='validation')\n",
        "#plt.ylim(0, 10)\n",
        "#plt.xlim(0, 5)\n",
        "plt.legend(loc='best')\n",
        "plt.title('Loss');"
      ]
    },
    {
      "cell_type": "markdown",
      "id": "3d9ed71305787aed",
      "metadata": {
        "collapsed": false,
        "id": "3d9ed71305787aed"
      },
      "source": [
        "# 3. Text Generation (10 Marks)\n",
        "\n",
        "## Task Overview\n",
        "\n",
        "In this task, you will write a function called `generate_text` that uses a trained RNN model to generate new text based on a given seed phrase.\n",
        "\n",
        "Your function **must** follow a structured approach to text generation, where the model predicts one word at a time, adds it to the sequence, and repeats this process until a desired length is reached.\n",
        "\n",
        "## Function Requirements\n",
        "\n",
        "You need to implement a function with the following signature:\n",
        "\n",
        "```python\n",
        "def generate_text(model, tokenizer, seed_text, max_sequence_len, n_words=100):\n",
        "```\n",
        "\n",
        "### **Parameters**\n",
        "- `model`: The trained RNN model that will generate text.\n",
        "- `tokenizer`: The tokenizer used to convert words to numerical sequences.\n",
        "- `seed_text`: The initial text that will be used to start generating words.\n",
        "- `max_sequence_len`: The maximum length of input sequences (same as used in training).\n",
        "- `n_words` (optional, default=100): The number of words to generate.\n",
        "\n",
        "### **Expected Output**\n",
        "- A single **string** containing the generated text.\n",
        "\n",
        "---\n",
        "\n",
        "## **Step-by-Step Instructions**\n",
        "\n",
        "### **1. Tokenize the seed text**\n",
        "Use the tokenizer to convert `seed_text` into a sequence of numbers:\n",
        "\n",
        "```python\n",
        "encoded = tokenizer.texts_to_sequences([seed_text])[0]\n",
        "```\n",
        "\n",
        "### **2. Pad the sequence to match training input length**\n",
        "Ensure that the sequence is the correct length by padding it **at the beginning**:\n",
        "\n",
        "```python\n",
        "from tensorflow.keras.preprocessing.sequence import pad_sequences\n",
        "encoded = pad_sequences([encoded], maxlen=max_sequence_len, truncating='pre')\n",
        "```\n",
        "\n",
        "### **3. Predict the next word**\n",
        "Pass the padded sequence to the model to predict the next word.\n",
        "\n",
        "- The model will output a probability distribution over the vocabulary.\n",
        "- Use `np.random.choice` or `np.argmax` to select the most likely word.\n",
        "\n",
        "```python\n",
        "yhat = model.predict(encoded, verbose=0)\n",
        "predicted_word_index = np.argmax(yhat)  # Select the word with the highest probability\n",
        "```\n",
        "\n",
        "### **4. Convert the predicted word index to a word**\n",
        "Find the corresponding word in the tokenizer’s vocabulary:\n",
        "\n",
        "```python\n",
        "out_word = tokenizer.index_word[predicted_word_index]\n",
        "```\n",
        "\n",
        "### **5. Append the new word to the generated text**\n",
        "- Add the predicted word to `seed_text`.\n",
        "- Repeat the process to generate multiple words.\n",
        "\n",
        "```python\n",
        "seed_text += \" \" + out_word\n",
        "```\n",
        "\n",
        "### **6. Repeat Steps 3-5 until `n_words` have been generated**\n",
        "\n",
        "- Each time, remove the oldest word from the input sequence to keep its length constant.\n",
        "- Continue generating words one at a time until reaching `n_words`.\n",
        "\n",
        "---\n",
        "\n",
        "## **Important Notes**\n",
        "- If the generated text doesn’t make much sense, don’t worry! The quality will improve as the model is trained better.\n",
        "- This is a **challenging** task! If you get stuck, ask for help.\n",
        "- The `generate_text` function should return the **full generated text as a single string**.\n",
        "\n",
        "### **Example Usage**\n",
        "After implementing `generate_text`, you should be able to call it like this:\n",
        "\n",
        "```python\n",
        "generated_text = generate_text(model, tokenizer, \"Once upon a time\", max_sequence_len=20, n_words=50)\n",
        "print(generated_text)\n",
        "```\n",
        "\n",
        "This should output a string of 50 words generated by the model, starting with `\"Once upon a time\"`."
      ]
    },
    {
      "cell_type": "code",
      "execution_count": null,
      "id": "d73dbf278a1265ef",
      "metadata": {
        "ExecuteTime": {
          "end_time": "2024-02-08T21:38:43.251561Z",
          "start_time": "2024-02-08T21:38:20.349248Z"
        },
        "id": "d73dbf278a1265ef"
      },
      "outputs": [
        {
          "data": {
            "text/plain": [
              "'\\n    for _ in range(n_words):\\n        pad_encoded = tf.keras.preprocessing.sequence.pad_sequences([encoded], maxlen=max_sequence_len, truncating=\\'pre\\')\\n        pred = model.predict(pad_encoded)\\n        pred_word_index = np.argmax(pred)\\n        pred_word = tokenizer.index_word[pred_word_index]\\n        seed_text += \" \" + pred_word\\n        encoded.append(pred_word_index)\\'\\n        '"
            ]
          },
          "execution_count": 71,
          "metadata": {},
          "output_type": "execute_result"
        }
      ],
      "source": [
        "# Solution\n",
        "from tensorflow.keras.preprocessing.sequence import pad_sequences\n",
        "\n",
        "def generate_text(model, tokenizer, seed_text, max_sequence_len, n_words=100):\n",
        "    encoded = tokenizer.texts_to_sequences([seed_text])[0]\n",
        "\n",
        "    for _ in range(n_words):\n",
        "        # Pad the sequence at the beginning to match training input length\n",
        "        encoded = pad_sequences([encoded], maxlen=max_sequence_len, truncating='pre')\n",
        "\n",
        "        yhat = model.predict(encoded, verbose=0)\n",
        "        predicted_word_index = np.argmax(yhat)  # Select the word with the highest probability\n",
        "\n",
        "        out_word = tokenizer.index_word[predicted_word_index]  # Convert the index back to a word\n",
        "\n",
        "        seed_text += \" \" + out_word  # Add the predicted word to the seed text\n",
        "\n",
        "        encoded = np.append(encoded, predicted_word_index) # Append the predicted word index to the sequence\n",
        "\n",
        "    return seed_text\n",
        "\n"
      ]
    },
    {
      "cell_type": "code",
      "execution_count": 74,
      "id": "f463b0c3df49e2c",
      "metadata": {
        "id": "f463b0c3df49e2c"
      },
      "outputs": [],
      "source": [
        "# Test the text generation function\n",
        "generate_text_2 = generate_text(model, tokenizer, 'hamlet', SEQ_LENGTH)"
      ]
    },
    {
      "cell_type": "code",
      "execution_count": 75,
      "id": "228f95eb",
      "metadata": {},
      "outputs": [
        {
          "name": "stdout",
          "output_type": "stream",
          "text": [
            "hamlet the prince and the prince and the prince and the prince and the prince and the prince and the prince and the prince and the prince and the prince and the prince and the prince and the prince and the prince and the prince and the prince and the prince and the prince and the prince and the prince and the prince and the prince and the prince and the prince and the prince and the prince and the prince and the prince and the prince and the prince and the prince and the prince and the prince and the\n"
          ]
        }
      ],
      "source": [
        "print(generate_text_2)"
      ]
    },
    {
      "cell_type": "code",
      "execution_count": 76,
      "id": "dddbd0bb",
      "metadata": {},
      "outputs": [
        {
          "data": {
            "text/plain": [
              "str"
            ]
          },
          "execution_count": 76,
          "metadata": {},
          "output_type": "execute_result"
        }
      ],
      "source": [
        "type(generate_text_2)"
      ]
    },
    {
      "cell_type": "code",
      "execution_count": 67,
      "id": "9bbed6b5",
      "metadata": {},
      "outputs": [],
      "source": [
        "generate_text = generate_text(model, tokenizer, 'Once upon a time', SEQ_LENGTH)\n",
        "#print(generate_text)"
      ]
    },
    {
      "cell_type": "code",
      "execution_count": 69,
      "id": "921bd23c",
      "metadata": {},
      "outputs": [
        {
          "name": "stdout",
          "output_type": "stream",
          "text": [
            "Once upon a time and the prince and the prince and the prince and the prince and the prince and the prince and the prince and the prince and the prince and the prince and the prince and the prince and the prince and the prince and the prince and the prince and the prince and the prince and the prince and the prince and the prince and the prince and the prince and the prince and the prince and the prince and the prince and the prince and the prince and the prince and the prince and the prince and the prince and\n"
          ]
        }
      ],
      "source": [
        "print(generate_text)"
      ]
    },
    {
      "cell_type": "code",
      "execution_count": 72,
      "id": "8f4ea720",
      "metadata": {},
      "outputs": [],
      "source": [
        "\n",
        "generate_text_1 = generate_text(model, tokenizer, 'This eBook is for the use of anyone anywhere at no cost and with almost', SEQ_LENGTH)\n"
      ]
    },
    {
      "cell_type": "code",
      "execution_count": 73,
      "id": "a9934e13",
      "metadata": {},
      "outputs": [
        {
          "name": "stdout",
          "output_type": "stream",
          "text": [
            "This eBook is for the use of anyone anywhere at no cost and with almost and the prince of the prince and the prince and the prince and the prince and the prince and the prince and the prince and the prince and the prince and the prince and the prince and the prince and the prince and the prince and the prince and the prince and the prince and the prince and the prince and the prince and the prince and the prince and the prince and the prince and the prince and the prince and the prince and the prince and the prince and the prince and the prince and the prince and\n"
          ]
        }
      ],
      "source": [
        "print(generate_text_1)"
      ]
    },
    {
      "cell_type": "markdown",
      "id": "5871d836a0135c41",
      "metadata": {
        "collapsed": false,
        "id": "5871d836a0135c41"
      },
      "source": [
        "# 4. Model Refinement (5 Marks)\n",
        "\n",
        "## **Understanding Your Model's Performance**\n",
        "\n",
        "At this stage, you might have noticed that the text generated by your model doesn’t make much sense yet. **This is completely expected!**\n",
        "\n",
        "There are a few reasons why:\n",
        "1. **RNNs have limitations** – While they can generate sequences, they struggle with long-range dependencies in text.\n",
        "2. **Character-by-character generation is outdated** – Modern models like ChatGPT don’t generate text one letter at a time. Instead, they use **tokens**, which represent larger chunks of words, making their outputs much more coherent.\n",
        "3. **Training time and data size** – Our model has been trained on a relatively small dataset for a short period of time, which means it hasn’t learned enough patterns to generate meaningful text.\n",
        "\n",
        "Even though we don’t expect ChatGPT-level performance, this exercise is about **experimentation, not perfection**. Your goal here is to try **at least one** way to refine your model and observe how it affects the output.\n",
        "\n",
        "---\n",
        "\n",
        "## **Refining Your Model**\n",
        "There are many ways to try improving your model. Here are some ideas:\n",
        "\n",
        "✅ **Use pre-trained embeddings**  \n",
        "   Instead of learning word representations from scratch, you can use pre-trained word embeddings. This allows your model to start with a better understanding of word relationships.\n",
        "\n",
        "✅ **Modify the model architecture**  \n",
        "   - Experiment with **more layers** or different numbers of units per layer.  \n",
        "   - Try adding **dropout layers** to prevent overfitting.  \n",
        "   - Consider using **bidirectional RNNs**, which process text in both forward and backward directions.  \n",
        "\n",
        "✅ **Train for longer**  \n",
        "   - Try increasing the number of **epochs** (but be mindful of overfitting).  \n",
        "   - Experiment with different **batch sizes** to see if they affect training stability.  \n",
        "\n",
        "Again, **perfection is NOT the goal here** – we just want to see that you experimented with improving your model! 🚀"
      ]
    },
    {
      "cell_type": "code",
      "execution_count": null,
      "id": "dda8b0f845c20862",
      "metadata": {
        "id": "dda8b0f845c20862"
      },
      "outputs": [],
      "source": [
        "# I got a message that 'wget' and 'unzip' are not recognized as an internal or external commands\n",
        "# !wget https://downloads.cs.stanford.edu/nlp/data/glove.6B.zip\n",
        "# !unzip glove.6B.zip"
      ]
    },
    {
      "cell_type": "code",
      "execution_count": null,
      "id": "c591ee83",
      "metadata": {},
      "outputs": [
        {
          "name": "stdout",
          "output_type": "stream",
          "text": [
            "The following file is awailable: glove.6B.300d.txt\n"
          ]
        }
      ],
      "source": [
        "import requests\n",
        "import zipfile\n",
        "import os\n",
        "import os.path as op\n",
        "from urllib.request import urlretrieve\n",
        "\n",
        "URL_REPRESENTATIONS = \"https://downloads.cs.stanford.edu/nlp/data/glove.6B.zip\"\n",
        "ZIP_REPRESENTATIONS = \"glove.6B.zip\"\n",
        "FILE_REPRESENTATIONS = \"glove.6B.300d.txt\"\n",
        "\n",
        "if not op.exists(ZIP_REPRESENTATIONS):\n",
        "    print('Downloading from %s to %s...' % (URL_REPRESENTATIONS, ZIP_REPRESENTATIONS))\n",
        "    urlretrieve(URL_REPRESENTATIONS, './' + ZIP_REPRESENTATIONS)\n",
        "\n",
        "if not op.exists(FILE_REPRESENTATIONS):\n",
        "    print(\"extracting %s...\" % ZIP_REPRESENTATIONS)\n",
        "    myzip = zipfile.ZipFile(ZIP_REPRESENTATIONS)\n",
        "    myzip.extractall()\n",
        "\n",
        "print(\"The following file is awailable: %s\" % FILE_REPRESENTATIONS)"
      ]
    },
    {
      "cell_type": "code",
      "execution_count": 114,
      "id": "e8b777220505635",
      "metadata": {
        "id": "e8b777220505635"
      },
      "outputs": [
        {
          "name": "stdout",
          "output_type": "stream",
          "text": [
            "Found 400000 word vectors.\n"
          ]
        }
      ],
      "source": [
        "# Load the pre-trained embeddings\n",
        "embeddings_index = {}\n",
        "#with open('glove.6B.100d.txt', encoding='utf-8') as f:\n",
        "with open('glove.6B.300d.txt', encoding='utf-8') as f:\n",
        "    for line in f:\n",
        "        values = line.split()\n",
        "        word = values[0]\n",
        "        coefs = np.asarray(values[1:], dtype='float32')\n",
        "        embeddings_index[word] = coefs\n",
        "\n",
        "print(f'Found {len(embeddings_index)} word vectors.')"
      ]
    },
    {
      "cell_type": "code",
      "execution_count": 115,
      "id": "d3e48ff004757cf2",
      "metadata": {
        "id": "d3e48ff004757cf2"
      },
      "outputs": [],
      "source": [
        "# Create an embedding matrix\n",
        "#embedding_matrix = np.zeros((VOCAB_SIZE, 100))\n",
        "embedding_matrix = np.zeros((VOCAB_SIZE, 300))\n",
        "for word, i in tokenizer.word_index.items():\n",
        "    if i < VOCAB_SIZE:\n",
        "        embedding_vector = embeddings_index.get(word)\n",
        "        if embedding_vector is not None:\n",
        "            embedding_matrix[i] = embedding_vector"
      ]
    },
    {
      "cell_type": "code",
      "execution_count": 103,
      "id": "e3d21d5dbbbcf9f9",
      "metadata": {
        "id": "e3d21d5dbbbcf9f9"
      },
      "outputs": [],
      "source": [
        "embedding_layer = Embedding(\n",
        "    #VOCAB_SIZE, 100, weights=[embedding_matrix], trainable=False\n",
        "    VOCAB_SIZE, 300, weights=[embedding_matrix], trainable=False\n",
        ")\n"
      ]
    },
    {
      "cell_type": "code",
      "execution_count": 104,
      "id": "4ab626a0",
      "metadata": {},
      "outputs": [],
      "source": [
        "from tensorflow.keras.layers import Dropout"
      ]
    },
    {
      "cell_type": "code",
      "execution_count": null,
      "id": "f16570310f0f56b",
      "metadata": {
        "id": "f16570310f0f56b"
      },
      "outputs": [
        {
          "name": "stdout",
          "output_type": "stream",
          "text": [
            "Model: \"sequential\"\n",
            "_________________________________________________________________\n",
            " Layer (type)                Output Shape              Param #   \n",
            "=================================================================\n",
            " embedding (Embedding)       (None, None, 128)         1280000   \n",
            "                                                                 \n",
            " lstm (LSTM)                 (None, 256)               394240    \n",
            "                                                                 \n",
            " dense (Dense)               (None, 10000)             2570000   \n",
            "                                                                 \n",
            "=================================================================\n",
            "Total params: 4,244,240\n",
            "Trainable params: 4,244,240\n",
            "Non-trainable params: 0\n",
            "_________________________________________________________________\n"
          ]
        }
      ],
      "source": [
        "# Solution\n",
        "\n",
        "embedding_dim = 128  # Size of dense embedding\n",
        "lstm_units = 256  # Number of LSTM units, dimension of the output\n",
        "\n",
        "model_2 = Sequential([\n",
        "    # Embedding layer\n",
        "    embedding_layer,\n",
        "\n",
        "    # LSTM layer\n",
        "    LSTM(units=lstm_units, return_sequences=False),\n",
        "\n",
        "    # Dense output layer\n",
        "    Dense(units=VOCAB_SIZE, activation='softmax')\n",
        "])\n",
        "\n",
        "model.summary()"
      ]
    },
    {
      "cell_type": "code",
      "execution_count": 97,
      "id": "c6ec8dc9",
      "metadata": {},
      "outputs": [],
      "source": [
        "model_2.compile(\n",
        "    optimizer='adam',\n",
        "    loss='categorical_crossentropy',\n",
        "    metrics=['accuracy']\n",
        ")"
      ]
    },
    {
      "cell_type": "code",
      "execution_count": 98,
      "id": "084b7c77",
      "metadata": {},
      "outputs": [
        {
          "name": "stdout",
          "output_type": "stream",
          "text": [
            "Epoch 1/15\n",
            "144/144 [==============================] - 12s 67ms/step - loss: 7.2603 - accuracy: 0.0506 - val_loss: 6.9542 - val_accuracy: 0.0664\n",
            "Epoch 2/15\n",
            "144/144 [==============================] - 10s 66ms/step - loss: 6.6213 - accuracy: 0.0683 - val_loss: 7.0502 - val_accuracy: 0.0671\n",
            "Epoch 3/15\n",
            "144/144 [==============================] - 10s 71ms/step - loss: 6.5145 - accuracy: 0.0703 - val_loss: 6.9963 - val_accuracy: 0.0705\n",
            "Epoch 4/15\n",
            "144/144 [==============================] - 10s 72ms/step - loss: 6.3640 - accuracy: 0.0748 - val_loss: 6.9380 - val_accuracy: 0.0782\n",
            "Epoch 5/15\n",
            "144/144 [==============================] - 10s 69ms/step - loss: 6.1921 - accuracy: 0.0829 - val_loss: 6.8999 - val_accuracy: 0.0838\n",
            "Epoch 6/15\n",
            "144/144 [==============================] - 10s 71ms/step - loss: 5.9933 - accuracy: 0.0884 - val_loss: 6.8714 - val_accuracy: 0.0862\n",
            "Epoch 7/15\n",
            "144/144 [==============================] - 10s 69ms/step - loss: 5.7916 - accuracy: 0.0915 - val_loss: 6.8838 - val_accuracy: 0.0882\n",
            "Epoch 8/15\n",
            "144/144 [==============================] - 10s 73ms/step - loss: 5.5862 - accuracy: 0.0950 - val_loss: 6.8849 - val_accuracy: 0.0938\n",
            "Epoch 9/15\n",
            "144/144 [==============================] - 10s 72ms/step - loss: 5.3832 - accuracy: 0.0998 - val_loss: 6.9058 - val_accuracy: 0.1030\n",
            "Epoch 10/15\n",
            "144/144 [==============================] - 10s 70ms/step - loss: 5.1835 - accuracy: 0.1039 - val_loss: 6.9230 - val_accuracy: 0.1004\n",
            "Epoch 11/15\n",
            "144/144 [==============================] - 10s 71ms/step - loss: 4.9839 - accuracy: 0.1082 - val_loss: 6.9629 - val_accuracy: 0.1030\n",
            "Epoch 12/15\n",
            "144/144 [==============================] - 10s 71ms/step - loss: 4.7950 - accuracy: 0.1131 - val_loss: 7.0097 - val_accuracy: 0.1025\n",
            "Epoch 13/15\n",
            "144/144 [==============================] - 10s 69ms/step - loss: 4.6089 - accuracy: 0.1213 - val_loss: 7.0555 - val_accuracy: 0.1039\n",
            "Epoch 14/15\n",
            "144/144 [==============================] - 11s 76ms/step - loss: 4.4249 - accuracy: 0.1315 - val_loss: 7.1291 - val_accuracy: 0.1073\n",
            "Epoch 15/15\n",
            "144/144 [==============================] - 11s 74ms/step - loss: 4.2416 - accuracy: 0.1438 - val_loss: 7.1426 - val_accuracy: 0.1060\n"
          ]
        }
      ],
      "source": [
        "# Train the model\n",
        "history_2 = model_2.fit(\n",
        "    X_train, y_train,\n",
        "    epochs=15,\n",
        "    batch_size=128,\n",
        "    validation_data=(X_val, y_val)\n",
        ")"
      ]
    },
    {
      "cell_type": "code",
      "execution_count": 99,
      "id": "2f7e0f6e",
      "metadata": {},
      "outputs": [
        {
          "data": {
            "image/png": "[encoded data removed]",
            "text/plain": [
              "<Figure size 640x480 with 1 Axes>"
            ]
          },
          "metadata": {},
          "output_type": "display_data"
        }
      ],
      "source": [
        "\n",
        "plt.plot(history_2.history['loss'], label='train')\n",
        "plt.plot(history_2.history['val_loss'], label='validation')\n",
        "#plt.ylim(0, 10)\n",
        "#plt.xlim(0, 5)\n",
        "plt.legend(loc='best')\n",
        "plt.title('Loss');"
      ]
    },
    {
      "cell_type": "code",
      "execution_count": 100,
      "id": "ae362e2dd29be2e1",
      "metadata": {
        "id": "ae362e2dd29be2e1"
      },
      "outputs": [
        {
          "name": "stdout",
          "output_type": "stream",
          "text": [
            "This eBook is for the use of anyone anywhere at no cost and with almost to the king’s of the prince of wales and the prince of wales and the prince of wales and the prince of wales and the prince of wales and the prince of wales and the prince of wales and the prince of wales and the prince of wales and the prince of wales and the prince of wales and the prince of wales and the prince of wales and the prince of wales and the prince of wales and the prince of wales and the prince of wales and the prince of wales and the prince of wales and the\n"
          ]
        }
      ],
      "source": [
        "# Test the text generation function\n",
        "print(generate_text(model_2, tokenizer, 'This eBook is for the use of anyone anywhere at no cost and with almost', SEQ_LENGTH))"
      ]
    },
    {
      "cell_type": "code",
      "execution_count": 106,
      "id": "236cb723e4e5b3fc",
      "metadata": {
        "id": "236cb723e4e5b3fc"
      },
      "outputs": [
        {
          "name": "stdout",
          "output_type": "stream",
          "text": [
            "Model: \"sequential_4\"\n",
            "_________________________________________________________________\n",
            " Layer (type)                Output Shape              Param #   \n",
            "=================================================================\n",
            " embedding_3 (Embedding)     (None, None, 300)         3000000   \n",
            "                                                                 \n",
            " lstm_4 (LSTM)               (None, 256)               570368    \n",
            "                                                                 \n",
            " dropout_1 (Dropout)         (None, 256)               0         \n",
            "                                                                 \n",
            " dense_4 (Dense)             (None, 10000)             2570000   \n",
            "                                                                 \n",
            "=================================================================\n",
            "Total params: 6,140,368\n",
            "Trainable params: 3,140,368\n",
            "Non-trainable params: 3,000,000\n",
            "_________________________________________________________________\n"
          ]
        }
      ],
      "source": [
        "embedding_dim = 128  # Size of dense embedding\n",
        "lstm_units = 256  # Number of LSTM units, dimension of the output\n",
        "\n",
        "model_3 = Sequential([\n",
        "    # Embedding layer\n",
        "    embedding_layer,\n",
        "\n",
        "    # LSTM layer\n",
        "    LSTM(units=lstm_units, return_sequences=False),\n",
        "\n",
        "    Dropout(0.2),\n",
        "\n",
        "    # Dense output layer\n",
        "    Dense(units=VOCAB_SIZE, activation='softmax')\n",
        "])\n",
        "\n",
        "model_3.summary()"
      ]
    },
    {
      "cell_type": "code",
      "execution_count": 107,
      "id": "d0ea6218",
      "metadata": {},
      "outputs": [],
      "source": [
        "model_3.compile(\n",
        "    optimizer='adam',\n",
        "    loss='categorical_crossentropy',\n",
        "    metrics=['accuracy']\n",
        ")"
      ]
    },
    {
      "cell_type": "code",
      "execution_count": 108,
      "id": "b6144800",
      "metadata": {},
      "outputs": [
        {
          "name": "stdout",
          "output_type": "stream",
          "text": [
            "Epoch 1/15\n",
            "144/144 [==============================] - 11s 64ms/step - loss: 7.2283 - accuracy: 0.0527 - val_loss: 6.9179 - val_accuracy: 0.0605\n",
            "Epoch 2/15\n",
            "144/144 [==============================] - 10s 68ms/step - loss: 6.6328 - accuracy: 0.0682 - val_loss: 6.9465 - val_accuracy: 0.0699\n",
            "Epoch 3/15\n",
            "144/144 [==============================] - 10s 69ms/step - loss: 6.4998 - accuracy: 0.0707 - val_loss: 6.9242 - val_accuracy: 0.0708\n",
            "Epoch 4/15\n",
            "144/144 [==============================] - 10s 72ms/step - loss: 6.3424 - accuracy: 0.0752 - val_loss: 6.8948 - val_accuracy: 0.0786\n",
            "Epoch 5/15\n",
            "144/144 [==============================] - 11s 79ms/step - loss: 6.1763 - accuracy: 0.0856 - val_loss: 6.8572 - val_accuracy: 0.0860\n",
            "Epoch 6/15\n",
            "144/144 [==============================] - 11s 76ms/step - loss: 5.9938 - accuracy: 0.0896 - val_loss: 6.8253 - val_accuracy: 0.0895\n",
            "Epoch 7/15\n",
            "144/144 [==============================] - 11s 77ms/step - loss: 5.8050 - accuracy: 0.0933 - val_loss: 6.8056 - val_accuracy: 0.0927\n",
            "Epoch 8/15\n",
            "144/144 [==============================] - 11s 79ms/step - loss: 5.6135 - accuracy: 0.0968 - val_loss: 6.8241 - val_accuracy: 0.0941\n",
            "Epoch 9/15\n",
            "144/144 [==============================] - 11s 76ms/step - loss: 5.4199 - accuracy: 0.1030 - val_loss: 6.8066 - val_accuracy: 0.1010\n",
            "Epoch 10/15\n",
            "144/144 [==============================] - 12s 80ms/step - loss: 5.2335 - accuracy: 0.1079 - val_loss: 6.8199 - val_accuracy: 0.1049\n",
            "Epoch 11/15\n",
            "144/144 [==============================] - 11s 80ms/step - loss: 5.0399 - accuracy: 0.1112 - val_loss: 6.8604 - val_accuracy: 0.1058\n",
            "Epoch 12/15\n",
            "144/144 [==============================] - 11s 77ms/step - loss: 4.8512 - accuracy: 0.1198 - val_loss: 6.9069 - val_accuracy: 0.1082\n",
            "Epoch 13/15\n",
            "144/144 [==============================] - 11s 76ms/step - loss: 4.6641 - accuracy: 0.1236 - val_loss: 6.9426 - val_accuracy: 0.1084\n",
            "Epoch 14/15\n",
            "144/144 [==============================] - 11s 79ms/step - loss: 4.4815 - accuracy: 0.1309 - val_loss: 6.9687 - val_accuracy: 0.1078\n",
            "Epoch 15/15\n",
            "144/144 [==============================] - 11s 77ms/step - loss: 4.3058 - accuracy: 0.1387 - val_loss: 7.0283 - val_accuracy: 0.1073\n"
          ]
        }
      ],
      "source": [
        "# Train the model\n",
        "history_3 = model_3.fit(\n",
        "    X_train, y_train,\n",
        "    epochs=15,\n",
        "    batch_size=128,\n",
        "    validation_data=(X_val, y_val)\n",
        ")"
      ]
    },
    {
      "cell_type": "code",
      "execution_count": 109,
      "id": "8dd47113",
      "metadata": {},
      "outputs": [
        {
          "data": {
            "image/png": "[encoded data removed]",
            "text/plain": [
              "<Figure size 640x480 with 1 Axes>"
            ]
          },
          "metadata": {},
          "output_type": "display_data"
        }
      ],
      "source": [
        "plt.plot(history_3.history['loss'], label='train')\n",
        "plt.plot(history_3.history['val_loss'], label='validation')\n",
        "plt.legend(loc='best')\n",
        "plt.title('Loss');"
      ]
    },
    {
      "cell_type": "code",
      "execution_count": 110,
      "id": "810bf05d",
      "metadata": {},
      "outputs": [
        {
          "name": "stdout",
          "output_type": "stream",
          "text": [
            "This eBook is for the use of anyone anywhere at no cost and with almost to the king’s of the prince of wales and the prince of wales and the prince of wales and the prince of wales and the prince of wales and the prince of wales and the prince of wales and the prince of wales and the prince of wales and the prince of wales and the prince of wales and the prince of wales and the prince of wales and the prince of wales and the prince of wales and the prince of wales and the prince of wales and the prince of wales and the prince of wales and the\n"
          ]
        }
      ],
      "source": [
        "print(generate_text(model_2, tokenizer, 'This eBook is for the use of anyone anywhere at no cost and with almost', SEQ_LENGTH))"
      ]
    }
  ],
  "metadata": {
    "accelerator": "GPU",
    "colab": {
      "gpuType": "T4",
      "provenance": []
    },
    "kernelspec": {
      "display_name": "dsi_participant",
      "language": "python",
      "name": "python3"
    },
    "language_info": {
      "codemirror_mode": {
        "name": "ipython",
        "version": 3
      },
      "file_extension": ".py",
      "mimetype": "text/x-python",
      "name": "python",
      "nbconvert_exporter": "python",
      "pygments_lexer": "ipython3",
      "version": "3.9.15"
    }
  },
  "nbformat": 4,
  "nbformat_minor": 5
}
