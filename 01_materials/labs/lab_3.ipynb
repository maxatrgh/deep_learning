{
 "cells": [
  {
   "cell_type": "markdown",
   "metadata": {},
   "source": [
    "# Recommender Systems\n",
    "\n",
    "In this lab, we'll be using Keras to build a recommender system. We'll be using the MovieLens dataset, a common benchmark dataset for recommender systems. \n",
    "\n",
    "MovieLens is a web-based recommender system and virtual community that recommends movies for its users to watch, based on their film preferences using collaborative filtering of members' movie ratings and movie reviews. You can check out the website here: https://movielens.org/\n",
    "\n",
    "We will download a subset of the dataset containing 100k ratings. There are tens of millions of ratings in the full dataset, spanning hundreds of thousands of users and movies. The subset we'll be using is a good example to demonstrate the concepts in this lab."
   ]
  },
  {
   "cell_type": "code",
   "execution_count": 75,
   "metadata": {},
   "outputs": [],
   "source": [
    "%matplotlib inline\n",
    "import matplotlib.pyplot as plt\n",
    "import numpy as np\n",
    "from zipfile import ZipFile\n",
    "from urllib.request import urlretrieve\n",
    "from pathlib import Path\n",
    "\n",
    "ML_100K_URL = \"http://files.grouplens.org/datasets/movielens/ml-100k.zip\"\n",
    "ML_100K_FILENAME = Path(\"ml-100k.zip\")\n",
    "ML_100K_FOLDER = Path(\"ml-100k\")\n",
    "\n",
    "if not ML_100K_FOLDER.exists():\n",
    "    if not ML_100K_FILENAME.exists():\n",
    "        urlretrieve(ML_100K_URL, ML_100K_FILENAME.name)\n",
    "    with ZipFile(ML_100K_FILENAME.name) as zip_file:\n",
    "        zip_file.extractall()"
   ]
  },
  {
   "cell_type": "markdown",
   "metadata": {},
   "source": [
    "The goal of MovieLens is to enable models to predict the rating a user would give to a movie they have not yet watched. This is a classic example of a recommendation system. The dataset is huge, and contains many parts giving information about the movies, the users, and the ratings. To begin with, we will look at the ratings file. Each line in the ratings file (u.data) is formatted as:\n",
    "\n",
    "`user_id, item_id, rating, timestamp`\n",
    "\n",
    "Which tells us a single user's rating of a single movie.\n",
    "\n",
    "We will start by loading the ratings data into a pandas dataframe and then take a look at the first few rows. If you haven't used Pandas before, it's an extremely powerful library for dealing with tabular data. You can think of it as a Python version of Excel."
   ]
  },
  {
   "cell_type": "code",
   "execution_count": 76,
   "metadata": {},
   "outputs": [
    {
     "data": {
      "application/vnd.microsoft.datawrangler.viewer.v0+json": {
       "columns": [
        {
         "name": "index",
         "rawType": "int64",
         "type": "integer"
        },
        {
         "name": "user_id",
         "rawType": "int64",
         "type": "integer"
        },
        {
         "name": "item_id",
         "rawType": "int64",
         "type": "integer"
        },
        {
         "name": "rating",
         "rawType": "int64",
         "type": "integer"
        },
        {
         "name": "timestamp",
         "rawType": "int64",
         "type": "integer"
        }
       ],
       "conversionMethod": "pd.DataFrame",
       "ref": "b610165b-26cd-44c6-b7b2-aed0c78fc5e2",
       "rows": [
        [
         "0",
         "196",
         "242",
         "3",
         "881250949"
        ],
        [
         "1",
         "186",
         "302",
         "3",
         "891717742"
        ],
        [
         "2",
         "22",
         "377",
         "1",
         "878887116"
        ],
        [
         "3",
         "244",
         "51",
         "2",
         "880606923"
        ],
        [
         "4",
         "166",
         "346",
         "1",
         "886397596"
        ],
        [
         "5",
         "298",
         "474",
         "4",
         "884182806"
        ],
        [
         "6",
         "115",
         "265",
         "2",
         "881171488"
        ],
        [
         "7",
         "253",
         "465",
         "5",
         "891628467"
        ],
        [
         "8",
         "305",
         "451",
         "3",
         "886324817"
        ],
        [
         "9",
         "6",
         "86",
         "3",
         "883603013"
        ],
        [
         "10",
         "62",
         "257",
         "2",
         "879372434"
        ],
        [
         "11",
         "286",
         "1014",
         "5",
         "879781125"
        ],
        [
         "12",
         "200",
         "222",
         "5",
         "876042340"
        ],
        [
         "13",
         "210",
         "40",
         "3",
         "891035994"
        ],
        [
         "14",
         "224",
         "29",
         "3",
         "888104457"
        ],
        [
         "15",
         "303",
         "785",
         "3",
         "879485318"
        ],
        [
         "16",
         "122",
         "387",
         "5",
         "879270459"
        ],
        [
         "17",
         "194",
         "274",
         "2",
         "879539794"
        ],
        [
         "18",
         "291",
         "1042",
         "4",
         "874834944"
        ],
        [
         "19",
         "234",
         "1184",
         "2",
         "892079237"
        ],
        [
         "20",
         "119",
         "392",
         "4",
         "886176814"
        ],
        [
         "21",
         "167",
         "486",
         "4",
         "892738452"
        ],
        [
         "22",
         "299",
         "144",
         "4",
         "877881320"
        ],
        [
         "23",
         "291",
         "118",
         "2",
         "874833878"
        ],
        [
         "24",
         "308",
         "1",
         "4",
         "887736532"
        ],
        [
         "25",
         "95",
         "546",
         "2",
         "879196566"
        ],
        [
         "26",
         "38",
         "95",
         "5",
         "892430094"
        ],
        [
         "27",
         "102",
         "768",
         "2",
         "883748450"
        ],
        [
         "28",
         "63",
         "277",
         "4",
         "875747401"
        ],
        [
         "29",
         "160",
         "234",
         "5",
         "876861185"
        ],
        [
         "30",
         "50",
         "246",
         "3",
         "877052329"
        ],
        [
         "31",
         "301",
         "98",
         "4",
         "882075827"
        ],
        [
         "32",
         "225",
         "193",
         "4",
         "879539727"
        ],
        [
         "33",
         "290",
         "88",
         "4",
         "880731963"
        ],
        [
         "34",
         "97",
         "194",
         "3",
         "884238860"
        ],
        [
         "35",
         "157",
         "274",
         "4",
         "886890835"
        ],
        [
         "36",
         "181",
         "1081",
         "1",
         "878962623"
        ],
        [
         "37",
         "278",
         "603",
         "5",
         "891295330"
        ],
        [
         "38",
         "276",
         "796",
         "1",
         "874791932"
        ],
        [
         "39",
         "7",
         "32",
         "4",
         "891350932"
        ],
        [
         "40",
         "10",
         "16",
         "4",
         "877888877"
        ],
        [
         "41",
         "284",
         "304",
         "4",
         "885329322"
        ],
        [
         "42",
         "201",
         "979",
         "2",
         "884114233"
        ],
        [
         "43",
         "276",
         "564",
         "3",
         "874791805"
        ],
        [
         "44",
         "287",
         "327",
         "5",
         "875333916"
        ],
        [
         "45",
         "246",
         "201",
         "5",
         "884921594"
        ],
        [
         "46",
         "242",
         "1137",
         "5",
         "879741196"
        ],
        [
         "47",
         "249",
         "241",
         "5",
         "879641194"
        ],
        [
         "48",
         "99",
         "4",
         "5",
         "886519097"
        ],
        [
         "49",
         "178",
         "332",
         "3",
         "882823437"
        ]
       ],
       "shape": {
        "columns": 4,
        "rows": 100000
       }
      },
      "text/html": [
       "<div>\n",
       "<style scoped>\n",
       "    .dataframe tbody tr th:only-of-type {\n",
       "        vertical-align: middle;\n",
       "    }\n",
       "\n",
       "    .dataframe tbody tr th {\n",
       "        vertical-align: top;\n",
       "    }\n",
       "\n",
       "    .dataframe thead th {\n",
       "        text-align: right;\n",
       "    }\n",
       "</style>\n",
       "<table border=\"1\" class=\"dataframe\">\n",
       "  <thead>\n",
       "    <tr style=\"text-align: right;\">\n",
       "      <th></th>\n",
       "      <th>user_id</th>\n",
       "      <th>item_id</th>\n",
       "      <th>rating</th>\n",
       "      <th>timestamp</th>\n",
       "    </tr>\n",
       "  </thead>\n",
       "  <tbody>\n",
       "    <tr>\n",
       "      <th>0</th>\n",
       "      <td>196</td>\n",
       "      <td>242</td>\n",
       "      <td>3</td>\n",
       "      <td>881250949</td>\n",
       "    </tr>\n",
       "    <tr>\n",
       "      <th>1</th>\n",
       "      <td>186</td>\n",
       "      <td>302</td>\n",
       "      <td>3</td>\n",
       "      <td>891717742</td>\n",
       "    </tr>\n",
       "    <tr>\n",
       "      <th>2</th>\n",
       "      <td>22</td>\n",
       "      <td>377</td>\n",
       "      <td>1</td>\n",
       "      <td>878887116</td>\n",
       "    </tr>\n",
       "    <tr>\n",
       "      <th>3</th>\n",
       "      <td>244</td>\n",
       "      <td>51</td>\n",
       "      <td>2</td>\n",
       "      <td>880606923</td>\n",
       "    </tr>\n",
       "    <tr>\n",
       "      <th>4</th>\n",
       "      <td>166</td>\n",
       "      <td>346</td>\n",
       "      <td>1</td>\n",
       "      <td>886397596</td>\n",
       "    </tr>\n",
       "    <tr>\n",
       "      <th>...</th>\n",
       "      <td>...</td>\n",
       "      <td>...</td>\n",
       "      <td>...</td>\n",
       "      <td>...</td>\n",
       "    </tr>\n",
       "    <tr>\n",
       "      <th>99995</th>\n",
       "      <td>880</td>\n",
       "      <td>476</td>\n",
       "      <td>3</td>\n",
       "      <td>880175444</td>\n",
       "    </tr>\n",
       "    <tr>\n",
       "      <th>99996</th>\n",
       "      <td>716</td>\n",
       "      <td>204</td>\n",
       "      <td>5</td>\n",
       "      <td>879795543</td>\n",
       "    </tr>\n",
       "    <tr>\n",
       "      <th>99997</th>\n",
       "      <td>276</td>\n",
       "      <td>1090</td>\n",
       "      <td>1</td>\n",
       "      <td>874795795</td>\n",
       "    </tr>\n",
       "    <tr>\n",
       "      <th>99998</th>\n",
       "      <td>13</td>\n",
       "      <td>225</td>\n",
       "      <td>2</td>\n",
       "      <td>882399156</td>\n",
       "    </tr>\n",
       "    <tr>\n",
       "      <th>99999</th>\n",
       "      <td>12</td>\n",
       "      <td>203</td>\n",
       "      <td>3</td>\n",
       "      <td>879959583</td>\n",
       "    </tr>\n",
       "  </tbody>\n",
       "</table>\n",
       "<p>100000 rows × 4 columns</p>\n",
       "</div>"
      ],
      "text/plain": [
       "       user_id  item_id  rating  timestamp\n",
       "0          196      242       3  881250949\n",
       "1          186      302       3  891717742\n",
       "2           22      377       1  878887116\n",
       "3          244       51       2  880606923\n",
       "4          166      346       1  886397596\n",
       "...        ...      ...     ...        ...\n",
       "99995      880      476       3  880175444\n",
       "99996      716      204       5  879795543\n",
       "99997      276     1090       1  874795795\n",
       "99998       13      225       2  882399156\n",
       "99999       12      203       3  879959583\n",
       "\n",
       "[100000 rows x 4 columns]"
      ]
     },
     "execution_count": 76,
     "metadata": {},
     "output_type": "execute_result"
    }
   ],
   "source": [
    "import pandas as pd\n",
    "\n",
    "raw_ratings = pd.read_csv(ML_100K_FOLDER / \"u.data\", sep='\\t',\n",
    "                          names=[\"user_id\", \"item_id\", \"rating\", \"timestamp\"])\n",
    "raw_ratings"
   ]
  },
  {
   "cell_type": "markdown",
   "metadata": {},
   "source": [
    "The second file we'll look at is the movie metadata. This file (u.item) contains information about each movie, including the title and release date. Each line in the file is formatted as:\n",
    "\n",
    "`movie_id | movie_title | release_date | video_release_date | IMDb_URL | unknown | Action | Adventure | Animation | Children's | Comedy | Crime | Documentary | Drama | Fantasy | Film-Noir | Horror | Musical | Mystery | Romance | Sci-Fi | Thriller | War | Western`\n",
    "\n",
    "As you can see, the genres are binary variables. As with one-hot encoding, a 1 indicates that the movie is of that genre, and a 0 indicates that it is not. We aren't going to work with the genre data in this lab, but it's easy to imagine that it could be useful in a real-world recommendation system."
   ]
  },
  {
   "cell_type": "code",
   "execution_count": 77,
   "metadata": {},
   "outputs": [
    {
     "data": {
      "application/vnd.microsoft.datawrangler.viewer.v0+json": {
       "columns": [
        {
         "name": "index",
         "rawType": "int64",
         "type": "integer"
        },
        {
         "name": "item_id",
         "rawType": "int64",
         "type": "integer"
        },
        {
         "name": "title",
         "rawType": "object",
         "type": "string"
        },
        {
         "name": "release_date",
         "rawType": "object",
         "type": "unknown"
        },
        {
         "name": "video_release_date",
         "rawType": "float64",
         "type": "float"
        },
        {
         "name": "imdb_url",
         "rawType": "object",
         "type": "unknown"
        }
       ],
       "conversionMethod": "pd.DataFrame",
       "ref": "184e1942-bb61-4b01-96ef-464dae1097b7",
       "rows": [
        [
         "0",
         "1",
         "Toy Story (1995)",
         "01-Jan-1995",
         null,
         "http://us.imdb.com/M/title-exact?Toy%20Story%20(1995)"
        ],
        [
         "1",
         "2",
         "GoldenEye (1995)",
         "01-Jan-1995",
         null,
         "http://us.imdb.com/M/title-exact?GoldenEye%20(1995)"
        ],
        [
         "2",
         "3",
         "Four Rooms (1995)",
         "01-Jan-1995",
         null,
         "http://us.imdb.com/M/title-exact?Four%20Rooms%20(1995)"
        ],
        [
         "3",
         "4",
         "Get Shorty (1995)",
         "01-Jan-1995",
         null,
         "http://us.imdb.com/M/title-exact?Get%20Shorty%20(1995)"
        ],
        [
         "4",
         "5",
         "Copycat (1995)",
         "01-Jan-1995",
         null,
         "http://us.imdb.com/M/title-exact?Copycat%20(1995)"
        ],
        [
         "5",
         "6",
         "Shanghai Triad (Yao a yao yao dao waipo qiao) (1995)",
         "01-Jan-1995",
         null,
         "http://us.imdb.com/Title?Yao+a+yao+yao+dao+waipo+qiao+(1995)"
        ],
        [
         "6",
         "7",
         "Twelve Monkeys (1995)",
         "01-Jan-1995",
         null,
         "http://us.imdb.com/M/title-exact?Twelve%20Monkeys%20(1995)"
        ],
        [
         "7",
         "8",
         "Babe (1995)",
         "01-Jan-1995",
         null,
         "http://us.imdb.com/M/title-exact?Babe%20(1995)"
        ],
        [
         "8",
         "9",
         "Dead Man Walking (1995)",
         "01-Jan-1995",
         null,
         "http://us.imdb.com/M/title-exact?Dead%20Man%20Walking%20(1995)"
        ],
        [
         "9",
         "10",
         "Richard III (1995)",
         "22-Jan-1996",
         null,
         "http://us.imdb.com/M/title-exact?Richard%20III%20(1995)"
        ],
        [
         "10",
         "11",
         "Seven (Se7en) (1995)",
         "01-Jan-1995",
         null,
         "http://us.imdb.com/M/title-exact?Se7en%20(1995)"
        ],
        [
         "11",
         "12",
         "Usual Suspects, The (1995)",
         "14-Aug-1995",
         null,
         "http://us.imdb.com/M/title-exact?Usual%20Suspects,%20The%20(1995)"
        ],
        [
         "12",
         "13",
         "Mighty Aphrodite (1995)",
         "30-Oct-1995",
         null,
         "http://us.imdb.com/M/title-exact?Mighty%20Aphrodite%20(1995)"
        ],
        [
         "13",
         "14",
         "Postino, Il (1994)",
         "01-Jan-1994",
         null,
         "http://us.imdb.com/M/title-exact?Postino,%20Il%20(1994)"
        ],
        [
         "14",
         "15",
         "Mr. Holland's Opus (1995)",
         "29-Jan-1996",
         null,
         "http://us.imdb.com/M/title-exact?Mr.%20Holland's%20Opus%20(1995)"
        ],
        [
         "15",
         "16",
         "French Twist (Gazon maudit) (1995)",
         "01-Jan-1995",
         null,
         "http://us.imdb.com/M/title-exact?Gazon%20maudit%20(1995)"
        ],
        [
         "16",
         "17",
         "From Dusk Till Dawn (1996)",
         "05-Feb-1996",
         null,
         "http://us.imdb.com/M/title-exact?From%20Dusk%20Till%20Dawn%20(1996)"
        ],
        [
         "17",
         "18",
         "White Balloon, The (1995)",
         "01-Jan-1995",
         null,
         "http://us.imdb.com/M/title-exact?Badkonake%20Sefid%20(1995)"
        ],
        [
         "18",
         "19",
         "Antonia's Line (1995)",
         "01-Jan-1995",
         null,
         "http://us.imdb.com/M/title-exact?Antonia%20(1995)"
        ],
        [
         "19",
         "20",
         "Angels and Insects (1995)",
         "01-Jan-1995",
         null,
         "http://us.imdb.com/M/title-exact?Angels%20and%20Insects%20(1995)"
        ],
        [
         "20",
         "21",
         "Muppet Treasure Island (1996)",
         "16-Feb-1996",
         null,
         "http://us.imdb.com/M/title-exact?Muppet%20Treasure%20Island%20(1996)"
        ],
        [
         "21",
         "22",
         "Braveheart (1995)",
         "16-Feb-1996",
         null,
         "http://us.imdb.com/M/title-exact?Braveheart%20(1995)"
        ],
        [
         "22",
         "23",
         "Taxi Driver (1976)",
         "16-Feb-1996",
         null,
         "http://us.imdb.com/M/title-exact?Taxi%20Driver%20(1976)"
        ],
        [
         "23",
         "24",
         "Rumble in the Bronx (1995)",
         "23-Feb-1996",
         null,
         "http://us.imdb.com/M/title-exact?Hong%20Faan%20Kui%20(1995)"
        ],
        [
         "24",
         "25",
         "Birdcage, The (1996)",
         "08-Mar-1996",
         null,
         "http://us.imdb.com/M/title-exact?Birdcage,%20The%20(1996)"
        ],
        [
         "25",
         "26",
         "Brothers McMullen, The (1995)",
         "01-Jan-1995",
         null,
         "http://us.imdb.com/M/title-exact?Brothers%20McMullen,%20The%20(1995)"
        ],
        [
         "26",
         "27",
         "Bad Boys (1995)",
         "01-Jan-1995",
         null,
         "http://us.imdb.com/M/title-exact?Bad%20Boys%20(1995)"
        ],
        [
         "27",
         "28",
         "Apollo 13 (1995)",
         "01-Jan-1995",
         null,
         "http://us.imdb.com/M/title-exact?Apollo%2013%20(1995)"
        ],
        [
         "28",
         "29",
         "Batman Forever (1995)",
         "01-Jan-1995",
         null,
         "http://us.imdb.com/M/title-exact?Batman%20Forever%20(1995)"
        ],
        [
         "29",
         "30",
         "Belle de jour (1967)",
         "01-Jan-1967",
         null,
         "http://us.imdb.com/M/title-exact?Belle%20de%20jour%20(1967)"
        ],
        [
         "30",
         "31",
         "Crimson Tide (1995)",
         "01-Jan-1995",
         null,
         "http://us.imdb.com/M/title-exact?Crimson%20Tide%20(1995)"
        ],
        [
         "31",
         "32",
         "Crumb (1994)",
         "01-Jan-1994",
         null,
         "http://us.imdb.com/M/title-exact?Crumb%20(1994)"
        ],
        [
         "32",
         "33",
         "Desperado (1995)",
         "01-Jan-1995",
         null,
         "http://us.imdb.com/M/title-exact?Desperado%20(1995)"
        ],
        [
         "33",
         "34",
         "Doom Generation, The (1995)",
         "01-Jan-1995",
         null,
         "http://us.imdb.com/M/title-exact?Doom%20Generation,%20The%20(1995)"
        ],
        [
         "34",
         "35",
         "Free Willy 2: The Adventure Home (1995)",
         "01-Jan-1995",
         null,
         "http://us.imdb.com/M/title-exact?Free%20Willy%202:%20The%20Adventure%20Home%20(1995)"
        ],
        [
         "35",
         "36",
         "Mad Love (1995)",
         "01-Jan-1995",
         null,
         "http://us.imdb.com/M/title-exact?Mad%20Love%20(1995)"
        ],
        [
         "36",
         "37",
         "Nadja (1994)",
         "01-Jan-1994",
         null,
         "http://us.imdb.com/M/title-exact?Nadja%20(1994)"
        ],
        [
         "37",
         "38",
         "Net, The (1995)",
         "01-Jan-1995",
         null,
         "http://us.imdb.com/M/title-exact?Net,%20The%20(1995)"
        ],
        [
         "38",
         "39",
         "Strange Days (1995)",
         "01-Jan-1995",
         null,
         "http://us.imdb.com/M/title-exact?Strange%20Days%20(1995)"
        ],
        [
         "39",
         "40",
         "To Wong Foo, Thanks for Everything! Julie Newmar (1995)",
         "01-Jan-1995",
         null,
         "http://us.imdb.com/M/title-exact?To%20Wong%20Foo,%20Thanks%20for%20Everything!%20Julie%20Newmar%20(1995)"
        ],
        [
         "40",
         "41",
         "Billy Madison (1995)",
         "01-Jan-1995",
         null,
         "http://us.imdb.com/M/title-exact?Billy%20Madison%20(1995)"
        ],
        [
         "41",
         "42",
         "Clerks (1994)",
         "01-Jan-1994",
         null,
         "http://us.imdb.com/M/title-exact?Clerks%20(1994)"
        ],
        [
         "42",
         "43",
         "Disclosure (1994)",
         "01-Jan-1994",
         null,
         "http://us.imdb.com/M/title-exact?Disclosure%20(1994)"
        ],
        [
         "43",
         "44",
         "Dolores Claiborne (1994)",
         "01-Jan-1994",
         null,
         "http://us.imdb.com/M/title-exact?Dolores%20Claiborne%20(1994)"
        ],
        [
         "44",
         "45",
         "Eat Drink Man Woman (1994)",
         "01-Jan-1994",
         null,
         "http://us.imdb.com/M/title-exact?Yinshi%20Nan%20Nu%20(1994)"
        ],
        [
         "45",
         "46",
         "Exotica (1994)",
         "01-Jan-1994",
         null,
         "http://us.imdb.com/M/title-exact?Exotica%20(1994)"
        ],
        [
         "46",
         "47",
         "Ed Wood (1994)",
         "01-Jan-1994",
         null,
         "http://us.imdb.com/M/title-exact?Ed%20Wood%20(1994)"
        ],
        [
         "47",
         "48",
         "Hoop Dreams (1994)",
         "01-Jan-1994",
         null,
         "http://us.imdb.com/M/title-exact?Hoop%20Dreams%20(1994)"
        ],
        [
         "48",
         "49",
         "I.Q. (1994)",
         "01-Jan-1994",
         null,
         "http://us.imdb.com/M/title-exact?I.Q.%20(1994)"
        ],
        [
         "49",
         "50",
         "Star Wars (1977)",
         "01-Jan-1977",
         null,
         "http://us.imdb.com/M/title-exact?Star%20Wars%20(1977)"
        ]
       ],
       "shape": {
        "columns": 5,
        "rows": 1682
       }
      },
      "text/html": [
       "<div>\n",
       "<style scoped>\n",
       "    .dataframe tbody tr th:only-of-type {\n",
       "        vertical-align: middle;\n",
       "    }\n",
       "\n",
       "    .dataframe tbody tr th {\n",
       "        vertical-align: top;\n",
       "    }\n",
       "\n",
       "    .dataframe thead th {\n",
       "        text-align: right;\n",
       "    }\n",
       "</style>\n",
       "<table border=\"1\" class=\"dataframe\">\n",
       "  <thead>\n",
       "    <tr style=\"text-align: right;\">\n",
       "      <th></th>\n",
       "      <th>item_id</th>\n",
       "      <th>title</th>\n",
       "      <th>release_date</th>\n",
       "      <th>video_release_date</th>\n",
       "      <th>imdb_url</th>\n",
       "    </tr>\n",
       "  </thead>\n",
       "  <tbody>\n",
       "    <tr>\n",
       "      <th>0</th>\n",
       "      <td>1</td>\n",
       "      <td>Toy Story (1995)</td>\n",
       "      <td>01-Jan-1995</td>\n",
       "      <td>NaN</td>\n",
       "      <td>http://us.imdb.com/M/title-exact?Toy%20Story%2...</td>\n",
       "    </tr>\n",
       "    <tr>\n",
       "      <th>1</th>\n",
       "      <td>2</td>\n",
       "      <td>GoldenEye (1995)</td>\n",
       "      <td>01-Jan-1995</td>\n",
       "      <td>NaN</td>\n",
       "      <td>http://us.imdb.com/M/title-exact?GoldenEye%20(...</td>\n",
       "    </tr>\n",
       "    <tr>\n",
       "      <th>2</th>\n",
       "      <td>3</td>\n",
       "      <td>Four Rooms (1995)</td>\n",
       "      <td>01-Jan-1995</td>\n",
       "      <td>NaN</td>\n",
       "      <td>http://us.imdb.com/M/title-exact?Four%20Rooms%...</td>\n",
       "    </tr>\n",
       "    <tr>\n",
       "      <th>3</th>\n",
       "      <td>4</td>\n",
       "      <td>Get Shorty (1995)</td>\n",
       "      <td>01-Jan-1995</td>\n",
       "      <td>NaN</td>\n",
       "      <td>http://us.imdb.com/M/title-exact?Get%20Shorty%...</td>\n",
       "    </tr>\n",
       "    <tr>\n",
       "      <th>4</th>\n",
       "      <td>5</td>\n",
       "      <td>Copycat (1995)</td>\n",
       "      <td>01-Jan-1995</td>\n",
       "      <td>NaN</td>\n",
       "      <td>http://us.imdb.com/M/title-exact?Copycat%20(1995)</td>\n",
       "    </tr>\n",
       "    <tr>\n",
       "      <th>...</th>\n",
       "      <td>...</td>\n",
       "      <td>...</td>\n",
       "      <td>...</td>\n",
       "      <td>...</td>\n",
       "      <td>...</td>\n",
       "    </tr>\n",
       "    <tr>\n",
       "      <th>1677</th>\n",
       "      <td>1678</td>\n",
       "      <td>Mat' i syn (1997)</td>\n",
       "      <td>06-Feb-1998</td>\n",
       "      <td>NaN</td>\n",
       "      <td>http://us.imdb.com/M/title-exact?Mat%27+i+syn+...</td>\n",
       "    </tr>\n",
       "    <tr>\n",
       "      <th>1678</th>\n",
       "      <td>1679</td>\n",
       "      <td>B. Monkey (1998)</td>\n",
       "      <td>06-Feb-1998</td>\n",
       "      <td>NaN</td>\n",
       "      <td>http://us.imdb.com/M/title-exact?B%2E+Monkey+(...</td>\n",
       "    </tr>\n",
       "    <tr>\n",
       "      <th>1679</th>\n",
       "      <td>1680</td>\n",
       "      <td>Sliding Doors (1998)</td>\n",
       "      <td>01-Jan-1998</td>\n",
       "      <td>NaN</td>\n",
       "      <td>http://us.imdb.com/Title?Sliding+Doors+(1998)</td>\n",
       "    </tr>\n",
       "    <tr>\n",
       "      <th>1680</th>\n",
       "      <td>1681</td>\n",
       "      <td>You So Crazy (1994)</td>\n",
       "      <td>01-Jan-1994</td>\n",
       "      <td>NaN</td>\n",
       "      <td>http://us.imdb.com/M/title-exact?You%20So%20Cr...</td>\n",
       "    </tr>\n",
       "    <tr>\n",
       "      <th>1681</th>\n",
       "      <td>1682</td>\n",
       "      <td>Scream of Stone (Schrei aus Stein) (1991)</td>\n",
       "      <td>08-Mar-1996</td>\n",
       "      <td>NaN</td>\n",
       "      <td>http://us.imdb.com/M/title-exact?Schrei%20aus%...</td>\n",
       "    </tr>\n",
       "  </tbody>\n",
       "</table>\n",
       "<p>1682 rows × 5 columns</p>\n",
       "</div>"
      ],
      "text/plain": [
       "      item_id                                      title release_date  \\\n",
       "0           1                           Toy Story (1995)  01-Jan-1995   \n",
       "1           2                           GoldenEye (1995)  01-Jan-1995   \n",
       "2           3                          Four Rooms (1995)  01-Jan-1995   \n",
       "3           4                          Get Shorty (1995)  01-Jan-1995   \n",
       "4           5                             Copycat (1995)  01-Jan-1995   \n",
       "...       ...                                        ...          ...   \n",
       "1677     1678                          Mat' i syn (1997)  06-Feb-1998   \n",
       "1678     1679                           B. Monkey (1998)  06-Feb-1998   \n",
       "1679     1680                       Sliding Doors (1998)  01-Jan-1998   \n",
       "1680     1681                        You So Crazy (1994)  01-Jan-1994   \n",
       "1681     1682  Scream of Stone (Schrei aus Stein) (1991)  08-Mar-1996   \n",
       "\n",
       "      video_release_date                                           imdb_url  \n",
       "0                    NaN  http://us.imdb.com/M/title-exact?Toy%20Story%2...  \n",
       "1                    NaN  http://us.imdb.com/M/title-exact?GoldenEye%20(...  \n",
       "2                    NaN  http://us.imdb.com/M/title-exact?Four%20Rooms%...  \n",
       "3                    NaN  http://us.imdb.com/M/title-exact?Get%20Shorty%...  \n",
       "4                    NaN  http://us.imdb.com/M/title-exact?Copycat%20(1995)  \n",
       "...                  ...                                                ...  \n",
       "1677                 NaN  http://us.imdb.com/M/title-exact?Mat%27+i+syn+...  \n",
       "1678                 NaN  http://us.imdb.com/M/title-exact?B%2E+Monkey+(...  \n",
       "1679                 NaN      http://us.imdb.com/Title?Sliding+Doors+(1998)  \n",
       "1680                 NaN  http://us.imdb.com/M/title-exact?You%20So%20Cr...  \n",
       "1681                 NaN  http://us.imdb.com/M/title-exact?Schrei%20aus%...  \n",
       "\n",
       "[1682 rows x 5 columns]"
      ]
     },
     "execution_count": 77,
     "metadata": {},
     "output_type": "execute_result"
    }
   ],
   "source": [
    "columns_to_keep = ['item_id', 'title', 'release_date', 'video_release_date', 'imdb_url']\n",
    "items = pd.read_csv(ML_100K_FOLDER / \"u.item\", sep='|', names=columns_to_keep,\n",
    "                    encoding='latin-1', usecols=range(5))\n",
    "items"
   ]
  },
  {
   "cell_type": "markdown",
   "metadata": {},
   "source": [
    "By default, the `release_date` column is a string. We can convert it to a `datetime` object using the `pd.to_datetime` function. This will make it easier to work with in the future (if we want to do things like check which date came first, for example).\n",
    " \n",
    "We can also extract the year from the date and store it in a separate column. This will make it easier to do things like plot the number of movies released each year."
   ]
  },
  {
   "cell_type": "code",
   "execution_count": 78,
   "metadata": {},
   "outputs": [],
   "source": [
    "items['release_date'] = pd.to_datetime(items['release_date']) # Pandas makes this easy!\n",
    "items['release_year'] = items['release_date'].dt.year # For later use"
   ]
  },
  {
   "cell_type": "markdown",
   "metadata": {},
   "source": [
    "For our purposes, it will be easier to work with the data if we merge our two dataframes into a single dataframe. We can do this using the `merge` method. We'll merge the `items` dataframe into the `raw_ratings` dataframe, using the `item_id` column as the key. This will add the movie title and release year to each rating."
   ]
  },
  {
   "cell_type": "code",
   "execution_count": 79,
   "metadata": {},
   "outputs": [],
   "source": [
    "all_ratings = pd.merge(items, raw_ratings)"
   ]
  },
  {
   "cell_type": "code",
   "execution_count": 80,
   "metadata": {},
   "outputs": [
    {
     "data": {
      "application/vnd.microsoft.datawrangler.viewer.v0+json": {
       "columns": [
        {
         "name": "index",
         "rawType": "int64",
         "type": "integer"
        },
        {
         "name": "item_id",
         "rawType": "int64",
         "type": "integer"
        },
        {
         "name": "title",
         "rawType": "object",
         "type": "string"
        },
        {
         "name": "release_date",
         "rawType": "datetime64[ns]",
         "type": "datetime"
        },
        {
         "name": "video_release_date",
         "rawType": "float64",
         "type": "float"
        },
        {
         "name": "imdb_url",
         "rawType": "object",
         "type": "string"
        },
        {
         "name": "release_year",
         "rawType": "float64",
         "type": "float"
        },
        {
         "name": "user_id",
         "rawType": "int64",
         "type": "integer"
        },
        {
         "name": "rating",
         "rawType": "int64",
         "type": "integer"
        },
        {
         "name": "timestamp",
         "rawType": "int64",
         "type": "integer"
        }
       ],
       "conversionMethod": "pd.DataFrame",
       "ref": "db0cb631-e4a8-4ddc-b164-e1041bed6bc5",
       "rows": [
        [
         "0",
         "1",
         "Toy Story (1995)",
         "1995-01-01 00:00:00",
         null,
         "http://us.imdb.com/M/title-exact?Toy%20Story%20(1995)",
         "1995.0",
         "308",
         "4",
         "887736532"
        ],
        [
         "1",
         "1",
         "Toy Story (1995)",
         "1995-01-01 00:00:00",
         null,
         "http://us.imdb.com/M/title-exact?Toy%20Story%20(1995)",
         "1995.0",
         "287",
         "5",
         "875334088"
        ],
        [
         "2",
         "1",
         "Toy Story (1995)",
         "1995-01-01 00:00:00",
         null,
         "http://us.imdb.com/M/title-exact?Toy%20Story%20(1995)",
         "1995.0",
         "148",
         "4",
         "877019411"
        ],
        [
         "3",
         "1",
         "Toy Story (1995)",
         "1995-01-01 00:00:00",
         null,
         "http://us.imdb.com/M/title-exact?Toy%20Story%20(1995)",
         "1995.0",
         "280",
         "4",
         "891700426"
        ],
        [
         "4",
         "1",
         "Toy Story (1995)",
         "1995-01-01 00:00:00",
         null,
         "http://us.imdb.com/M/title-exact?Toy%20Story%20(1995)",
         "1995.0",
         "66",
         "3",
         "883601324"
        ]
       ],
       "shape": {
        "columns": 9,
        "rows": 5
       }
      },
      "text/html": [
       "<div>\n",
       "<style scoped>\n",
       "    .dataframe tbody tr th:only-of-type {\n",
       "        vertical-align: middle;\n",
       "    }\n",
       "\n",
       "    .dataframe tbody tr th {\n",
       "        vertical-align: top;\n",
       "    }\n",
       "\n",
       "    .dataframe thead th {\n",
       "        text-align: right;\n",
       "    }\n",
       "</style>\n",
       "<table border=\"1\" class=\"dataframe\">\n",
       "  <thead>\n",
       "    <tr style=\"text-align: right;\">\n",
       "      <th></th>\n",
       "      <th>item_id</th>\n",
       "      <th>title</th>\n",
       "      <th>release_date</th>\n",
       "      <th>video_release_date</th>\n",
       "      <th>imdb_url</th>\n",
       "      <th>release_year</th>\n",
       "      <th>user_id</th>\n",
       "      <th>rating</th>\n",
       "      <th>timestamp</th>\n",
       "    </tr>\n",
       "  </thead>\n",
       "  <tbody>\n",
       "    <tr>\n",
       "      <th>0</th>\n",
       "      <td>1</td>\n",
       "      <td>Toy Story (1995)</td>\n",
       "      <td>1995-01-01</td>\n",
       "      <td>NaN</td>\n",
       "      <td>http://us.imdb.com/M/title-exact?Toy%20Story%2...</td>\n",
       "      <td>1995.0</td>\n",
       "      <td>308</td>\n",
       "      <td>4</td>\n",
       "      <td>887736532</td>\n",
       "    </tr>\n",
       "    <tr>\n",
       "      <th>1</th>\n",
       "      <td>1</td>\n",
       "      <td>Toy Story (1995)</td>\n",
       "      <td>1995-01-01</td>\n",
       "      <td>NaN</td>\n",
       "      <td>http://us.imdb.com/M/title-exact?Toy%20Story%2...</td>\n",
       "      <td>1995.0</td>\n",
       "      <td>287</td>\n",
       "      <td>5</td>\n",
       "      <td>875334088</td>\n",
       "    </tr>\n",
       "    <tr>\n",
       "      <th>2</th>\n",
       "      <td>1</td>\n",
       "      <td>Toy Story (1995)</td>\n",
       "      <td>1995-01-01</td>\n",
       "      <td>NaN</td>\n",
       "      <td>http://us.imdb.com/M/title-exact?Toy%20Story%2...</td>\n",
       "      <td>1995.0</td>\n",
       "      <td>148</td>\n",
       "      <td>4</td>\n",
       "      <td>877019411</td>\n",
       "    </tr>\n",
       "    <tr>\n",
       "      <th>3</th>\n",
       "      <td>1</td>\n",
       "      <td>Toy Story (1995)</td>\n",
       "      <td>1995-01-01</td>\n",
       "      <td>NaN</td>\n",
       "      <td>http://us.imdb.com/M/title-exact?Toy%20Story%2...</td>\n",
       "      <td>1995.0</td>\n",
       "      <td>280</td>\n",
       "      <td>4</td>\n",
       "      <td>891700426</td>\n",
       "    </tr>\n",
       "    <tr>\n",
       "      <th>4</th>\n",
       "      <td>1</td>\n",
       "      <td>Toy Story (1995)</td>\n",
       "      <td>1995-01-01</td>\n",
       "      <td>NaN</td>\n",
       "      <td>http://us.imdb.com/M/title-exact?Toy%20Story%2...</td>\n",
       "      <td>1995.0</td>\n",
       "      <td>66</td>\n",
       "      <td>3</td>\n",
       "      <td>883601324</td>\n",
       "    </tr>\n",
       "  </tbody>\n",
       "</table>\n",
       "</div>"
      ],
      "text/plain": [
       "   item_id             title release_date  video_release_date  \\\n",
       "0        1  Toy Story (1995)   1995-01-01                 NaN   \n",
       "1        1  Toy Story (1995)   1995-01-01                 NaN   \n",
       "2        1  Toy Story (1995)   1995-01-01                 NaN   \n",
       "3        1  Toy Story (1995)   1995-01-01                 NaN   \n",
       "4        1  Toy Story (1995)   1995-01-01                 NaN   \n",
       "\n",
       "                                            imdb_url  release_year  user_id  \\\n",
       "0  http://us.imdb.com/M/title-exact?Toy%20Story%2...        1995.0      308   \n",
       "1  http://us.imdb.com/M/title-exact?Toy%20Story%2...        1995.0      287   \n",
       "2  http://us.imdb.com/M/title-exact?Toy%20Story%2...        1995.0      148   \n",
       "3  http://us.imdb.com/M/title-exact?Toy%20Story%2...        1995.0      280   \n",
       "4  http://us.imdb.com/M/title-exact?Toy%20Story%2...        1995.0       66   \n",
       "\n",
       "   rating  timestamp  \n",
       "0       4  887736532  \n",
       "1       5  875334088  \n",
       "2       4  877019411  \n",
       "3       4  891700426  \n",
       "4       3  883601324  "
      ]
     },
     "execution_count": 80,
     "metadata": {},
     "output_type": "execute_result"
    }
   ],
   "source": [
    "all_ratings.head()"
   ]
  },
  {
   "cell_type": "markdown",
   "metadata": {},
   "source": [
    "### Data preprocessing\n",
    "\n",
    "It's always important to understand the data you've collected. Thankfully, Pandas continues to make this easy for us. Using the `describe` method, we can get a quick statistical summary of the data."
   ]
  },
  {
   "cell_type": "code",
   "execution_count": 81,
   "metadata": {},
   "outputs": [
    {
     "data": {
      "application/vnd.microsoft.datawrangler.viewer.v0+json": {
       "columns": [
        {
         "name": "index",
         "rawType": "object",
         "type": "string"
        },
        {
         "name": "item_id",
         "rawType": "float64",
         "type": "float"
        },
        {
         "name": "release_date",
         "rawType": "object",
         "type": "unknown"
        },
        {
         "name": "video_release_date",
         "rawType": "float64",
         "type": "float"
        },
        {
         "name": "release_year",
         "rawType": "float64",
         "type": "float"
        },
        {
         "name": "user_id",
         "rawType": "float64",
         "type": "float"
        },
        {
         "name": "rating",
         "rawType": "float64",
         "type": "float"
        },
        {
         "name": "timestamp",
         "rawType": "float64",
         "type": "float"
        }
       ],
       "conversionMethod": "pd.DataFrame",
       "ref": "a6fd4c6e-977f-4a6d-bd97-2ed33e4328a6",
       "rows": [
        [
         "count",
         "100000.0",
         "99991",
         "0.0",
         "99991.0",
         "100000.0",
         "100000.0",
         "100000.0"
        ],
        [
         "mean",
         "425.53013",
         "1988-02-09 00:43:11.369223296",
         null,
         "1987.9562160594453",
         "462.48475",
         "3.52986",
         "883528851.48862"
        ],
        [
         "min",
         "1.0",
         "1922-01-01 00:00:00",
         null,
         "1922.0",
         "1.0",
         "1.0",
         "874724710.0"
        ],
        [
         "25%",
         "175.0",
         "1986-01-01 00:00:00",
         null,
         "1986.0",
         "254.0",
         "3.0",
         "879448709.5"
        ],
        [
         "50%",
         "322.0",
         "1994-01-01 00:00:00",
         null,
         "1994.0",
         "447.0",
         "4.0",
         "882826944.0"
        ],
        [
         "75%",
         "631.0",
         "1996-09-28 00:00:00",
         null,
         "1996.0",
         "682.0",
         "4.0",
         "888259984.0"
        ],
        [
         "max",
         "1682.0",
         "1998-10-23 00:00:00",
         null,
         "1998.0",
         "943.0",
         "5.0",
         "893286638.0"
        ],
        [
         "std",
         "330.7983563255848",
         null,
         null,
         "14.155522633275842",
         "266.6144201275087",
         "1.125673599144316",
         "5343856.189502804"
        ]
       ],
       "shape": {
        "columns": 7,
        "rows": 8
       }
      },
      "text/html": [
       "<div>\n",
       "<style scoped>\n",
       "    .dataframe tbody tr th:only-of-type {\n",
       "        vertical-align: middle;\n",
       "    }\n",
       "\n",
       "    .dataframe tbody tr th {\n",
       "        vertical-align: top;\n",
       "    }\n",
       "\n",
       "    .dataframe thead th {\n",
       "        text-align: right;\n",
       "    }\n",
       "</style>\n",
       "<table border=\"1\" class=\"dataframe\">\n",
       "  <thead>\n",
       "    <tr style=\"text-align: right;\">\n",
       "      <th></th>\n",
       "      <th>item_id</th>\n",
       "      <th>release_date</th>\n",
       "      <th>video_release_date</th>\n",
       "      <th>release_year</th>\n",
       "      <th>user_id</th>\n",
       "      <th>rating</th>\n",
       "      <th>timestamp</th>\n",
       "    </tr>\n",
       "  </thead>\n",
       "  <tbody>\n",
       "    <tr>\n",
       "      <th>count</th>\n",
       "      <td>100000.000000</td>\n",
       "      <td>99991</td>\n",
       "      <td>0.0</td>\n",
       "      <td>99991.000000</td>\n",
       "      <td>100000.00000</td>\n",
       "      <td>100000.000000</td>\n",
       "      <td>1.000000e+05</td>\n",
       "    </tr>\n",
       "    <tr>\n",
       "      <th>mean</th>\n",
       "      <td>425.530130</td>\n",
       "      <td>1988-02-09 00:43:11.369223296</td>\n",
       "      <td>NaN</td>\n",
       "      <td>1987.956216</td>\n",
       "      <td>462.48475</td>\n",
       "      <td>3.529860</td>\n",
       "      <td>8.835289e+08</td>\n",
       "    </tr>\n",
       "    <tr>\n",
       "      <th>min</th>\n",
       "      <td>1.000000</td>\n",
       "      <td>1922-01-01 00:00:00</td>\n",
       "      <td>NaN</td>\n",
       "      <td>1922.000000</td>\n",
       "      <td>1.00000</td>\n",
       "      <td>1.000000</td>\n",
       "      <td>8.747247e+08</td>\n",
       "    </tr>\n",
       "    <tr>\n",
       "      <th>25%</th>\n",
       "      <td>175.000000</td>\n",
       "      <td>1986-01-01 00:00:00</td>\n",
       "      <td>NaN</td>\n",
       "      <td>1986.000000</td>\n",
       "      <td>254.00000</td>\n",
       "      <td>3.000000</td>\n",
       "      <td>8.794487e+08</td>\n",
       "    </tr>\n",
       "    <tr>\n",
       "      <th>50%</th>\n",
       "      <td>322.000000</td>\n",
       "      <td>1994-01-01 00:00:00</td>\n",
       "      <td>NaN</td>\n",
       "      <td>1994.000000</td>\n",
       "      <td>447.00000</td>\n",
       "      <td>4.000000</td>\n",
       "      <td>8.828269e+08</td>\n",
       "    </tr>\n",
       "    <tr>\n",
       "      <th>75%</th>\n",
       "      <td>631.000000</td>\n",
       "      <td>1996-09-28 00:00:00</td>\n",
       "      <td>NaN</td>\n",
       "      <td>1996.000000</td>\n",
       "      <td>682.00000</td>\n",
       "      <td>4.000000</td>\n",
       "      <td>8.882600e+08</td>\n",
       "    </tr>\n",
       "    <tr>\n",
       "      <th>max</th>\n",
       "      <td>1682.000000</td>\n",
       "      <td>1998-10-23 00:00:00</td>\n",
       "      <td>NaN</td>\n",
       "      <td>1998.000000</td>\n",
       "      <td>943.00000</td>\n",
       "      <td>5.000000</td>\n",
       "      <td>8.932866e+08</td>\n",
       "    </tr>\n",
       "    <tr>\n",
       "      <th>std</th>\n",
       "      <td>330.798356</td>\n",
       "      <td>NaN</td>\n",
       "      <td>NaN</td>\n",
       "      <td>14.155523</td>\n",
       "      <td>266.61442</td>\n",
       "      <td>1.125674</td>\n",
       "      <td>5.343856e+06</td>\n",
       "    </tr>\n",
       "  </tbody>\n",
       "</table>\n",
       "</div>"
      ],
      "text/plain": [
       "             item_id                   release_date  video_release_date  \\\n",
       "count  100000.000000                          99991                 0.0   \n",
       "mean      425.530130  1988-02-09 00:43:11.369223296                 NaN   \n",
       "min         1.000000            1922-01-01 00:00:00                 NaN   \n",
       "25%       175.000000            1986-01-01 00:00:00                 NaN   \n",
       "50%       322.000000            1994-01-01 00:00:00                 NaN   \n",
       "75%       631.000000            1996-09-28 00:00:00                 NaN   \n",
       "max      1682.000000            1998-10-23 00:00:00                 NaN   \n",
       "std       330.798356                            NaN                 NaN   \n",
       "\n",
       "       release_year       user_id         rating     timestamp  \n",
       "count  99991.000000  100000.00000  100000.000000  1.000000e+05  \n",
       "mean    1987.956216     462.48475       3.529860  8.835289e+08  \n",
       "min     1922.000000       1.00000       1.000000  8.747247e+08  \n",
       "25%     1986.000000     254.00000       3.000000  8.794487e+08  \n",
       "50%     1994.000000     447.00000       4.000000  8.828269e+08  \n",
       "75%     1996.000000     682.00000       4.000000  8.882600e+08  \n",
       "max     1998.000000     943.00000       5.000000  8.932866e+08  \n",
       "std       14.155523     266.61442       1.125674  5.343856e+06  "
      ]
     },
     "execution_count": 81,
     "metadata": {},
     "output_type": "execute_result"
    }
   ],
   "source": [
    "all_ratings.describe()"
   ]
  },
  {
   "cell_type": "markdown",
   "metadata": {},
   "source": [
    "Let's do a bit more pandas magic to compute the popularity of each movie (number of ratings). We will use the `groupby` method to group the dataframe by the `item_id` column and then use the `size` method to compute the number of ratings for each movie. We will use the `reset_index` method to convert the resulting Series into a dataframe with an `item_id` column."
   ]
  },
  {
   "cell_type": "code",
   "execution_count": 82,
   "metadata": {},
   "outputs": [],
   "source": [
    "popularity = all_ratings.groupby('item_id').size().reset_index(name='popularity')\n",
    "items = pd.merge(popularity, items)"
   ]
  },
  {
   "cell_type": "code",
   "execution_count": 83,
   "metadata": {},
   "outputs": [
    {
     "data": {
      "image/png": "[encoded data removed]",
      "text/plain": [
       "<Figure size 640x480 with 1 Axes>"
      ]
     },
     "metadata": {},
     "output_type": "display_data"
    }
   ],
   "source": [
    "items['popularity'].plot.hist(bins=30);"
   ]
  },
  {
   "cell_type": "code",
   "execution_count": 84,
   "metadata": {},
   "outputs": [
    {
     "data": {
      "text/plain": [
       "141"
      ]
     },
     "execution_count": 84,
     "metadata": {},
     "output_type": "execute_result"
    }
   ],
   "source": [
    "(items['popularity'] == 1).sum() # Number of movies with only one rating"
   ]
  },
  {
   "cell_type": "code",
   "execution_count": 85,
   "metadata": {},
   "outputs": [
    {
     "data": {
      "text/plain": [
       "49                  Star Wars (1977)\n",
       "257                   Contact (1997)\n",
       "99                      Fargo (1996)\n",
       "180        Return of the Jedi (1983)\n",
       "293                 Liar Liar (1997)\n",
       "285      English Patient, The (1996)\n",
       "287                    Scream (1996)\n",
       "0                   Toy Story (1995)\n",
       "299             Air Force One (1997)\n",
       "120    Independence Day (ID4) (1996)\n",
       "Name: title, dtype: object"
      ]
     },
     "execution_count": 85,
     "metadata": {},
     "output_type": "execute_result"
    }
   ],
   "source": [
    "items.nlargest(10, 'popularity')['title'] # Get the 10 most popular movies"
   ]
  },
  {
   "cell_type": "code",
   "execution_count": 86,
   "metadata": {},
   "outputs": [
    {
     "data": {
      "application/vnd.microsoft.datawrangler.viewer.v0+json": {
       "columns": [
        {
         "name": "index",
         "rawType": "object",
         "type": "string"
        },
        {
         "name": "item_id",
         "rawType": "float64",
         "type": "float"
        },
        {
         "name": "popularity",
         "rawType": "float64",
         "type": "float"
        },
        {
         "name": "release_date",
         "rawType": "object",
         "type": "unknown"
        },
        {
         "name": "video_release_date",
         "rawType": "float64",
         "type": "float"
        },
        {
         "name": "release_year",
         "rawType": "float64",
         "type": "float"
        },
        {
         "name": "user_id",
         "rawType": "float64",
         "type": "float"
        },
        {
         "name": "rating",
         "rawType": "float64",
         "type": "float"
        },
        {
         "name": "timestamp",
         "rawType": "float64",
         "type": "float"
        }
       ],
       "conversionMethod": "pd.DataFrame",
       "ref": "a91e4999-16b6-4508-afb7-970da02642fb",
       "rows": [
        [
         "count",
         "100000.0",
         "100000.0",
         "99991",
         "0.0",
         "99991.0",
         "100000.0",
         "100000.0",
         "100000.0"
        ],
        [
         "mean",
         "425.53013",
         "168.0719",
         "1988-02-09 00:43:11.369223296",
         null,
         "1987.9562160594453",
         "462.48475",
         "3.52986",
         "883528851.48862"
        ],
        [
         "min",
         "1.0",
         "1.0",
         "1922-01-01 00:00:00",
         null,
         "1922.0",
         "1.0",
         "1.0",
         "874724710.0"
        ],
        [
         "25%",
         "175.0",
         "71.0",
         "1986-01-01 00:00:00",
         null,
         "1986.0",
         "254.0",
         "3.0",
         "879448709.5"
        ],
        [
         "50%",
         "322.0",
         "145.0",
         "1994-01-01 00:00:00",
         null,
         "1994.0",
         "447.0",
         "4.0",
         "882826944.0"
        ],
        [
         "75%",
         "631.0",
         "239.0",
         "1996-09-28 00:00:00",
         null,
         "1996.0",
         "682.0",
         "4.0",
         "888259984.0"
        ],
        [
         "max",
         "1682.0",
         "583.0",
         "1998-10-23 00:00:00",
         null,
         "1998.0",
         "943.0",
         "5.0",
         "893286638.0"
        ],
        [
         "std",
         "330.7983563255848",
         "121.78455848413975",
         null,
         null,
         "14.155522633275842",
         "266.6144201275087",
         "1.125673599144316",
         "5343856.189502804"
        ]
       ],
       "shape": {
        "columns": 8,
        "rows": 8
       }
      },
      "text/html": [
       "<div>\n",
       "<style scoped>\n",
       "    .dataframe tbody tr th:only-of-type {\n",
       "        vertical-align: middle;\n",
       "    }\n",
       "\n",
       "    .dataframe tbody tr th {\n",
       "        vertical-align: top;\n",
       "    }\n",
       "\n",
       "    .dataframe thead th {\n",
       "        text-align: right;\n",
       "    }\n",
       "</style>\n",
       "<table border=\"1\" class=\"dataframe\">\n",
       "  <thead>\n",
       "    <tr style=\"text-align: right;\">\n",
       "      <th></th>\n",
       "      <th>item_id</th>\n",
       "      <th>popularity</th>\n",
       "      <th>release_date</th>\n",
       "      <th>video_release_date</th>\n",
       "      <th>release_year</th>\n",
       "      <th>user_id</th>\n",
       "      <th>rating</th>\n",
       "      <th>timestamp</th>\n",
       "    </tr>\n",
       "  </thead>\n",
       "  <tbody>\n",
       "    <tr>\n",
       "      <th>count</th>\n",
       "      <td>100000.000000</td>\n",
       "      <td>100000.000000</td>\n",
       "      <td>99991</td>\n",
       "      <td>0.0</td>\n",
       "      <td>99991.000000</td>\n",
       "      <td>100000.00000</td>\n",
       "      <td>100000.000000</td>\n",
       "      <td>1.000000e+05</td>\n",
       "    </tr>\n",
       "    <tr>\n",
       "      <th>mean</th>\n",
       "      <td>425.530130</td>\n",
       "      <td>168.071900</td>\n",
       "      <td>1988-02-09 00:43:11.369223296</td>\n",
       "      <td>NaN</td>\n",
       "      <td>1987.956216</td>\n",
       "      <td>462.48475</td>\n",
       "      <td>3.529860</td>\n",
       "      <td>8.835289e+08</td>\n",
       "    </tr>\n",
       "    <tr>\n",
       "      <th>min</th>\n",
       "      <td>1.000000</td>\n",
       "      <td>1.000000</td>\n",
       "      <td>1922-01-01 00:00:00</td>\n",
       "      <td>NaN</td>\n",
       "      <td>1922.000000</td>\n",
       "      <td>1.00000</td>\n",
       "      <td>1.000000</td>\n",
       "      <td>8.747247e+08</td>\n",
       "    </tr>\n",
       "    <tr>\n",
       "      <th>25%</th>\n",
       "      <td>175.000000</td>\n",
       "      <td>71.000000</td>\n",
       "      <td>1986-01-01 00:00:00</td>\n",
       "      <td>NaN</td>\n",
       "      <td>1986.000000</td>\n",
       "      <td>254.00000</td>\n",
       "      <td>3.000000</td>\n",
       "      <td>8.794487e+08</td>\n",
       "    </tr>\n",
       "    <tr>\n",
       "      <th>50%</th>\n",
       "      <td>322.000000</td>\n",
       "      <td>145.000000</td>\n",
       "      <td>1994-01-01 00:00:00</td>\n",
       "      <td>NaN</td>\n",
       "      <td>1994.000000</td>\n",
       "      <td>447.00000</td>\n",
       "      <td>4.000000</td>\n",
       "      <td>8.828269e+08</td>\n",
       "    </tr>\n",
       "    <tr>\n",
       "      <th>75%</th>\n",
       "      <td>631.000000</td>\n",
       "      <td>239.000000</td>\n",
       "      <td>1996-09-28 00:00:00</td>\n",
       "      <td>NaN</td>\n",
       "      <td>1996.000000</td>\n",
       "      <td>682.00000</td>\n",
       "      <td>4.000000</td>\n",
       "      <td>8.882600e+08</td>\n",
       "    </tr>\n",
       "    <tr>\n",
       "      <th>max</th>\n",
       "      <td>1682.000000</td>\n",
       "      <td>583.000000</td>\n",
       "      <td>1998-10-23 00:00:00</td>\n",
       "      <td>NaN</td>\n",
       "      <td>1998.000000</td>\n",
       "      <td>943.00000</td>\n",
       "      <td>5.000000</td>\n",
       "      <td>8.932866e+08</td>\n",
       "    </tr>\n",
       "    <tr>\n",
       "      <th>std</th>\n",
       "      <td>330.798356</td>\n",
       "      <td>121.784558</td>\n",
       "      <td>NaN</td>\n",
       "      <td>NaN</td>\n",
       "      <td>14.155523</td>\n",
       "      <td>266.61442</td>\n",
       "      <td>1.125674</td>\n",
       "      <td>5.343856e+06</td>\n",
       "    </tr>\n",
       "  </tbody>\n",
       "</table>\n",
       "</div>"
      ],
      "text/plain": [
       "             item_id     popularity                   release_date  \\\n",
       "count  100000.000000  100000.000000                          99991   \n",
       "mean      425.530130     168.071900  1988-02-09 00:43:11.369223296   \n",
       "min         1.000000       1.000000            1922-01-01 00:00:00   \n",
       "25%       175.000000      71.000000            1986-01-01 00:00:00   \n",
       "50%       322.000000     145.000000            1994-01-01 00:00:00   \n",
       "75%       631.000000     239.000000            1996-09-28 00:00:00   \n",
       "max      1682.000000     583.000000            1998-10-23 00:00:00   \n",
       "std       330.798356     121.784558                            NaN   \n",
       "\n",
       "       video_release_date  release_year       user_id         rating  \\\n",
       "count                 0.0  99991.000000  100000.00000  100000.000000   \n",
       "mean                  NaN   1987.956216     462.48475       3.529860   \n",
       "min                   NaN   1922.000000       1.00000       1.000000   \n",
       "25%                   NaN   1986.000000     254.00000       3.000000   \n",
       "50%                   NaN   1994.000000     447.00000       4.000000   \n",
       "75%                   NaN   1996.000000     682.00000       4.000000   \n",
       "max                   NaN   1998.000000     943.00000       5.000000   \n",
       "std                   NaN     14.155523     266.61442       1.125674   \n",
       "\n",
       "          timestamp  \n",
       "count  1.000000e+05  \n",
       "mean   8.835289e+08  \n",
       "min    8.747247e+08  \n",
       "25%    8.794487e+08  \n",
       "50%    8.828269e+08  \n",
       "75%    8.882600e+08  \n",
       "max    8.932866e+08  \n",
       "std    5.343856e+06  "
      ]
     },
     "execution_count": 86,
     "metadata": {},
     "output_type": "execute_result"
    }
   ],
   "source": [
    "all_ratings = pd.merge(popularity, all_ratings)\n",
    "all_ratings.describe()"
   ]
  },
  {
   "cell_type": "code",
   "execution_count": 87,
   "metadata": {
    "collapsed": false
   },
   "outputs": [],
   "source": [
    "indexed_items = items.set_index('item_id')"
   ]
  },
  {
   "cell_type": "code",
   "execution_count": 88,
   "metadata": {},
   "outputs": [
    {
     "data": {
      "application/vnd.microsoft.datawrangler.viewer.v0+json": {
       "columns": [
        {
         "name": "index",
         "rawType": "int64",
         "type": "integer"
        },
        {
         "name": "item_id",
         "rawType": "int64",
         "type": "integer"
        },
        {
         "name": "popularity",
         "rawType": "int64",
         "type": "integer"
        },
        {
         "name": "title",
         "rawType": "object",
         "type": "string"
        },
        {
         "name": "release_date",
         "rawType": "datetime64[ns]",
         "type": "datetime"
        },
        {
         "name": "video_release_date",
         "rawType": "float64",
         "type": "float"
        },
        {
         "name": "imdb_url",
         "rawType": "object",
         "type": "string"
        },
        {
         "name": "release_year",
         "rawType": "float64",
         "type": "float"
        },
        {
         "name": "user_id",
         "rawType": "int64",
         "type": "integer"
        },
        {
         "name": "rating",
         "rawType": "int64",
         "type": "integer"
        },
        {
         "name": "timestamp",
         "rawType": "int64",
         "type": "integer"
        }
       ],
       "conversionMethod": "pd.DataFrame",
       "ref": "b2a756ad-ccde-4b61-8aa3-96f6bfb2bb93",
       "rows": [
        [
         "0",
         "1",
         "452",
         "Toy Story (1995)",
         "1995-01-01 00:00:00",
         null,
         "http://us.imdb.com/M/title-exact?Toy%20Story%20(1995)",
         "1995.0",
         "308",
         "4",
         "887736532"
        ],
        [
         "1",
         "1",
         "452",
         "Toy Story (1995)",
         "1995-01-01 00:00:00",
         null,
         "http://us.imdb.com/M/title-exact?Toy%20Story%20(1995)",
         "1995.0",
         "287",
         "5",
         "875334088"
        ],
        [
         "2",
         "1",
         "452",
         "Toy Story (1995)",
         "1995-01-01 00:00:00",
         null,
         "http://us.imdb.com/M/title-exact?Toy%20Story%20(1995)",
         "1995.0",
         "148",
         "4",
         "877019411"
        ],
        [
         "3",
         "1",
         "452",
         "Toy Story (1995)",
         "1995-01-01 00:00:00",
         null,
         "http://us.imdb.com/M/title-exact?Toy%20Story%20(1995)",
         "1995.0",
         "280",
         "4",
         "891700426"
        ],
        [
         "4",
         "1",
         "452",
         "Toy Story (1995)",
         "1995-01-01 00:00:00",
         null,
         "http://us.imdb.com/M/title-exact?Toy%20Story%20(1995)",
         "1995.0",
         "66",
         "3",
         "883601324"
        ]
       ],
       "shape": {
        "columns": 10,
        "rows": 5
       }
      },
      "text/html": [
       "<div>\n",
       "<style scoped>\n",
       "    .dataframe tbody tr th:only-of-type {\n",
       "        vertical-align: middle;\n",
       "    }\n",
       "\n",
       "    .dataframe tbody tr th {\n",
       "        vertical-align: top;\n",
       "    }\n",
       "\n",
       "    .dataframe thead th {\n",
       "        text-align: right;\n",
       "    }\n",
       "</style>\n",
       "<table border=\"1\" class=\"dataframe\">\n",
       "  <thead>\n",
       "    <tr style=\"text-align: right;\">\n",
       "      <th></th>\n",
       "      <th>item_id</th>\n",
       "      <th>popularity</th>\n",
       "      <th>title</th>\n",
       "      <th>release_date</th>\n",
       "      <th>video_release_date</th>\n",
       "      <th>imdb_url</th>\n",
       "      <th>release_year</th>\n",
       "      <th>user_id</th>\n",
       "      <th>rating</th>\n",
       "      <th>timestamp</th>\n",
       "    </tr>\n",
       "  </thead>\n",
       "  <tbody>\n",
       "    <tr>\n",
       "      <th>0</th>\n",
       "      <td>1</td>\n",
       "      <td>452</td>\n",
       "      <td>Toy Story (1995)</td>\n",
       "      <td>1995-01-01</td>\n",
       "      <td>NaN</td>\n",
       "      <td>http://us.imdb.com/M/title-exact?Toy%20Story%2...</td>\n",
       "      <td>1995.0</td>\n",
       "      <td>308</td>\n",
       "      <td>4</td>\n",
       "      <td>887736532</td>\n",
       "    </tr>\n",
       "    <tr>\n",
       "      <th>1</th>\n",
       "      <td>1</td>\n",
       "      <td>452</td>\n",
       "      <td>Toy Story (1995)</td>\n",
       "      <td>1995-01-01</td>\n",
       "      <td>NaN</td>\n",
       "      <td>http://us.imdb.com/M/title-exact?Toy%20Story%2...</td>\n",
       "      <td>1995.0</td>\n",
       "      <td>287</td>\n",
       "      <td>5</td>\n",
       "      <td>875334088</td>\n",
       "    </tr>\n",
       "    <tr>\n",
       "      <th>2</th>\n",
       "      <td>1</td>\n",
       "      <td>452</td>\n",
       "      <td>Toy Story (1995)</td>\n",
       "      <td>1995-01-01</td>\n",
       "      <td>NaN</td>\n",
       "      <td>http://us.imdb.com/M/title-exact?Toy%20Story%2...</td>\n",
       "      <td>1995.0</td>\n",
       "      <td>148</td>\n",
       "      <td>4</td>\n",
       "      <td>877019411</td>\n",
       "    </tr>\n",
       "    <tr>\n",
       "      <th>3</th>\n",
       "      <td>1</td>\n",
       "      <td>452</td>\n",
       "      <td>Toy Story (1995)</td>\n",
       "      <td>1995-01-01</td>\n",
       "      <td>NaN</td>\n",
       "      <td>http://us.imdb.com/M/title-exact?Toy%20Story%2...</td>\n",
       "      <td>1995.0</td>\n",
       "      <td>280</td>\n",
       "      <td>4</td>\n",
       "      <td>891700426</td>\n",
       "    </tr>\n",
       "    <tr>\n",
       "      <th>4</th>\n",
       "      <td>1</td>\n",
       "      <td>452</td>\n",
       "      <td>Toy Story (1995)</td>\n",
       "      <td>1995-01-01</td>\n",
       "      <td>NaN</td>\n",
       "      <td>http://us.imdb.com/M/title-exact?Toy%20Story%2...</td>\n",
       "      <td>1995.0</td>\n",
       "      <td>66</td>\n",
       "      <td>3</td>\n",
       "      <td>883601324</td>\n",
       "    </tr>\n",
       "  </tbody>\n",
       "</table>\n",
       "</div>"
      ],
      "text/plain": [
       "   item_id  popularity             title release_date  video_release_date  \\\n",
       "0        1         452  Toy Story (1995)   1995-01-01                 NaN   \n",
       "1        1         452  Toy Story (1995)   1995-01-01                 NaN   \n",
       "2        1         452  Toy Story (1995)   1995-01-01                 NaN   \n",
       "3        1         452  Toy Story (1995)   1995-01-01                 NaN   \n",
       "4        1         452  Toy Story (1995)   1995-01-01                 NaN   \n",
       "\n",
       "                                            imdb_url  release_year  user_id  \\\n",
       "0  http://us.imdb.com/M/title-exact?Toy%20Story%2...        1995.0      308   \n",
       "1  http://us.imdb.com/M/title-exact?Toy%20Story%2...        1995.0      287   \n",
       "2  http://us.imdb.com/M/title-exact?Toy%20Story%2...        1995.0      148   \n",
       "3  http://us.imdb.com/M/title-exact?Toy%20Story%2...        1995.0      280   \n",
       "4  http://us.imdb.com/M/title-exact?Toy%20Story%2...        1995.0       66   \n",
       "\n",
       "   rating  timestamp  \n",
       "0       4  887736532  \n",
       "1       5  875334088  \n",
       "2       4  877019411  \n",
       "3       4  891700426  \n",
       "4       3  883601324  "
      ]
     },
     "execution_count": 88,
     "metadata": {},
     "output_type": "execute_result"
    }
   ],
   "source": [
    "all_ratings.head()"
   ]
  },
  {
   "cell_type": "markdown",
   "metadata": {
    "collapsed": false
   },
   "source": [
    "**Quick Exercise**:\n",
    "\n",
    "As we have seen, the `groupby` method is a powerful tool to quickly compute statistics on the data. Use it to compute the average rating for each movie.\n",
    "\n",
    "**Hint**: you can use the `mean` method after the `groupby` method."
   ]
  },
  {
   "cell_type": "code",
   "execution_count": 89,
   "metadata": {
    "collapsed": false
   },
   "outputs": [
    {
     "data": {
      "application/vnd.microsoft.datawrangler.viewer.v0+json": {
       "columns": [
        {
         "name": "index",
         "rawType": "int64",
         "type": "integer"
        },
        {
         "name": "item_id",
         "rawType": "int64",
         "type": "integer"
        },
        {
         "name": "popularity",
         "rawType": "int64",
         "type": "integer"
        },
        {
         "name": "title",
         "rawType": "object",
         "type": "string"
        },
        {
         "name": "release_date",
         "rawType": "datetime64[ns]",
         "type": "datetime"
        },
        {
         "name": "video_release_date",
         "rawType": "float64",
         "type": "float"
        },
        {
         "name": "imdb_url",
         "rawType": "object",
         "type": "unknown"
        },
        {
         "name": "release_year",
         "rawType": "float64",
         "type": "float"
        },
        {
         "name": "user_id",
         "rawType": "int64",
         "type": "integer"
        },
        {
         "name": "rating",
         "rawType": "int64",
         "type": "integer"
        },
        {
         "name": "timestamp",
         "rawType": "int64",
         "type": "integer"
        }
       ],
       "conversionMethod": "pd.DataFrame",
       "ref": "6c2f783e-6c14-49b0-a852-c5ec5297225f",
       "rows": [
        [
         "0",
         "1",
         "452",
         "Toy Story (1995)",
         "1995-01-01 00:00:00",
         null,
         "http://us.imdb.com/M/title-exact?Toy%20Story%20(1995)",
         "1995.0",
         "308",
         "4",
         "887736532"
        ],
        [
         "1",
         "1",
         "452",
         "Toy Story (1995)",
         "1995-01-01 00:00:00",
         null,
         "http://us.imdb.com/M/title-exact?Toy%20Story%20(1995)",
         "1995.0",
         "287",
         "5",
         "875334088"
        ],
        [
         "2",
         "1",
         "452",
         "Toy Story (1995)",
         "1995-01-01 00:00:00",
         null,
         "http://us.imdb.com/M/title-exact?Toy%20Story%20(1995)",
         "1995.0",
         "148",
         "4",
         "877019411"
        ],
        [
         "3",
         "1",
         "452",
         "Toy Story (1995)",
         "1995-01-01 00:00:00",
         null,
         "http://us.imdb.com/M/title-exact?Toy%20Story%20(1995)",
         "1995.0",
         "280",
         "4",
         "891700426"
        ],
        [
         "4",
         "1",
         "452",
         "Toy Story (1995)",
         "1995-01-01 00:00:00",
         null,
         "http://us.imdb.com/M/title-exact?Toy%20Story%20(1995)",
         "1995.0",
         "66",
         "3",
         "883601324"
        ],
        [
         "5",
         "1",
         "452",
         "Toy Story (1995)",
         "1995-01-01 00:00:00",
         null,
         "http://us.imdb.com/M/title-exact?Toy%20Story%20(1995)",
         "1995.0",
         "5",
         "4",
         "875635748"
        ],
        [
         "6",
         "1",
         "452",
         "Toy Story (1995)",
         "1995-01-01 00:00:00",
         null,
         "http://us.imdb.com/M/title-exact?Toy%20Story%20(1995)",
         "1995.0",
         "109",
         "4",
         "880563619"
        ],
        [
         "7",
         "1",
         "452",
         "Toy Story (1995)",
         "1995-01-01 00:00:00",
         null,
         "http://us.imdb.com/M/title-exact?Toy%20Story%20(1995)",
         "1995.0",
         "181",
         "3",
         "878962392"
        ],
        [
         "8",
         "1",
         "452",
         "Toy Story (1995)",
         "1995-01-01 00:00:00",
         null,
         "http://us.imdb.com/M/title-exact?Toy%20Story%20(1995)",
         "1995.0",
         "95",
         "5",
         "879197329"
        ],
        [
         "9",
         "1",
         "452",
         "Toy Story (1995)",
         "1995-01-01 00:00:00",
         null,
         "http://us.imdb.com/M/title-exact?Toy%20Story%20(1995)",
         "1995.0",
         "268",
         "3",
         "875742341"
        ],
        [
         "10",
         "1",
         "452",
         "Toy Story (1995)",
         "1995-01-01 00:00:00",
         null,
         "http://us.imdb.com/M/title-exact?Toy%20Story%20(1995)",
         "1995.0",
         "189",
         "5",
         "893264174"
        ],
        [
         "11",
         "1",
         "452",
         "Toy Story (1995)",
         "1995-01-01 00:00:00",
         null,
         "http://us.imdb.com/M/title-exact?Toy%20Story%20(1995)",
         "1995.0",
         "145",
         "3",
         "882181396"
        ],
        [
         "12",
         "1",
         "452",
         "Toy Story (1995)",
         "1995-01-01 00:00:00",
         null,
         "http://us.imdb.com/M/title-exact?Toy%20Story%20(1995)",
         "1995.0",
         "158",
         "4",
         "880132443"
        ],
        [
         "13",
         "1",
         "452",
         "Toy Story (1995)",
         "1995-01-01 00:00:00",
         null,
         "http://us.imdb.com/M/title-exact?Toy%20Story%20(1995)",
         "1995.0",
         "67",
         "3",
         "875379445"
        ],
        [
         "14",
         "1",
         "452",
         "Toy Story (1995)",
         "1995-01-01 00:00:00",
         null,
         "http://us.imdb.com/M/title-exact?Toy%20Story%20(1995)",
         "1995.0",
         "232",
         "4",
         "880062302"
        ],
        [
         "15",
         "1",
         "452",
         "Toy Story (1995)",
         "1995-01-01 00:00:00",
         null,
         "http://us.imdb.com/M/title-exact?Toy%20Story%20(1995)",
         "1995.0",
         "150",
         "4",
         "878746441"
        ],
        [
         "16",
         "1",
         "452",
         "Toy Story (1995)",
         "1995-01-01 00:00:00",
         null,
         "http://us.imdb.com/M/title-exact?Toy%20Story%20(1995)",
         "1995.0",
         "289",
         "3",
         "876789736"
        ],
        [
         "17",
         "1",
         "452",
         "Toy Story (1995)",
         "1995-01-01 00:00:00",
         null,
         "http://us.imdb.com/M/title-exact?Toy%20Story%20(1995)",
         "1995.0",
         "117",
         "4",
         "880126083"
        ],
        [
         "18",
         "1",
         "452",
         "Toy Story (1995)",
         "1995-01-01 00:00:00",
         null,
         "http://us.imdb.com/M/title-exact?Toy%20Story%20(1995)",
         "1995.0",
         "49",
         "2",
         "888068651"
        ],
        [
         "19",
         "1",
         "452",
         "Toy Story (1995)",
         "1995-01-01 00:00:00",
         null,
         "http://us.imdb.com/M/title-exact?Toy%20Story%20(1995)",
         "1995.0",
         "223",
         "4",
         "891549324"
        ],
        [
         "20",
         "1",
         "452",
         "Toy Story (1995)",
         "1995-01-01 00:00:00",
         null,
         "http://us.imdb.com/M/title-exact?Toy%20Story%20(1995)",
         "1995.0",
         "56",
         "4",
         "892683248"
        ],
        [
         "21",
         "1",
         "452",
         "Toy Story (1995)",
         "1995-01-01 00:00:00",
         null,
         "http://us.imdb.com/M/title-exact?Toy%20Story%20(1995)",
         "1995.0",
         "17",
         "4",
         "885272579"
        ],
        [
         "22",
         "1",
         "452",
         "Toy Story (1995)",
         "1995-01-01 00:00:00",
         null,
         "http://us.imdb.com/M/title-exact?Toy%20Story%20(1995)",
         "1995.0",
         "340",
         "5",
         "884990988"
        ],
        [
         "23",
         "1",
         "452",
         "Toy Story (1995)",
         "1995-01-01 00:00:00",
         null,
         "http://us.imdb.com/M/title-exact?Toy%20Story%20(1995)",
         "1995.0",
         "177",
         "3",
         "880130699"
        ],
        [
         "24",
         "1",
         "452",
         "Toy Story (1995)",
         "1995-01-01 00:00:00",
         null,
         "http://us.imdb.com/M/title-exact?Toy%20Story%20(1995)",
         "1995.0",
         "194",
         "4",
         "879539127"
        ],
        [
         "25",
         "1",
         "452",
         "Toy Story (1995)",
         "1995-01-01 00:00:00",
         null,
         "http://us.imdb.com/M/title-exact?Toy%20Story%20(1995)",
         "1995.0",
         "250",
         "4",
         "883263374"
        ],
        [
         "26",
         "1",
         "452",
         "Toy Story (1995)",
         "1995-01-01 00:00:00",
         null,
         "http://us.imdb.com/M/title-exact?Toy%20Story%20(1995)",
         "1995.0",
         "213",
         "2",
         "878870719"
        ],
        [
         "27",
         "1",
         "452",
         "Toy Story (1995)",
         "1995-01-01 00:00:00",
         null,
         "http://us.imdb.com/M/title-exact?Toy%20Story%20(1995)",
         "1995.0",
         "350",
         "4",
         "882345734"
        ],
        [
         "28",
         "1",
         "452",
         "Toy Story (1995)",
         "1995-01-01 00:00:00",
         null,
         "http://us.imdb.com/M/title-exact?Toy%20Story%20(1995)",
         "1995.0",
         "348",
         "4",
         "886523078"
        ],
        [
         "29",
         "1",
         "452",
         "Toy Story (1995)",
         "1995-01-01 00:00:00",
         null,
         "http://us.imdb.com/M/title-exact?Toy%20Story%20(1995)",
         "1995.0",
         "131",
         "4",
         "883681384"
        ],
        [
         "30",
         "1",
         "452",
         "Toy Story (1995)",
         "1995-01-01 00:00:00",
         null,
         "http://us.imdb.com/M/title-exact?Toy%20Story%20(1995)",
         "1995.0",
         "106",
         "4",
         "881449487"
        ],
        [
         "31",
         "1",
         "452",
         "Toy Story (1995)",
         "1995-01-01 00:00:00",
         null,
         "http://us.imdb.com/M/title-exact?Toy%20Story%20(1995)",
         "1995.0",
         "234",
         "3",
         "891227689"
        ],
        [
         "32",
         "1",
         "452",
         "Toy Story (1995)",
         "1995-01-01 00:00:00",
         null,
         "http://us.imdb.com/M/title-exact?Toy%20Story%20(1995)",
         "1995.0",
         "43",
         "5",
         "875975579"
        ],
        [
         "33",
         "1",
         "452",
         "Toy Story (1995)",
         "1995-01-01 00:00:00",
         null,
         "http://us.imdb.com/M/title-exact?Toy%20Story%20(1995)",
         "1995.0",
         "20",
         "3",
         "879667963"
        ],
        [
         "34",
         "1",
         "452",
         "Toy Story (1995)",
         "1995-01-01 00:00:00",
         null,
         "http://us.imdb.com/M/title-exact?Toy%20Story%20(1995)",
         "1995.0",
         "246",
         "4",
         "884920918"
        ],
        [
         "35",
         "1",
         "452",
         "Toy Story (1995)",
         "1995-01-01 00:00:00",
         null,
         "http://us.imdb.com/M/title-exact?Toy%20Story%20(1995)",
         "1995.0",
         "94",
         "4",
         "885870323"
        ],
        [
         "36",
         "1",
         "452",
         "Toy Story (1995)",
         "1995-01-01 00:00:00",
         null,
         "http://us.imdb.com/M/title-exact?Toy%20Story%20(1995)",
         "1995.0",
         "279",
         "3",
         "875295812"
        ],
        [
         "37",
         "1",
         "452",
         "Toy Story (1995)",
         "1995-01-01 00:00:00",
         null,
         "http://us.imdb.com/M/title-exact?Toy%20Story%20(1995)",
         "1995.0",
         "38",
         "5",
         "892430636"
        ],
        [
         "38",
         "1",
         "452",
         "Toy Story (1995)",
         "1995-01-01 00:00:00",
         null,
         "http://us.imdb.com/M/title-exact?Toy%20Story%20(1995)",
         "1995.0",
         "128",
         "4",
         "879966919"
        ],
        [
         "39",
         "1",
         "452",
         "Toy Story (1995)",
         "1995-01-01 00:00:00",
         null,
         "http://us.imdb.com/M/title-exact?Toy%20Story%20(1995)",
         "1995.0",
         "96",
         "5",
         "884403574"
        ],
        [
         "40",
         "1",
         "452",
         "Toy Story (1995)",
         "1995-01-01 00:00:00",
         null,
         "http://us.imdb.com/M/title-exact?Toy%20Story%20(1995)",
         "1995.0",
         "203",
         "3",
         "880434384"
        ],
        [
         "41",
         "1",
         "452",
         "Toy Story (1995)",
         "1995-01-01 00:00:00",
         null,
         "http://us.imdb.com/M/title-exact?Toy%20Story%20(1995)",
         "1995.0",
         "157",
         "5",
         "874813703"
        ],
        [
         "42",
         "1",
         "452",
         "Toy Story (1995)",
         "1995-01-01 00:00:00",
         null,
         "http://us.imdb.com/M/title-exact?Toy%20Story%20(1995)",
         "1995.0",
         "311",
         "4",
         "884963202"
        ],
        [
         "43",
         "1",
         "452",
         "Toy Story (1995)",
         "1995-01-01 00:00:00",
         null,
         "http://us.imdb.com/M/title-exact?Toy%20Story%20(1995)",
         "1995.0",
         "125",
         "4",
         "879454699"
        ],
        [
         "44",
         "1",
         "452",
         "Toy Story (1995)",
         "1995-01-01 00:00:00",
         null,
         "http://us.imdb.com/M/title-exact?Toy%20Story%20(1995)",
         "1995.0",
         "286",
         "4",
         "876521699"
        ],
        [
         "45",
         "1",
         "452",
         "Toy Story (1995)",
         "1995-01-01 00:00:00",
         null,
         "http://us.imdb.com/M/title-exact?Toy%20Story%20(1995)",
         "1995.0",
         "83",
         "4",
         "880306903"
        ],
        [
         "46",
         "1",
         "452",
         "Toy Story (1995)",
         "1995-01-01 00:00:00",
         null,
         "http://us.imdb.com/M/title-exact?Toy%20Story%20(1995)",
         "1995.0",
         "301",
         "4",
         "882074345"
        ],
        [
         "47",
         "1",
         "452",
         "Toy Story (1995)",
         "1995-01-01 00:00:00",
         null,
         "http://us.imdb.com/M/title-exact?Toy%20Story%20(1995)",
         "1995.0",
         "345",
         "3",
         "884990938"
        ],
        [
         "48",
         "1",
         "452",
         "Toy Story (1995)",
         "1995-01-01 00:00:00",
         null,
         "http://us.imdb.com/M/title-exact?Toy%20Story%20(1995)",
         "1995.0",
         "18",
         "5",
         "880130802"
        ],
        [
         "49",
         "1",
         "452",
         "Toy Story (1995)",
         "1995-01-01 00:00:00",
         null,
         "http://us.imdb.com/M/title-exact?Toy%20Story%20(1995)",
         "1995.0",
         "322",
         "2",
         "887314119"
        ]
       ],
       "shape": {
        "columns": 10,
        "rows": 100000
       }
      },
      "text/html": [
       "<div>\n",
       "<style scoped>\n",
       "    .dataframe tbody tr th:only-of-type {\n",
       "        vertical-align: middle;\n",
       "    }\n",
       "\n",
       "    .dataframe tbody tr th {\n",
       "        vertical-align: top;\n",
       "    }\n",
       "\n",
       "    .dataframe thead th {\n",
       "        text-align: right;\n",
       "    }\n",
       "</style>\n",
       "<table border=\"1\" class=\"dataframe\">\n",
       "  <thead>\n",
       "    <tr style=\"text-align: right;\">\n",
       "      <th></th>\n",
       "      <th>item_id</th>\n",
       "      <th>popularity</th>\n",
       "      <th>title</th>\n",
       "      <th>release_date</th>\n",
       "      <th>video_release_date</th>\n",
       "      <th>imdb_url</th>\n",
       "      <th>release_year</th>\n",
       "      <th>user_id</th>\n",
       "      <th>rating</th>\n",
       "      <th>timestamp</th>\n",
       "    </tr>\n",
       "  </thead>\n",
       "  <tbody>\n",
       "    <tr>\n",
       "      <th>0</th>\n",
       "      <td>1</td>\n",
       "      <td>452</td>\n",
       "      <td>Toy Story (1995)</td>\n",
       "      <td>1995-01-01</td>\n",
       "      <td>NaN</td>\n",
       "      <td>http://us.imdb.com/M/title-exact?Toy%20Story%2...</td>\n",
       "      <td>1995.0</td>\n",
       "      <td>308</td>\n",
       "      <td>4</td>\n",
       "      <td>887736532</td>\n",
       "    </tr>\n",
       "    <tr>\n",
       "      <th>1</th>\n",
       "      <td>1</td>\n",
       "      <td>452</td>\n",
       "      <td>Toy Story (1995)</td>\n",
       "      <td>1995-01-01</td>\n",
       "      <td>NaN</td>\n",
       "      <td>http://us.imdb.com/M/title-exact?Toy%20Story%2...</td>\n",
       "      <td>1995.0</td>\n",
       "      <td>287</td>\n",
       "      <td>5</td>\n",
       "      <td>875334088</td>\n",
       "    </tr>\n",
       "    <tr>\n",
       "      <th>2</th>\n",
       "      <td>1</td>\n",
       "      <td>452</td>\n",
       "      <td>Toy Story (1995)</td>\n",
       "      <td>1995-01-01</td>\n",
       "      <td>NaN</td>\n",
       "      <td>http://us.imdb.com/M/title-exact?Toy%20Story%2...</td>\n",
       "      <td>1995.0</td>\n",
       "      <td>148</td>\n",
       "      <td>4</td>\n",
       "      <td>877019411</td>\n",
       "    </tr>\n",
       "    <tr>\n",
       "      <th>3</th>\n",
       "      <td>1</td>\n",
       "      <td>452</td>\n",
       "      <td>Toy Story (1995)</td>\n",
       "      <td>1995-01-01</td>\n",
       "      <td>NaN</td>\n",
       "      <td>http://us.imdb.com/M/title-exact?Toy%20Story%2...</td>\n",
       "      <td>1995.0</td>\n",
       "      <td>280</td>\n",
       "      <td>4</td>\n",
       "      <td>891700426</td>\n",
       "    </tr>\n",
       "    <tr>\n",
       "      <th>4</th>\n",
       "      <td>1</td>\n",
       "      <td>452</td>\n",
       "      <td>Toy Story (1995)</td>\n",
       "      <td>1995-01-01</td>\n",
       "      <td>NaN</td>\n",
       "      <td>http://us.imdb.com/M/title-exact?Toy%20Story%2...</td>\n",
       "      <td>1995.0</td>\n",
       "      <td>66</td>\n",
       "      <td>3</td>\n",
       "      <td>883601324</td>\n",
       "    </tr>\n",
       "    <tr>\n",
       "      <th>...</th>\n",
       "      <td>...</td>\n",
       "      <td>...</td>\n",
       "      <td>...</td>\n",
       "      <td>...</td>\n",
       "      <td>...</td>\n",
       "      <td>...</td>\n",
       "      <td>...</td>\n",
       "      <td>...</td>\n",
       "      <td>...</td>\n",
       "      <td>...</td>\n",
       "    </tr>\n",
       "    <tr>\n",
       "      <th>99995</th>\n",
       "      <td>1678</td>\n",
       "      <td>1</td>\n",
       "      <td>Mat' i syn (1997)</td>\n",
       "      <td>1998-02-06</td>\n",
       "      <td>NaN</td>\n",
       "      <td>http://us.imdb.com/M/title-exact?Mat%27+i+syn+...</td>\n",
       "      <td>1998.0</td>\n",
       "      <td>863</td>\n",
       "      <td>1</td>\n",
       "      <td>889289570</td>\n",
       "    </tr>\n",
       "    <tr>\n",
       "      <th>99996</th>\n",
       "      <td>1679</td>\n",
       "      <td>1</td>\n",
       "      <td>B. Monkey (1998)</td>\n",
       "      <td>1998-02-06</td>\n",
       "      <td>NaN</td>\n",
       "      <td>http://us.imdb.com/M/title-exact?B%2E+Monkey+(...</td>\n",
       "      <td>1998.0</td>\n",
       "      <td>863</td>\n",
       "      <td>3</td>\n",
       "      <td>889289491</td>\n",
       "    </tr>\n",
       "    <tr>\n",
       "      <th>99997</th>\n",
       "      <td>1680</td>\n",
       "      <td>1</td>\n",
       "      <td>Sliding Doors (1998)</td>\n",
       "      <td>1998-01-01</td>\n",
       "      <td>NaN</td>\n",
       "      <td>http://us.imdb.com/Title?Sliding+Doors+(1998)</td>\n",
       "      <td>1998.0</td>\n",
       "      <td>863</td>\n",
       "      <td>2</td>\n",
       "      <td>889289570</td>\n",
       "    </tr>\n",
       "    <tr>\n",
       "      <th>99998</th>\n",
       "      <td>1681</td>\n",
       "      <td>1</td>\n",
       "      <td>You So Crazy (1994)</td>\n",
       "      <td>1994-01-01</td>\n",
       "      <td>NaN</td>\n",
       "      <td>http://us.imdb.com/M/title-exact?You%20So%20Cr...</td>\n",
       "      <td>1994.0</td>\n",
       "      <td>896</td>\n",
       "      <td>3</td>\n",
       "      <td>887160722</td>\n",
       "    </tr>\n",
       "    <tr>\n",
       "      <th>99999</th>\n",
       "      <td>1682</td>\n",
       "      <td>1</td>\n",
       "      <td>Scream of Stone (Schrei aus Stein) (1991)</td>\n",
       "      <td>1996-03-08</td>\n",
       "      <td>NaN</td>\n",
       "      <td>http://us.imdb.com/M/title-exact?Schrei%20aus%...</td>\n",
       "      <td>1996.0</td>\n",
       "      <td>916</td>\n",
       "      <td>3</td>\n",
       "      <td>880845755</td>\n",
       "    </tr>\n",
       "  </tbody>\n",
       "</table>\n",
       "<p>100000 rows × 10 columns</p>\n",
       "</div>"
      ],
      "text/plain": [
       "       item_id  popularity                                      title  \\\n",
       "0            1         452                           Toy Story (1995)   \n",
       "1            1         452                           Toy Story (1995)   \n",
       "2            1         452                           Toy Story (1995)   \n",
       "3            1         452                           Toy Story (1995)   \n",
       "4            1         452                           Toy Story (1995)   \n",
       "...        ...         ...                                        ...   \n",
       "99995     1678           1                          Mat' i syn (1997)   \n",
       "99996     1679           1                           B. Monkey (1998)   \n",
       "99997     1680           1                       Sliding Doors (1998)   \n",
       "99998     1681           1                        You So Crazy (1994)   \n",
       "99999     1682           1  Scream of Stone (Schrei aus Stein) (1991)   \n",
       "\n",
       "      release_date  video_release_date  \\\n",
       "0       1995-01-01                 NaN   \n",
       "1       1995-01-01                 NaN   \n",
       "2       1995-01-01                 NaN   \n",
       "3       1995-01-01                 NaN   \n",
       "4       1995-01-01                 NaN   \n",
       "...            ...                 ...   \n",
       "99995   1998-02-06                 NaN   \n",
       "99996   1998-02-06                 NaN   \n",
       "99997   1998-01-01                 NaN   \n",
       "99998   1994-01-01                 NaN   \n",
       "99999   1996-03-08                 NaN   \n",
       "\n",
       "                                                imdb_url  release_year  \\\n",
       "0      http://us.imdb.com/M/title-exact?Toy%20Story%2...        1995.0   \n",
       "1      http://us.imdb.com/M/title-exact?Toy%20Story%2...        1995.0   \n",
       "2      http://us.imdb.com/M/title-exact?Toy%20Story%2...        1995.0   \n",
       "3      http://us.imdb.com/M/title-exact?Toy%20Story%2...        1995.0   \n",
       "4      http://us.imdb.com/M/title-exact?Toy%20Story%2...        1995.0   \n",
       "...                                                  ...           ...   \n",
       "99995  http://us.imdb.com/M/title-exact?Mat%27+i+syn+...        1998.0   \n",
       "99996  http://us.imdb.com/M/title-exact?B%2E+Monkey+(...        1998.0   \n",
       "99997      http://us.imdb.com/Title?Sliding+Doors+(1998)        1998.0   \n",
       "99998  http://us.imdb.com/M/title-exact?You%20So%20Cr...        1994.0   \n",
       "99999  http://us.imdb.com/M/title-exact?Schrei%20aus%...        1996.0   \n",
       "\n",
       "       user_id  rating  timestamp  \n",
       "0          308       4  887736532  \n",
       "1          287       5  875334088  \n",
       "2          148       4  877019411  \n",
       "3          280       4  891700426  \n",
       "4           66       3  883601324  \n",
       "...        ...     ...        ...  \n",
       "99995      863       1  889289570  \n",
       "99996      863       3  889289491  \n",
       "99997      863       2  889289570  \n",
       "99998      896       3  887160722  \n",
       "99999      916       3  880845755  \n",
       "\n",
       "[100000 rows x 10 columns]"
      ]
     },
     "execution_count": 89,
     "metadata": {},
     "output_type": "execute_result"
    }
   ],
   "source": [
    "#raise NotImplementedError(\"Please calculate the average rating for each movie\")\n",
    "all_ratings"
   ]
  },
  {
   "cell_type": "code",
   "execution_count": 90,
   "metadata": {},
   "outputs": [
    {
     "data": {
      "text/plain": [
       "title\n",
       "'Til There Was You (1997)                2.333333\n",
       "1-900 (1994)                             2.600000\n",
       "101 Dalmatians (1996)                    2.908257\n",
       "12 Angry Men (1957)                      4.344000\n",
       "187 (1997)                               3.024390\n",
       "                                           ...   \n",
       "Young Guns II (1990)                     2.772727\n",
       "Young Poisoner's Handbook, The (1995)    3.341463\n",
       "Zeus and Roxanne (1997)                  2.166667\n",
       "unknown                                  3.444444\n",
       "Á köldum klaka (Cold Fever) (1994)       3.000000\n",
       "Name: rating, Length: 1664, dtype: float64"
      ]
     },
     "execution_count": 90,
     "metadata": {},
     "output_type": "execute_result"
    }
   ],
   "source": [
    "\n",
    "#list(all_ratings.groupby('title'))\n",
    "all_ratings.groupby('title')['rating'].mean()"
   ]
  },
  {
   "cell_type": "markdown",
   "metadata": {},
   "source": [
    "Let's split the enriched data in a train / test split to make it possible to do predictive modeling:"
   ]
  },
  {
   "cell_type": "code",
   "execution_count": 91,
   "metadata": {},
   "outputs": [],
   "source": [
    "from sklearn.model_selection import train_test_split\n",
    "\n",
    "ratings_train, ratings_test = train_test_split(\n",
    "    all_ratings, test_size=0.2, random_state=0)\n",
    "\n",
    "user_id_train = np.array(ratings_train['user_id'])\n",
    "item_id_train = np.array(ratings_train['item_id'])\n",
    "rating_train = np.array(ratings_train['rating'])\n",
    "\n",
    "user_id_test = np.array(ratings_test['user_id'])\n",
    "item_id_test = np.array(ratings_test['item_id'])\n",
    "rating_test = np.array(ratings_test['rating'])"
   ]
  },
  {
   "cell_type": "markdown",
   "metadata": {},
   "source": [
    "# Explicit feedback: supervised ratings prediction\n",
    "\n",
    "Now let's begin to do some recommendation! We will build a model that takes a user and a movie as input and outputs a predicted rating. We will be taking advantage of embeddings to represent users and movies. That means that each movie and user will have an abstract representation in a continuous vector space. The model will learn these representations based on the ratings."
   ]
  },
  {
   "cell_type": "markdown",
   "metadata": {},
   "source": [
    "## Predictive ratings  as a regression problem\n",
    "\n",
    "The following code implements the following architecture:\n",
    "\n",
    "<img src=\"https://raw.githubusercontent.com/UofT-DSI/deep_learning/refs/heads/main/01_materials/labs/images/rec_archi_1.svg\" style=\"width: 600px;\" />"
   ]
  },
  {
   "cell_type": "code",
   "execution_count": 92,
   "metadata": {},
   "outputs": [],
   "source": [
    "from tensorflow.keras.layers import Embedding, Flatten, Dense, Dropout\n",
    "from tensorflow.keras.layers import Dot\n",
    "from tensorflow.keras.models import Model"
   ]
  },
  {
   "cell_type": "code",
   "execution_count": 93,
   "metadata": {},
   "outputs": [],
   "source": [
    "# For each sample we input the integer identifiers\n",
    "# of a single user and a single item\n",
    "class RegressionModel(Model):\n",
    "    def __init__(self, embedding_size, max_user_id, max_item_id):\n",
    "        super().__init__()\n",
    "        \n",
    "        self.user_embedding = Embedding(output_dim=embedding_size,\n",
    "                                        input_dim=max_user_id + 1,\n",
    "                                        name='user_embedding')\n",
    "        self.item_embedding = Embedding(output_dim=embedding_size,\n",
    "                                        input_dim=max_item_id + 1,\n",
    "                                        name='item_embedding')\n",
    "        \n",
    "        # The following two layers don't have parameters.\n",
    "        self.flatten = Flatten()\n",
    "        self.dot = Dot(axes=1)\n",
    "        \n",
    "    def call(self, inputs):\n",
    "        user_inputs = inputs[0]\n",
    "        item_inputs = inputs[1]\n",
    "        \n",
    "        user_vecs = self.flatten(self.user_embedding(user_inputs))\n",
    "        item_vecs = self.flatten(self.item_embedding(item_inputs))\n",
    "        \n",
    "        y = self.dot([user_vecs, item_vecs])\n",
    "        return y\n",
    "\n",
    "\n",
    "model = RegressionModel(embedding_size=64, max_user_id=all_ratings['user_id'].max(), max_item_id=all_ratings['item_id'].max())\n",
    "model.compile(optimizer=\"adam\", loss='mae')"
   ]
  },
  {
   "cell_type": "markdown",
   "metadata": {},
   "source": [
    "### Monitoring runs\n",
    "\n",
    "When training a model with Keras, we get a `history` object back that contains lots of information about the training run. We can use this to plot the training and validation loss to see how the model has improved during training."
   ]
  },
  {
   "cell_type": "code",
   "execution_count": 94,
   "metadata": {},
   "outputs": [
    {
     "name": "stdout",
     "output_type": "stream",
     "text": [
      "Epoch 1/10\n",
      "1125/1125 [==============================] - 9s 7ms/step - loss: 2.6431 - val_loss: 1.0505\n",
      "Epoch 2/10\n",
      "1125/1125 [==============================] - 7s 6ms/step - loss: 0.8517 - val_loss: 0.7925\n",
      "Epoch 3/10\n",
      "1125/1125 [==============================] - 6s 6ms/step - loss: 0.7526 - val_loss: 0.7675\n",
      "Epoch 4/10\n",
      "1125/1125 [==============================] - 5s 5ms/step - loss: 0.7242 - val_loss: 0.7543\n",
      "Epoch 5/10\n",
      "1125/1125 [==============================] - 4s 4ms/step - loss: 0.7008 - val_loss: 0.7436\n",
      "Epoch 6/10\n",
      "1125/1125 [==============================] - 4s 3ms/step - loss: 0.6799 - val_loss: 0.7430\n",
      "Epoch 7/10\n",
      "1125/1125 [==============================] - 4s 4ms/step - loss: 0.6580 - val_loss: 0.7419\n",
      "Epoch 8/10\n",
      "1125/1125 [==============================] - 4s 4ms/step - loss: 0.6357 - val_loss: 0.7407\n",
      "Epoch 9/10\n",
      "1125/1125 [==============================] - 5s 5ms/step - loss: 0.6125 - val_loss: 0.7392\n",
      "Epoch 10/10\n",
      "1125/1125 [==============================] - 7s 6ms/step - loss: 0.5884 - val_loss: 0.7420\n",
      "CPU times: total: 2min 35s\n",
      "Wall time: 57 s\n"
     ]
    }
   ],
   "source": [
    "%%time\n",
    "\n",
    "# Training the model\n",
    "history = model.fit([user_id_train, item_id_train], rating_train,\n",
    "                    batch_size=64, epochs=10, validation_split=0.1,\n",
    "                    shuffle=True)"
   ]
  },
  {
   "cell_type": "code",
   "execution_count": 95,
   "metadata": {},
   "outputs": [
    {
     "data": {
      "image/png": "[encoded data removed]",
      "text/plain": [
       "<Figure size 640x480 with 1 Axes>"
      ]
     },
     "metadata": {},
     "output_type": "display_data"
    }
   ],
   "source": [
    "plt.plot(history.history['loss'], label='train')\n",
    "plt.plot(history.history['val_loss'], label='validation')\n",
    "plt.ylim(0, 2)\n",
    "plt.legend(loc='best')\n",
    "plt.title('Loss');"
   ]
  },
  {
   "cell_type": "markdown",
   "metadata": {},
   "source": [
    "**Questions**:\n",
    "\n",
    "- Does it look like our model has overfit? Why or why not?  \n",
    "Your Answer: ____________\n",
    "- Suggest something we could do to prevent overfitting.  \n",
    "Your Answer: ____________\n",
    "\n",
    "Now that the model is trained, let's check out the quality of predictions:"
   ]
  },
  {
   "cell_type": "code",
   "execution_count": 96,
   "metadata": {},
   "outputs": [],
   "source": [
    "def plot_predictions(y_true, y_pred):\n",
    "    plt.figure(figsize=(4, 4))\n",
    "    plt.xlim(-1, 6)\n",
    "    plt.xlabel(\"True rating\")\n",
    "    plt.ylim(-1, 6)\n",
    "    plt.ylabel(\"Predicted rating\")\n",
    "    plt.scatter(y_true, y_pred, s=60, alpha=0.01)"
   ]
  },
  {
   "cell_type": "code",
   "execution_count": 97,
   "metadata": {},
   "outputs": [
    {
     "name": "stdout",
     "output_type": "stream",
     "text": [
      "625/625 [==============================] - 1s 2ms/step\n",
      "Final test MSE: 0.909\n",
      "Final test MAE: 0.736\n"
     ]
    },
    {
     "data": {
      "image/png": "[encoded data removed]",
      "text/plain": [
       "<Figure size 400x400 with 1 Axes>"
      ]
     },
     "metadata": {},
     "output_type": "display_data"
    }
   ],
   "source": [
    "from sklearn.metrics import mean_squared_error\n",
    "from sklearn.metrics import mean_absolute_error\n",
    "\n",
    "test_preds = model.predict([user_id_test, item_id_test])\n",
    "print(\"Final test MSE: %0.3f\" % mean_squared_error(test_preds, rating_test))\n",
    "print(\"Final test MAE: %0.3f\" % mean_absolute_error(test_preds, rating_test))\n",
    "plot_predictions(rating_test, test_preds)"
   ]
  },
  {
   "cell_type": "markdown",
   "metadata": {
    "collapsed": false
   },
   "source": [
    "This graph shows us the range of predicted ratings our model gives, organized by the true rating. We can see that generally, the higher the true rating the higher the predicted rating, although there is quite a range of predictions for each instance. That's okay - our model is very simple, and human preferences are very complex!\n",
    "\n",
    "Taking a look at the Mean Absolute Error, hopefully you got something around 0.75. This means that, on average, our predicted ratings are about 0.75 stars off from the true ratings. This is a pretty good result for a first attempt. We could probably do better with a more complex model, but we'll leave that for another time."
   ]
  },
  {
   "cell_type": "markdown",
   "metadata": {},
   "source": [
    "### Model Embeddings\n",
    "\n",
    "Our model was built with two embedding layers. These layers have learned a representation of both the users and the movies in our dataset. We can extract these representations and use them to find similar movies or users. We can also do interesting exploratory analysis, like finding the most popular movies among our users, or finding the users that are most interested in a given movie."
   ]
  },
  {
   "cell_type": "code",
   "execution_count": 98,
   "metadata": {},
   "outputs": [
    {
     "data": {
      "text/plain": [
       "[(944, 64), (1683, 64)]"
      ]
     },
     "execution_count": 98,
     "metadata": {},
     "output_type": "execute_result"
    }
   ],
   "source": [
    "# weights and shape\n",
    "weights = model.get_weights()\n",
    "[w.shape for w in weights]"
   ]
  },
  {
   "cell_type": "code",
   "execution_count": 99,
   "metadata": {},
   "outputs": [],
   "source": [
    "user_embeddings = weights[0]\n",
    "item_embeddings = weights[1]"
   ]
  },
  {
   "cell_type": "code",
   "execution_count": 100,
   "metadata": {},
   "outputs": [
    {
     "name": "stdout",
     "output_type": "stream",
     "text": [
      "Title for item_id=181: Return of the Jedi (1983)\n"
     ]
    }
   ],
   "source": [
    "item_id = 181\n",
    "print(f\"Title for item_id={item_id}: {indexed_items['title'][item_id]}\")"
   ]
  },
  {
   "cell_type": "code",
   "execution_count": 101,
   "metadata": {},
   "outputs": [
    {
     "name": "stdout",
     "output_type": "stream",
     "text": [
      "Embedding vector for item_id=181\n",
      "[-0.43159604 -0.2382435   0.25019905 -0.23921202 -0.19890827  0.44306204\n",
      "  0.42878363 -0.22733453  0.18310806  0.37021855 -0.06640958  0.40435544\n",
      " -0.21318017  0.38413587  0.22163838  0.33391824  0.35035166 -0.27617213\n",
      " -0.18831824  0.3469805   0.24592301  0.4261556   0.4191036  -0.3117373\n",
      " -0.1544716   0.40377387  0.40714648  0.27964038 -0.36745667 -0.399738\n",
      " -0.269548   -0.42592424  0.5210662  -0.38757193  0.499463    0.3529603\n",
      "  0.20749164 -0.13594398  0.3970234   0.14212164 -0.3325846  -0.23133722\n",
      "  0.2726133   0.42029625  0.36988547  0.7940859  -0.23759879  0.09441529\n",
      " -0.03374528  0.4736332  -0.25947204  0.27703595 -0.34222814 -0.38440308\n",
      "  0.40687135  0.32117048  0.25908068 -0.21392973 -0.4658926  -0.19173008\n",
      "  0.00816589  0.28677365  0.18421577  0.40163255]\n",
      "shape: (64,)\n"
     ]
    }
   ],
   "source": [
    "print(f\"Embedding vector for item_id={item_id}\")\n",
    "print(item_embeddings[item_id])\n",
    "print(\"shape:\", item_embeddings[item_id].shape)"
   ]
  },
  {
   "cell_type": "markdown",
   "metadata": {
    "collapsed": false
   },
   "source": [
    "As we discussed in lecture, our embeddings are not directly interpretable - we can't look at, say, a value of 0.297 in the embedding vector and say \"this means that the movie is a drama\". As an aside, there is a field of research dedicated to making _interpretable_ embeddings, but it's not something we'll cover in this course. "
   ]
  },
  {
   "cell_type": "markdown",
   "metadata": {},
   "source": [
    "### Finding our most similar items\n",
    "\n",
    "Now we can have some fun, investigating the embeddings we've learned. We can start by finding the most similar items to a given item. We can do this by computing the cosine similarity between the item's embedding and the embedding of every other item. We can use the `cosine_similarity` function from `sklearn` to do this."
   ]
  },
  {
   "cell_type": "code",
   "execution_count": 102,
   "metadata": {
    "collapsed": false
   },
   "outputs": [],
   "source": [
    "from sklearn.metrics.pairwise import cosine_similarity\n",
    "\n",
    "def cosine(a, b):\n",
    "    # Reshape to the shape our function expects\n",
    "    a = a.reshape(1, -1)\n",
    "    b = b.reshape(1, -1)\n",
    "    return cosine_similarity(a, b)[0, 0]"
   ]
  },
  {
   "cell_type": "code",
   "execution_count": 103,
   "metadata": {},
   "outputs": [
    {
     "name": "stdout",
     "output_type": "stream",
     "text": [
      "Star Wars (1977)\n",
      "Return of the Jedi (1983)\n",
      "Cosine similarity: 0.935\n"
     ]
    }
   ],
   "source": [
    "def print_similarity(item_a, item_b, item_embeddings, titles):\n",
    "    print(titles[item_a])\n",
    "    print(titles[item_b])\n",
    "    similarity = cosine(item_embeddings[item_a],\n",
    "                        item_embeddings[item_b])\n",
    "    print(f\"Cosine similarity: {similarity:.3}\")\n",
    "    \n",
    "print_similarity(50, 181, item_embeddings, indexed_items[\"title\"])"
   ]
  },
  {
   "cell_type": "markdown",
   "metadata": {
    "collapsed": false
   },
   "source": [
    "It makes sense that the original Star Wars, and its later sequel Return of the Jedi have a high similarity. Let's try some other examples:"
   ]
  },
  {
   "cell_type": "code",
   "execution_count": 104,
   "metadata": {},
   "outputs": [
    {
     "name": "stdout",
     "output_type": "stream",
     "text": [
      "Return of the Jedi (1983)\n",
      "Scream (1996)\n",
      "Cosine similarity: 0.713\n"
     ]
    }
   ],
   "source": [
    "print_similarity(181, 288, item_embeddings, indexed_items[\"title\"])"
   ]
  },
  {
   "cell_type": "code",
   "execution_count": 105,
   "metadata": {},
   "outputs": [
    {
     "name": "stdout",
     "output_type": "stream",
     "text": [
      "Return of the Jedi (1983)\n",
      "Toy Story (1995)\n",
      "Cosine similarity: 0.836\n"
     ]
    }
   ],
   "source": [
    "print_similarity(181, 1, item_embeddings, indexed_items[\"title\"])"
   ]
  },
  {
   "cell_type": "code",
   "execution_count": 106,
   "metadata": {},
   "outputs": [
    {
     "name": "stdout",
     "output_type": "stream",
     "text": [
      "Return of the Jedi (1983)\n",
      "Return of the Jedi (1983)\n",
      "Cosine similarity: 1.0\n"
     ]
    }
   ],
   "source": [
    "print_similarity(181, 181, item_embeddings, indexed_items[\"title\"])"
   ]
  },
  {
   "cell_type": "markdown",
   "metadata": {
    "collapsed": false
   },
   "source": [
    "*Quick Exercise*:\n",
    "\n",
    "- Find some other films and compare their similarity. Do the results make sense to you? Can you find a pair of films that are very _dissimilar_?"
   ]
  },
  {
   "cell_type": "code",
   "execution_count": 107,
   "metadata": {
    "collapsed": false
   },
   "outputs": [
    {
     "data": {
      "application/vnd.microsoft.datawrangler.viewer.v0+json": {
       "columns": [
        {
         "name": "item_id",
         "rawType": "int64",
         "type": "integer"
        },
        {
         "name": "popularity",
         "rawType": "int64",
         "type": "integer"
        },
        {
         "name": "title",
         "rawType": "object",
         "type": "string"
        },
        {
         "name": "release_date",
         "rawType": "datetime64[ns]",
         "type": "datetime"
        },
        {
         "name": "video_release_date",
         "rawType": "float64",
         "type": "float"
        },
        {
         "name": "imdb_url",
         "rawType": "object",
         "type": "string"
        },
        {
         "name": "release_year",
         "rawType": "float64",
         "type": "float"
        }
       ],
       "conversionMethod": "pd.DataFrame",
       "ref": "208b9eca-c732-4ec3-8bdb-e4f4ca32a735",
       "rows": [
        [
         "1",
         "452",
         "Toy Story (1995)",
         "1995-01-01 00:00:00",
         null,
         "http://us.imdb.com/M/title-exact?Toy%20Story%20(1995)",
         "1995.0"
        ],
        [
         "19",
         "69",
         "Antonia's Line (1995)",
         "1995-01-01 00:00:00",
         null,
         "http://us.imdb.com/M/title-exact?Antonia%20(1995)",
         "1995.0"
        ],
        [
         "76",
         "54",
         "Carlito's Way (1993)",
         "1993-01-01 00:00:00",
         null,
         "http://us.imdb.com/M/title-exact?Carlito's%20Way%20(1993)",
         "1993.0"
        ],
        [
         "93",
         "112",
         "Welcome to the Dollhouse (1995)",
         "1996-05-24 00:00:00",
         null,
         "http://us.imdb.com/Title?Welcome+to+the+Dollhouse+(1995)",
         "1996.0"
        ],
        [
         "96",
         "295",
         "Terminator 2: Judgment Day (1991)",
         "1991-01-01 00:00:00",
         null,
         "http://us.imdb.com/M/title-exact?Terminator%202:%20Judgment%20Day%20(1991)",
         "1991.0"
        ],
        [
         "102",
         "54",
         "Aristocats, The (1970)",
         "1970-01-01 00:00:00",
         null,
         "http://us.imdb.com/M/title-exact?Aristocats,%20The%20(1970)",
         "1970.0"
        ],
        [
         "103",
         "15",
         "All Dogs Go to Heaven 2 (1996)",
         "1996-03-29 00:00:00",
         null,
         "http://us.imdb.com/M/title-exact?All%20Dogs%20Go%20to%20Heaven%202%20(1996)",
         "1996.0"
        ],
        [
         "113",
         "9",
         "Horseman on the Roof, The (Hussard sur le toit, Le) (1995)",
         "1996-04-19 00:00:00",
         null,
         "http://us.imdb.com/M/title-exact?Hussard%20sur%20le%20toit,%20Le%20(1995)",
         "1996.0"
        ],
        [
         "136",
         "105",
         "Mr. Smith Goes to Washington (1939)",
         "1939-01-01 00:00:00",
         null,
         "http://us.imdb.com/M/title-exact?Mr.%20Smith%20Goes%20to%20Washington%20(1939)",
         "1939.0"
        ],
        [
         "151",
         "326",
         "Willy Wonka and the Chocolate Factory (1971)",
         "1971-01-01 00:00:00",
         null,
         "http://us.imdb.com/M/title-exact?Willy%20Wonka%20and%20the%20Chocolate%20Factory%20(1971)",
         "1971.0"
        ],
        [
         "157",
         "127",
         "Platoon (1986)",
         "1986-01-01 00:00:00",
         null,
         "http://us.imdb.com/M/title-exact?Platoon%20(1986)",
         "1986.0"
        ],
        [
         "195",
         "301",
         "Terminator, The (1984)",
         "1984-01-01 00:00:00",
         null,
         "http://us.imdb.com/M/title-exact?Terminator,%20The%20(1984)",
         "1984.0"
        ],
        [
         "204",
         "350",
         "Back to the Future (1985)",
         "1985-01-01 00:00:00",
         null,
         "http://us.imdb.com/M/title-exact?Back%20to%20the%20Future%20(1985)",
         "1985.0"
        ],
        [
         "205",
         "136",
         "Patton (1970)",
         "1970-01-01 00:00:00",
         null,
         "http://us.imdb.com/M/title-exact?Patton%20(1970)",
         "1970.0"
        ],
        [
         "217",
         "120",
         "Bram Stoker's Dracula (1992)",
         "1992-01-01 00:00:00",
         null,
         "http://us.imdb.com/M/title-exact?Bram%20Stoker's%20Dracula%20(1992)",
         "1992.0"
        ],
        [
         "265",
         "227",
         "Hunt for Red October, The (1990)",
         "1990-01-01 00:00:00",
         null,
         "http://us.imdb.com/M/title-exact?Hunt+for+Red+October%2C+The+(1990)",
         "1990.0"
        ],
        [
         "277",
         "71",
         "Restoration (1995)",
         "1995-01-01 00:00:00",
         null,
         "http://us.imdb.com/M/title-exact?Restoration%20(1995)",
         "1995.0"
        ],
        [
         "282",
         "232",
         "Time to Kill, A (1996)",
         "1996-07-13 00:00:00",
         null,
         "http://us.imdb.com/M/title-exact?Time%20to%20Kill,%20A%20(1996)",
         "1996.0"
        ],
        [
         "305",
         "87",
         "Ice Storm, The (1997)",
         "1997-01-01 00:00:00",
         null,
         "http://us.imdb.com/M/title-exact?Ice+Storm%2C+The+(1997)",
         "1997.0"
        ],
        [
         "308",
         "30",
         "FairyTale: A True Story (1997)",
         "1997-01-01 00:00:00",
         null,
         "http://us.imdb.com/M/title-exact?Fairytale:+A+True+Story+(1997)",
         "1997.0"
        ],
        [
         "335",
         "21",
         "How to Be a Player (1997)",
         "1997-01-01 00:00:00",
         null,
         "http://us.imdb.com/M/title-exact?How+to+Be+a+Player+(1997)",
         "1997.0"
        ],
        [
         "361",
         "10",
         "Incognito (1997)",
         "1997-01-01 00:00:00",
         null,
         "http://us.imdb.com/M/title-exact?Incognito+(1997)",
         "1997.0"
        ],
        [
         "383",
         "31",
         "Flintstones, The (1994)",
         "1994-01-01 00:00:00",
         null,
         "http://us.imdb.com/M/title-exact?Flintstones,%20The%20(1994)",
         "1994.0"
        ],
        [
         "429",
         "97",
         "Day the Earth Stood Still, The (1951)",
         "1951-01-01 00:00:00",
         null,
         "http://us.imdb.com/M/title-exact?Day%20the%20Earth%20Stood%20Still,%20The%20(1951)",
         "1951.0"
        ],
        [
         "470",
         "108",
         "Tombstone (1993)",
         "1993-01-01 00:00:00",
         null,
         "http://us.imdb.com/M/title-exact?Tombstone%20(1993)",
         "1993.0"
        ],
        [
         "474",
         "194",
         "Dr. Strangelove or: How I Learned to Stop Worrying and Love the Bomb (1963)",
         "1963-01-01 00:00:00",
         null,
         "http://us.imdb.com/M/title-exact?Dr.%20Strangelove%20or:%20How%20I%20Learned%20to%20Stop%20Worrying%20and%20Love%20the%20Bomb%20(1963)",
         "1963.0"
        ],
        [
         "478",
         "104",
         "Philadelphia Story, The (1940)",
         "1940-01-01 00:00:00",
         null,
         "http://us.imdb.com/M/title-exact?Philadelphia%20Story,%20The%20(1940)",
         "1940.0"
        ],
        [
         "489",
         "52",
         "Notorious (1946)",
         "1946-01-01 00:00:00",
         null,
         "http://us.imdb.com/M/title-exact?Notorious%20(1946)",
         "1946.0"
        ],
        [
         "524",
         "46",
         "Great Dictator, The (1940)",
         "1940-01-01 00:00:00",
         null,
         "http://us.imdb.com/M/title-exact?Great%20Dictator,%20The%20(1940)",
         "1940.0"
        ],
        [
         "535",
         "54",
         "Addicted to Love (1997)",
         "1997-05-23 00:00:00",
         null,
         "http://us.imdb.com/M/title-exact?Addicted%20to%20Love%20%281997%29",
         "1997.0"
        ],
        [
         "544",
         "71",
         "Things to Do in Denver when You're Dead (1995)",
         "1996-02-02 00:00:00",
         null,
         "http://us.imdb.com/M/title-exact?Things%20to%20Do%20in%20Denver%20when%20You're%20Dead%20(1995)",
         "1996.0"
        ],
        [
         "548",
         "12",
         "NeverEnding Story III, The (1994)",
         "1996-02-02 00:00:00",
         null,
         "http://us.imdb.com/M/title-exact?NeverEnding%20Story%20III,%20The%20(1994)",
         "1996.0"
        ],
        [
         "557",
         "17",
         "Farinelli: il castrato (1994)",
         "1994-01-01 00:00:00",
         null,
         "http://us.imdb.com/M/title-exact?Farinelli:%20il%20castrato%20(1994)",
         "1994.0"
        ],
        [
         "599",
         "1",
         "Police Story 4: Project S (Chao ji ji hua) (1993)",
         "1996-08-16 00:00:00",
         null,
         "http://us.imdb.com/M/title-exact?Project%20S%20(1993)",
         "1996.0"
        ],
        [
         "625",
         "82",
         "Sword in the Stone, The (1963)",
         "1963-01-01 00:00:00",
         null,
         "http://us.imdb.com/M/title-exact?Sword%20in%20the%20Stone,%20The%20(1963)",
         "1963.0"
        ],
        [
         "626",
         "4",
         "So Dear to My Heart (1949)",
         "1949-01-01 00:00:00",
         null,
         "http://us.imdb.com/Title?So+Dear+to+My+Heart+(1949)",
         "1949.0"
        ],
        [
         "629",
         "77",
         "Victor/Victoria (1982)",
         "1982-01-01 00:00:00",
         null,
         "http://us.imdb.com/M/title-exact?Victor/Victoria%20%281982%29",
         "1982.0"
        ],
        [
         "638",
         "44",
         "Return of Martin Guerre, The (Retour de Martin Guerre, Le) (1982)",
         "1982-01-01 00:00:00",
         null,
         "http://us.imdb.com/M/title-exact?Retour%20de%20Martin%20Guerre,%20Le%20(1982)",
         "1982.0"
        ],
        [
         "654",
         "147",
         "Chinatown (1974)",
         "1974-01-01 00:00:00",
         null,
         "http://us.imdb.com/M/title-exact?Chinatown%20(1974)",
         "1974.0"
        ],
        [
         "660",
         "153",
         "Fried Green Tomatoes (1991)",
         "1991-01-01 00:00:00",
         null,
         "http://us.imdb.com/M/title-exact?Fried%20Green%20Tomatoes%20at%20the%20Whistle%20Stop%20Cafe%20(1991)",
         "1991.0"
        ],
        [
         "688",
         "44",
         "Leave It to Beaver (1997)",
         "1997-08-22 00:00:00",
         null,
         "http://us.imdb.com/M/title-exact?Leave+It+To+Beaver+(1997)",
         "1997.0"
        ],
        [
         "714",
         "13",
         "Carrington (1995)",
         "1995-01-01 00:00:00",
         null,
         "http://us.imdb.com/M/title-exact?Carrington%20(1995)",
         "1995.0"
        ],
        [
         "725",
         "16",
         "Exit to Eden (1994)",
         "1994-01-01 00:00:00",
         null,
         "http://us.imdb.com/M/title-exact?Exit%20to%20Eden%20(1994)",
         "1994.0"
        ],
        [
         "775",
         "26",
         "Something to Talk About (1995)",
         "1995-01-01 00:00:00",
         null,
         "http://us.imdb.com/M/title-exact?Something%20to%20Talk%20About%20(1995)",
         "1995.0"
        ],
        [
         "794",
         "46",
         "It Could Happen to You (1994)",
         "1994-01-01 00:00:00",
         null,
         "http://us.imdb.com/M/title-exact?It%20Could%20Happen%20to%20You%20(1994)",
         "1994.0"
        ],
        [
         "816",
         "21",
         "Candyman: Farewell to the Flesh (1995)",
         "1995-01-01 00:00:00",
         null,
         "http://us.imdb.com/M/title-exact?Candyman:%20Farewell%20to%20the%20Flesh%20(1995)",
         "1995.0"
        ],
        [
         "826",
         "80",
         "Phantom, The (1996)",
         "1996-06-07 00:00:00",
         null,
         "http://us.imdb.com/M/title-exact?Phantom,%20The%20(1996)",
         "1996.0"
        ],
        [
         "865",
         "21",
         "Ice Storm, The (1997)",
         "1997-01-01 00:00:00",
         null,
         "http://us.imdb.com/M/title-exact?Ice+Storm%2C+The+(1997)",
         "1997.0"
        ],
        [
         "882",
         "34",
         "Washington Square (1997)",
         "1997-01-01 00:00:00",
         null,
         "http://us.imdb.com/M/title-exact?Washington+Square+(1997)",
         "1997.0"
        ],
        [
         "885",
         "13",
         "Phantoms (1998)",
         "1998-01-01 00:00:00",
         null,
         "http://us.imdb.com/M/title-exact?Phantoms+(1998)",
         "1998.0"
        ]
       ],
       "shape": {
        "columns": 6,
        "rows": 96
       }
      },
      "text/html": [
       "<div>\n",
       "<style scoped>\n",
       "    .dataframe tbody tr th:only-of-type {\n",
       "        vertical-align: middle;\n",
       "    }\n",
       "\n",
       "    .dataframe tbody tr th {\n",
       "        vertical-align: top;\n",
       "    }\n",
       "\n",
       "    .dataframe thead th {\n",
       "        text-align: right;\n",
       "    }\n",
       "</style>\n",
       "<table border=\"1\" class=\"dataframe\">\n",
       "  <thead>\n",
       "    <tr style=\"text-align: right;\">\n",
       "      <th></th>\n",
       "      <th>popularity</th>\n",
       "      <th>title</th>\n",
       "      <th>release_date</th>\n",
       "      <th>video_release_date</th>\n",
       "      <th>imdb_url</th>\n",
       "      <th>release_year</th>\n",
       "    </tr>\n",
       "    <tr>\n",
       "      <th>item_id</th>\n",
       "      <th></th>\n",
       "      <th></th>\n",
       "      <th></th>\n",
       "      <th></th>\n",
       "      <th></th>\n",
       "      <th></th>\n",
       "    </tr>\n",
       "  </thead>\n",
       "  <tbody>\n",
       "    <tr>\n",
       "      <th>1</th>\n",
       "      <td>452</td>\n",
       "      <td>Toy Story (1995)</td>\n",
       "      <td>1995-01-01</td>\n",
       "      <td>NaN</td>\n",
       "      <td>http://us.imdb.com/M/title-exact?Toy%20Story%2...</td>\n",
       "      <td>1995.0</td>\n",
       "    </tr>\n",
       "    <tr>\n",
       "      <th>19</th>\n",
       "      <td>69</td>\n",
       "      <td>Antonia's Line (1995)</td>\n",
       "      <td>1995-01-01</td>\n",
       "      <td>NaN</td>\n",
       "      <td>http://us.imdb.com/M/title-exact?Antonia%20(1995)</td>\n",
       "      <td>1995.0</td>\n",
       "    </tr>\n",
       "    <tr>\n",
       "      <th>76</th>\n",
       "      <td>54</td>\n",
       "      <td>Carlito's Way (1993)</td>\n",
       "      <td>1993-01-01</td>\n",
       "      <td>NaN</td>\n",
       "      <td>http://us.imdb.com/M/title-exact?Carlito's%20W...</td>\n",
       "      <td>1993.0</td>\n",
       "    </tr>\n",
       "    <tr>\n",
       "      <th>93</th>\n",
       "      <td>112</td>\n",
       "      <td>Welcome to the Dollhouse (1995)</td>\n",
       "      <td>1996-05-24</td>\n",
       "      <td>NaN</td>\n",
       "      <td>http://us.imdb.com/Title?Welcome+to+the+Dollho...</td>\n",
       "      <td>1996.0</td>\n",
       "    </tr>\n",
       "    <tr>\n",
       "      <th>96</th>\n",
       "      <td>295</td>\n",
       "      <td>Terminator 2: Judgment Day (1991)</td>\n",
       "      <td>1991-01-01</td>\n",
       "      <td>NaN</td>\n",
       "      <td>http://us.imdb.com/M/title-exact?Terminator%20...</td>\n",
       "      <td>1991.0</td>\n",
       "    </tr>\n",
       "    <tr>\n",
       "      <th>...</th>\n",
       "      <td>...</td>\n",
       "      <td>...</td>\n",
       "      <td>...</td>\n",
       "      <td>...</td>\n",
       "      <td>...</td>\n",
       "      <td>...</td>\n",
       "    </tr>\n",
       "    <tr>\n",
       "      <th>1584</th>\n",
       "      <td>1</td>\n",
       "      <td>Symphonie pastorale, La (1946)</td>\n",
       "      <td>1946-01-01</td>\n",
       "      <td>NaN</td>\n",
       "      <td>http://us.imdb.com/M/title-exact?Symphonie%20p...</td>\n",
       "      <td>1946.0</td>\n",
       "    </tr>\n",
       "    <tr>\n",
       "      <th>1597</th>\n",
       "      <td>5</td>\n",
       "      <td>Romper Stomper (1992)</td>\n",
       "      <td>1992-01-01</td>\n",
       "      <td>NaN</td>\n",
       "      <td>http://us.imdb.com/M/title-exact?Romper%20Stom...</td>\n",
       "      <td>1992.0</td>\n",
       "    </tr>\n",
       "    <tr>\n",
       "      <th>1641</th>\n",
       "      <td>1</td>\n",
       "      <td>Dadetown (1995)</td>\n",
       "      <td>1996-09-18</td>\n",
       "      <td>NaN</td>\n",
       "      <td>http://us.imdb.com/M/title-exact?Dadetown%20(1...</td>\n",
       "      <td>1996.0</td>\n",
       "    </tr>\n",
       "    <tr>\n",
       "      <th>1653</th>\n",
       "      <td>1</td>\n",
       "      <td>Entertaining Angels: The Dorothy Day Story (1996)</td>\n",
       "      <td>1996-09-27</td>\n",
       "      <td>NaN</td>\n",
       "      <td>http://us.imdb.com/M/title-exact?Entertaining%...</td>\n",
       "      <td>1996.0</td>\n",
       "    </tr>\n",
       "    <tr>\n",
       "      <th>1682</th>\n",
       "      <td>1</td>\n",
       "      <td>Scream of Stone (Schrei aus Stein) (1991)</td>\n",
       "      <td>1996-03-08</td>\n",
       "      <td>NaN</td>\n",
       "      <td>http://us.imdb.com/M/title-exact?Schrei%20aus%...</td>\n",
       "      <td>1996.0</td>\n",
       "    </tr>\n",
       "  </tbody>\n",
       "</table>\n",
       "<p>96 rows × 6 columns</p>\n",
       "</div>"
      ],
      "text/plain": [
       "         popularity                                              title  \\\n",
       "item_id                                                                  \n",
       "1               452                                   Toy Story (1995)   \n",
       "19               69                              Antonia's Line (1995)   \n",
       "76               54                               Carlito's Way (1993)   \n",
       "93              112                    Welcome to the Dollhouse (1995)   \n",
       "96              295                  Terminator 2: Judgment Day (1991)   \n",
       "...             ...                                                ...   \n",
       "1584              1                     Symphonie pastorale, La (1946)   \n",
       "1597              5                              Romper Stomper (1992)   \n",
       "1641              1                                    Dadetown (1995)   \n",
       "1653              1  Entertaining Angels: The Dorothy Day Story (1996)   \n",
       "1682              1          Scream of Stone (Schrei aus Stein) (1991)   \n",
       "\n",
       "        release_date  video_release_date  \\\n",
       "item_id                                    \n",
       "1         1995-01-01                 NaN   \n",
       "19        1995-01-01                 NaN   \n",
       "76        1993-01-01                 NaN   \n",
       "93        1996-05-24                 NaN   \n",
       "96        1991-01-01                 NaN   \n",
       "...              ...                 ...   \n",
       "1584      1946-01-01                 NaN   \n",
       "1597      1992-01-01                 NaN   \n",
       "1641      1996-09-18                 NaN   \n",
       "1653      1996-09-27                 NaN   \n",
       "1682      1996-03-08                 NaN   \n",
       "\n",
       "                                                  imdb_url  release_year  \n",
       "item_id                                                                   \n",
       "1        http://us.imdb.com/M/title-exact?Toy%20Story%2...        1995.0  \n",
       "19       http://us.imdb.com/M/title-exact?Antonia%20(1995)        1995.0  \n",
       "76       http://us.imdb.com/M/title-exact?Carlito's%20W...        1993.0  \n",
       "93       http://us.imdb.com/Title?Welcome+to+the+Dollho...        1996.0  \n",
       "96       http://us.imdb.com/M/title-exact?Terminator%20...        1991.0  \n",
       "...                                                    ...           ...  \n",
       "1584     http://us.imdb.com/M/title-exact?Symphonie%20p...        1946.0  \n",
       "1597     http://us.imdb.com/M/title-exact?Romper%20Stom...        1992.0  \n",
       "1641     http://us.imdb.com/M/title-exact?Dadetown%20(1...        1996.0  \n",
       "1653     http://us.imdb.com/M/title-exact?Entertaining%...        1996.0  \n",
       "1682     http://us.imdb.com/M/title-exact?Schrei%20aus%...        1996.0  \n",
       "\n",
       "[96 rows x 6 columns]"
      ]
     },
     "execution_count": 107,
     "metadata": {},
     "output_type": "execute_result"
    }
   ],
   "source": [
    "# Code to help you search for a movie title\n",
    "partial_title = \"to\"\n",
    "indexed_items[indexed_items['title'].str.contains(partial_title)]\n",
    "\n",
    "#raise NotImplementedError(\"Please implement the next steps yourself\")"
   ]
  },
  {
   "cell_type": "code",
   "execution_count": 108,
   "metadata": {},
   "outputs": [
    {
     "name": "stdout",
     "output_type": "stream",
     "text": [
      "Seven (Se7en) (1995)\n",
      "Heat (1995)\n",
      "Cosine similarity: 0.801\n"
     ]
    }
   ],
   "source": [
    "print_similarity(11, 273, item_embeddings, indexed_items[\"title\"])"
   ]
  },
  {
   "cell_type": "code",
   "execution_count": 109,
   "metadata": {},
   "outputs": [
    {
     "name": "stdout",
     "output_type": "stream",
     "text": [
      "Heat (1995)\n",
      "Usual Suspects, The (1995)\n",
      "Cosine similarity: 0.82\n"
     ]
    }
   ],
   "source": [
    "print_similarity(273, 12, item_embeddings, indexed_items[\"title\"])"
   ]
  },
  {
   "cell_type": "code",
   "execution_count": 110,
   "metadata": {},
   "outputs": [
    {
     "name": "stdout",
     "output_type": "stream",
     "text": [
      "Heat (1995)\n",
      "Toy Story (1995)\n",
      "Cosine similarity: 0.805\n"
     ]
    }
   ],
   "source": [
    "print_similarity(273, 1, item_embeddings, indexed_items[\"title\"])"
   ]
  },
  {
   "cell_type": "markdown",
   "metadata": {
    "collapsed": false
   },
   "source": [
    "Sometimes, even without knowing anything about a user, we can recommend films by asking them about a film that they do like. The code below compares the similarity of a given film to all others, and returns the most similar films."
   ]
  },
  {
   "cell_type": "code",
   "execution_count": 111,
   "metadata": {},
   "outputs": [
    {
     "data": {
      "text/plain": [
       "[(50, 'Star Wars (1977)', 0.9999999),\n",
       " (172, 'Empire Strikes Back, The (1980)', 0.94482005),\n",
       " (181, 'Return of the Jedi (1983)', 0.9353498),\n",
       " (174, 'Raiders of the Lost Ark (1981)', 0.87904143),\n",
       " (214, 'Pink Floyd - The Wall (1982)', 0.86766213),\n",
       " (96, 'Terminator 2: Judgment Day (1991)', 0.8659844),\n",
       " (199, 'Bridge on the River Kwai, The (1957)', 0.863063),\n",
       " (250, 'Fifth Element, The (1997)', 0.8625273),\n",
       " (293, 'Donnie Brasco (1997)', 0.8535115),\n",
       " (95, 'Aladdin (1992)', 0.84817284)]"
      ]
     },
     "execution_count": 111,
     "metadata": {},
     "output_type": "execute_result"
    }
   ],
   "source": [
    "def most_similar(item_id, item_embeddings, titles,\n",
    "                 top_n=30):\n",
    "    # Compute the cosine similarity between the item and all other items\n",
    "    sims = cosine_similarity(item_embeddings[item_id].reshape(1, -1),\n",
    "                             item_embeddings).ravel()\n",
    "    \n",
    "    # [::-1] makes it possible to reverse the order of a numpy\n",
    "    # array, this is required because most similar items have\n",
    "    # a larger cosine similarity value\n",
    "    sorted_indexes = np.argsort(sims)[::-1]\n",
    "    idxs = sorted_indexes[0:top_n]\n",
    "    return list(zip(idxs, titles[idxs], sims[idxs]))\n",
    "\n",
    "# Find the most similar films to \"Star Wars\"\n",
    "most_similar(50, item_embeddings, indexed_items[\"title\"], top_n=10)"
   ]
  },
  {
   "cell_type": "code",
   "execution_count": 112,
   "metadata": {},
   "outputs": [
    {
     "data": {
      "text/plain": [
       "[(227, 'Star Trek VI: The Undiscovered Country (1991)', 0.99999994),\n",
       " (1681, 'You So Crazy (1994)', 0.9150342),\n",
       " (1515, 'Wings of Courage (1995)', 0.90595305),\n",
       " (230, 'Star Trek IV: The Voyage Home (1986)', 0.9002315),\n",
       " (228, 'Star Trek: The Wrath of Khan (1982)', 0.8950119),\n",
       " (646, 'Once Upon a Time in the West (1969)', 0.8849445),\n",
       " (1542, 'Scarlet Letter, The (1926)', 0.88170147),\n",
       " (183, 'Alien (1979)', 0.88022155),\n",
       " (1423, 'Walking Dead, The (1995)', 0.87722737),\n",
       " (429, 'Day the Earth Stood Still, The (1951)', 0.8759866)]"
      ]
     },
     "execution_count": 112,
     "metadata": {},
     "output_type": "execute_result"
    }
   ],
   "source": [
    "# Find the most similar films to \"Star Trek VI: The Undiscovered Country\"\n",
    "most_similar(227, item_embeddings, indexed_items[\"title\"], top_n=10)"
   ]
  },
  {
   "cell_type": "markdown",
   "metadata": {},
   "source": [
    "The similarities do not always make sense: the number of ratings is low and the embedding  does not automatically capture semantic relationships in that context. Better representations arise with higher number of ratings, and less overfitting  in models or maybe better loss function, such as those based on implicit feedback."
   ]
  },
  {
   "cell_type": "markdown",
   "metadata": {},
   "source": [
    "### Visualizing embeddings using TSNE\n",
    "\n",
    "The [t-SNE](https://en.wikipedia.org/wiki/T-distributed_stochastic_neighbor_embedding) algorithm enables us to visualize high dimensional vectors in a 2D space by preserving local neighborhoods. We can use it to get a 2D visualization of the item embeddings and see if similar items are close in the embedding space."
   ]
  },
  {
   "cell_type": "code",
   "execution_count": 113,
   "metadata": {},
   "outputs": [],
   "source": [
    "from sklearn.manifold import TSNE\n",
    "\n",
    "item_tsne = TSNE(learning_rate=\"auto\", init=\"pca\", perplexity=30).fit_transform(item_embeddings)"
   ]
  },
  {
   "cell_type": "code",
   "execution_count": 114,
   "metadata": {},
   "outputs": [
    {
     "data": {
      "image/png": "[encoded data removed]",
      "text/plain": [
       "<Figure size 1000x1000 with 1 Axes>"
      ]
     },
     "metadata": {},
     "output_type": "display_data"
    }
   ],
   "source": [
    "import matplotlib.pyplot as plt\n",
    "\n",
    "plt.figure(figsize=(10, 10))\n",
    "plt.scatter(item_tsne[:, 0], item_tsne[:, 1]);\n",
    "plt.xticks(()); plt.yticks(());\n",
    "plt.show()"
   ]
  },
  {
   "cell_type": "code",
   "execution_count": 115,
   "metadata": {
    "tags": []
   },
   "outputs": [
    {
     "data": {
      "application/vnd.plotly.v1+json": {
       "config": {
        "plotlyServerURL": "https://plot.ly"
       },
       "data": [
        {
         "customdata": [
          [
           1,
           "Toy Story (1995)",
           452
          ],
          [
           2,
           "GoldenEye (1995)",
           131
          ],
          [
           3,
           "Four Rooms (1995)",
           90
          ],
          [
           4,
           "Get Shorty (1995)",
           209
          ],
          [
           5,
           "Copycat (1995)",
           86
          ],
          [
           6,
           "Shanghai Triad (Yao a yao yao dao waipo qiao) (1995)",
           26
          ],
          [
           7,
           "Twelve Monkeys (1995)",
           392
          ],
          [
           8,
           "Babe (1995)",
           219
          ],
          [
           9,
           "Dead Man Walking (1995)",
           299
          ],
          [
           10,
           "Richard III (1995)",
           89
          ],
          [
           11,
           "Seven (Se7en) (1995)",
           236
          ],
          [
           12,
           "Usual Suspects, The (1995)",
           267
          ],
          [
           13,
           "Mighty Aphrodite (1995)",
           184
          ],
          [
           14,
           "Postino, Il (1994)",
           183
          ],
          [
           15,
           "Mr. Holland's Opus (1995)",
           293
          ],
          [
           16,
           "French Twist (Gazon maudit) (1995)",
           39
          ],
          [
           17,
           "From Dusk Till Dawn (1996)",
           92
          ],
          [
           18,
           "White Balloon, The (1995)",
           10
          ],
          [
           19,
           "Antonia's Line (1995)",
           69
          ],
          [
           20,
           "Angels and Insects (1995)",
           72
          ],
          [
           21,
           "Muppet Treasure Island (1996)",
           84
          ],
          [
           22,
           "Braveheart (1995)",
           297
          ],
          [
           23,
           "Taxi Driver (1976)",
           182
          ],
          [
           24,
           "Rumble in the Bronx (1995)",
           174
          ],
          [
           25,
           "Birdcage, The (1996)",
           293
          ],
          [
           26,
           "Brothers McMullen, The (1995)",
           73
          ],
          [
           27,
           "Bad Boys (1995)",
           57
          ],
          [
           28,
           "Apollo 13 (1995)",
           276
          ],
          [
           29,
           "Batman Forever (1995)",
           114
          ],
          [
           30,
           "Belle de jour (1967)",
           37
          ],
          [
           31,
           "Crimson Tide (1995)",
           154
          ],
          [
           32,
           "Crumb (1994)",
           81
          ],
          [
           33,
           "Desperado (1995)",
           97
          ],
          [
           34,
           "Doom Generation, The (1995)",
           7
          ],
          [
           35,
           "Free Willy 2: The Adventure Home (1995)",
           11
          ],
          [
           36,
           "Mad Love (1995)",
           13
          ],
          [
           37,
           "Nadja (1994)",
           8
          ],
          [
           38,
           "Net, The (1995)",
           120
          ],
          [
           39,
           "Strange Days (1995)",
           87
          ],
          [
           40,
           "To Wong Foo, Thanks for Everything! Julie Newmar (1995)",
           57
          ],
          [
           41,
           "Billy Madison (1995)",
           37
          ],
          [
           42,
           "Clerks (1994)",
           148
          ],
          [
           43,
           "Disclosure (1994)",
           40
          ],
          [
           44,
           "Dolores Claiborne (1994)",
           79
          ],
          [
           45,
           "Eat Drink Man Woman (1994)",
           80
          ],
          [
           46,
           "Exotica (1994)",
           27
          ],
          [
           47,
           "Ed Wood (1994)",
           133
          ],
          [
           48,
           "Hoop Dreams (1994)",
           117
          ],
          [
           49,
           "I.Q. (1994)",
           81
          ],
          [
           50,
           "Star Wars (1977)",
           583
          ],
          [
           51,
           "Legends of the Fall (1994)",
           81
          ],
          [
           52,
           "Madness of King George, The (1994)",
           91
          ],
          [
           53,
           "Natural Born Killers (1994)",
           128
          ],
          [
           54,
           "Outbreak (1995)",
           104
          ],
          [
           55,
           "Professional, The (1994)",
           149
          ],
          [
           56,
           "Pulp Fiction (1994)",
           394
          ],
          [
           57,
           "Priest (1994)",
           40
          ],
          [
           58,
           "Quiz Show (1994)",
           175
          ],
          [
           59,
           "Three Colors: Red (1994)",
           83
          ],
          [
           60,
           "Three Colors: Blue (1993)",
           64
          ],
          [
           61,
           "Three Colors: White (1994)",
           59
          ],
          [
           62,
           "Stargate (1994)",
           127
          ],
          [
           63,
           "Santa Clause, The (1994)",
           82
          ],
          [
           64,
           "Shawshank Redemption, The (1994)",
           283
          ],
          [
           65,
           "What's Eating Gilbert Grape (1993)",
           115
          ],
          [
           66,
           "While You Were Sleeping (1995)",
           162
          ],
          [
           67,
           "Ace Ventura: Pet Detective (1994)",
           103
          ],
          [
           68,
           "Crow, The (1994)",
           134
          ],
          [
           69,
           "Forrest Gump (1994)",
           321
          ],
          [
           70,
           "Four Weddings and a Funeral (1994)",
           251
          ],
          [
           71,
           "Lion King, The (1994)",
           220
          ],
          [
           72,
           "Mask, The (1994)",
           129
          ],
          [
           73,
           "Maverick (1994)",
           128
          ],
          [
           74,
           "Faster Pussycat! Kill! Kill! (1965)",
           7
          ],
          [
           75,
           "Brother Minister: The Assassination of Malcolm X (1994)",
           5
          ],
          [
           76,
           "Carlito's Way (1993)",
           54
          ],
          [
           77,
           "Firm, The (1993)",
           151
          ],
          [
           78,
           "Free Willy (1993)",
           33
          ],
          [
           79,
           "Fugitive, The (1993)",
           336
          ],
          [
           80,
           "Hot Shots! Part Deux (1993)",
           68
          ],
          [
           81,
           "Hudsucker Proxy, The (1994)",
           110
          ],
          [
           82,
           "Jurassic Park (1993)",
           261
          ],
          [
           83,
           "Much Ado About Nothing (1993)",
           176
          ],
          [
           84,
           "Robert A. Heinlein's The Puppet Masters (1994)",
           18
          ],
          [
           85,
           "Ref, The (1994)",
           58
          ],
          [
           86,
           "Remains of the Day, The (1993)",
           150
          ],
          [
           87,
           "Searching for Bobby Fischer (1993)",
           138
          ],
          [
           88,
           "Sleepless in Seattle (1993)",
           213
          ],
          [
           89,
           "Blade Runner (1982)",
           275
          ],
          [
           90,
           "So I Married an Axe Murderer (1993)",
           95
          ],
          [
           91,
           "Nightmare Before Christmas, The (1993)",
           143
          ],
          [
           92,
           "True Romance (1993)",
           104
          ],
          [
           93,
           "Welcome to the Dollhouse (1995)",
           112
          ],
          [
           94,
           "Home Alone (1990)",
           137
          ],
          [
           95,
           "Aladdin (1992)",
           219
          ],
          [
           96,
           "Terminator 2: Judgment Day (1991)",
           295
          ],
          [
           97,
           "Dances with Wolves (1990)",
           256
          ],
          [
           98,
           "Silence of the Lambs, The (1991)",
           390
          ],
          [
           99,
           "Snow White and the Seven Dwarfs (1937)",
           172
          ],
          [
           100,
           "Fargo (1996)",
           508
          ],
          [
           101,
           "Heavy Metal (1981)",
           73
          ],
          [
           102,
           "Aristocats, The (1970)",
           54
          ],
          [
           103,
           "All Dogs Go to Heaven 2 (1996)",
           15
          ],
          [
           104,
           "Theodore Rex (1995)",
           5
          ],
          [
           105,
           "Sgt. Bilko (1996)",
           74
          ],
          [
           106,
           "Diabolique (1996)",
           71
          ],
          [
           107,
           "Moll Flanders (1996)",
           42
          ],
          [
           108,
           "Kids in the Hall: Brain Candy (1996)",
           65
          ],
          [
           109,
           "Mystery Science Theater 3000: The Movie (1996)",
           130
          ],
          [
           110,
           "Operation Dumbo Drop (1995)",
           31
          ],
          [
           111,
           "Truth About Cats & Dogs, The (1996)",
           272
          ],
          [
           112,
           "Flipper (1996)",
           20
          ],
          [
           113,
           "Horseman on the Roof, The (Hussard sur le toit, Le) (1995)",
           9
          ],
          [
           114,
           "Wallace & Gromit: The Best of Aardman Animation (1996)",
           67
          ],
          [
           115,
           "Haunted World of Edward D. Wood Jr., The (1995)",
           15
          ],
          [
           116,
           "Cold Comfort Farm (1995)",
           125
          ],
          [
           117,
           "Rock, The (1996)",
           378
          ],
          [
           118,
           "Twister (1996)",
           293
          ],
          [
           119,
           "Maya Lin: A Strong Clear Vision (1994)",
           4
          ],
          [
           120,
           "Striptease (1996)",
           67
          ],
          [
           121,
           "Independence Day (ID4) (1996)",
           429
          ],
          [
           122,
           "Cable Guy, The (1996)",
           106
          ],
          [
           123,
           "Frighteners, The (1996)",
           115
          ],
          [
           124,
           "Lone Star (1996)",
           187
          ],
          [
           125,
           "Phenomenon (1996)",
           244
          ],
          [
           126,
           "Spitfire Grill, The (1996)",
           97
          ],
          [
           127,
           "Godfather, The (1972)",
           413
          ],
          [
           128,
           "Supercop (1992)",
           65
          ],
          [
           129,
           "Bound (1996)",
           129
          ],
          [
           130,
           "Kansas City (1996)",
           23
          ],
          [
           131,
           "Breakfast at Tiffany's (1961)",
           95
          ],
          [
           132,
           "Wizard of Oz, The (1939)",
           246
          ],
          [
           133,
           "Gone with the Wind (1939)",
           171
          ],
          [
           134,
           "Citizen Kane (1941)",
           198
          ],
          [
           135,
           "2001: A Space Odyssey (1968)",
           259
          ],
          [
           136,
           "Mr. Smith Goes to Washington (1939)",
           105
          ],
          [
           137,
           "Big Night (1996)",
           171
          ],
          [
           138,
           "D3: The Mighty Ducks (1996)",
           19
          ],
          [
           139,
           "Love Bug, The (1969)",
           50
          ],
          [
           140,
           "Homeward Bound: The Incredible Journey (1993)",
           61
          ],
          [
           141,
           "20,000 Leagues Under the Sea (1954)",
           72
          ],
          [
           142,
           "Bedknobs and Broomsticks (1971)",
           57
          ],
          [
           143,
           "Sound of Music, The (1965)",
           222
          ],
          [
           144,
           "Die Hard (1988)",
           243
          ],
          [
           145,
           "Lawnmower Man, The (1992)",
           65
          ],
          [
           146,
           "Unhook the Stars (1996)",
           10
          ],
          [
           147,
           "Long Kiss Goodnight, The (1996)",
           185
          ],
          [
           148,
           "Ghost and the Darkness, The (1996)",
           128
          ],
          [
           149,
           "Jude (1996)",
           23
          ],
          [
           150,
           "Swingers (1996)",
           157
          ],
          [
           151,
           "Willy Wonka and the Chocolate Factory (1971)",
           326
          ],
          [
           152,
           "Sleeper (1973)",
           82
          ],
          [
           153,
           "Fish Called Wanda, A (1988)",
           247
          ],
          [
           154,
           "Monty Python's Life of Brian (1979)",
           174
          ],
          [
           155,
           "Dirty Dancing (1987)",
           98
          ],
          [
           156,
           "Reservoir Dogs (1992)",
           148
          ],
          [
           157,
           "Platoon (1986)",
           127
          ],
          [
           158,
           "Weekend at Bernie's (1989)",
           60
          ],
          [
           159,
           "Basic Instinct (1992)",
           101
          ],
          [
           160,
           "Glengarry Glen Ross (1992)",
           69
          ],
          [
           161,
           "Top Gun (1986)",
           220
          ],
          [
           162,
           "On Golden Pond (1981)",
           106
          ],
          [
           163,
           "Return of the Pink Panther, The (1974)",
           92
          ],
          [
           164,
           "Abyss, The (1989)",
           151
          ],
          [
           165,
           "Jean de Florette (1986)",
           64
          ],
          [
           166,
           "Manon of the Spring (Manon des sources) (1986)",
           58
          ],
          [
           167,
           "Private Benjamin (1980)",
           67
          ],
          [
           168,
           "Monty Python and the Holy Grail (1974)",
           316
          ],
          [
           169,
           "Wrong Trousers, The (1993)",
           118
          ],
          [
           170,
           "Cinema Paradiso (1988)",
           121
          ],
          [
           171,
           "Delicatessen (1991)",
           65
          ],
          [
           172,
           "Empire Strikes Back, The (1980)",
           367
          ],
          [
           173,
           "Princess Bride, The (1987)",
           324
          ],
          [
           174,
           "Raiders of the Lost Ark (1981)",
           420
          ],
          [
           175,
           "Brazil (1985)",
           208
          ],
          [
           176,
           "Aliens (1986)",
           284
          ],
          [
           177,
           "Good, The Bad and The Ugly, The (1966)",
           137
          ],
          [
           178,
           "12 Angry Men (1957)",
           125
          ],
          [
           179,
           "Clockwork Orange, A (1971)",
           221
          ],
          [
           180,
           "Apocalypse Now (1979)",
           221
          ],
          [
           181,
           "Return of the Jedi (1983)",
           507
          ],
          [
           182,
           "GoodFellas (1990)",
           226
          ],
          [
           183,
           "Alien (1979)",
           291
          ],
          [
           184,
           "Army of Darkness (1993)",
           116
          ],
          [
           185,
           "Psycho (1960)",
           239
          ],
          [
           186,
           "Blues Brothers, The (1980)",
           251
          ],
          [
           187,
           "Godfather: Part II, The (1974)",
           209
          ],
          [
           188,
           "Full Metal Jacket (1987)",
           170
          ],
          [
           189,
           "Grand Day Out, A (1992)",
           66
          ],
          [
           190,
           "Henry V (1989)",
           124
          ],
          [
           191,
           "Amadeus (1984)",
           276
          ],
          [
           192,
           "Raging Bull (1980)",
           116
          ],
          [
           193,
           "Right Stuff, The (1983)",
           157
          ],
          [
           194,
           "Sting, The (1973)",
           241
          ],
          [
           195,
           "Terminator, The (1984)",
           301
          ],
          [
           196,
           "Dead Poets Society (1989)",
           251
          ],
          [
           197,
           "Graduate, The (1967)",
           239
          ],
          [
           198,
           "Nikita (La Femme Nikita) (1990)",
           127
          ],
          [
           199,
           "Bridge on the River Kwai, The (1957)",
           165
          ],
          [
           200,
           "Shining, The (1980)",
           206
          ],
          [
           201,
           "Evil Dead II (1987)",
           89
          ],
          [
           202,
           "Groundhog Day (1993)",
           280
          ],
          [
           203,
           "Unforgiven (1992)",
           182
          ],
          [
           204,
           "Back to the Future (1985)",
           350
          ],
          [
           205,
           "Patton (1970)",
           136
          ],
          [
           206,
           "Akira (1988)",
           50
          ],
          [
           207,
           "Cyrano de Bergerac (1990)",
           66
          ],
          [
           208,
           "Young Frankenstein (1974)",
           200
          ],
          [
           209,
           "This Is Spinal Tap (1984)",
           191
          ],
          [
           210,
           "Indiana Jones and the Last Crusade (1989)",
           331
          ],
          [
           211,
           "M*A*S*H (1970)",
           206
          ],
          [
           212,
           "Unbearable Lightness of Being, The (1988)",
           92
          ],
          [
           213,
           "Room with a View, A (1986)",
           134
          ],
          [
           214,
           "Pink Floyd - The Wall (1982)",
           114
          ],
          [
           215,
           "Field of Dreams (1989)",
           212
          ],
          [
           216,
           "When Harry Met Sally... (1989)",
           290
          ],
          [
           217,
           "Bram Stoker's Dracula (1992)",
           120
          ],
          [
           218,
           "Cape Fear (1991)",
           171
          ],
          [
           219,
           "Nightmare on Elm Street, A (1984)",
           111
          ],
          [
           220,
           "Mirror Has Two Faces, The (1996)",
           66
          ],
          [
           221,
           "Breaking the Waves (1996)",
           74
          ],
          [
           222,
           "Star Trek: First Contact (1996)",
           365
          ],
          [
           223,
           "Sling Blade (1996)",
           136
          ],
          [
           224,
           "Ridicule (1996)",
           44
          ],
          [
           225,
           "101 Dalmatians (1996)",
           109
          ],
          [
           226,
           "Die Hard 2 (1990)",
           166
          ],
          [
           227,
           "Star Trek VI: The Undiscovered Country (1991)",
           161
          ],
          [
           228,
           "Star Trek: The Wrath of Khan (1982)",
           244
          ],
          [
           229,
           "Star Trek III: The Search for Spock (1984)",
           171
          ],
          [
           230,
           "Star Trek IV: The Voyage Home (1986)",
           199
          ],
          [
           231,
           "Batman Returns (1992)",
           142
          ],
          [
           232,
           "Young Guns (1988)",
           101
          ],
          [
           233,
           "Under Siege (1992)",
           124
          ],
          [
           234,
           "Jaws (1975)",
           280
          ],
          [
           235,
           "Mars Attacks! (1996)",
           217
          ],
          [
           236,
           "Citizen Ruth (1996)",
           45
          ],
          [
           237,
           "Jerry Maguire (1996)",
           384
          ],
          [
           238,
           "Raising Arizona (1987)",
           256
          ],
          [
           239,
           "Sneakers (1992)",
           150
          ],
          [
           240,
           "Beavis and Butt-head Do America (1996)",
           156
          ],
          [
           241,
           "Last of the Mohicans, The (1992)",
           128
          ],
          [
           242,
           "Kolya (1996)",
           117
          ],
          [
           243,
           "Jungle2Jungle (1997)",
           132
          ],
          [
           244,
           "Smilla's Sense of Snow (1997)",
           48
          ],
          [
           245,
           "Devil's Own, The (1997)",
           240
          ],
          [
           246,
           "Chasing Amy (1997)",
           124
          ],
          [
           247,
           "Turbo: A Power Rangers Movie (1997)",
           5
          ],
          [
           248,
           "Grosse Pointe Blank (1997)",
           160
          ],
          [
           249,
           "Austin Powers: International Man of Mystery (1997)",
           130
          ],
          [
           250,
           "Fifth Element, The (1997)",
           197
          ],
          [
           251,
           "Shall We Dance? (1996)",
           46
          ],
          [
           252,
           "Lost World: Jurassic Park, The (1997)",
           158
          ],
          [
           253,
           "Pillow Book, The (1995)",
           26
          ],
          [
           254,
           "Batman & Robin (1997)",
           62
          ],
          [
           255,
           "My Best Friend's Wedding (1997)",
           172
          ],
          [
           256,
           "When the Cats Away (Chacun cherche son chat) (1996)",
           16
          ],
          [
           257,
           "Men in Black (1997)",
           303
          ],
          [
           258,
           "Contact (1997)",
           509
          ],
          [
           259,
           "George of the Jungle (1997)",
           162
          ],
          [
           260,
           "Event Horizon (1997)",
           127
          ],
          [
           261,
           "Air Bud (1997)",
           43
          ],
          [
           262,
           "In the Company of Men (1997)",
           66
          ],
          [
           263,
           "Steel (1997)",
           19
          ],
          [
           264,
           "Mimic (1997)",
           101
          ],
          [
           265,
           "Hunt for Red October, The (1990)",
           227
          ],
          [
           266,
           "Kull the Conqueror (1997)",
           35
          ],
          [
           267,
           "unknown",
           9
          ],
          [
           268,
           "Chasing Amy (1997)",
           255
          ],
          [
           269,
           "Full Monty, The (1997)",
           315
          ],
          [
           270,
           "Gattaca (1997)",
           136
          ],
          [
           271,
           "Starship Troopers (1997)",
           211
          ],
          [
           272,
           "Good Will Hunting (1997)",
           198
          ],
          [
           273,
           "Heat (1995)",
           223
          ],
          [
           274,
           "Sabrina (1995)",
           190
          ],
          [
           275,
           "Sense and Sensibility (1995)",
           268
          ],
          [
           276,
           "Leaving Las Vegas (1995)",
           298
          ],
          [
           277,
           "Restoration (1995)",
           71
          ],
          [
           278,
           "Bed of Roses (1996)",
           60
          ],
          [
           279,
           "Once Upon a Time... When We Were Colored (1995)",
           28
          ],
          [
           280,
           "Up Close and Personal (1996)",
           85
          ],
          [
           281,
           "River Wild, The (1994)",
           146
          ],
          [
           282,
           "Time to Kill, A (1996)",
           232
          ],
          [
           283,
           "Emma (1996)",
           177
          ],
          [
           284,
           "Tin Cup (1996)",
           193
          ],
          [
           285,
           "Secrets & Lies (1996)",
           162
          ],
          [
           286,
           "English Patient, The (1996)",
           481
          ],
          [
           287,
           "Marvin's Room (1996)",
           78
          ],
          [
           288,
           "Scream (1996)",
           478
          ],
          [
           289,
           "Evita (1996)",
           259
          ],
          [
           290,
           "Fierce Creatures (1997)",
           96
          ],
          [
           291,
           "Absolute Power (1997)",
           127
          ],
          [
           292,
           "Rosewood (1997)",
           114
          ],
          [
           293,
           "Donnie Brasco (1997)",
           147
          ],
          [
           294,
           "Liar Liar (1997)",
           485
          ],
          [
           295,
           "Breakdown (1997)",
           77
          ],
          [
           296,
           "Promesse, La (1996)",
           6
          ],
          [
           297,
           "Ulee's Gold (1997)",
           50
          ],
          [
           298,
           "Face/Off (1997)",
           194
          ],
          [
           299,
           "Hoodlum (1997)",
           73
          ],
          [
           300,
           "Air Force One (1997)",
           431
          ],
          [
           301,
           "In & Out (1997)",
           230
          ],
          [
           302,
           "L.A. Confidential (1997)",
           297
          ],
          [
           303,
           "Ulee's Gold (1997)",
           134
          ],
          [
           304,
           "Fly Away Home (1996)",
           149
          ],
          [
           305,
           "Ice Storm, The (1997)",
           87
          ],
          [
           306,
           "Mrs. Brown (Her Majesty, Mrs. Brown) (1997)",
           96
          ],
          [
           307,
           "Devil's Advocate, The (1997)",
           188
          ],
          [
           308,
           "FairyTale: A True Story (1997)",
           30
          ],
          [
           309,
           "Deceiver (1997)",
           28
          ],
          [
           310,
           "Rainmaker, The (1997)",
           145
          ],
          [
           311,
           "Wings of the Dove, The (1997)",
           75
          ],
          [
           312,
           "Midnight in the Garden of Good and Evil (1997)",
           80
          ],
          [
           313,
           "Titanic (1997)",
           350
          ],
          [
           314,
           "3 Ninjas: High Noon At Mega Mountain (1998)",
           5
          ],
          [
           315,
           "Apt Pupil (1998)",
           160
          ],
          [
           316,
           "As Good As It Gets (1997)",
           112
          ],
          [
           317,
           "In the Name of the Father (1993)",
           102
          ],
          [
           318,
           "Schindler's List (1993)",
           298
          ],
          [
           319,
           "Everyone Says I Love You (1996)",
           168
          ],
          [
           320,
           "Paradise Lost: The Child Murders at Robin Hood Hills (1996)",
           20
          ],
          [
           321,
           "Mother (1996)",
           169
          ],
          [
           322,
           "Murder at 1600 (1997)",
           218
          ],
          [
           323,
           "Dante's Peak (1997)",
           240
          ],
          [
           324,
           "Lost Highway (1997)",
           125
          ],
          [
           325,
           "Crash (1996)",
           128
          ],
          [
           326,
           "G.I. Jane (1997)",
           175
          ],
          [
           327,
           "Cop Land (1997)",
           175
          ],
          [
           328,
           "Conspiracy Theory (1997)",
           295
          ],
          [
           329,
           "Desperate Measures (1998)",
           45
          ],
          [
           330,
           "187 (1997)",
           41
          ],
          [
           331,
           "Edge, The (1997)",
           113
          ],
          [
           332,
           "Kiss the Girls (1997)",
           143
          ],
          [
           333,
           "Game, The (1997)",
           251
          ],
          [
           334,
           "U Turn (1997)",
           64
          ],
          [
           335,
           "How to Be a Player (1997)",
           21
          ],
          [
           336,
           "Playing God (1997)",
           43
          ],
          [
           337,
           "House of Yes, The (1997)",
           18
          ],
          [
           338,
           "Bean (1997)",
           91
          ],
          [
           339,
           "Mad City (1997)",
           47
          ],
          [
           340,
           "Boogie Nights (1997)",
           189
          ],
          [
           341,
           "Critical Care (1997)",
           11
          ],
          [
           342,
           "Man Who Knew Too Little, The (1997)",
           52
          ],
          [
           343,
           "Alien: Resurrection (1997)",
           124
          ],
          [
           344,
           "Apostle, The (1997)",
           55
          ],
          [
           345,
           "Deconstructing Harry (1997)",
           65
          ],
          [
           346,
           "Jackie Brown (1997)",
           126
          ],
          [
           347,
           "Wag the Dog (1997)",
           137
          ],
          [
           348,
           "Desperate Measures (1998)",
           27
          ],
          [
           349,
           "Hard Rain (1998)",
           31
          ],
          [
           350,
           "Fallen (1998)",
           41
          ],
          [
           351,
           "Prophecy II, The (1998)",
           20
          ],
          [
           352,
           "Spice World (1997)",
           26
          ],
          [
           353,
           "Deep Rising (1998)",
           14
          ],
          [
           354,
           "Wedding Singer, The (1998)",
           72
          ],
          [
           355,
           "Sphere (1998)",
           41
          ],
          [
           356,
           "Client, The (1994)",
           97
          ],
          [
           357,
           "One Flew Over the Cuckoo's Nest (1975)",
           264
          ],
          [
           358,
           "Spawn (1997)",
           143
          ],
          [
           359,
           "Assignment, The (1997)",
           18
          ],
          [
           360,
           "Wonderland (1997)",
           10
          ],
          [
           361,
           "Incognito (1997)",
           10
          ],
          [
           362,
           "Blues Brothers 2000 (1998)",
           28
          ],
          [
           363,
           "Sudden Death (1995)",
           47
          ],
          [
           364,
           "Ace Ventura: When Nature Calls (1995)",
           37
          ],
          [
           365,
           "Powder (1995)",
           48
          ],
          [
           366,
           "Dangerous Minds (1995)",
           47
          ],
          [
           367,
           "Clueless (1995)",
           170
          ],
          [
           368,
           "Bio-Dome (1996)",
           31
          ],
          [
           369,
           "Black Sheep (1996)",
           55
          ],
          [
           370,
           "Mary Reilly (1996)",
           39
          ],
          [
           371,
           "Bridges of Madison County, The (1995)",
           67
          ],
          [
           372,
           "Jeffrey (1995)",
           34
          ],
          [
           373,
           "Judge Dredd (1995)",
           39
          ],
          [
           374,
           "Mighty Morphin Power Rangers: The Movie (1995)",
           11
          ],
          [
           375,
           "Showgirls (1995)",
           23
          ],
          [
           376,
           "Houseguest (1994)",
           24
          ],
          [
           377,
           "Heavyweights (1994)",
           13
          ],
          [
           378,
           "Miracle on 34th Street (1994)",
           101
          ],
          [
           379,
           "Tales From the Crypt Presents: Demon Knight (1995)",
           43
          ],
          [
           380,
           "Star Trek: Generations (1994)",
           116
          ],
          [
           381,
           "Muriel's Wedding (1994)",
           100
          ],
          [
           382,
           "Adventures of Priscilla, Queen of the Desert, The (1994)",
           111
          ],
          [
           383,
           "Flintstones, The (1994)",
           31
          ],
          [
           384,
           "Naked Gun 33 1/3: The Final Insult (1994)",
           69
          ],
          [
           385,
           "True Lies (1994)",
           208
          ],
          [
           386,
           "Addams Family Values (1993)",
           87
          ],
          [
           387,
           "Age of Innocence, The (1993)",
           65
          ],
          [
           388,
           "Beverly Hills Cop III (1994)",
           28
          ],
          [
           389,
           "Black Beauty (1994)",
           27
          ],
          [
           390,
           "Fear of a Black Hat (1993)",
           10
          ],
          [
           391,
           "Last Action Hero (1993)",
           59
          ],
          [
           392,
           "Man Without a Face, The (1993)",
           68
          ],
          [
           393,
           "Mrs. Doubtfire (1993)",
           192
          ],
          [
           394,
           "Radioland Murders (1994)",
           12
          ],
          [
           395,
           "Robin Hood: Men in Tights (1993)",
           56
          ],
          [
           396,
           "Serial Mom (1994)",
           54
          ],
          [
           397,
           "Striking Distance (1993)",
           12
          ],
          [
           398,
           "Super Mario Bros. (1993)",
           26
          ],
          [
           399,
           "Three Musketeers, The (1993)",
           89
          ],
          [
           400,
           "Little Rascals, The (1994)",
           18
          ],
          [
           401,
           "Brady Bunch Movie, The (1995)",
           76
          ],
          [
           402,
           "Ghost (1990)",
           170
          ],
          [
           403,
           "Batman (1989)",
           201
          ],
          [
           404,
           "Pinocchio (1940)",
           101
          ],
          [
           405,
           "Mission: Impossible (1996)",
           344
          ],
          [
           406,
           "Thinner (1996)",
           49
          ],
          [
           407,
           "Spy Hard (1996)",
           43
          ],
          [
           408,
           "Close Shave, A (1995)",
           112
          ],
          [
           409,
           "Jack (1996)",
           70
          ],
          [
           410,
           "Kingpin (1996)",
           162
          ],
          [
           411,
           "Nutty Professor, The (1996)",
           163
          ],
          [
           412,
           "Very Brady Sequel, A (1996)",
           93
          ],
          [
           413,
           "Tales from the Crypt Presents: Bordello of Blood (1996)",
           55
          ],
          [
           414,
           "My Favorite Year (1982)",
           62
          ],
          [
           415,
           "Apple Dumpling Gang, The (1975)",
           25
          ],
          [
           416,
           "Old Yeller (1957)",
           64
          ],
          [
           417,
           "Parent Trap, The (1961)",
           73
          ],
          [
           418,
           "Cinderella (1950)",
           129
          ],
          [
           419,
           "Mary Poppins (1964)",
           178
          ],
          [
           420,
           "Alice in Wonderland (1951)",
           81
          ],
          [
           421,
           "William Shakespeare's Romeo and Juliet (1996)",
           106
          ],
          [
           422,
           "Aladdin and the King of Thieves (1996)",
           26
          ],
          [
           423,
           "E.T. the Extra-Terrestrial (1982)",
           300
          ],
          [
           424,
           "Children of the Corn: The Gathering (1996)",
           19
          ],
          [
           425,
           "Bob Roberts (1992)",
           85
          ],
          [
           426,
           "Transformers: The Movie, The (1986)",
           32
          ],
          [
           427,
           "To Kill a Mockingbird (1962)",
           219
          ],
          [
           428,
           "Harold and Maude (1971)",
           121
          ],
          [
           429,
           "Day the Earth Stood Still, The (1951)",
           97
          ],
          [
           430,
           "Duck Soup (1933)",
           93
          ],
          [
           431,
           "Highlander (1986)",
           153
          ],
          [
           432,
           "Fantasia (1940)",
           174
          ],
          [
           433,
           "Heathers (1989)",
           171
          ],
          [
           434,
           "Forbidden Planet (1956)",
           67
          ],
          [
           435,
           "Butch Cassidy and the Sundance Kid (1969)",
           216
          ],
          [
           436,
           "American Werewolf in London, An (1981)",
           99
          ],
          [
           437,
           "Amityville 1992: It's About Time (1992)",
           5
          ],
          [
           438,
           "Amityville 3-D (1983)",
           6
          ],
          [
           439,
           "Amityville: A New Generation (1993)",
           5
          ],
          [
           440,
           "Amityville II: The Possession (1982)",
           14
          ],
          [
           441,
           "Amityville Horror, The (1979)",
           53
          ],
          [
           442,
           "Amityville Curse, The (1990)",
           4
          ],
          [
           443,
           "Birds, The (1963)",
           162
          ],
          [
           444,
           "Blob, The (1958)",
           46
          ],
          [
           445,
           "Body Snatcher, The (1945)",
           22
          ],
          [
           446,
           "Burnt Offerings (1976)",
           9
          ],
          [
           447,
           "Carrie (1976)",
           121
          ],
          [
           448,
           "Omen, The (1976)",
           85
          ],
          [
           449,
           "Star Trek: The Motion Picture (1979)",
           117
          ],
          [
           450,
           "Star Trek V: The Final Frontier (1989)",
           63
          ],
          [
           451,
           "Grease (1978)",
           170
          ],
          [
           452,
           "Jaws 2 (1978)",
           66
          ],
          [
           453,
           "Jaws 3-D (1983)",
           16
          ],
          [
           454,
           "Bastard Out of Carolina (1996)",
           16
          ],
          [
           455,
           "Jackie Chan's First Strike (1996)",
           145
          ],
          [
           456,
           "Beverly Hills Ninja (1997)",
           48
          ],
          [
           457,
           "Free Willy 3: The Rescue (1997)",
           27
          ],
          [
           458,
           "Nixon (1995)",
           90
          ],
          [
           459,
           "Cry, the Beloved Country (1995)",
           24
          ],
          [
           460,
           "Crossing Guard, The (1995)",
           28
          ],
          [
           461,
           "Smoke (1995)",
           74
          ],
          [
           462,
           "Like Water For Chocolate (Como agua para chocolate) (1992)",
           148
          ],
          [
           463,
           "Secret of Roan Inish, The (1994)",
           71
          ],
          [
           464,
           "Vanya on 42nd Street (1994)",
           27
          ],
          [
           465,
           "Jungle Book, The (1994)",
           85
          ],
          [
           466,
           "Red Rock West (1992)",
           52
          ],
          [
           467,
           "Bronx Tale, A (1993)",
           48
          ],
          [
           468,
           "Rudy (1993)",
           64
          ],
          [
           469,
           "Short Cuts (1993)",
           67
          ],
          [
           470,
           "Tombstone (1993)",
           108
          ],
          [
           471,
           "Courage Under Fire (1996)",
           221
          ],
          [
           472,
           "Dragonheart (1996)",
           158
          ],
          [
           473,
           "James and the Giant Peach (1996)",
           126
          ],
          [
           474,
           "Dr. Strangelove or: How I Learned to Stop Worrying and Love the Bomb (1963)",
           194
          ],
          [
           475,
           "Trainspotting (1996)",
           250
          ],
          [
           476,
           "First Wives Club, The (1996)",
           160
          ],
          [
           477,
           "Matilda (1996)",
           95
          ],
          [
           478,
           "Philadelphia Story, The (1940)",
           104
          ],
          [
           479,
           "Vertigo (1958)",
           179
          ],
          [
           480,
           "North by Northwest (1959)",
           179
          ],
          [
           481,
           "Apartment, The (1960)",
           63
          ],
          [
           482,
           "Some Like It Hot (1959)",
           128
          ],
          [
           483,
           "Casablanca (1942)",
           243
          ],
          [
           484,
           "Maltese Falcon, The (1941)",
           138
          ],
          [
           485,
           "My Fair Lady (1964)",
           125
          ],
          [
           486,
           "Sabrina (1954)",
           64
          ],
          [
           487,
           "Roman Holiday (1953)",
           68
          ],
          [
           488,
           "Sunset Blvd. (1950)",
           65
          ],
          [
           489,
           "Notorious (1946)",
           52
          ],
          [
           490,
           "To Catch a Thief (1955)",
           50
          ],
          [
           491,
           "Adventures of Robin Hood, The (1938)",
           67
          ],
          [
           492,
           "East of Eden (1955)",
           59
          ],
          [
           493,
           "Thin Man, The (1934)",
           60
          ],
          [
           494,
           "His Girl Friday (1940)",
           56
          ],
          [
           495,
           "Around the World in 80 Days (1956)",
           59
          ],
          [
           496,
           "It's a Wonderful Life (1946)",
           231
          ],
          [
           497,
           "Bringing Up Baby (1938)",
           68
          ],
          [
           498,
           "African Queen, The (1951)",
           152
          ],
          [
           499,
           "Cat on a Hot Tin Roof (1958)",
           62
          ],
          [
           500,
           "Fly Away Home (1996)",
           31
          ],
          [
           501,
           "Dumbo (1941)",
           123
          ],
          [
           502,
           "Bananas (1971)",
           57
          ],
          [
           503,
           "Candidate, The (1972)",
           39
          ],
          [
           504,
           "Bonnie and Clyde (1967)",
           122
          ],
          [
           505,
           "Dial M for Murder (1954)",
           68
          ],
          [
           506,
           "Rebel Without a Cause (1955)",
           90
          ],
          [
           507,
           "Streetcar Named Desire, A (1951)",
           98
          ],
          [
           508,
           "People vs. Larry Flynt, The (1996)",
           215
          ],
          [
           509,
           "My Left Foot (1989)",
           121
          ],
          [
           510,
           "Magnificent Seven, The (1954)",
           121
          ],
          [
           511,
           "Lawrence of Arabia (1962)",
           173
          ],
          [
           512,
           "Wings of Desire (1987)",
           57
          ],
          [
           513,
           "Third Man, The (1949)",
           72
          ],
          [
           514,
           "Annie Hall (1977)",
           180
          ],
          [
           515,
           "Boot, Das (1981)",
           201
          ],
          [
           516,
           "Local Hero (1983)",
           63
          ],
          [
           517,
           "Manhattan (1979)",
           91
          ],
          [
           518,
           "Miller's Crossing (1990)",
           89
          ],
          [
           519,
           "Treasure of the Sierra Madre, The (1948)",
           80
          ],
          [
           520,
           "Great Escape, The (1963)",
           124
          ],
          [
           521,
           "Deer Hunter, The (1978)",
           120
          ],
          [
           522,
           "Down by Law (1986)",
           35
          ],
          [
           523,
           "Cool Hand Luke (1967)",
           164
          ],
          [
           524,
           "Great Dictator, The (1940)",
           46
          ],
          [
           525,
           "Big Sleep, The (1946)",
           73
          ],
          [
           526,
           "Ben-Hur (1959)",
           124
          ],
          [
           527,
           "Gandhi (1982)",
           195
          ],
          [
           528,
           "Killing Fields, The (1984)",
           121
          ],
          [
           529,
           "My Life as a Dog (Mitt liv som hund) (1985)",
           93
          ],
          [
           530,
           "Man Who Would Be King, The (1975)",
           80
          ],
          [
           531,
           "Shine (1996)",
           129
          ],
          [
           532,
           "Kama Sutra: A Tale of Love (1996)",
           22
          ],
          [
           533,
           "Daytrippers, The (1996)",
           15
          ],
          [
           534,
           "Traveller (1997)",
           13
          ],
          [
           535,
           "Addicted to Love (1997)",
           54
          ],
          [
           536,
           "Ponette (1996)",
           10
          ],
          [
           537,
           "My Own Private Idaho (1991)",
           30
          ],
          [
           538,
           "Anastasia (1997)",
           66
          ],
          [
           539,
           "Mouse Hunt (1997)",
           44
          ],
          [
           540,
           "Money Train (1995)",
           43
          ],
          [
           541,
           "Mortal Kombat (1995)",
           49
          ],
          [
           542,
           "Pocahontas (1995)",
           51
          ],
          [
           543,
           "Misérables, Les (1995)",
           21
          ],
          [
           544,
           "Things to Do in Denver when You're Dead (1995)",
           71
          ],
          [
           545,
           "Vampire in Brooklyn (1995)",
           12
          ],
          [
           546,
           "Broken Arrow (1996)",
           254
          ],
          [
           547,
           "Young Poisoner's Handbook, The (1995)",
           41
          ],
          [
           548,
           "NeverEnding Story III, The (1994)",
           12
          ],
          [
           549,
           "Rob Roy (1995)",
           92
          ],
          [
           550,
           "Die Hard: With a Vengeance (1995)",
           151
          ],
          [
           551,
           "Lord of Illusions (1995)",
           24
          ],
          [
           552,
           "Species (1995)",
           45
          ],
          [
           553,
           "Walk in the Clouds, A (1995)",
           63
          ],
          [
           554,
           "Waterworld (1995)",
           102
          ],
          [
           555,
           "White Man's Burden (1995)",
           10
          ],
          [
           556,
           "Wild Bill (1995)",
           12
          ],
          [
           557,
           "Farinelli: il castrato (1994)",
           17
          ],
          [
           558,
           "Heavenly Creatures (1994)",
           70
          ],
          [
           559,
           "Interview with the Vampire (1994)",
           137
          ],
          [
           560,
           "Kid in King Arthur's Court, A (1995)",
           22
          ],
          [
           561,
           "Mary Shelley's Frankenstein (1994)",
           59
          ],
          [
           562,
           "Quick and the Dead, The (1995)",
           48
          ],
          [
           563,
           "Stephen King's The Langoliers (1995)",
           29
          ],
          [
           564,
           "Tales from the Hood (1995)",
           27
          ],
          [
           565,
           "Village of the Damned (1995)",
           22
          ],
          [
           566,
           "Clear and Present Danger (1994)",
           179
          ],
          [
           567,
           "Wes Craven's New Nightmare (1994)",
           35
          ],
          [
           568,
           "Speed (1994)",
           230
          ],
          [
           569,
           "Wolf (1994)",
           67
          ],
          [
           570,
           "Wyatt Earp (1994)",
           50
          ],
          [
           571,
           "Another Stakeout (1993)",
           28
          ],
          [
           572,
           "Blown Away (1994)",
           29
          ],
          [
           573,
           "Body Snatchers (1993)",
           33
          ],
          [
           574,
           "Boxing Helena (1993)",
           15
          ],
          [
           575,
           "City Slickers II: The Legend of Curly's Gold (1994)",
           44
          ],
          [
           576,
           "Cliffhanger (1993)",
           93
          ],
          [
           577,
           "Coneheads (1993)",
           41
          ],
          [
           578,
           "Demolition Man (1993)",
           92
          ],
          [
           579,
           "Fatal Instinct (1993)",
           19
          ],
          [
           580,
           "Englishman Who Went Up a Hill, But Came Down a Mountain, The (1995)",
           32
          ],
          [
           581,
           "Kalifornia (1993)",
           59
          ],
          [
           582,
           "Piano, The (1993)",
           168
          ],
          [
           583,
           "Romeo Is Bleeding (1993)",
           37
          ],
          [
           584,
           "Secret Garden, The (1993)",
           79
          ],
          [
           585,
           "Son in Law (1993)",
           39
          ],
          [
           586,
           "Terminal Velocity (1994)",
           34
          ],
          [
           587,
           "Hour of the Pig, The (1993)",
           14
          ],
          [
           588,
           "Beauty and the Beast (1991)",
           202
          ],
          [
           589,
           "Wild Bunch, The (1969)",
           43
          ],
          [
           590,
           "Hellraiser: Bloodline (1996)",
           18
          ],
          [
           591,
           "Primal Fear (1996)",
           178
          ],
          [
           592,
           "True Crime (1995)",
           9
          ],
          [
           593,
           "Stalingrad (1993)",
           12
          ],
          [
           594,
           "Heavy (1995)",
           5
          ],
          [
           595,
           "Fan, The (1996)",
           64
          ],
          [
           596,
           "Hunchback of Notre Dame, The (1996)",
           127
          ],
          [
           597,
           "Eraser (1996)",
           206
          ],
          [
           598,
           "Big Squeeze, The (1996)",
           4
          ],
          [
           599,
           "Police Story 4: Project S (Chao ji ji hua) (1993)",
           1
          ],
          [
           600,
           "Daniel Defoe's Robinson Crusoe (1996)",
           2
          ],
          [
           601,
           "For Whom the Bell Tolls (1943)",
           20
          ],
          [
           602,
           "American in Paris, An (1951)",
           50
          ],
          [
           603,
           "Rear Window (1954)",
           209
          ],
          [
           604,
           "It Happened One Night (1934)",
           81
          ],
          [
           605,
           "Meet Me in St. Louis (1944)",
           31
          ],
          [
           606,
           "All About Eve (1950)",
           66
          ],
          [
           607,
           "Rebecca (1940)",
           66
          ],
          [
           608,
           "Spellbound (1945)",
           30
          ],
          [
           609,
           "Father of the Bride (1950)",
           60
          ],
          [
           610,
           "Gigi (1958)",
           41
          ],
          [
           611,
           "Laura (1944)",
           40
          ],
          [
           612,
           "Lost Horizon (1937)",
           34
          ],
          [
           613,
           "My Man Godfrey (1936)",
           27
          ],
          [
           614,
           "Giant (1956)",
           51
          ],
          [
           615,
           "39 Steps, The (1935)",
           59
          ],
          [
           616,
           "Night of the Living Dead (1968)",
           64
          ],
          [
           617,
           "Blue Angel, The (Blaue Engel, Der) (1930)",
           18
          ],
          [
           618,
           "Picnic (1955)",
           18
          ],
          [
           619,
           "Extreme Measures (1996)",
           64
          ],
          [
           620,
           "Chamber, The (1996)",
           43
          ],
          [
           621,
           "Davy Crockett, King of the Wild Frontier (1955)",
           11
          ],
          [
           622,
           "Swiss Family Robinson (1960)",
           39
          ],
          [
           623,
           "Angels in the Outfield (1994)",
           39
          ],
          [
           624,
           "Three Caballeros, The (1945)",
           22
          ],
          [
           625,
           "Sword in the Stone, The (1963)",
           82
          ],
          [
           626,
           "So Dear to My Heart (1949)",
           4
          ],
          [
           627,
           "Robin Hood: Prince of Thieves (1991)",
           75
          ],
          [
           628,
           "Sleepers (1996)",
           169
          ],
          [
           629,
           "Victor/Victoria (1982)",
           77
          ],
          [
           630,
           "Great Race, The (1965)",
           31
          ],
          [
           631,
           "Crying Game, The (1992)",
           119
          ],
          [
           632,
           "Sophie's Choice (1982)",
           58
          ],
          [
           633,
           "Christmas Carol, A (1938)",
           69
          ],
          [
           634,
           "Microcosmos: Le peuple de l'herbe (1996)",
           24
          ],
          [
           635,
           "Fog, The (1980)",
           23
          ],
          [
           636,
           "Escape from New York (1981)",
           91
          ],
          [
           637,
           "Howling, The (1981)",
           38
          ],
          [
           638,
           "Return of Martin Guerre, The (Retour de Martin Guerre, Le) (1982)",
           44
          ],
          [
           639,
           "Tin Drum, The (Blechtrommel, Die) (1979)",
           40
          ],
          [
           640,
           "Cook the Thief His Wife & Her Lover, The (1989)",
           82
          ],
          [
           641,
           "Paths of Glory (1957)",
           33
          ],
          [
           642,
           "Grifters, The (1990)",
           89
          ],
          [
           643,
           "The Innocent (1994)",
           4
          ],
          [
           644,
           "Thin Blue Line, The (1988)",
           35
          ],
          [
           645,
           "Paris Is Burning (1990)",
           27
          ],
          [
           646,
           "Once Upon a Time in the West (1969)",
           38
          ],
          [
           647,
           "Ran (1985)",
           70
          ],
          [
           648,
           "Quiet Man, The (1952)",
           67
          ],
          [
           649,
           "Once Upon a Time in America (1984)",
           50
          ],
          [
           650,
           "Seventh Seal, The (Sjunde inseglet, Det) (1957)",
           72
          ],
          [
           651,
           "Glory (1989)",
           171
          ],
          [
           652,
           "Rosencrantz and Guildenstern Are Dead (1990)",
           90
          ],
          [
           653,
           "Touch of Evil (1958)",
           34
          ],
          [
           654,
           "Chinatown (1974)",
           147
          ],
          [
           655,
           "Stand by Me (1986)",
           227
          ],
          [
           656,
           "M (1931)",
           44
          ],
          [
           657,
           "Manchurian Candidate, The (1962)",
           131
          ],
          [
           658,
           "Pump Up the Volume (1990)",
           79
          ],
          [
           659,
           "Arsenic and Old Lace (1944)",
           115
          ],
          [
           660,
           "Fried Green Tomatoes (1991)",
           153
          ],
          [
           661,
           "High Noon (1952)",
           88
          ],
          [
           662,
           "Somewhere in Time (1980)",
           82
          ],
          [
           663,
           "Being There (1979)",
           116
          ],
          [
           664,
           "Paris, Texas (1984)",
           46
          ],
          [
           665,
           "Alien 3 (1992)",
           100
          ],
          [
           666,
           "Blood For Dracula (Andy Warhol's Dracula) (1974)",
           5
          ],
          [
           667,
           "Audrey Rose (1977)",
           12
          ],
          [
           668,
           "Blood Beach (1981)",
           6
          ],
          [
           669,
           "Body Parts (1991)",
           13
          ],
          [
           670,
           "Body Snatchers (1993)",
           36
          ],
          [
           671,
           "Bride of Frankenstein (1935)",
           46
          ],
          [
           672,
           "Candyman (1992)",
           65
          ],
          [
           673,
           "Cape Fear (1962)",
           86
          ],
          [
           674,
           "Cat People (1982)",
           48
          ],
          [
           675,
           "Nosferatu (Nosferatu, eine Symphonie des Grauens) (1922)",
           54
          ],
          [
           676,
           "Crucible, The (1996)",
           77
          ],
          [
           677,
           "Fire on the Mountain (1996)",
           1
          ],
          [
           678,
           "Volcano (1997)",
           219
          ],
          [
           679,
           "Conan the Barbarian (1981)",
           107
          ],
          [
           680,
           "Kull the Conqueror (1997)",
           34
          ],
          [
           681,
           "Wishmaster (1997)",
           27
          ],
          [
           682,
           "I Know What You Did Last Summer (1997)",
           100
          ],
          [
           683,
           "Rocket Man (1997)",
           49
          ],
          [
           684,
           "In the Line of Fire (1993)",
           169
          ],
          [
           685,
           "Executive Decision (1996)",
           157
          ],
          [
           686,
           "Perfect World, A (1993)",
           50
          ],
          [
           687,
           "McHale's Navy (1997)",
           69
          ],
          [
           688,
           "Leave It to Beaver (1997)",
           44
          ],
          [
           689,
           "Jackal, The (1997)",
           87
          ],
          [
           690,
           "Seven Years in Tibet (1997)",
           155
          ],
          [
           691,
           "Dark City (1998)",
           16
          ],
          [
           692,
           "American President, The (1995)",
           164
          ],
          [
           693,
           "Casino (1995)",
           91
          ],
          [
           694,
           "Persuasion (1995)",
           44
          ],
          [
           695,
           "Kicking and Screaming (1995)",
           13
          ],
          [
           696,
           "City Hall (1996)",
           79
          ],
          [
           697,
           "Basketball Diaries, The (1995)",
           40
          ],
          [
           698,
           "Browning Version, The (1994)",
           10
          ],
          [
           699,
           "Little Women (1994)",
           102
          ],
          [
           700,
           "Miami Rhapsody (1995)",
           15
          ],
          [
           701,
           "Wonderful, Horrible Life of Leni Riefenstahl, The (1993)",
           10
          ],
          [
           702,
           "Barcelona (1994)",
           53
          ],
          [
           703,
           "Widows' Peak (1994)",
           19
          ],
          [
           704,
           "House of the Spirits, The (1993)",
           24
          ],
          [
           705,
           "Singin' in the Rain (1952)",
           137
          ],
          [
           706,
           "Bad Moon (1996)",
           6
          ],
          [
           707,
           "Enchanted April (1991)",
           70
          ],
          [
           708,
           "Sex, Lies, and Videotape (1989)",
           101
          ],
          [
           709,
           "Strictly Ballroom (1992)",
           104
          ],
          [
           710,
           "Better Off Dead... (1985)",
           79
          ],
          [
           711,
           "Substance of Fire, The (1996)",
           1
          ],
          [
           712,
           "Tin Men (1987)",
           51
          ],
          [
           713,
           "Othello (1995)",
           72
          ],
          [
           714,
           "Carrington (1995)",
           13
          ],
          [
           715,
           "To Die For (1995)",
           87
          ],
          [
           716,
           "Home for the Holidays (1995)",
           58
          ],
          [
           717,
           "Juror, The (1996)",
           82
          ],
          [
           718,
           "In the Bleak Midwinter (1995)",
           16
          ],
          [
           719,
           "Canadian Bacon (1994)",
           29
          ],
          [
           720,
           "First Knight (1995)",
           86
          ],
          [
           721,
           "Mallrats (1995)",
           54
          ],
          [
           722,
           "Nine Months (1995)",
           58
          ],
          [
           723,
           "Boys on the Side (1995)",
           34
          ],
          [
           724,
           "Circle of Friends (1995)",
           76
          ],
          [
           725,
           "Exit to Eden (1994)",
           16
          ],
          [
           726,
           "Fluke (1995)",
           14
          ],
          [
           727,
           "Immortal Beloved (1994)",
           63
          ],
          [
           728,
           "Junior (1994)",
           45
          ],
          [
           729,
           "Nell (1994)",
           81
          ],
          [
           730,
           "Queen Margot (Reine Margot, La) (1994)",
           24
          ],
          [
           731,
           "Corrina, Corrina (1994)",
           39
          ],
          [
           732,
           "Dave (1993)",
           180
          ],
          [
           733,
           "Go Fish (1994)",
           15
          ],
          [
           734,
           "Made in America (1993)",
           27
          ],
          [
           735,
           "Philadelphia (1993)",
           137
          ],
          [
           736,
           "Shadowlands (1993)",
           78
          ],
          [
           737,
           "Sirens (1994)",
           59
          ],
          [
           738,
           "Threesome (1994)",
           31
          ],
          [
           739,
           "Pretty Woman (1990)",
           164
          ],
          [
           740,
           "Jane Eyre (1996)",
           63
          ],
          [
           741,
           "Last Supper, The (1995)",
           58
          ],
          [
           742,
           "Ransom (1996)",
           267
          ],
          [
           743,
           "Crow: City of Angels, The (1996)",
           39
          ],
          [
           744,
           "Michael Collins (1996)",
           92
          ],
          [
           745,
           "Ruling Class, The (1972)",
           16
          ],
          [
           746,
           "Real Genius (1985)",
           119
          ],
          [
           747,
           "Benny & Joon (1993)",
           102
          ],
          [
           748,
           "Saint, The (1997)",
           316
          ],
          [
           749,
           "MatchMaker, The (1997)",
           51
          ],
          [
           750,
           "Amistad (1997)",
           124
          ],
          [
           751,
           "Tomorrow Never Dies (1997)",
           180
          ],
          [
           752,
           "Replacement Killers, The (1998)",
           39
          ],
          [
           753,
           "Burnt By the Sun (1994)",
           24
          ],
          [
           754,
           "Red Corner (1997)",
           57
          ],
          [
           755,
           "Jumanji (1995)",
           96
          ],
          [
           756,
           "Father of the Bride Part II (1995)",
           128
          ],
          [
           757,
           "Across the Sea of Time (1995)",
           4
          ],
          [
           758,
           "Lawnmower Man 2: Beyond Cyberspace (1996)",
           21
          ],
          [
           759,
           "Fair Game (1995)",
           11
          ],
          [
           760,
           "Screamers (1995)",
           46
          ],
          [
           761,
           "Nick of Time (1995)",
           44
          ],
          [
           762,
           "Beautiful Girls (1996)",
           115
          ],
          [
           763,
           "Happy Gilmore (1996)",
           149
          ],
          [
           764,
           "If Lucy Fell (1996)",
           29
          ],
          [
           765,
           "Boomerang (1992)",
           32
          ],
          [
           766,
           "Man of the Year (1995)",
           9
          ],
          [
           767,
           "Addiction, The (1995)",
           11
          ],
          [
           768,
           "Casper (1995)",
           52
          ],
          [
           769,
           "Congo (1995)",
           42
          ],
          [
           770,
           "Devil in a Blue Dress (1995)",
           57
          ],
          [
           771,
           "Johnny Mnemonic (1995)",
           41
          ],
          [
           772,
           "Kids (1995)",
           49
          ],
          [
           773,
           "Mute Witness (1994)",
           17
          ],
          [
           774,
           "Prophecy, The (1995)",
           32
          ],
          [
           775,
           "Something to Talk About (1995)",
           26
          ],
          [
           776,
           "Three Wishes (1995)",
           9
          ],
          [
           777,
           "Castle Freak (1995)",
           4
          ],
          [
           778,
           "Don Juan DeMarco (1995)",
           76
          ],
          [
           779,
           "Drop Zone (1994)",
           31
          ],
          [
           780,
           "Dumb & Dumber (1994)",
           69
          ],
          [
           781,
           "French Kiss (1995)",
           84
          ],
          [
           782,
           "Little Odessa (1994)",
           10
          ],
          [
           783,
           "Milk Money (1994)",
           37
          ],
          [
           784,
           "Beyond Bedlam (1993)",
           2
          ],
          [
           785,
           "Only You (1994)",
           39
          ],
          [
           786,
           "Perez Family, The (1995)",
           14
          ],
          [
           787,
           "Roommates (1995)",
           13
          ],
          [
           788,
           "Relative Fear (1994)",
           3
          ],
          [
           789,
           "Swimming with Sharks (1995)",
           47
          ],
          [
           790,
           "Tommy Boy (1995)",
           66
          ],
          [
           791,
           "Baby-Sitters Club, The (1995)",
           10
          ],
          [
           792,
           "Bullets Over Broadway (1994)",
           86
          ],
          [
           793,
           "Crooklyn (1994)",
           10
          ],
          [
           794,
           "It Could Happen to You (1994)",
           46
          ],
          [
           795,
           "Richie Rich (1994)",
           21
          ],
          [
           796,
           "Speechless (1994)",
           36
          ],
          [
           797,
           "Timecop (1994)",
           31
          ],
          [
           798,
           "Bad Company (1995)",
           9
          ],
          [
           799,
           "Boys Life (1995)",
           5
          ],
          [
           800,
           "In the Mouth of Madness (1995)",
           26
          ],
          [
           801,
           "Air Up There, The (1994)",
           16
          ],
          [
           802,
           "Hard Target (1993)",
           40
          ],
          [
           803,
           "Heaven & Earth (1993)",
           9
          ],
          [
           804,
           "Jimmy Hollywood (1994)",
           8
          ],
          [
           805,
           "Manhattan Murder Mystery (1993)",
           27
          ],
          [
           806,
           "Menace II Society (1993)",
           50
          ],
          [
           807,
           "Poetic Justice (1993)",
           9
          ],
          [
           808,
           "Program, The (1993)",
           31
          ],
          [
           809,
           "Rising Sun (1993)",
           43
          ],
          [
           810,
           "Shadow, The (1994)",
           45
          ],
          [
           811,
           "Thirty-Two Short Films About Glenn Gould (1993)",
           18
          ],
          [
           812,
           "Andre (1994)",
           18
          ],
          [
           813,
           "Celluloid Closet, The (1995)",
           56
          ],
          [
           814,
           "Great Day in Harlem, A (1994)",
           1
          ],
          [
           815,
           "One Fine Day (1996)",
           112
          ],
          [
           816,
           "Candyman: Farewell to the Flesh (1995)",
           21
          ],
          [
           817,
           "Frisk (1995)",
           3
          ],
          [
           818,
           "Girl 6 (1996)",
           25
          ],
          [
           819,
           "Eddie (1996)",
           40
          ],
          [
           820,
           "Space Jam (1996)",
           93
          ],
          [
           821,
           "Mrs. Winterbourne (1996)",
           22
          ],
          [
           822,
           "Faces (1968)",
           4
          ],
          [
           823,
           "Mulholland Falls (1996)",
           82
          ],
          [
           824,
           "Great White Hype, The (1996)",
           49
          ],
          [
           825,
           "Arrival, The (1996)",
           83
          ],
          [
           826,
           "Phantom, The (1996)",
           80
          ],
          [
           827,
           "Daylight (1996)",
           57
          ],
          [
           828,
           "Alaska (1996)",
           13
          ],
          [
           829,
           "Fled (1996)",
           34
          ],
          [
           830,
           "Power 98 (1995)",
           1
          ],
          [
           831,
           "Escape from L.A. (1996)",
           91
          ],
          [
           832,
           "Bogus (1996)",
           22
          ],
          [
           833,
           "Bulletproof (1996)",
           49
          ],
          [
           834,
           "Halloween: The Curse of Michael Myers (1995)",
           25
          ],
          [
           835,
           "Gay Divorcee, The (1934)",
           15
          ],
          [
           836,
           "Ninotchka (1939)",
           26
          ],
          [
           837,
           "Meet John Doe (1941)",
           25
          ],
          [
           838,
           "In the Line of Duty 2 (1987)",
           4
          ],
          [
           839,
           "Loch Ness (1995)",
           4
          ],
          [
           840,
           "Last Man Standing (1996)",
           53
          ],
          [
           841,
           "Glimmer Man, The (1996)",
           48
          ],
          [
           842,
           "Pollyanna (1960)",
           27
          ],
          [
           843,
           "Shaggy Dog, The (1959)",
           30
          ],
          [
           844,
           "Freeway (1996)",
           42
          ],
          [
           845,
           "That Thing You Do! (1996)",
           176
          ],
          [
           846,
           "To Gillian on Her 37th Birthday (1996)",
           44
          ],
          [
           847,
           "Looking for Richard (1996)",
           55
          ],
          [
           848,
           "Murder, My Sweet (1944)",
           9
          ],
          [
           849,
           "Days of Thunder (1990)",
           53
          ],
          [
           850,
           "Perfect Candidate, A (1996)",
           4
          ],
          [
           851,
           "Two or Three Things I Know About Her (1966)",
           4
          ],
          [
           852,
           "Bloody Child, The (1996)",
           1
          ],
          [
           853,
           "Braindead (1992)",
           14
          ],
          [
           854,
           "Bad Taste (1987)",
           16
          ],
          [
           855,
           "Diva (1981)",
           66
          ],
          [
           856,
           "Night on Earth (1991)",
           36
          ],
          [
           857,
           "Paris Was a Woman (1995)",
           1
          ],
          [
           858,
           "Amityville: Dollhouse (1996)",
           3
          ],
          [
           859,
           "April Fool's Day (1986)",
           15
          ],
          [
           860,
           "Believers, The (1987)",
           16
          ],
          [
           861,
           "Nosferatu a Venezia (1986)",
           3
          ],
          [
           862,
           "Jingle All the Way (1996)",
           18
          ],
          [
           863,
           "Garden of Finzi-Contini, The (Giardino dei Finzi-Contini, Il) (1970)",
           24
          ],
          [
           864,
           "My Fellow Americans (1996)",
           86
          ],
          [
           865,
           "Ice Storm, The (1997)",
           21
          ],
          [
           866,
           "Michael (1996)",
           119
          ],
          [
           867,
           "Whole Wide World, The (1996)",
           6
          ],
          [
           868,
           "Hearts and Minds (1996)",
           5
          ],
          [
           869,
           "Fools Rush In (1997)",
           24
          ],
          [
           870,
           "Touch (1997)",
           9
          ],
          [
           871,
           "Vegas Vacation (1997)",
           75
          ],
          [
           872,
           "Love Jones (1997)",
           42
          ],
          [
           873,
           "Picture Perfect (1997)",
           81
          ],
          [
           874,
           "Career Girls (1997)",
           39
          ],
          [
           875,
           "She's So Lovely (1997)",
           53
          ],
          [
           876,
           "Money Talks (1997)",
           47
          ],
          [
           877,
           "Excess Baggage (1997)",
           52
          ],
          [
           878,
           "That Darn Cat! (1997)",
           33
          ],
          [
           879,
           "Peacemaker, The (1997)",
           136
          ],
          [
           880,
           "Soul Food (1997)",
           59
          ],
          [
           881,
           "Money Talks (1997)",
           45
          ],
          [
           882,
           "Washington Square (1997)",
           34
          ],
          [
           883,
           "Telling Lies in America (1997)",
           13
          ],
          [
           884,
           "Year of the Horse (1997)",
           7
          ],
          [
           885,
           "Phantoms (1998)",
           13
          ],
          [
           886,
           "Life Less Ordinary, A (1997)",
           53
          ],
          [
           887,
           "Eve's Bayou (1997)",
           64
          ],
          [
           888,
           "One Night Stand (1997)",
           15
          ],
          [
           889,
           "Tango Lesson, The (1997)",
           13
          ],
          [
           890,
           "Mortal Kombat: Annihilation (1997)",
           43
          ],
          [
           891,
           "Bent (1997)",
           6
          ],
          [
           892,
           "Flubber (1997)",
           53
          ],
          [
           893,
           "For Richer or Poorer (1997)",
           14
          ],
          [
           894,
           "Home Alone 3 (1997)",
           19
          ],
          [
           895,
           "Scream 2 (1997)",
           106
          ],
          [
           896,
           "Sweet Hereafter, The (1997)",
           44
          ],
          [
           897,
           "Time Tracers (1995)",
           2
          ],
          [
           898,
           "Postman, The (1997)",
           58
          ],
          [
           899,
           "Winter Guest, The (1997)",
           9
          ],
          [
           900,
           "Kundun (1997)",
           42
          ],
          [
           901,
           "Mr. Magoo (1997)",
           12
          ],
          [
           902,
           "Big Lebowski, The (1998)",
           42
          ],
          [
           903,
           "Afterglow (1997)",
           18
          ],
          [
           904,
           "Ma vie en rose (My Life in Pink) (1997)",
           20
          ],
          [
           905,
           "Great Expectations (1998)",
           27
          ],
          [
           906,
           "Oscar & Lucinda (1997)",
           21
          ],
          [
           907,
           "Vermin (1998)",
           2
          ],
          [
           908,
           "Half Baked (1998)",
           20
          ],
          [
           909,
           "Dangerous Beauty (1998)",
           13
          ],
          [
           910,
           "Nil By Mouth (1997)",
           4
          ],
          [
           911,
           "Twilight (1998)",
           4
          ],
          [
           912,
           "U.S. Marshalls (1998)",
           9
          ],
          [
           913,
           "Love and Death on Long Island (1997)",
           2
          ],
          [
           914,
           "Wild Things (1998)",
           11
          ],
          [
           915,
           "Primary Colors (1998)",
           13
          ],
          [
           916,
           "Lost in Space (1998)",
           18
          ],
          [
           917,
           "Mercury Rising (1998)",
           7
          ],
          [
           918,
           "City of Angels (1998)",
           8
          ],
          [
           919,
           "City of Lost Children, The (1995)",
           96
          ],
          [
           920,
           "Two Bits (1995)",
           5
          ],
          [
           921,
           "Farewell My Concubine (1993)",
           46
          ],
          [
           922,
           "Dead Man (1995)",
           34
          ],
          [
           923,
           "Raise the Red Lantern (1991)",
           58
          ],
          [
           924,
           "White Squall (1996)",
           85
          ],
          [
           925,
           "Unforgettable (1996)",
           34
          ],
          [
           926,
           "Down Periscope (1996)",
           101
          ],
          [
           927,
           "Flower of My Secret, The (Flor de mi secreto, La) (1995)",
           6
          ],
          [
           928,
           "Craft, The (1996)",
           104
          ],
          [
           929,
           "Harriet the Spy (1996)",
           40
          ],
          [
           930,
           "Chain Reaction (1996)",
           80
          ],
          [
           931,
           "Island of Dr. Moreau, The (1996)",
           57
          ],
          [
           932,
           "First Kid (1996)",
           40
          ],
          [
           933,
           "Funeral, The (1996)",
           21
          ],
          [
           934,
           "Preacher's Wife, The (1996)",
           68
          ],
          [
           935,
           "Paradise Road (1997)",
           7
          ],
          [
           936,
           "Brassed Off (1996)",
           32
          ],
          [
           937,
           "Thousand Acres, A (1997)",
           37
          ],
          [
           938,
           "Smile Like Yours, A (1997)",
           25
          ],
          [
           939,
           "Murder in the First (1995)",
           60
          ],
          [
           940,
           "Airheads (1994)",
           32
          ],
          [
           941,
           "With Honors (1994)",
           46
          ],
          [
           942,
           "What's Love Got to Do with It (1993)",
           45
          ],
          [
           943,
           "Killing Zoe (1994)",
           40
          ],
          [
           944,
           "Renaissance Man (1994)",
           43
          ],
          [
           945,
           "Charade (1963)",
           40
          ],
          [
           946,
           "Fox and the Hound, The (1981)",
           61
          ],
          [
           947,
           "Big Blue, The (Grand bleu, Le) (1988)",
           17
          ],
          [
           948,
           "Booty Call (1997)",
           48
          ],
          [
           949,
           "How to Make an American Quilt (1995)",
           71
          ],
          [
           950,
           "Georgia (1995)",
           30
          ],
          [
           951,
           "Indian in the Cupboard, The (1995)",
           39
          ],
          [
           952,
           "Blue in the Face (1995)",
           45
          ],
          [
           953,
           "Unstrung Heroes (1995)",
           22
          ],
          [
           954,
           "Unzipped (1995)",
           11
          ],
          [
           955,
           "Before Sunrise (1995)",
           49
          ],
          [
           956,
           "Nobody's Fool (1994)",
           46
          ],
          [
           957,
           "Pushing Hands (1992)",
           2
          ],
          [
           958,
           "To Live (Huozhe) (1994)",
           14
          ],
          [
           959,
           "Dazed and Confused (1993)",
           64
          ],
          [
           960,
           "Naked (1993)",
           25
          ],
          [
           961,
           "Orlando (1993)",
           34
          ],
          [
           962,
           "Ruby in Paradise (1993)",
           23
          ],
          [
           963,
           "Some Folks Call It a Sling Blade (1993)",
           41
          ],
          [
           964,
           "Month by the Lake, A (1995)",
           9
          ],
          [
           965,
           "Funny Face (1957)",
           21
          ],
          [
           966,
           "Affair to Remember, An (1957)",
           26
          ],
          [
           967,
           "Little Lord Fauntleroy (1936)",
           12
          ],
          [
           968,
           "Inspector General, The (1949)",
           18
          ],
          [
           969,
           "Winnie the Pooh and the Blustery Day (1968)",
           75
          ],
          [
           970,
           "Hear My Song (1991)",
           8
          ],
          [
           971,
           "Mediterraneo (1991)",
           34
          ],
          [
           972,
           "Passion Fish (1992)",
           28
          ],
          [
           973,
           "Grateful Dead (1995)",
           4
          ],
          [
           974,
           "Eye for an Eye (1996)",
           32
          ],
          [
           975,
           "Fear (1996)",
           44
          ],
          [
           976,
           "Solo (1996)",
           12
          ],
          [
           977,
           "Substitute, The (1996)",
           49
          ],
          [
           978,
           "Heaven's Prisoners (1996)",
           27
          ],
          [
           979,
           "Trigger Effect, The (1996)",
           35
          ],
          [
           980,
           "Mother Night (1996)",
           22
          ],
          [
           981,
           "Dangerous Ground (1997)",
           8
          ],
          [
           982,
           "Maximum Risk (1996)",
           20
          ],
          [
           983,
           "Rich Man's Wife, The (1996)",
           15
          ],
          [
           984,
           "Shadow Conspiracy (1997)",
           44
          ],
          [
           985,
           "Blood & Wine (1997)",
           22
          ],
          [
           986,
           "Turbulence (1997)",
           23
          ],
          [
           987,
           "Underworld (1997)",
           4
          ],
          [
           988,
           "Beautician and the Beast, The (1997)",
           86
          ],
          [
           989,
           "Cats Don't Dance (1997)",
           32
          ],
          [
           990,
           "Anna Karenina (1997)",
           33
          ],
          [
           991,
           "Keys to Tulsa (1997)",
           25
          ],
          [
           992,
           "Head Above Water (1996)",
           4
          ],
          [
           993,
           "Hercules (1997)",
           66
          ],
          [
           994,
           "Last Time I Committed Suicide, The (1997)",
           7
          ],
          [
           995,
           "Kiss Me, Guido (1997)",
           31
          ],
          [
           996,
           "Big Green, The (1995)",
           14
          ],
          [
           997,
           "Stuart Saves His Family (1995)",
           16
          ],
          [
           998,
           "Cabin Boy (1994)",
           16
          ],
          [
           999,
           "Clean Slate (1994)",
           10
          ],
          [
           1000,
           "Lightning Jack (1994)",
           10
          ],
          [
           1001,
           "Stupids, The (1996)",
           17
          ],
          [
           1002,
           "Pest, The (1997)",
           8
          ],
          [
           1003,
           "That Darn Cat! (1997)",
           8
          ],
          [
           1004,
           "Geronimo: An American Legend (1993)",
           9
          ],
          [
           1005,
           "Double vie de Véronique, La (Double Life of Veronique, The) (1991)",
           22
          ],
          [
           1006,
           "Until the End of the World (Bis ans Ende der Welt) (1991)",
           23
          ],
          [
           1007,
           "Waiting for Guffman (1996)",
           47
          ],
          [
           1008,
           "I Shot Andy Warhol (1996)",
           37
          ],
          [
           1009,
           "Stealing Beauty (1996)",
           64
          ],
          [
           1010,
           "Basquiat (1996)",
           44
          ],
          [
           1011,
           "2 Days in the Valley (1996)",
           93
          ],
          [
           1012,
           "Private Parts (1997)",
           100
          ],
          [
           1013,
           "Anaconda (1997)",
           38
          ],
          [
           1014,
           "Romy and Michele's High School Reunion (1997)",
           98
          ],
          [
           1015,
           "Shiloh (1997)",
           12
          ],
          [
           1016,
           "Con Air (1997)",
           137
          ],
          [
           1017,
           "Trees Lounge (1996)",
           50
          ],
          [
           1018,
           "Tie Me Up! Tie Me Down! (1990)",
           32
          ],
          [
           1019,
           "Die xue shuang xiong (Killer, The) (1989)",
           31
          ],
          [
           1020,
           "Gaslight (1944)",
           35
          ],
          [
           1021,
           "8 1/2 (1963)",
           38
          ],
          [
           1022,
           "Fast, Cheap & Out of Control (1997)",
           32
          ],
          [
           1023,
           "Fathers' Day (1997)",
           31
          ],
          [
           1024,
           "Mrs. Dalloway (1997)",
           15
          ],
          [
           1025,
           "Fire Down Below (1997)",
           44
          ],
          [
           1026,
           "Lay of the Land, The (1997)",
           4
          ],
          [
           1027,
           "Shooter, The (1995)",
           3
          ],
          [
           1028,
           "Grumpier Old Men (1995)",
           148
          ],
          [
           1029,
           "Jury Duty (1995)",
           14
          ],
          [
           1030,
           "Beverly Hillbillies, The (1993)",
           20
          ],
          [
           1031,
           "Lassie (1994)",
           7
          ],
          [
           1032,
           "Little Big League (1994)",
           16
          ],
          [
           1033,
           "Homeward Bound II: Lost in San Francisco (1996)",
           32
          ],
          [
           1034,
           "Quest, The (1996)",
           27
          ],
          [
           1035,
           "Cool Runnings (1993)",
           68
          ],
          [
           1036,
           "Drop Dead Fred (1991)",
           24
          ],
          [
           1037,
           "Grease 2 (1982)",
           24
          ],
          [
           1038,
           "Switchback (1997)",
           17
          ],
          [
           1039,
           "Hamlet (1996)",
           90
          ],
          [
           1040,
           "Two if by Sea (1996)",
           25
          ],
          [
           1041,
           "Forget Paris (1995)",
           62
          ],
          [
           1042,
           "Just Cause (1995)",
           28
          ],
          [
           1043,
           "Rent-a-Kid (1995)",
           8
          ],
          [
           1044,
           "Paper, The (1994)",
           40
          ],
          [
           1045,
           "Fearless (1993)",
           25
          ],
          [
           1046,
           "Malice (1993)",
           46
          ],
          [
           1047,
           "Multiplicity (1996)",
           134
          ],
          [
           1048,
           "She's the One (1996)",
           73
          ],
          [
           1049,
           "House Arrest (1996)",
           25
          ],
          [
           1050,
           "Ghost and Mrs. Muir, The (1947)",
           43
          ],
          [
           1051,
           "Associate, The (1996)",
           41
          ],
          [
           1052,
           "Dracula: Dead and Loving It (1995)",
           25
          ],
          [
           1053,
           "Now and Then (1995)",
           24
          ],
          [
           1054,
           "Mr. Wrong (1996)",
           23
          ],
          [
           1055,
           "Simple Twist of Fate, A (1994)",
           10
          ],
          [
           1056,
           "Cronos (1992)",
           10
          ],
          [
           1057,
           "Pallbearer, The (1996)",
           22
          ],
          [
           1058,
           "War, The (1994)",
           15
          ],
          [
           1059,
           "Don't Be a Menace to South Central While Drinking Your Juice in the Hood (1996)",
           35
          ],
          [
           1060,
           "Adventures of Pinocchio, The (1996)",
           39
          ],
          [
           1061,
           "Evening Star, The (1996)",
           29
          ],
          [
           1062,
           "Four Days in September (1997)",
           12
          ],
          [
           1063,
           "Little Princess, A (1995)",
           41
          ],
          [
           1064,
           "Crossfire (1947)",
           4
          ],
          [
           1065,
           "Koyaanisqatsi (1983)",
           53
          ],
          [
           1066,
           "Balto (1995)",
           16
          ],
          [
           1067,
           "Bottle Rocket (1996)",
           44
          ],
          [
           1068,
           "Star Maker, The (Uomo delle stelle, L') (1995)",
           12
          ],
          [
           1069,
           "Amateur (1994)",
           18
          ],
          [
           1070,
           "Living in Oblivion (1995)",
           27
          ],
          [
           1071,
           "Party Girl (1995)",
           16
          ],
          [
           1072,
           "Pyromaniac's Love Story, A (1995)",
           7
          ],
          [
           1073,
           "Shallow Grave (1994)",
           66
          ],
          [
           1074,
           "Reality Bites (1994)",
           77
          ],
          [
           1075,
           "Man of No Importance, A (1994)",
           7
          ],
          [
           1076,
           "Pagemaster, The (1994)",
           12
          ],
          [
           1077,
           "Love and a .45 (1994)",
           8
          ],
          [
           1078,
           "Oliver & Company (1988)",
           22
          ],
          [
           1079,
           "Joe's Apartment (1996)",
           45
          ],
          [
           1080,
           "Celestial Clockwork (1994)",
           2
          ],
          [
           1081,
           "Curdled (1996)",
           8
          ],
          [
           1082,
           "Female Perversions (1996)",
           8
          ],
          [
           1083,
           "Albino Alligator (1996)",
           6
          ],
          [
           1084,
           "Anne Frank Remembered (1995)",
           21
          ],
          [
           1085,
           "Carried Away (1996)",
           11
          ],
          [
           1086,
           "It's My Party (1995)",
           21
          ],
          [
           1087,
           "Bloodsport 2 (1995)",
           10
          ],
          [
           1088,
           "Double Team (1997)",
           13
          ],
          [
           1089,
           "Speed 2: Cruise Control (1997)",
           38
          ],
          [
           1090,
           "Sliver (1993)",
           37
          ],
          [
           1091,
           "Pete's Dragon (1977)",
           43
          ],
          [
           1092,
           "Dear God (1996)",
           12
          ],
          [
           1093,
           "Live Nude Girls (1995)",
           23
          ],
          [
           1094,
           "Thin Line Between Love and Hate, A (1996)",
           12
          ],
          [
           1095,
           "High School High (1996)",
           29
          ],
          [
           1096,
           "Commandments (1997)",
           3
          ],
          [
           1097,
           "Hate (Haine, La) (1995)",
           18
          ],
          [
           1098,
           "Flirting With Disaster (1996)",
           42
          ],
          [
           1099,
           "Red Firecracker, Green Firecracker (1994)",
           13
          ],
          [
           1100,
           "What Happened Was... (1994)",
           8
          ],
          [
           1101,
           "Six Degrees of Separation (1993)",
           74
          ],
          [
           1102,
           "Two Much (1996)",
           7
          ],
          [
           1103,
           "Trust (1990)",
           19
          ],
          [
           1104,
           "C'est arrivé près de chez vous (1992)",
           4
          ],
          [
           1105,
           "Firestorm (1998)",
           18
          ],
          [
           1106,
           "Newton Boys, The (1998)",
           4
          ],
          [
           1107,
           "Beyond Rangoon (1995)",
           18
          ],
          [
           1108,
           "Feast of July (1995)",
           5
          ],
          [
           1109,
           "Death and the Maiden (1994)",
           28
          ],
          [
           1110,
           "Tank Girl (1995)",
           41
          ],
          [
           1111,
           "Double Happiness (1994)",
           7
          ],
          [
           1112,
           "Cobb (1994)",
           15
          ],
          [
           1113,
           "Mrs. Parker and the Vicious Circle (1994)",
           22
          ],
          [
           1114,
           "Faithful (1996)",
           10
          ],
          [
           1115,
           "Twelfth Night (1996)",
           29
          ],
          [
           1116,
           "Mark of Zorro, The (1940)",
           13
          ],
          [
           1117,
           "Surviving Picasso (1996)",
           19
          ],
          [
           1118,
           "Up in Smoke (1978)",
           47
          ],
          [
           1119,
           "Some Kind of Wonderful (1987)",
           59
          ],
          [
           1120,
           "I'm Not Rappaport (1996)",
           17
          ],
          [
           1121,
           "Umbrellas of Cherbourg, The (Parapluies de Cherbourg, Les) (1964)",
           21
          ],
          [
           1122,
           "They Made Me a Criminal (1939)",
           1
          ],
          [
           1123,
           "Last Time I Saw Paris, The (1954)",
           3
          ],
          [
           1124,
           "Farewell to Arms, A (1932)",
           12
          ],
          [
           1125,
           "Innocents, The (1961)",
           4
          ],
          [
           1126,
           "Old Man and the Sea, The (1958)",
           32
          ],
          [
           1127,
           "Truman Show, The (1998)",
           11
          ],
          [
           1128,
           "Heidi Fleiss: Hollywood Madam (1995) ",
           13
          ],
          [
           1129,
           "Chungking Express (1994)",
           28
          ],
          [
           1130,
           "Jupiter's Wife (1994)",
           1
          ],
          [
           1131,
           "Safe (1995)",
           13
          ],
          [
           1132,
           "Feeling Minnesota (1996)",
           32
          ],
          [
           1133,
           "Escape to Witch Mountain (1975)",
           30
          ],
          [
           1134,
           "Get on the Bus (1996)",
           38
          ],
          [
           1135,
           "Doors, The (1991)",
           46
          ],
          [
           1136,
           "Ghosts of Mississippi (1996)",
           29
          ],
          [
           1137,
           "Beautiful Thing (1996)",
           29
          ],
          [
           1138,
           "Best Men (1997)",
           5
          ],
          [
           1139,
           "Hackers (1995)",
           33
          ],
          [
           1140,
           "Road to Wellville, The (1994)",
           17
          ],
          [
           1141,
           "War Room, The (1993)",
           9
          ],
          [
           1142,
           "When We Were Kings (1996)",
           44
          ],
          [
           1143,
           "Hard Eight (1996)",
           15
          ],
          [
           1144,
           "Quiet Room, The (1996)",
           3
          ],
          [
           1145,
           "Blue Chips (1994)",
           9
          ],
          [
           1146,
           "Calendar Girl (1993)",
           3
          ],
          [
           1147,
           "My Family (1995)",
           21
          ],
          [
           1148,
           "Tom & Viv (1994)",
           9
          ],
          [
           1149,
           "Walkabout (1971)",
           26
          ],
          [
           1150,
           "Last Dance (1996)",
           9
          ],
          [
           1151,
           "Original Gangstas (1996)",
           7
          ],
          [
           1152,
           "In Love and War (1996)",
           28
          ],
          [
           1153,
           "Backbeat (1993)",
           19
          ],
          [
           1154,
           "Alphaville (1965)",
           12
          ],
          [
           1155,
           "Rendezvous in Paris (Rendez-vous de Paris, Les) (1995)",
           3
          ],
          [
           1156,
           "Cyclo (1995)",
           1
          ],
          [
           1157,
           "Relic, The (1997)",
           25
          ],
          [
           1158,
           "Fille seule, La (A Single Girl) (1995)",
           4
          ],
          [
           1159,
           "Stalker (1979)",
           11
          ],
          [
           1160,
           "Love! Valour! Compassion! (1997)",
           26
          ],
          [
           1161,
           "Palookaville (1996)",
           13
          ],
          [
           1162,
           "Phat Beach (1996)",
           5
          ],
          [
           1163,
           "Portrait of a Lady, The (1996)",
           25
          ],
          [
           1164,
           "Zeus and Roxanne (1997)",
           6
          ],
          [
           1165,
           "Big Bully (1996)",
           14
          ],
          [
           1166,
           "Love & Human Remains (1993)",
           12
          ],
          [
           1167,
           "Sum of Us, The (1994)",
           11
          ],
          [
           1168,
           "Little Buddha (1993)",
           22
          ],
          [
           1169,
           "Fresh (1994)",
           10
          ],
          [
           1170,
           "Spanking the Monkey (1994)",
           27
          ],
          [
           1171,
           "Wild Reeds (1994)",
           14
          ],
          [
           1172,
           "Women, The (1939)",
           15
          ],
          [
           1173,
           "Bliss (1997)",
           7
          ],
          [
           1174,
           "Caught (1996)",
           8
          ],
          [
           1175,
           "Hugo Pool (1997)",
           5
          ],
          [
           1176,
           "Welcome To Sarajevo (1997)",
           22
          ],
          [
           1177,
           "Dunston Checks In (1996)",
           7
          ],
          [
           1178,
           "Major Payne (1994)",
           19
          ],
          [
           1179,
           "Man of the House (1995)",
           9
          ],
          [
           1180,
           "I Love Trouble (1994)",
           10
          ],
          [
           1181,
           "Low Down Dirty Shame, A (1994)",
           10
          ],
          [
           1182,
           "Cops and Robbersons (1994)",
           13
          ],
          [
           1183,
           "Cowboy Way, The (1994)",
           19
          ],
          [
           1184,
           "Endless Summer 2, The (1994)",
           10
          ],
          [
           1185,
           "In the Army Now (1994)",
           18
          ],
          [
           1186,
           "Inkwell, The (1994)",
           3
          ],
          [
           1187,
           "Switchblade Sisters (1975)",
           13
          ],
          [
           1188,
           "Young Guns II (1990)",
           44
          ],
          [
           1189,
           "Prefontaine (1997)",
           3
          ],
          [
           1190,
           "That Old Feeling (1997)",
           11
          ],
          [
           1191,
           "Letter From Death Row, A (1998)",
           3
          ],
          [
           1192,
           "Boys of St. Vincent, The (1993)",
           13
          ],
          [
           1193,
           "Before the Rain (Pred dozhdot) (1994)",
           10
          ],
          [
           1194,
           "Once Were Warriors (1994)",
           31
          ],
          [
           1195,
           "Strawberry and Chocolate (Fresa y chocolate) (1993)",
           11
          ],
          [
           1196,
           "Savage Nights (Nuits fauves, Les) (1992)",
           3
          ],
          [
           1197,
           "Family Thing, A (1996)",
           45
          ],
          [
           1198,
           "Purple Noon (1960)",
           7
          ],
          [
           1199,
           "Cemetery Man (Dellamorte Dellamore) (1994)",
           23
          ],
          [
           1200,
           "Kim (1950)",
           7
          ],
          [
           1201,
           "Marlene Dietrich: Shadow and Light (1996) ",
           1
          ],
          [
           1202,
           "Maybe, Maybe Not (Bewegte Mann, Der) (1994)",
           8
          ],
          [
           1203,
           "Top Hat (1935)",
           21
          ],
          [
           1204,
           "To Be or Not to Be (1942)",
           18
          ],
          [
           1205,
           "Secret Agent, The (1996)",
           6
          ],
          [
           1206,
           "Amos & Andrew (1993)",
           19
          ],
          [
           1207,
           "Jade (1995)",
           17
          ],
          [
           1208,
           "Kiss of Death (1995)",
           20
          ],
          [
           1209,
           "Mixed Nuts (1994)",
           15
          ],
          [
           1210,
           "Virtuosity (1995)",
           38
          ],
          [
           1211,
           "Blue Sky (1994)",
           12
          ],
          [
           1212,
           "Flesh and Bone (1993)",
           6
          ],
          [
           1213,
           "Guilty as Sin (1993)",
           6
          ],
          [
           1214,
           "In the Realm of the Senses (Ai no corrida) (1976)",
           9
          ],
          [
           1215,
           "Barb Wire (1996)",
           30
          ],
          [
           1216,
           "Kissed (1996)",
           6
          ],
          [
           1217,
           "Assassins (1995)",
           39
          ],
          [
           1218,
           "Friday (1995)",
           26
          ],
          [
           1219,
           "Goofy Movie, A (1995)",
           20
          ],
          [
           1220,
           "Higher Learning (1995)",
           30
          ],
          [
           1221,
           "When a Man Loves a Woman (1994)",
           39
          ],
          [
           1222,
           "Judgment Night (1993)",
           25
          ],
          [
           1223,
           "King of the Hill (1993)",
           4
          ],
          [
           1224,
           "Scout, The (1994)",
           12
          ],
          [
           1225,
           "Angus (1995)",
           14
          ],
          [
           1226,
           "Night Falls on Manhattan (1997)",
           32
          ],
          [
           1227,
           "Awfully Big Adventure, An (1995)",
           8
          ],
          [
           1228,
           "Under Siege 2: Dark Territory (1995)",
           48
          ],
          [
           1229,
           "Poison Ivy II (1995)",
           13
          ],
          [
           1230,
           "Ready to Wear (Pret-A-Porter) (1994)",
           18
          ],
          [
           1231,
           "Marked for Death (1990)",
           22
          ],
          [
           1232,
           "Madonna: Truth or Dare (1991)",
           17
          ],
          [
           1233,
           "Nénette et Boni (1996)",
           6
          ],
          [
           1234,
           "Chairman of the Board (1998)",
           8
          ],
          [
           1235,
           "Big Bang Theory, The (1994)",
           1
          ],
          [
           1236,
           "Other Voices, Other Rooms (1997)",
           1
          ],
          [
           1237,
           "Twisted (1996)",
           6
          ],
          [
           1238,
           "Full Speed (1996)",
           8
          ],
          [
           1239,
           "Cutthroat Island (1995)",
           18
          ],
          [
           1240,
           "Ghost in the Shell (Kokaku kidotai) (1995)",
           26
          ],
          [
           1241,
           "Van, The (1996)",
           6
          ],
          [
           1242,
           "Old Lady Who Walked in the Sea, The (Vieille qui marchait dans la mer, La) (1991)",
           5
          ],
          [
           1243,
           "Night Flier (1997)",
           7
          ],
          [
           1244,
           "Metro (1997)",
           36
          ],
          [
           1245,
           "Gridlock'd (1997)",
           19
          ],
          [
           1246,
           "Bushwhacked (1995)",
           7
          ],
          [
           1247,
           "Bad Girls (1994)",
           6
          ],
          [
           1248,
           "Blink (1994)",
           19
          ],
          [
           1249,
           "For Love or Money (1993)",
           12
          ],
          [
           1250,
           "Best of the Best 3: No Turning Back (1995)",
           6
          ],
          [
           1251,
           "A Chef in Love (1996)",
           8
          ],
          [
           1252,
           "Contempt (Mépris, Le) (1963)",
           9
          ],
          [
           1253,
           "Tie That Binds, The (1995)",
           7
          ],
          [
           1254,
           "Gone Fishin' (1997)",
           11
          ],
          [
           1255,
           "Broken English (1996)",
           8
          ],
          [
           1256,
           "Designated Mourner, The (1997)",
           3
          ],
          [
           1257,
           "Designated Mourner, The (1997)",
           4
          ],
          [
           1258,
           "Trial and Error (1997)",
           23
          ],
          [
           1259,
           "Pie in the Sky (1995)",
           4
          ],
          [
           1260,
           "Total Eclipse (1995)",
           4
          ],
          [
           1261,
           "Run of the Country, The (1995)",
           4
          ],
          [
           1262,
           "Walking and Talking (1996)",
           8
          ],
          [
           1263,
           "Foxfire (1996)",
           15
          ],
          [
           1264,
           "Nothing to Lose (1994)",
           7
          ],
          [
           1265,
           "Star Maps (1997)",
           19
          ],
          [
           1266,
           "Bread and Chocolate (Pane e cioccolata) (1973)",
           12
          ],
          [
           1267,
           "Clockers (1995)",
           33
          ],
          [
           1268,
           "Bitter Moon (1992)",
           10
          ],
          [
           1269,
           "Love in the Afternoon (1957)",
           10
          ],
          [
           1270,
           "Life with Mikey (1993)",
           7
          ],
          [
           1271,
           "North (1994)",
           7
          ],
          [
           1272,
           "Talking About Sex (1994)",
           5
          ],
          [
           1273,
           "Color of Night (1994)",
           15
          ],
          [
           1274,
           "Robocop 3 (1993)",
           11
          ],
          [
           1275,
           "Killer (Bulletproof Heart) (1994)",
           4
          ],
          [
           1276,
           "Sunset Park (1996)",
           8
          ],
          [
           1277,
           "Set It Off (1996)",
           19
          ],
          [
           1278,
           "Selena (1997)",
           16
          ],
          [
           1279,
           "Wild America (1997)",
           9
          ],
          [
           1280,
           "Gang Related (1997)",
           16
          ],
          [
           1281,
           "Manny & Lo (1996)",
           13
          ],
          [
           1282,
           "Grass Harp, The (1995)",
           9
          ],
          [
           1283,
           "Out to Sea (1997)",
           19
          ],
          [
           1284,
           "Before and After (1996)",
           26
          ],
          [
           1285,
           "Princess Caraboo (1994)",
           15
          ],
          [
           1286,
           "Shall We Dance? (1937)",
           17
          ],
          [
           1287,
           "Ed (1996)",
           6
          ],
          [
           1288,
           "Denise Calls Up (1995)",
           7
          ],
          [
           1289,
           "Jack and Sarah (1995)",
           7
          ],
          [
           1290,
           "Country Life (1994)",
           2
          ],
          [
           1291,
           "Celtic Pride (1996)",
           15
          ],
          [
           1292,
           "Simple Wish, A (1997)",
           3
          ],
          [
           1293,
           "Star Kid (1997)",
           3
          ],
          [
           1294,
           "Ayn Rand: A Sense of Life (1997)",
           7
          ],
          [
           1295,
           "Kicked in the Head (1997)",
           7
          ],
          [
           1296,
           "Indian Summer (1996)",
           20
          ],
          [
           1297,
           "Love Affair (1994)",
           12
          ],
          [
           1298,
           "Band Wagon, The (1953)",
           9
          ],
          [
           1299,
           "Penny Serenade (1941)",
           8
          ],
          [
           1300,
           "'Til There Was You (1997)",
           9
          ],
          [
           1301,
           "Stripes (1981)",
           5
          ],
          [
           1302,
           "Late Bloomers (1996)",
           5
          ],
          [
           1303,
           "Getaway, The (1994)",
           18
          ],
          [
           1304,
           "New York Cop (1996)",
           2
          ],
          [
           1305,
           "National Lampoon's Senior Trip (1995)",
           7
          ],
          [
           1306,
           "Delta of Venus (1994)",
           2
          ],
          [
           1307,
           "Carmen Miranda: Bananas Is My Business (1994)",
           2
          ],
          [
           1308,
           "Babyfever (1994)",
           2
          ],
          [
           1309,
           "Very Natural Thing, A (1974)",
           1
          ],
          [
           1310,
           "Walk in the Sun, A (1945)",
           1
          ],
          [
           1311,
           "Waiting to Exhale (1995)",
           16
          ],
          [
           1312,
           "Pompatus of Love, The (1996)",
           7
          ],
          [
           1313,
           "Palmetto (1998)",
           14
          ],
          [
           1314,
           "Surviving the Game (1994)",
           11
          ],
          [
           1315,
           "Inventing the Abbotts (1997)",
           23
          ],
          [
           1316,
           "Horse Whisperer, The (1998)",
           7
          ],
          [
           1317,
           "Journey of August King, The (1995)",
           4
          ],
          [
           1318,
           "Catwalk (1995)",
           3
          ],
          [
           1319,
           "Neon Bible, The (1995)",
           4
          ],
          [
           1320,
           "Homage (1995)",
           1
          ],
          [
           1321,
           "Open Season (1996)",
           2
          ],
          [
           1322,
           "Metisse (Café au Lait) (1993)",
           6
          ],
          [
           1323,
           "Wooden Man's Bride, The (Wu Kui) (1994)",
           3
          ],
          [
           1324,
           "Loaded (1994)",
           5
          ],
          [
           1325,
           "August (1996)",
           1
          ],
          [
           1326,
           "Boys (1996)",
           6
          ],
          [
           1327,
           "Captives (1994)",
           3
          ],
          [
           1328,
           "Of Love and Shadows (1994)",
           6
          ],
          [
           1329,
           "Low Life, The (1994)",
           1
          ],
          [
           1330,
           "An Unforgettable Summer (1994)",
           4
          ],
          [
           1331,
           "Last Klezmer: Leopold Kozlowski, His Life and Music, The (1995)",
           4
          ],
          [
           1332,
           "My Life and Times With Antonin Artaud (En compagnie d'Antonin Artaud) (1993)",
           2
          ],
          [
           1333,
           "Midnight Dancers (Sibak) (1994)",
           5
          ],
          [
           1334,
           "Somebody to Love (1994)",
           2
          ],
          [
           1335,
           "American Buffalo (1996)",
           11
          ],
          [
           1336,
           "Kazaam (1996)",
           10
          ],
          [
           1337,
           "Larger Than Life (1996)",
           9
          ],
          [
           1338,
           "Two Deaths (1995)",
           4
          ],
          [
           1339,
           "Stefano Quantestorie (1993)",
           1
          ],
          [
           1340,
           "Crude Oasis, The (1995)",
           1
          ],
          [
           1341,
           "Hedd Wyn (1992)",
           1
          ],
          [
           1342,
           "Convent, The (Convento, O) (1995)",
           2
          ],
          [
           1343,
           "Lotto Land (1995)",
           1
          ],
          [
           1344,
           "Story of Xinghua, The (1993)",
           5
          ],
          [
           1345,
           "Day the Sun Turned Cold, The (Tianguo niezi) (1994)",
           2
          ],
          [
           1346,
           "Dingo (1992)",
           5
          ],
          [
           1347,
           "Ballad of Narayama, The (Narayama Bushiko) (1958)",
           4
          ],
          [
           1348,
           "Every Other Weekend (1990)",
           1
          ],
          [
           1349,
           "Mille bolle blu (1993)",
           1
          ],
          [
           1350,
           "Crows and Sparrows (1949)",
           2
          ],
          [
           1351,
           "Lover's Knot (1996)",
           3
          ],
          [
           1352,
           "Shadow of Angels (Schatten der Engel) (1976)",
           1
          ],
          [
           1353,
           "1-900 (1994)",
           5
          ],
          [
           1354,
           "Venice/Venice (1992)",
           2
          ],
          [
           1355,
           "Infinity (1996)",
           6
          ],
          [
           1356,
           "Ed's Next Move (1996)",
           3
          ],
          [
           1357,
           "For the Moment (1994)",
           3
          ],
          [
           1358,
           "The Deadly Cure (1996)",
           2
          ],
          [
           1359,
           "Boys in Venice (1996)",
           2
          ],
          [
           1360,
           "Sexual Life of the Belgians, The (1994)",
           2
          ],
          [
           1361,
           "Search for One-eye Jimmy, The (1996)",
           3
          ],
          [
           1362,
           "American Strays (1996)",
           2
          ],
          [
           1363,
           "Leopard Son, The (1996)",
           1
          ],
          [
           1364,
           "Bird of Prey (1996)",
           1
          ],
          [
           1365,
           "Johnny 100 Pesos (1993)",
           2
          ],
          [
           1366,
           "JLG/JLG - autoportrait de décembre (1994)",
           1
          ],
          [
           1367,
           "Faust (1994)",
           5
          ],
          [
           1368,
           "Mina Tannenbaum (1994)",
           6
          ],
          [
           1369,
           "Forbidden Christ, The (Cristo proibito, Il) (1950)",
           4
          ],
          [
           1370,
           "I Can't Sleep (J'ai pas sommeil) (1994)",
           3
          ],
          [
           1371,
           "Machine, The (1994)",
           2
          ],
          [
           1372,
           "Stranger, The (1994)",
           3
          ],
          [
           1373,
           "Good Morning (1971)",
           1
          ],
          [
           1374,
           "Falling in Love Again (1980)",
           2
          ],
          [
           1375,
           "Cement Garden, The (1993)",
           10
          ],
          [
           1376,
           "Meet Wally Sparks (1997)",
           7
          ],
          [
           1377,
           "Hotel de Love (1996)",
           4
          ],
          [
           1378,
           "Rhyme & Reason (1997)",
           5
          ],
          [
           1379,
           "Love and Other Catastrophes (1996)",
           7
          ],
          [
           1380,
           "Hollow Reed (1996)",
           6
          ],
          [
           1381,
           "Losing Chase (1996)",
           8
          ],
          [
           1382,
           "Bonheur, Le (1965)",
           4
          ],
          [
           1383,
           "Second Jungle Book: Mowgli & Baloo, The (1997)",
           6
          ],
          [
           1384,
           "Squeeze (1996)",
           3
          ],
          [
           1385,
           "Roseanna's Grave (For Roseanna) (1997)",
           5
          ],
          [
           1386,
           "Tetsuo II: Body Hammer (1992)",
           6
          ],
          [
           1387,
           "Fall (1997)",
           3
          ],
          [
           1388,
           "Gabbeh (1996)",
           6
          ],
          [
           1389,
           "Mondo (1996)",
           3
          ],
          [
           1390,
           "Innocent Sleep, The (1995)",
           2
          ],
          [
           1391,
           "For Ever Mozart (1996)",
           3
          ],
          [
           1392,
           "Locusts, The (1997)",
           5
          ],
          [
           1393,
           "Stag (1997)",
           9
          ],
          [
           1394,
           "Swept from the Sea (1997)",
           7
          ],
          [
           1395,
           "Hurricane Streets (1998)",
           6
          ],
          [
           1396,
           "Stonewall (1995)",
           5
          ],
          [
           1397,
           "Of Human Bondage (1934)",
           5
          ],
          [
           1398,
           "Anna (1996)",
           2
          ],
          [
           1399,
           "Stranger in the House (1997)",
           7
          ],
          [
           1400,
           "Picture Bride (1995)",
           10
          ],
          [
           1401,
           "M. Butterfly (1993)",
           18
          ],
          [
           1402,
           "Ciao, Professore! (1993)",
           4
          ],
          [
           1403,
           "Caro Diario (Dear Diary) (1994)",
           4
          ],
          [
           1404,
           "Withnail and I (1987)",
           13
          ],
          [
           1405,
           "Boy's Life 2 (1997)",
           6
          ],
          [
           1406,
           "When Night Is Falling (1995)",
           5
          ],
          [
           1407,
           "Specialist, The (1994)",
           20
          ],
          [
           1408,
           "Gordy (1995)",
           3
          ],
          [
           1409,
           "Swan Princess, The (1994)",
           7
          ],
          [
           1410,
           "Harlem (1993)",
           4
          ],
          [
           1411,
           "Barbarella (1968)",
           28
          ],
          [
           1412,
           "Land Before Time III: The Time of the Great Giving (1995) (V)",
           6
          ],
          [
           1413,
           "Street Fighter (1994)",
           8
          ],
          [
           1414,
           "Coldblooded (1995)",
           1
          ],
          [
           1415,
           "Next Karate Kid, The (1994)",
           9
          ],
          [
           1416,
           "No Escape (1994)",
           5
          ],
          [
           1417,
           "Turning, The (1992)",
           2
          ],
          [
           1418,
           "Joy Luck Club, The (1993)",
           3
          ],
          [
           1419,
           "Highlander III: The Sorcerer (1994)",
           16
          ],
          [
           1420,
           "Gilligan's Island: The Movie (1998)",
           3
          ],
          [
           1421,
           "My Crazy Life (Mi vida loca) (1993)",
           11
          ],
          [
           1422,
           "Suture (1993)",
           4
          ],
          [
           1423,
           "Walking Dead, The (1995)",
           4
          ],
          [
           1424,
           "I Like It Like That (1994)",
           3
          ],
          [
           1425,
           "I'll Do Anything (1994)",
           10
          ],
          [
           1426,
           "Grace of My Heart (1996)",
           8
          ],
          [
           1427,
           "Drunks (1995)",
           5
          ],
          [
           1428,
           "SubUrbia (1997)",
           12
          ],
          [
           1429,
           "Sliding Doors (1998)",
           4
          ],
          [
           1430,
           "Ill Gotten Gains (1997)",
           3
          ],
          [
           1431,
           "Legal Deceit (1997)",
           5
          ],
          [
           1432,
           "Mighty, The (1998)",
           3
          ],
          [
           1433,
           "Men of Means (1998)",
           2
          ],
          [
           1434,
           "Shooting Fish (1997)",
           10
          ],
          [
           1435,
           "Steal Big, Steal Little (1995)",
           7
          ],
          [
           1436,
           "Mr. Jones (1993)",
           2
          ],
          [
           1437,
           "House Party 3 (1994)",
           9
          ],
          [
           1438,
           "Panther (1995)",
           5
          ],
          [
           1439,
           "Jason's Lyric (1994)",
           8
          ],
          [
           1440,
           "Above the Rim (1994)",
           5
          ],
          [
           1441,
           "Moonlight and Valentino (1995)",
           7
          ],
          [
           1442,
           "Scarlet Letter, The (1995)",
           5
          ],
          [
           1443,
           "8 Seconds (1994)",
           4
          ],
          [
           1444,
           "That Darn Cat! (1965)",
           19
          ],
          [
           1445,
           "Ladybird Ladybird (1994)",
           4
          ],
          [
           1446,
           "Bye Bye, Love (1995)",
           15
          ],
          [
           1447,
           "Century (1993)",
           1
          ],
          [
           1448,
           "My Favorite Season (1993)",
           3
          ],
          [
           1449,
           "Pather Panchali (1955)",
           8
          ],
          [
           1450,
           "Golden Earrings (1947)",
           2
          ],
          [
           1451,
           "Foreign Correspondent (1940)",
           15
          ],
          [
           1452,
           "Lady of Burlesque (1943)",
           1
          ],
          [
           1453,
           "Angel on My Shoulder (1946)",
           1
          ],
          [
           1454,
           "Angel and the Badman (1947)",
           6
          ],
          [
           1455,
           "Outlaw, The (1943)",
           2
          ],
          [
           1456,
           "Beat the Devil (1954)",
           7
          ],
          [
           1457,
           "Love Is All There Is (1996)",
           1
          ],
          [
           1458,
           "Damsel in Distress, A (1937)",
           1
          ],
          [
           1459,
           "Madame Butterfly (1995)",
           7
          ],
          [
           1460,
           "Sleepover (1995)",
           1
          ],
          [
           1461,
           "Here Comes Cookie (1935)",
           1
          ],
          [
           1462,
           "Thieves (Voleurs, Les) (1996)",
           7
          ],
          [
           1463,
           "Boys, Les (1997)",
           3
          ],
          [
           1464,
           "Stars Fell on Henrietta, The (1995)",
           3
          ],
          [
           1465,
           "Last Summer in the Hamptons (1995)",
           3
          ],
          [
           1466,
           "Margaret's Museum (1995)",
           6
          ],
          [
           1467,
           "Saint of Fort Washington, The (1993)",
           2
          ],
          [
           1468,
           "Cure, The (1995)",
           6
          ],
          [
           1469,
           "Tom and Huck (1995)",
           12
          ],
          [
           1470,
           "Gumby: The Movie (1995)",
           5
          ],
          [
           1471,
           "Hideaway (1995)",
           9
          ],
          [
           1472,
           "Visitors, The (Visiteurs, Les) (1993)",
           2
          ],
          [
           1473,
           "Little Princess, The (1939)",
           9
          ],
          [
           1474,
           "Nina Takes a Lover (1994)",
           6
          ],
          [
           1475,
           "Bhaji on the Beach (1993)",
           8
          ],
          [
           1476,
           "Raw Deal (1948)",
           1
          ],
          [
           1477,
           "Nightwatch (1997)",
           2
          ],
          [
           1478,
           "Dead Presidents (1995)",
           18
          ],
          [
           1479,
           "Reckless (1995)",
           8
          ],
          [
           1480,
           "Herbie Rides Again (1974)",
           11
          ],
          [
           1481,
           "S.F.W. (1994)",
           2
          ],
          [
           1482,
           "Gate of Heavenly Peace, The (1995)",
           1
          ],
          [
           1483,
           "Man in the Iron Mask, The (1998)",
           12
          ],
          [
           1484,
           "Jerky Boys, The (1994)",
           3
          ],
          [
           1485,
           "Colonel Chabert, Le (1994)",
           4
          ],
          [
           1486,
           "Girl in the Cadillac (1995)",
           1
          ],
          [
           1487,
           "Even Cowgirls Get the Blues (1993)",
           5
          ],
          [
           1488,
           "Germinal (1993)",
           4
          ],
          [
           1489,
           "Chasers (1994)",
           5
          ],
          [
           1490,
           "Fausto (1993)",
           3
          ],
          [
           1491,
           "Tough and Deadly (1995)",
           2
          ],
          [
           1492,
           "Window to Paris (1994)",
           1
          ],
          [
           1493,
           "Modern Affair, A (1995)",
           1
          ],
          [
           1494,
           "Mostro, Il (1994)",
           1
          ],
          [
           1495,
           "Flirt (1995)",
           5
          ],
          [
           1496,
           "Carpool (1996)",
           5
          ],
          [
           1497,
           "Line King: Al Hirschfeld, The (1996)",
           2
          ],
          [
           1498,
           "Farmer & Chase (1995)",
           1
          ],
          [
           1499,
           "Grosse Fatigue (1994)",
           4
          ],
          [
           1500,
           "Santa with Muscles (1996)",
           2
          ],
          [
           1501,
           "Prisoner of the Mountains (Kavkazsky Plennik) (1996)",
           5
          ],
          [
           1502,
           "Naked in New York (1994)",
           2
          ],
          [
           1503,
           "Gold Diggers: The Secret of Bear Mountain (1995)",
           10
          ],
          [
           1504,
           "Bewegte Mann, Der (1994)",
           3
          ],
          [
           1505,
           "Killer: A Journal of Murder (1995)",
           1
          ],
          [
           1506,
           "Nelly & Monsieur Arnaud (1995)",
           3
          ],
          [
           1507,
           "Three Lives and Only One Death (1996)",
           1
          ],
          [
           1508,
           "Babysitter, The (1995)",
           3
          ],
          [
           1509,
           "Getting Even with Dad (1994)",
           5
          ],
          [
           1510,
           "Mad Dog Time (1996)",
           1
          ],
          [
           1511,
           "Children of the Revolution (1996)",
           5
          ],
          [
           1512,
           "World of Apu, The (Apur Sansar) (1959)",
           6
          ],
          [
           1513,
           "Sprung (1997)",
           3
          ],
          [
           1514,
           "Dream With the Fishes (1997)",
           7
          ],
          [
           1515,
           "Wings of Courage (1995)",
           1
          ],
          [
           1516,
           "Wedding Gift, The (1994)",
           3
          ],
          [
           1517,
           "Race the Sun (1996)",
           5
          ],
          [
           1518,
           "Losing Isaiah (1995)",
           12
          ],
          [
           1519,
           "New Jersey Drive (1995)",
           2
          ],
          [
           1520,
           "Fear, The (1995)",
           1
          ],
          [
           1521,
           "Mr. Wonderful (1993)",
           4
          ],
          [
           1522,
           "Trial by Jury (1994)",
           7
          ],
          [
           1523,
           "Good Man in Africa, A (1994)",
           2
          ],
          [
           1524,
           "Kaspar Hauser (1993)",
           8
          ],
          [
           1525,
           "Object of My Affection, The (1998)",
           1
          ],
          [
           1526,
           "Witness (1985)",
           1
          ],
          [
           1527,
           "Senseless (1998)",
           7
          ],
          [
           1528,
           "Nowhere (1997)",
           3
          ],
          [
           1529,
           "Underground (1995)",
           5
          ],
          [
           1530,
           "Jefferson in Paris (1995)",
           5
          ],
          [
           1531,
           "Far From Home: The Adventures of Yellow Dog (1995)",
           7
          ],
          [
           1532,
           "Foreign Student (1994)",
           2
          ],
          [
           1533,
           "I Don't Want to Talk About It (De eso no se habla) (1993)",
           1
          ],
          [
           1534,
           "Twin Town (1997)",
           6
          ],
          [
           1535,
           "Enfer, L' (1994)",
           4
          ],
          [
           1536,
           "Aiqing wansui (1994)",
           1
          ],
          [
           1537,
           "Cosi (1996)",
           4
          ],
          [
           1538,
           "All Over Me (1997)",
           3
          ],
          [
           1539,
           "Being Human (1993)",
           4
          ],
          [
           1540,
           "Amazing Panda Adventure, The (1995)",
           10
          ],
          [
           1541,
           "Beans of Egypt, Maine, The (1994)",
           2
          ],
          [
           1542,
           "Scarlet Letter, The (1926)",
           2
          ],
          [
           1543,
           "Johns (1996)",
           1
          ],
          [
           1544,
           "It Takes Two (1995)",
           3
          ],
          [
           1545,
           "Frankie Starlight (1995)",
           4
          ],
          [
           1546,
           "Shadows (Cienie) (1988)",
           1
          ],
          [
           1547,
           "Show, The (1995)",
           2
          ],
          [
           1548,
           "The Courtyard (1995)",
           1
          ],
          [
           1549,
           "Dream Man (1995)",
           2
          ],
          [
           1550,
           "Destiny Turns on the Radio (1995)",
           2
          ],
          [
           1551,
           "Glass Shield, The (1994)",
           2
          ],
          [
           1552,
           "Hunted, The (1995)",
           3
          ],
          [
           1553,
           "Underneath, The (1995)",
           4
          ],
          [
           1554,
           "Safe Passage (1994)",
           2
          ],
          [
           1555,
           "Secret Adventures of Tom Thumb, The (1993)",
           5
          ],
          [
           1556,
           "Condition Red (1995)",
           2
          ],
          [
           1557,
           "Yankee Zulu (1994)",
           1
          ],
          [
           1558,
           "Aparajito (1956)",
           7
          ],
          [
           1559,
           "Hostile Intentions (1994)",
           1
          ],
          [
           1560,
           "Clean Slate (Coup de Torchon) (1981)",
           4
          ],
          [
           1561,
           "Tigrero: A Film That Was Never Made (1994)",
           1
          ],
          [
           1562,
           "Eye of Vichy, The (Oeil de Vichy, L') (1993)",
           1
          ],
          [
           1563,
           "Promise, The (Versprechen, Das) (1994)",
           1
          ],
          [
           1564,
           "To Cross the Rubicon (1991)",
           1
          ],
          [
           1565,
           "Daens (1992)",
           1
          ],
          [
           1566,
           "Man from Down Under, The (1943)",
           1
          ],
          [
           1567,
           "Careful (1992)",
           1
          ],
          [
           1568,
           "Vermont Is For Lovers (1992)",
           1
          ],
          [
           1569,
           "Vie est belle, La (Life is Rosey) (1987)",
           1
          ],
          [
           1570,
           "Quartier Mozart (1992)",
           1
          ],
          [
           1571,
           "Touki Bouki (Journey of the Hyena) (1973)",
           1
          ],
          [
           1572,
           "Wend Kuuni (God's Gift) (1982)",
           1
          ],
          [
           1573,
           "Spirits of the Dead (Tre passi nel delirio) (1968)",
           2
          ],
          [
           1574,
           "Pharaoh's Army (1995)",
           1
          ],
          [
           1575,
           "I, Worst of All (Yo, la peor de todas) (1990)",
           1
          ],
          [
           1576,
           "Hungarian Fairy Tale, A (1987)",
           1
          ],
          [
           1577,
           "Death in the Garden (Mort en ce jardin, La) (1956)",
           1
          ],
          [
           1578,
           "Collectionneuse, La (1967)",
           2
          ],
          [
           1579,
           "Baton Rouge (1988)",
           1
          ],
          [
           1580,
           "Liebelei (1933)",
           1
          ],
          [
           1581,
           "Woman in Question, The (1950)",
           1
          ],
          [
           1582,
           "T-Men (1947)",
           1
          ],
          [
           1583,
           "Invitation, The (Zaproszenie) (1986)",
           1
          ],
          [
           1584,
           "Symphonie pastorale, La (1946)",
           1
          ],
          [
           1585,
           "American Dream (1990)",
           2
          ],
          [
           1586,
           "Lashou shentan (1992)",
           1
          ],
          [
           1587,
           "Terror in a Texas Town (1958)",
           1
          ],
          [
           1588,
           "Salut cousin! (1996)",
           2
          ],
          [
           1589,
           "Schizopolis (1996)",
           4
          ],
          [
           1590,
           "To Have, or Not (1995)",
           2
          ],
          [
           1591,
           "Duoluo tianshi (1995)",
           6
          ],
          [
           1592,
           "Magic Hour, The (1998)",
           5
          ],
          [
           1593,
           "Death in Brunswick (1991)",
           1
          ],
          [
           1594,
           "Everest (1998)",
           2
          ],
          [
           1595,
           "Shopping (1994)",
           1
          ],
          [
           1596,
           "Nemesis 2: Nebula (1995)",
           1
          ],
          [
           1597,
           "Romper Stomper (1992)",
           5
          ],
          [
           1598,
           "City of Industry (1997)",
           6
          ],
          [
           1599,
           "Someone Else's America (1995)",
           1
          ],
          [
           1600,
           "Guantanamera (1994)",
           4
          ],
          [
           1601,
           "Office Killer (1997)",
           1
          ],
          [
           1602,
           "Price Above Rubies, A (1998)",
           3
          ],
          [
           1603,
           "Angela (1995)",
           1
          ],
          [
           1604,
           "He Walked by Night (1948)",
           1
          ],
          [
           1605,
           "Love Serenade (1996)",
           4
          ],
          [
           1606,
           "Deceiver (1997)",
           1
          ],
          [
           1607,
           "Hurricane Streets (1998)",
           3
          ],
          [
           1608,
           "Buddy (1997)",
           4
          ],
          [
           1609,
           "B*A*P*S (1997)",
           3
          ],
          [
           1610,
           "Truth or Consequences, N.M. (1997)",
           3
          ],
          [
           1611,
           "Intimate Relations (1996)",
           2
          ],
          [
           1612,
           "Leading Man, The (1996)",
           4
          ],
          [
           1613,
           "Tokyo Fist (1995)",
           1
          ],
          [
           1614,
           "Reluctant Debutante, The (1958)",
           1
          ],
          [
           1615,
           "Warriors of Virtue (1997)",
           10
          ],
          [
           1616,
           "Desert Winds (1995)",
           1
          ],
          [
           1617,
           "Hugo Pool (1997)",
           2
          ],
          [
           1618,
           "King of New York (1990)",
           1
          ],
          [
           1619,
           "All Things Fair (1996)",
           1
          ],
          [
           1620,
           "Sixth Man, The (1997)",
           9
          ],
          [
           1621,
           "Butterfly Kiss (1995)",
           1
          ],
          [
           1622,
           "Paris, France (1993)",
           3
          ],
          [
           1623,
           "Cérémonie, La (1995)",
           3
          ],
          [
           1624,
           "Hush (1998)",
           1
          ],
          [
           1625,
           "Nightwatch (1997)",
           1
          ],
          [
           1626,
           "Nobody Loves Me (Keiner liebt mich) (1994)",
           1
          ],
          [
           1627,
           "Wife, The (1995)",
           1
          ],
          [
           1628,
           "Lamerica (1994)",
           4
          ],
          [
           1629,
           "Nico Icon (1995)",
           2
          ],
          [
           1630,
           "Silence of the Palace, The (Saimt el Qusur) (1994)",
           1
          ],
          [
           1631,
           "Slingshot, The (1993)",
           2
          ],
          [
           1632,
           "Land and Freedom (Tierra y libertad) (1995)",
           1
          ],
          [
           1633,
           "Á köldum klaka (Cold Fever) (1994)",
           1
          ],
          [
           1634,
           "Etz Hadomim Tafus (Under the Domin Tree) (1994)",
           1
          ],
          [
           1635,
           "Two Friends (1986) ",
           1
          ],
          [
           1636,
           "Brothers in Trouble (1995)",
           1
          ],
          [
           1637,
           "Girls Town (1996)",
           1
          ],
          [
           1638,
           "Normal Life (1996)",
           1
          ],
          [
           1639,
           "Bitter Sugar (Azucar Amargo) (1996)",
           3
          ],
          [
           1640,
           "Eighth Day, The (1996)",
           1
          ],
          [
           1641,
           "Dadetown (1995)",
           1
          ],
          [
           1642,
           "Some Mother's Son (1996)",
           2
          ],
          [
           1643,
           "Angel Baby (1995)",
           4
          ],
          [
           1644,
           "Sudden Manhattan (1996)",
           2
          ],
          [
           1645,
           "Butcher Boy, The (1998)",
           1
          ],
          [
           1646,
           "Men With Guns (1997)",
           2
          ],
          [
           1647,
           "Hana-bi (1997)",
           1
          ],
          [
           1648,
           "Niagara, Niagara (1997)",
           1
          ],
          [
           1649,
           "Big One, The (1997)",
           1
          ],
          [
           1650,
           "Butcher Boy, The (1998)",
           1
          ],
          [
           1651,
           "Spanish Prisoner, The (1997)",
           1
          ],
          [
           1652,
           "Temptress Moon (Feng Yue) (1996)",
           3
          ],
          [
           1653,
           "Entertaining Angels: The Dorothy Day Story (1996)",
           1
          ],
          [
           1654,
           "Chairman of the Board (1998)",
           1
          ],
          [
           1655,
           "Favor, The (1994)",
           1
          ],
          [
           1656,
           "Little City (1998)",
           2
          ],
          [
           1657,
           "Target (1995)",
           1
          ],
          [
           1658,
           "Substance of Fire, The (1996)",
           3
          ],
          [
           1659,
           "Getting Away With Murder (1996)",
           1
          ],
          [
           1660,
           "Small Faces (1995)",
           1
          ],
          [
           1661,
           "New Age, The (1994)",
           1
          ],
          [
           1662,
           "Rough Magic (1995)",
           2
          ],
          [
           1663,
           "Nothing Personal (1995)",
           1
          ],
          [
           1664,
           "8 Heads in a Duffel Bag (1997)",
           4
          ],
          [
           1665,
           "Brother's Kiss, A (1997)",
           1
          ],
          [
           1666,
           "Ripe (1996)",
           1
          ],
          [
           1667,
           "Next Step, The (1995)",
           1
          ],
          [
           1668,
           "Wedding Bell Blues (1996)",
           1
          ],
          [
           1669,
           "MURDER and murder (1996)",
           1
          ],
          [
           1670,
           "Tainted (1998)",
           1
          ],
          [
           1671,
           "Further Gesture, A (1996)",
           1
          ],
          [
           1672,
           "Kika (1993)",
           2
          ],
          [
           1673,
           "Mirage (1995)",
           1
          ],
          [
           1674,
           "Mamma Roma (1962)",
           1
          ],
          [
           1675,
           "Sunchaser, The (1996)",
           1
          ],
          [
           1676,
           "War at Home, The (1996)",
           1
          ],
          [
           1677,
           "Sweet Nothing (1995)",
           1
          ],
          [
           1678,
           "Mat' i syn (1997)",
           1
          ],
          [
           1679,
           "B. Monkey (1998)",
           1
          ],
          [
           1680,
           "Sliding Doors (1998)",
           1
          ],
          [
           1681,
           "You So Crazy (1994)",
           1
          ],
          [
           1682,
           "Scream of Stone (Schrei aus Stein) (1991)",
           1
          ]
         ],
         "hovertemplate": "tsne_1=%{x}<br>tsne_2=%{y}<br>item_id=%{customdata[0]}<br>title=%{customdata[1]}<br>popularity=%{marker.color}<extra></extra>",
         "legendgroup": "",
         "marker": {
          "color": [
           452,
           131,
           90,
           209,
           86,
           26,
           392,
           219,
           299,
           89,
           236,
           267,
           184,
           183,
           293,
           39,
           92,
           10,
           69,
           72,
           84,
           297,
           182,
           174,
           293,
           73,
           57,
           276,
           114,
           37,
           154,
           81,
           97,
           7,
           11,
           13,
           8,
           120,
           87,
           57,
           37,
           148,
           40,
           79,
           80,
           27,
           133,
           117,
           81,
           583,
           81,
           91,
           128,
           104,
           149,
           394,
           40,
           175,
           83,
           64,
           59,
           127,
           82,
           283,
           115,
           162,
           103,
           134,
           321,
           251,
           220,
           129,
           128,
           7,
           5,
           54,
           151,
           33,
           336,
           68,
           110,
           261,
           176,
           18,
           58,
           150,
           138,
           213,
           275,
           95,
           143,
           104,
           112,
           137,
           219,
           295,
           256,
           390,
           172,
           508,
           73,
           54,
           15,
           5,
           74,
           71,
           42,
           65,
           130,
           31,
           272,
           20,
           9,
           67,
           15,
           125,
           378,
           293,
           4,
           67,
           429,
           106,
           115,
           187,
           244,
           97,
           413,
           65,
           129,
           23,
           95,
           246,
           171,
           198,
           259,
           105,
           171,
           19,
           50,
           61,
           72,
           57,
           222,
           243,
           65,
           10,
           185,
           128,
           23,
           157,
           326,
           82,
           247,
           174,
           98,
           148,
           127,
           60,
           101,
           69,
           220,
           106,
           92,
           151,
           64,
           58,
           67,
           316,
           118,
           121,
           65,
           367,
           324,
           420,
           208,
           284,
           137,
           125,
           221,
           221,
           507,
           226,
           291,
           116,
           239,
           251,
           209,
           170,
           66,
           124,
           276,
           116,
           157,
           241,
           301,
           251,
           239,
           127,
           165,
           206,
           89,
           280,
           182,
           350,
           136,
           50,
           66,
           200,
           191,
           331,
           206,
           92,
           134,
           114,
           212,
           290,
           120,
           171,
           111,
           66,
           74,
           365,
           136,
           44,
           109,
           166,
           161,
           244,
           171,
           199,
           142,
           101,
           124,
           280,
           217,
           45,
           384,
           256,
           150,
           156,
           128,
           117,
           132,
           48,
           240,
           124,
           5,
           160,
           130,
           197,
           46,
           158,
           26,
           62,
           172,
           16,
           303,
           509,
           162,
           127,
           43,
           66,
           19,
           101,
           227,
           35,
           9,
           255,
           315,
           136,
           211,
           198,
           223,
           190,
           268,
           298,
           71,
           60,
           28,
           85,
           146,
           232,
           177,
           193,
           162,
           481,
           78,
           478,
           259,
           96,
           127,
           114,
           147,
           485,
           77,
           6,
           50,
           194,
           73,
           431,
           230,
           297,
           134,
           149,
           87,
           96,
           188,
           30,
           28,
           145,
           75,
           80,
           350,
           5,
           160,
           112,
           102,
           298,
           168,
           20,
           169,
           218,
           240,
           125,
           128,
           175,
           175,
           295,
           45,
           41,
           113,
           143,
           251,
           64,
           21,
           43,
           18,
           91,
           47,
           189,
           11,
           52,
           124,
           55,
           65,
           126,
           137,
           27,
           31,
           41,
           20,
           26,
           14,
           72,
           41,
           97,
           264,
           143,
           18,
           10,
           10,
           28,
           47,
           37,
           48,
           47,
           170,
           31,
           55,
           39,
           67,
           34,
           39,
           11,
           23,
           24,
           13,
           101,
           43,
           116,
           100,
           111,
           31,
           69,
           208,
           87,
           65,
           28,
           27,
           10,
           59,
           68,
           192,
           12,
           56,
           54,
           12,
           26,
           89,
           18,
           76,
           170,
           201,
           101,
           344,
           49,
           43,
           112,
           70,
           162,
           163,
           93,
           55,
           62,
           25,
           64,
           73,
           129,
           178,
           81,
           106,
           26,
           300,
           19,
           85,
           32,
           219,
           121,
           97,
           93,
           153,
           174,
           171,
           67,
           216,
           99,
           5,
           6,
           5,
           14,
           53,
           4,
           162,
           46,
           22,
           9,
           121,
           85,
           117,
           63,
           170,
           66,
           16,
           16,
           145,
           48,
           27,
           90,
           24,
           28,
           74,
           148,
           71,
           27,
           85,
           52,
           48,
           64,
           67,
           108,
           221,
           158,
           126,
           194,
           250,
           160,
           95,
           104,
           179,
           179,
           63,
           128,
           243,
           138,
           125,
           64,
           68,
           65,
           52,
           50,
           67,
           59,
           60,
           56,
           59,
           231,
           68,
           152,
           62,
           31,
           123,
           57,
           39,
           122,
           68,
           90,
           98,
           215,
           121,
           121,
           173,
           57,
           72,
           180,
           201,
           63,
           91,
           89,
           80,
           124,
           120,
           35,
           164,
           46,
           73,
           124,
           195,
           121,
           93,
           80,
           129,
           22,
           15,
           13,
           54,
           10,
           30,
           66,
           44,
           43,
           49,
           51,
           21,
           71,
           12,
           254,
           41,
           12,
           92,
           151,
           24,
           45,
           63,
           102,
           10,
           12,
           17,
           70,
           137,
           22,
           59,
           48,
           29,
           27,
           22,
           179,
           35,
           230,
           67,
           50,
           28,
           29,
           33,
           15,
           44,
           93,
           41,
           92,
           19,
           32,
           59,
           168,
           37,
           79,
           39,
           34,
           14,
           202,
           43,
           18,
           178,
           9,
           12,
           5,
           64,
           127,
           206,
           4,
           1,
           2,
           20,
           50,
           209,
           81,
           31,
           66,
           66,
           30,
           60,
           41,
           40,
           34,
           27,
           51,
           59,
           64,
           18,
           18,
           64,
           43,
           11,
           39,
           39,
           22,
           82,
           4,
           75,
           169,
           77,
           31,
           119,
           58,
           69,
           24,
           23,
           91,
           38,
           44,
           40,
           82,
           33,
           89,
           4,
           35,
           27,
           38,
           70,
           67,
           50,
           72,
           171,
           90,
           34,
           147,
           227,
           44,
           131,
           79,
           115,
           153,
           88,
           82,
           116,
           46,
           100,
           5,
           12,
           6,
           13,
           36,
           46,
           65,
           86,
           48,
           54,
           77,
           1,
           219,
           107,
           34,
           27,
           100,
           49,
           169,
           157,
           50,
           69,
           44,
           87,
           155,
           16,
           164,
           91,
           44,
           13,
           79,
           40,
           10,
           102,
           15,
           10,
           53,
           19,
           24,
           137,
           6,
           70,
           101,
           104,
           79,
           1,
           51,
           72,
           13,
           87,
           58,
           82,
           16,
           29,
           86,
           54,
           58,
           34,
           76,
           16,
           14,
           63,
           45,
           81,
           24,
           39,
           180,
           15,
           27,
           137,
           78,
           59,
           31,
           164,
           63,
           58,
           267,
           39,
           92,
           16,
           119,
           102,
           316,
           51,
           124,
           180,
           39,
           24,
           57,
           96,
           128,
           4,
           21,
           11,
           46,
           44,
           115,
           149,
           29,
           32,
           9,
           11,
           52,
           42,
           57,
           41,
           49,
           17,
           32,
           26,
           9,
           4,
           76,
           31,
           69,
           84,
           10,
           37,
           2,
           39,
           14,
           13,
           3,
           47,
           66,
           10,
           86,
           10,
           46,
           21,
           36,
           31,
           9,
           5,
           26,
           16,
           40,
           9,
           8,
           27,
           50,
           9,
           31,
           43,
           45,
           18,
           18,
           56,
           1,
           112,
           21,
           3,
           25,
           40,
           93,
           22,
           4,
           82,
           49,
           83,
           80,
           57,
           13,
           34,
           1,
           91,
           22,
           49,
           25,
           15,
           26,
           25,
           4,
           4,
           53,
           48,
           27,
           30,
           42,
           176,
           44,
           55,
           9,
           53,
           4,
           4,
           1,
           14,
           16,
           66,
           36,
           1,
           3,
           15,
           16,
           3,
           18,
           24,
           86,
           21,
           119,
           6,
           5,
           24,
           9,
           75,
           42,
           81,
           39,
           53,
           47,
           52,
           33,
           136,
           59,
           45,
           34,
           13,
           7,
           13,
           53,
           64,
           15,
           13,
           43,
           6,
           53,
           14,
           19,
           106,
           44,
           2,
           58,
           9,
           42,
           12,
           42,
           18,
           20,
           27,
           21,
           2,
           20,
           13,
           4,
           4,
           9,
           2,
           11,
           13,
           18,
           7,
           8,
           96,
           5,
           46,
           34,
           58,
           85,
           34,
           101,
           6,
           104,
           40,
           80,
           57,
           40,
           21,
           68,
           7,
           32,
           37,
           25,
           60,
           32,
           46,
           45,
           40,
           43,
           40,
           61,
           17,
           48,
           71,
           30,
           39,
           45,
           22,
           11,
           49,
           46,
           2,
           14,
           64,
           25,
           34,
           23,
           41,
           9,
           21,
           26,
           12,
           18,
           75,
           8,
           34,
           28,
           4,
           32,
           44,
           12,
           49,
           27,
           35,
           22,
           8,
           20,
           15,
           44,
           22,
           23,
           4,
           86,
           32,
           33,
           25,
           4,
           66,
           7,
           31,
           14,
           16,
           16,
           10,
           10,
           17,
           8,
           8,
           9,
           22,
           23,
           47,
           37,
           64,
           44,
           93,
           100,
           38,
           98,
           12,
           137,
           50,
           32,
           31,
           35,
           38,
           32,
           31,
           15,
           44,
           4,
           3,
           148,
           14,
           20,
           7,
           16,
           32,
           27,
           68,
           24,
           24,
           17,
           90,
           25,
           62,
           28,
           8,
           40,
           25,
           46,
           134,
           73,
           25,
           43,
           41,
           25,
           24,
           23,
           10,
           10,
           22,
           15,
           35,
           39,
           29,
           12,
           41,
           4,
           53,
           16,
           44,
           12,
           18,
           27,
           16,
           7,
           66,
           77,
           7,
           12,
           8,
           22,
           45,
           2,
           8,
           8,
           6,
           21,
           11,
           21,
           10,
           13,
           38,
           37,
           43,
           12,
           23,
           12,
           29,
           3,
           18,
           42,
           13,
           8,
           74,
           7,
           19,
           4,
           18,
           4,
           18,
           5,
           28,
           41,
           7,
           15,
           22,
           10,
           29,
           13,
           19,
           47,
           59,
           17,
           21,
           1,
           3,
           12,
           4,
           32,
           11,
           13,
           28,
           1,
           13,
           32,
           30,
           38,
           46,
           29,
           29,
           5,
           33,
           17,
           9,
           44,
           15,
           3,
           9,
           3,
           21,
           9,
           26,
           9,
           7,
           28,
           19,
           12,
           3,
           1,
           25,
           4,
           11,
           26,
           13,
           5,
           25,
           6,
           14,
           12,
           11,
           22,
           10,
           27,
           14,
           15,
           7,
           8,
           5,
           22,
           7,
           19,
           9,
           10,
           10,
           13,
           19,
           10,
           18,
           3,
           13,
           44,
           3,
           11,
           3,
           13,
           10,
           31,
           11,
           3,
           45,
           7,
           23,
           7,
           1,
           8,
           21,
           18,
           6,
           19,
           17,
           20,
           15,
           38,
           12,
           6,
           6,
           9,
           30,
           6,
           39,
           26,
           20,
           30,
           39,
           25,
           4,
           12,
           14,
           32,
           8,
           48,
           13,
           18,
           22,
           17,
           6,
           8,
           1,
           1,
           6,
           8,
           18,
           26,
           6,
           5,
           7,
           36,
           19,
           7,
           6,
           19,
           12,
           6,
           8,
           9,
           7,
           11,
           8,
           3,
           4,
           23,
           4,
           4,
           4,
           8,
           15,
           7,
           19,
           12,
           33,
           10,
           10,
           7,
           7,
           5,
           15,
           11,
           4,
           8,
           19,
           16,
           9,
           16,
           13,
           9,
           19,
           26,
           15,
           17,
           6,
           7,
           7,
           2,
           15,
           3,
           3,
           7,
           7,
           20,
           12,
           9,
           8,
           9,
           5,
           5,
           18,
           2,
           7,
           2,
           2,
           2,
           1,
           1,
           16,
           7,
           14,
           11,
           23,
           7,
           4,
           3,
           4,
           1,
           2,
           6,
           3,
           5,
           1,
           6,
           3,
           6,
           1,
           4,
           4,
           2,
           5,
           2,
           11,
           10,
           9,
           4,
           1,
           1,
           1,
           2,
           1,
           5,
           2,
           5,
           4,
           1,
           1,
           2,
           3,
           1,
           5,
           2,
           6,
           3,
           3,
           2,
           2,
           2,
           3,
           2,
           1,
           1,
           2,
           1,
           5,
           6,
           4,
           3,
           2,
           3,
           1,
           2,
           10,
           7,
           4,
           5,
           7,
           6,
           8,
           4,
           6,
           3,
           5,
           6,
           3,
           6,
           3,
           2,
           3,
           5,
           9,
           7,
           6,
           5,
           5,
           2,
           7,
           10,
           18,
           4,
           4,
           13,
           6,
           5,
           20,
           3,
           7,
           4,
           28,
           6,
           8,
           1,
           9,
           5,
           2,
           3,
           16,
           3,
           11,
           4,
           4,
           3,
           10,
           8,
           5,
           12,
           4,
           3,
           5,
           3,
           2,
           10,
           7,
           2,
           9,
           5,
           8,
           5,
           7,
           5,
           4,
           19,
           4,
           15,
           1,
           3,
           8,
           2,
           15,
           1,
           1,
           6,
           2,
           7,
           1,
           1,
           7,
           1,
           1,
           7,
           3,
           3,
           3,
           6,
           2,
           6,
           12,
           5,
           9,
           2,
           9,
           6,
           8,
           1,
           2,
           18,
           8,
           11,
           2,
           1,
           12,
           3,
           4,
           1,
           5,
           4,
           5,
           3,
           2,
           1,
           1,
           1,
           5,
           5,
           2,
           1,
           4,
           2,
           5,
           2,
           10,
           3,
           1,
           3,
           1,
           3,
           5,
           1,
           5,
           6,
           3,
           7,
           1,
           3,
           5,
           12,
           2,
           1,
           4,
           7,
           2,
           8,
           1,
           1,
           7,
           3,
           5,
           5,
           7,
           2,
           1,
           6,
           4,
           1,
           4,
           3,
           4,
           10,
           2,
           2,
           1,
           3,
           4,
           1,
           2,
           1,
           2,
           2,
           2,
           3,
           4,
           2,
           5,
           2,
           1,
           7,
           1,
           4,
           1,
           1,
           1,
           1,
           1,
           1,
           1,
           1,
           1,
           1,
           1,
           1,
           2,
           1,
           1,
           1,
           1,
           2,
           1,
           1,
           1,
           1,
           1,
           1,
           2,
           1,
           1,
           2,
           4,
           2,
           6,
           5,
           1,
           2,
           1,
           1,
           5,
           6,
           1,
           4,
           1,
           3,
           1,
           1,
           4,
           1,
           3,
           4,
           3,
           3,
           2,
           4,
           1,
           1,
           10,
           1,
           2,
           1,
           1,
           9,
           1,
           3,
           3,
           1,
           1,
           1,
           1,
           4,
           2,
           1,
           2,
           1,
           1,
           1,
           1,
           1,
           1,
           1,
           3,
           1,
           1,
           2,
           4,
           2,
           1,
           2,
           1,
           1,
           1,
           1,
           1,
           3,
           1,
           1,
           1,
           2,
           1,
           3,
           1,
           1,
           1,
           2,
           1,
           4,
           1,
           1,
           1,
           1,
           1,
           1,
           1,
           2,
           1,
           1,
           1,
           1,
           1,
           1,
           1,
           1,
           1,
           1
          ],
          "coloraxis": "coloraxis",
          "symbol": "circle"
         },
         "mode": "markers",
         "name": "",
         "showlegend": false,
         "type": "scattergl",
         "x": [
          -0.8271624445915222,
          -3.3448092937469482,
          -10.161151885986328,
          22.500530242919922,
          -5.608972549438477,
          11.658792495727539,
          13.079263687133789,
          35.381160736083984,
          30.066930770874023,
          16.28861427307129,
          9.10632610321045,
          29.61078453063965,
          23.30191993713379,
          29.936996459960938,
          -2.8226349353790283,
          11.66239070892334,
          10.488969802856445,
          18.342554092407227,
          8.311460494995117,
          19.404666900634766,
          -20.818876266479492,
          -0.7203699946403503,
          31.94566535949707,
          12.754276275634766,
          -10.059869766235352,
          20.64224624633789,
          -0.7938920855522156,
          -5.200969696044922,
          -25.808942794799805,
          10.636425971984863,
          -5.3781633377075195,
          23.1790828704834,
          -9.951143264770508,
          -0.1853170543909073,
          -27.605043411254883,
          -19.288814544677734,
          22.51007652282715,
          -14.179680824279785,
          5.775210857391357,
          -13.697227478027344,
          0.718288779258728,
          30.0157470703125,
          -6.204562187194824,
          12.081653594970703,
          11.086264610290527,
          21.553438186645508,
          34.0617790222168,
          25.628156661987305,
          -17.441301345825195,
          10.053061485290527,
          -6.606240749359131,
          29.64879608154297,
          14.945919036865234,
          -3.1344549655914307,
          11.675671577453613,
          31.350292205810547,
          17.5213565826416,
          21.411100387573242,
          20.791059494018555,
          21.058494567871094,
          20.460739135742188,
          -23.91932487487793,
          -7.561192989349365,
          29.85112190246582,
          23.15603256225586,
          -2.684084892272949,
          -16.688947677612305,
          7.027284145355225,
          2.508716106414795,
          13.157437324523926,
          1.3311799764633179,
          -2.635668992996216,
          -7.390160083770752,
          1.9366708993911743,
          6.735139846801758,
          -3.547564744949341,
          -5.9531965255737305,
          -24.60059928894043,
          -1.2506581544876099,
          -4.203610420227051,
          28.356063842773438,
          -2.1049113273620605,
          -0.5198432803153992,
          3.3508832454681396,
          4.198426246643066,
          22.3026180267334,
          9.94748592376709,
          -3.6798229217529297,
          32.047122955322266,
          8.22930908203125,
          14.42476749420166,
          16.583648681640625,
          15.41461181640625,
          -4.133069038391113,
          -0.604982316493988,
          8.981069564819336,
          4.2670207023620605,
          37.0164909362793,
          38.4897575378418,
          36.422760009765625,
          -9.241240501403809,
          -5.268083095550537,
          -32.14390182495117,
          -32.267208099365234,
          -18.960338592529297,
          -21.147327423095703,
          15.670510292053223,
          12.663947105407715,
          11.185669898986816,
          -2.407512903213501,
          -9.946124076843262,
          -19.047954559326172,
          11.186182022094727,
          35.87839889526367,
          6.704104900360107,
          27.591266632080078,
          -8.26140022277832,
          -5.095266342163086,
          23.594247817993164,
          -20.318679809570312,
          -4.813817501068115,
          12.521566390991211,
          11.933650970458984,
          27.82835578918457,
          -3.857484817504883,
          -11.304147720336914,
          35.81322479248047,
          7.122344970703125,
          11.86618423461914,
          -27.596153259277344,
          26.91554832458496,
          31.407472610473633,
          38.74967956542969,
          35.96653366088867,
          32.001834869384766,
          32.25114059448242,
          29.070547103881836,
          -24.0504207611084,
          -4.671065807342529,
          3.7200639247894287,
          7.437061309814453,
          -5.811219215393066,
          0.4844777584075928,
          8.474609375,
          -19.225099563598633,
          -17.487442016601562,
          -3.0864527225494385,
          -22.497987747192383,
          28.675498962402344,
          22.156082153320312,
          31.84956169128418,
          17.800683975219727,
          9.178448677062988,
          27.164400100708008,
          -3.8390870094299316,
          30.100126266479492,
          16.956985473632812,
          -15.129534721374512,
          -1.4249317646026611,
          12.920365333557129,
          -6.588665008544922,
          32.48093795776367,
          11.283307075500488,
          5.593507766723633,
          8.577563285827637,
          18.9302978515625,
          -4.063621997833252,
          30.161561965942383,
          28.21588897705078,
          26.904645919799805,
          25.73369026184082,
          9.919832229614258,
          9.344761848449707,
          9.225764274597168,
          27.387575149536133,
          11.110955238342285,
          11.806781768798828,
          32.91960144042969,
          29.742353439331055,
          32.674678802490234,
          9.97408390045166,
          19.583066940307617,
          11.192233085632324,
          10.077580451965332,
          30.42758560180664,
          8.452865600585938,
          35.485748291015625,
          17.07809066772461,
          21.547700881958008,
          31.098041534423828,
          34.075557708740234,
          17.86150550842285,
          33.63862228393555,
          38.738059997558594,
          7.920059680938721,
          17.553852081298828,
          30.33106231689453,
          10.939339637756348,
          32.10698699951172,
          25.307384490966797,
          23.02068328857422,
          2.6884074211120605,
          27.715105056762695,
          8.826444625854492,
          9.588298797607422,
          9.823225021362305,
          15.903456687927246,
          34.35116958618164,
          34.07658004760742,
          -0.33148425817489624,
          32.47090530395508,
          16.977354049682617,
          28.052522659301758,
          6.854905128479004,
          4.139692306518555,
          32.614498138427734,
          5.284666538238525,
          -3.3503148555755615,
          -4.465175628662109,
          -17.170631408691406,
          27.77410316467285,
          -6.535211563110352,
          15.0457763671875,
          11.069063186645508,
          -9.113218307495117,
          -3.4122257232666016,
          6.3533935546875,
          7.689899444580078,
          -2.5414960384368896,
          6.343867778778076,
          -6.87371826171875,
          -1.3057063817977905,
          4.158236503601074,
          33.601959228515625,
          13.530068397521973,
          6.732778072357178,
          -3.0852017402648926,
          31.487749099731445,
          -1.6603590250015259,
          13.551992416381836,
          -9.472784996032715,
          17.705890655517578,
          -15.59390926361084,
          -11.613870620727539,
          -11.000238418579102,
          12.33366584777832,
          -24.19741439819336,
          10.639021873474121,
          12.130481719970703,
          12.975523948669434,
          7.209226608276367,
          -13.859962463378906,
          4.658748626708984,
          -13.937721252441406,
          -4.135646343231201,
          22.0081844329834,
          -0.88890540599823,
          -6.726869106292725,
          -14.098906517028809,
          -8.791049003601074,
          -11.961540222167969,
          29.524188995361328,
          -34.16511535644531,
          -5.891886234283447,
          4.37722110748291,
          -16.357215881347656,
          -11.596792221069336,
          12.371241569519043,
          8.272581100463867,
          -7.431276798248291,
          -8.424635887145996,
          -3.5379831790924072,
          -4.699399471282959,
          -4.7802252769470215,
          28.162202835083008,
          24.141040802001953,
          8.806901931762695,
          -17.385805130004883,
          14.119354248046875,
          -6.857837200164795,
          -12.484769821166992,
          -6.650014877319336,
          15.044405937194824,
          18.666194915771484,
          24.434724807739258,
          9.286288261413574,
          5.962480068206787,
          4.7247419357299805,
          -10.17013931274414,
          5.368752479553223,
          -5.4058837890625,
          14.79985237121582,
          10.543316841125488,
          -10.354774475097656,
          -2.3296852111816406,
          -20.5262451171875,
          7.242074489593506,
          -4.634334564208984,
          7.838207244873047,
          -5.6007561683654785,
          -0.2589321732521057,
          -3.1058008670806885,
          10.686415672302246,
          -4.295882225036621,
          10.219782829284668,
          7.573960781097412,
          -7.698824405670166,
          0.6281129717826843,
          -12.127695083618164,
          -4.810808181762695,
          10.296926498413086,
          -3.2628703117370605,
          -9.566999435424805,
          -30.10965919494629,
          -4.151716232299805,
          -3.538195848464966,
          24.854854583740234,
          37.115570068359375,
          17.69576644897461,
          24.12639808654785,
          16.206987380981445,
          -14.270149230957031,
          -15.823079109191895,
          3.1728427410125732,
          -16.414203643798828,
          -12.911938667297363,
          -6.908333778381348,
          -9.0272216796875,
          -13.727693557739258,
          -10.061686515808105,
          -7.602639198303223,
          -8.328171730041504,
          -9.620184898376465,
          2.0382497310638428,
          3.220048666000366,
          -20.464784622192383,
          10.201778411865234,
          -20.382986068725586,
          0.5150642991065979,
          9.336159706115723,
          0.45333072543144226,
          -14.174721717834473,
          -7.92363977432251,
          6.337928771972656,
          17.59531021118164,
          6.4450507164001465,
          -1.922533392906189,
          -13.952007293701172,
          -14.9314603805542,
          0.23565056920051575,
          -23.06592559814453,
          -25.08417510986328,
          -22.732955932617188,
          -8.179030418395996,
          5.21995735168457,
          4.040760517120361,
          33.32997512817383,
          -23.750646591186523,
          2.348968029022217,
          7.46390438079834,
          -0.7206923961639404,
          12.6115140914917,
          -6.140593528747559,
          -9.20069408416748,
          -5.693443298339844,
          -7.328644752502441,
          15.364720344543457,
          -20.237815856933594,
          -20.78337860107422,
          -20.489999771118164,
          15.108573913574219,
          8.702301025390625,
          -9.08154582977295,
          -24.40021324157715,
          -27.847732543945312,
          -19.084205627441406,
          -15.977595329284668,
          3.678734302520752,
          -12.652044296264648,
          -10.092845916748047,
          18.524005889892578,
          8.675235748291016,
          -18.267948150634766,
          -8.41242504119873,
          -3.295053482055664,
          -4.011775016784668,
          13.670947074890137,
          -8.788337707519531,
          1.8846932649612427,
          21.943437576293945,
          -7.2356343269348145,
          -4.454951763153076,
          2.950364828109741,
          -14.823060035705566,
          -11.302099227905273,
          25.02444076538086,
          -8.182574272155762,
          -11.975736618041992,
          -4.836214065551758,
          -10.291829109191895,
          18.30939292907715,
          1.3845497369766235,
          5.336035251617432,
          33.12076187133789,
          -8.751351356506348,
          -2.232329845428467,
          -10.28134536743164,
          28.241535186767578,
          -14.68304443359375,
          9.77060317993164,
          -5.005265712738037,
          19.203609466552734,
          -19.2696590423584,
          27.635725021362305,
          2.457324266433716,
          3.412167549133301,
          2.390103578567505,
          1.0011723041534424,
          -0.27435651421546936,
          28.571273803710938,
          -2.8507192134857178,
          1.697467565536499,
          37.975215911865234,
          -30.830034255981445,
          31.27565574645996,
          -10.98106861114502,
          33.92816162109375,
          29.143783569335938,
          29.410444259643555,
          22.21874237060547,
          1.6221108436584473,
          32.179744720458984,
          12.025984764099121,
          4.89860725402832,
          13.094890594482422,
          12.382100105285645,
          -34.56439208984375,
          -35.466407775878906,
          -34.65541076660156,
          -27.597814559936523,
          -20.607177734375,
          -24.902690887451172,
          32.1242790222168,
          21.733362197875977,
          8.77436637878418,
          -19.56442642211914,
          24.494781494140625,
          -1.1703615188598633,
          -2.0807394981384277,
          -9.937888145446777,
          2.2493114471435547,
          -17.68218231201172,
          -11.401237487792969,
          -5.160845756530762,
          14.326926231384277,
          -18.30866050720215,
          -25.960403442382812,
          3.6585309505462646,
          5.9912614822387695,
          10.395605087280273,
          18.791015625,
          14.961165428161621,
          23.1769962310791,
          21.43779754638672,
          1.769300103187561,
          20.543258666992188,
          11.4293212890625,
          -0.8180130124092102,
          23.861120223999023,
          5.998855113983154,
          -3.4114327430725098,
          -2.5381786823272705,
          26.55384635925293,
          32.36382293701172,
          31.315689086914062,
          -15.469792366027832,
          21.056215286254883,
          25.654170989990234,
          26.25982093811035,
          35.11014175415039,
          20.285951614379883,
          30.336261749267578,
          35.89300537109375,
          31.5483341217041,
          14.49661636352539,
          5.523355960845947,
          31.324329376220703,
          24.08871841430664,
          22.10268211364746,
          20.473876953125,
          31.92861557006836,
          26.384416580200195,
          27.214536666870117,
          29.186208724975586,
          5.781075954437256,
          37.598365783691406,
          27.980358123779297,
          30.671892166137695,
          27.753787994384766,
          9.012263298034668,
          33.16074752807617,
          9.210945129394531,
          15.984944343566895,
          28.50699806213379,
          21.019975662231445,
          25.245342254638672,
          29.88728141784668,
          23.40248680114746,
          26.28705596923828,
          25.639596939086914,
          27.290815353393555,
          23.338449478149414,
          19.573408126831055,
          31.538658142089844,
          33.947513580322266,
          10.804098129272461,
          32.90061950683594,
          24.286556243896484,
          26.825275421142578,
          38.57971954345703,
          15.526599884033203,
          20.57951545715332,
          33.08842849731445,
          20.32655143737793,
          31.056884765625,
          5.403924942016602,
          35.31639099121094,
          26.70451545715332,
          18.344928741455078,
          17.77066421508789,
          10.94525146484375,
          8.58543872833252,
          26.11983871459961,
          25.104904174804688,
          -13.169227600097656,
          12.219444274902344,
          27.199127197265625,
          -11.314929008483887,
          -25.595016479492188,
          -9.368406295776367,
          -12.717215538024902,
          -16.510854721069336,
          30.48788833618164,
          -3.306819200515747,
          -30.687984466552734,
          -13.671635627746582,
          -0.8640115857124329,
          22.638673782348633,
          18.15590476989746,
          -3.374295711517334,
          -19.60759735107422,
          -19.419404983520508,
          -15.44770336151123,
          -12.704691886901855,
          -22.66012191772461,
          21.616802215576172,
          20.79682159423828,
          14.96016788482666,
          5.7415571212768555,
          -10.816890716552734,
          -5.402515888214111,
          -11.248756408691406,
          -19.38102149963379,
          -5.9686360359191895,
          -6.237785339355469,
          -2.2444052696228027,
          -19.542373657226562,
          -6.054172039031982,
          -12.345389366149902,
          4.566112995147705,
          -10.874149322509766,
          -11.240180969238281,
          -0.5128611326217651,
          -22.48212432861328,
          -8.674007415771484,
          -7.309070110321045,
          -27.98008918762207,
          -13.324004173278809,
          -9.433112144470215,
          16.941843032836914,
          17.183361053466797,
          28.277114868164062,
          23.197757720947266,
          21.81074333190918,
          -10.915046691894531,
          -7.642244815826416,
          8.083148002624512,
          -1.2925705909729004,
          31.3024959564209,
          -23.70751953125,
          -5.650614261627197,
          11.251762390136719,
          18.76102638244629,
          23.34378433227539,
          -17.155290603637695,
          -10.035961151123047,
          -13.236486434936523,
          0.17644184827804565,
          -31.315305709838867,
          -1.0895941257476807,
          13.674073219299316,
          24.14439582824707,
          35.50956726074219,
          14.47622299194336,
          17.49687385559082,
          27.690736770629883,
          23.17935562133789,
          16.892107009887695,
          17.785369873046875,
          24.43132781982422,
          24.239877700805664,
          29.48040771484375,
          11.922112464904785,
          13.777466773986816,
          18.67579460144043,
          22.683469772338867,
          12.869178771972656,
          24.25739860534668,
          -4.760761260986328,
          -5.279385089874268,
          -0.9403325319290161,
          -15.450254440307617,
          -14.254612922668457,
          2.634826421737671,
          -0.7340726852416992,
          25.209882736206055,
          -7.105735778808594,
          -6.371251106262207,
          0.46952104568481445,
          4.722063064575195,
          29.58371353149414,
          28.47548484802246,
          25.859355926513672,
          21.00187873840332,
          16.143699645996094,
          6.500268936157227,
          25.509111404418945,
          25.94884490966797,
          18.487401962280273,
          25.434398651123047,
          23.429500579833984,
          20.21297264099121,
          25.93486213684082,
          28.6378116607666,
          25.037124633789062,
          12.261007308959961,
          32.119049072265625,
          15.246743202209473,
          20.889041900634766,
          15.837106704711914,
          31.12664794921875,
          20.27547836303711,
          30.634117126464844,
          31.944250106811523,
          15.105692863464355,
          26.190643310546875,
          33.77021026611328,
          2.245006799697876,
          8.838964462280273,
          14.358463287353516,
          28.695201873779297,
          7.300434112548828,
          19.87045669555664,
          22.19368553161621,
          -7.711242198944092,
          1.075964331626892,
          -1.5923609733581543,
          0.006648271344602108,
          -23.6016902923584,
          -1.9759024381637573,
          26.85238265991211,
          -18.520055770874023,
          -1.2673892974853516,
          -1.4711756706237793,
          27.764827728271484,
          -11.8117094039917,
          -56.95541763305664,
          -15.793675422668457,
          4.303187847137451,
          -16.30782699584961,
          -18.86896514892578,
          -14.922566413879395,
          -19.49012565612793,
          6.745302200317383,
          -6.398429870605469,
          8.775248527526855,
          -21.775310516357422,
          -26.061805725097656,
          -10.0743408203125,
          -3.685455799102783,
          9.528522491455078,
          2.4994823932647705,
          15.699109077453613,
          25.153972625732422,
          2.651578903198242,
          -12.271906852722168,
          -2.945011854171753,
          8.340712547302246,
          14.454852104187012,
          -2.6015725135803223,
          20.101144790649414,
          1.239580750465393,
          5.802850723266602,
          18.54997444152832,
          24.81346893310547,
          -18.2601375579834,
          13.758527755737305,
          21.86485481262207,
          21.073423385620117,
          -1.3416755199432373,
          -55.5468635559082,
          11.295753479003906,
          5.900447845458984,
          14.091180801391602,
          26.181196212768555,
          3.6613476276397705,
          -17.736177444458008,
          18.424224853515625,
          -1.5541538000106812,
          -14.815691947937012,
          5.06361198425293,
          2.6558728218078613,
          14.375540733337402,
          32.85769271850586,
          0.45194345712661743,
          0.27542227506637573,
          7.346576690673828,
          -9.007951736450195,
          -5.808116912841797,
          24.66539764404297,
          -8.887948989868164,
          2.996575117111206,
          9.768406867980957,
          -20.336700439453125,
          5.50663948059082,
          18.16649627685547,
          19.71495819091797,
          -6.007375717163086,
          -3.801510810852051,
          4.069156169891357,
          10.849030494689941,
          -8.772459983825684,
          -13.879718780517578,
          -5.430386543273926,
          15.168880462646484,
          4.518509387969971,
          13.659497261047363,
          -12.599920272827148,
          -4.630909442901611,
          -4.530559062957764,
          -5.446600437164307,
          -13.259271621704102,
          15.090182304382324,
          -10.907929420471191,
          -4.033831596374512,
          -15.846322059631348,
          5.870152950286865,
          -26.455102920532227,
          -15.13415241241455,
          -7.158909797668457,
          -17.30313491821289,
          9.750260353088379,
          -9.891095161437988,
          4.820903301239014,
          11.763197898864746,
          13.211997032165527,
          -20.16282081604004,
          -13.656474113464355,
          -23.56787109375,
          23.639768600463867,
          -10.336453437805176,
          18.853004455566406,
          22.79378318786621,
          -10.265409469604492,
          -11.263435363769531,
          -14.426457405090332,
          -20.092845916748047,
          18.304744720458984,
          -14.734548568725586,
          -11.53887939453125,
          -3.545107841491699,
          25.552627563476562,
          -5.889004707336426,
          -55.27395248413086,
          2.6235878467559814,
          17.72323989868164,
          3.177612781524658,
          -55.82548904418945,
          8.6492919921875,
          -11.490718841552734,
          -27.08794403076172,
          30.02288055419922,
          10.565511703491211,
          2.163693428039551,
          -16.258647918701172,
          -4.1588358879089355,
          -4.976727485656738,
          -24.799036026000977,
          13.793571472167969,
          -19.250701904296875,
          -9.41692066192627,
          -12.13476848602295,
          21.075124740600586,
          -13.080927848815918,
          26.48504638671875,
          15.067635536193848,
          -12.439102172851562,
          -18.023115158081055,
          -4.101174354553223,
          -14.920166015625,
          13.802996635437012,
          -13.413610458374023,
          10.065720558166504,
          -53.453636169433594,
          -13.664266586303711,
          -21.100831985473633,
          -11.039453506469727,
          27.62188720703125,
          -19.854442596435547,
          -3.696406364440918,
          -7.476064205169678,
          14.623600006103516,
          -2.675629138946533,
          15.194846153259277,
          -4.103802680969238,
          -7.083667755126953,
          -23.978044509887695,
          -16.034400939941406,
          -22.425067901611328,
          -30.293720245361328,
          -9.749505996704102,
          2.903294086456299,
          -12.244976997375488,
          -18.941923141479492,
          12.934061050415039,
          20.254230499267578,
          7.61310338973999,
          -25.085186004638672,
          -28.136425018310547,
          -8.476184844970703,
          -23.270055770874023,
          22.072912216186523,
          17.791826248168945,
          7.226136207580566,
          4.840810775756836,
          -20.92399787902832,
          26.440113067626953,
          12.182295799255371,
          -22.732519149780273,
          18.826974868774414,
          23.110124588012695,
          -30.543764114379883,
          14.479056358337402,
          -0.8491259813308716,
          15.121517181396484,
          23.73312759399414,
          18.69208335876465,
          -35.69528579711914,
          2.1266205310821533,
          -18.274049758911133,
          22.500389099121094,
          -26.17455291748047,
          17.796979904174805,
          0.8784863352775574,
          19.19326400756836,
          -7.085150718688965,
          22.530284881591797,
          22.906471252441406,
          -9.576438903808594,
          -10.37524127960205,
          -20.081256866455078,
          20.318403244018555,
          -11.07468318939209,
          4.098404884338379,
          2.741431713104248,
          -21.80173683166504,
          -23.7863712310791,
          -26.05341339111328,
          -8.825316429138184,
          8.749958992004395,
          -22.054622650146484,
          1.142406702041626,
          8.81885051727295,
          9.457802772521973,
          -21.818960189819336,
          -3.819920539855957,
          7.714252948760986,
          -9.404062271118164,
          3.0882487297058105,
          -18.719005584716797,
          -10.573302268981934,
          -7.511264801025391,
          -5.502747535705566,
          -27.451278686523438,
          -10.841597557067871,
          13.357536315917969,
          -28.46967124938965,
          -2.495506763458252,
          -6.245851993560791,
          18.260730743408203,
          -29.79935646057129,
          7.09444522857666,
          25.739206314086914,
          1.8084155321121216,
          -9.616850852966309,
          -1.116746187210083,
          -24.732995986938477,
          -14.849472999572754,
          9.657357215881348,
          22.29548454284668,
          -27.486059188842773,
          -1.7130781412124634,
          -31.06758689880371,
          -7.543186664581299,
          21.69211196899414,
          -8.072966575622559,
          7.472771167755127,
          -2.0658416748046875,
          28.217439651489258,
          6.170825958251953,
          15.59567642211914,
          18.705589294433594,
          27.002294540405273,
          -7.1570210456848145,
          -9.681474685668945,
          -15.546975135803223,
          -32.27559280395508,
          -4.134283542633057,
          7.688156604766846,
          -26.03668975830078,
          -11.519315719604492,
          -15.295272827148438,
          2.3344178199768066,
          -17.73518180847168,
          12.61581039428711,
          6.39959192276001,
          -6.735975742340088,
          -4.755886554718018,
          -0.57337486743927,
          -18.95178985595703,
          -4.937034606933594,
          12.697293281555176,
          3.8372139930725098,
          -10.193306922912598,
          10.363470077514648,
          3.8720972537994385,
          25.061405181884766,
          -19.021869659423828,
          20.35174560546875,
          21.684547424316406,
          15.999582290649414,
          3.646263837814331,
          28.737062454223633,
          19.433713912963867,
          22.415632247924805,
          29.8085994720459,
          21.815935134887695,
          16.7468204498291,
          19.669761657714844,
          22.976991653442383,
          16.326417922973633,
          25.592626571655273,
          5.696148872375488,
          25.931201934814453,
          16.390167236328125,
          7.252468585968018,
          29.09815216064453,
          9.090014457702637,
          1.877943992614746,
          25.240142822265625,
          13.186095237731934,
          19.76677131652832,
          8.30057430267334,
          -11.069931030273438,
          -0.1690000593662262,
          -18.123435974121094,
          -17.59418487548828,
          -19.220216751098633,
          -7.521732330322266,
          20.790781021118164,
          -13.569994926452637,
          -13.863443374633789,
          -20.941184997558594,
          -15.125724792480469,
          2.825793981552124,
          -17.220449447631836,
          -33.01869583129883,
          -25.855833053588867,
          -16.005380630493164,
          -11.099000930786133,
          -20.68122673034668,
          -15.837969779968262,
          -11.994935035705566,
          -20.343591690063477,
          11.701623916625977,
          -11.147948265075684,
          -14.421966552734375,
          -10.767069816589355,
          -7.469541072845459,
          -6.612972259521484,
          -12.544240951538086,
          -20.321237564086914,
          -15.592460632324219,
          -12.20130729675293,
          22.25112533569336,
          6.76107120513916,
          15.83768367767334,
          6.210616588592529,
          6.51022481918335,
          11.150537490844727,
          19.51771354675293,
          6.993389129638672,
          -25.685792922973633,
          -0.8983203172683716,
          1.1562063694000244,
          -8.538530349731445,
          17.8059139251709,
          15.89145278930664,
          4.62757682800293,
          27.077960968017578,
          21.614212036132812,
          9.368922233581543,
          -23.383392333984375,
          12.911930084228516,
          -15.91928482055664,
          2.1759862899780273,
          -36.11123275756836,
          -13.781535148620605,
          -12.804877281188965,
          -14.929320335388184,
          -7.4388108253479,
          -12.317861557006836,
          -17.44912338256836,
          -14.612571716308594,
          -11.578747749328613,
          -22.245080947875977,
          -27.852195739746094,
          -11.706021308898926,
          34.37990951538086,
          -15.774086952209473,
          -2.8414862155914307,
          4.498913764953613,
          -13.973346710205078,
          -12.246646881103516,
          21.778461456298828,
          -2.8182945251464844,
          -26.08696937561035,
          17.271888732910156,
          -17.553083419799805,
          12.878501892089844,
          -15.647401809692383,
          -10.091490745544434,
          -2.441441535949707,
          -18.433382034301758,
          -12.840597152709961,
          7.9323954582214355,
          11.705931663513184,
          8.498358726501465,
          9.943485260009766,
          19.27178192138672,
          -12.223284721374512,
          1.8991858959197998,
          3.21982479095459,
          24.64954948425293,
          21.917341232299805,
          14.678986549377441,
          10.823408126831055,
          15.392269134521484,
          13.083861351013184,
          30.292835235595703,
          3.83432936668396,
          -14.539806365966797,
          16.819875717163086,
          -2.936126470565796,
          8.369743347167969,
          -1.4395720958709717,
          21.649921417236328,
          -5.2833380699157715,
          -15.991128921508789,
          17.346542358398438,
          11.687215805053711,
          1.9881166219711304,
          -1.4423962831497192,
          16.695526123046875,
          26.258075714111328,
          7.665532112121582,
          -31.487443923950195,
          -13.66746711730957,
          -26.10725212097168,
          -22.09732437133789,
          -2.588332414627075,
          -15.583688735961914,
          10.936988830566406,
          -20.54941177368164,
          -22.64102554321289,
          17.597307205200195,
          13.669693946838379,
          7.491982936859131,
          19.14942169189453,
          22.380393981933594,
          17.907901763916016,
          -24.179988861083984,
          24.32164764404297,
          21.128219604492188,
          -10.006865501403809,
          1.9894216060638428,
          -0.4480312168598175,
          19.692672729492188,
          3.869842052459717,
          1.8317031860351562,
          11.757366180419922,
          6.497042179107666,
          18.980640411376953,
          5.34944486618042,
          24.30930519104004,
          26.996559143066406,
          4.394131660461426,
          18.852262496948242,
          4.138680934906006,
          8.203009605407715,
          15.799072265625,
          20.632749557495117,
          19.09622573852539,
          5.00322151184082,
          11.325967788696289,
          26.319438934326172,
          -21.59476661682129,
          24.367687225341797,
          8.055322647094727,
          8.172285079956055,
          22.387039184570312,
          -20.921066284179688,
          -10.228386878967285,
          6.643852710723877,
          0.8403559923171997,
          5.549117088317871,
          17.309898376464844,
          4.866185665130615,
          -1.7932173013687134,
          21.545974731445312,
          20.291950225830078,
          28.724079132080078,
          22.225643157958984,
          8.911825180053711,
          -8.203659057617188,
          -38.18912124633789,
          19.529273986816406,
          21.957826614379883,
          24.596290588378906,
          16.09747314453125,
          -22.06070899963379,
          -9.221508026123047,
          8.561023712158203,
          2.9133548736572266,
          -52.92284393310547,
          19.913515090942383,
          -4.424509525299072,
          19.59909439086914,
          18.631603240966797,
          -0.00772457430139184,
          13.165273666381836,
          -11.61480712890625,
          -21.05802345275879,
          -13.938279151916504,
          -21.63516616821289,
          5.404280662536621,
          4.766086101531982,
          -12.164520263671875,
          24.666391372680664,
          26.14785385131836,
          6.691614627838135,
          17.53707504272461,
          -2.899291515350342,
          5.789658546447754,
          5.945921897888184,
          8.309139251708984,
          -25.44304847717285,
          -7.1337080001831055,
          -12.75384521484375,
          -15.735715866088867,
          -9.94925308227539,
          -10.472285270690918,
          -8.118261337280273,
          14.168182373046875,
          -14.806400299072266,
          26.90884017944336,
          24.9405460357666,
          -17.93905258178711,
          4.122622489929199,
          -7.448538303375244,
          13.009696960449219,
          20.251811981201172,
          15.59047794342041,
          14.204609870910645,
          23.479026794433594,
          22.542232513427734,
          12.835372924804688,
          23.00266456604004,
          1.5513312816619873,
          20.069652557373047,
          -55.47389602661133,
          22.9180850982666,
          16.903383255004883,
          24.44715118408203,
          -6.822323322296143,
          -15.493420600891113,
          -3.7317934036254883,
          1.630116581916809,
          -10.180078506469727,
          -14.403788566589355,
          19.773998260498047,
          1.4765607118606567,
          -12.953068733215332,
          -37.18266296386719,
          -26.663272857666016,
          -22.63155746459961,
          -12.001413345336914,
          0.4525817334651947,
          -13.878108978271484,
          -8.732409477233887,
          -17.747400283813477,
          16.26594352722168,
          20.594615936279297,
          -6.767960548400879,
          -20.59760093688965,
          20.496187210083008,
          23.408832550048828,
          -7.421386241912842,
          -12.904391288757324,
          -13.267966270446777,
          -6.607578754425049,
          24.810686111450195,
          22.733963012695312,
          -0.7606062889099121,
          -3.2865617275238037,
          -55.014068603515625,
          -9.345502853393555,
          -8.315075874328613,
          -23.77798080444336,
          5.0894293785095215,
          10.733593940734863,
          -19.244949340820312,
          -6.877091407775879,
          -10.98338794708252,
          23.27509117126465,
          -18.914274215698242,
          -0.2550031244754791,
          -7.710215091705322,
          -11.943575859069824,
          -33.520294189453125,
          3.842085123062134,
          3.0935370922088623,
          -15.984896659851074,
          -37.67190933227539,
          23.911636352539062,
          23.789403915405273,
          -25.97324562072754,
          -0.8699690103530884,
          -18.563554763793945,
          -19.135303497314453,
          15.852092742919922,
          21.4400577545166,
          28.496788024902344,
          6.04782772064209,
          -11.35824203491211,
          21.198720932006836,
          20.33818244934082,
          19.523229598999023,
          3.6393654346466064,
          -17.04340362548828,
          -7.368165016174316,
          -26.021465301513672,
          1.4916956424713135,
          -10.903874397277832,
          -18.653318405151367,
          -23.03873634338379,
          -6.540881633758545,
          2.9915032386779785,
          -4.56682825088501,
          -21.869853973388672,
          18.472431182861328,
          8.315814971923828,
          -11.738312721252441,
          -16.513158798217773,
          2.8705360889434814,
          21.32906723022461,
          -32.877967834472656,
          10.256548881530762,
          -20.035297393798828,
          -57.24777603149414,
          1.9362965822219849,
          -27.084007263183594,
          6.85291051864624,
          -8.485507011413574,
          -8.964302062988281,
          1.1765244007110596,
          -5.214260578155518,
          19.53767204284668,
          16.826902389526367,
          -12.725064277648926,
          5.337986946105957,
          6.619283199310303,
          -0.6829545497894287,
          -54.23971939086914,
          -8.880321502685547,
          7.8644938468933105,
          -23.29690933227539,
          -33.86384963989258,
          -57.06405258178711,
          -9.156259536743164,
          -16.140295028686523,
          5.284297943115234,
          12.662206649780273,
          -16.354618072509766,
          -8.296344757080078,
          -8.351556777954102,
          -32.53089141845703,
          -22.2814884185791,
          22.407577514648438,
          -32.73482131958008,
          -6.041299819946289,
          -0.3108466863632202,
          5.807596683502197,
          20.039281845092773,
          -32.47632598876953,
          9.313223838806152,
          -21.68700408935547,
          5.288698673248291,
          -55.40071487426758,
          22.39504623413086,
          6.781543254852295,
          -9.43966007232666,
          20.745920181274414,
          -31.97371482849121,
          3.8498151302337646,
          -29.344701766967773,
          -16.681842803955078,
          0.26508063077926636,
          -31.240537643432617,
          -31.713651657104492,
          -30.627058029174805,
          4.889720916748047,
          -32.21251678466797,
          -3.667339563369751,
          -7.337525367736816,
          1.5864160060882568,
          -20.66145896911621,
          -32.37044143676758,
          -52.70304489135742,
          -32.59226989746094,
          23.402463912963867,
          -33.08898162841797,
          3.005070924758911,
          -28.88446044921875,
          -19.19656753540039,
          22.73635482788086,
          -30.411388397216797,
          13.294426918029785,
          -30.098371505737305,
          -22.37485694885254,
          26.897993087768555,
          -31.68625259399414,
          -31.360212326049805,
          -55.0687255859375,
          -23.701555252075195,
          -33.00706481933594,
          24.845603942871094,
          24.251663208007812,
          28.271404266357422,
          4.879405975341797,
          -21.517614364624023,
          19.316537857055664,
          -32.696224212646484,
          -31.938508987426758,
          11.849903106689453,
          -25.4372615814209,
          6.938153266906738,
          11.326754570007324,
          0.7636964321136475,
          23.562620162963867,
          -9.025411605834961,
          2.2560863494873047,
          -24.434852600097656,
          -36.1796760559082,
          6.744892597198486,
          -36.79610824584961,
          -22.824623107910156,
          7.091238021850586,
          -22.68927764892578,
          -21.789304733276367,
          -23.084125518798828,
          -12.95353889465332,
          -16.54610252380371,
          -24.4191951751709,
          4.947422504425049,
          18.718929290771484,
          26.010164260864258,
          23.048641204833984,
          -20.330276489257812,
          7.687127113342285,
          10.09500789642334,
          -23.49439239501953,
          24.0729923248291,
          23.53746223449707,
          17.24646759033203,
          13.18921947479248,
          -19.014102935791016,
          -29.41318702697754,
          5.828310966491699,
          -13.19379997253418,
          24.128963470458984,
          -28.101821899414062,
          -7.432535171508789,
          -20.74117660522461,
          -15.691076278686523,
          12.579625129699707,
          0.5060734152793884,
          23.72394561767578,
          -11.170462608337402,
          -28.79253578186035,
          6.053771018981934,
          -2.017401933670044,
          -14.924294471740723,
          21.37782859802246,
          23.234403610229492,
          2.9830379486083984,
          0.7276769280433655,
          30.141441345214844,
          -8.018872261047363,
          -7.758020401000977,
          -6.199841499328613,
          -30.27484130859375,
          -8.900496482849121,
          3.615150213241577,
          -16.249521255493164,
          -27.54242515563965,
          -14.360097885131836,
          22.117122650146484,
          -8.535900115966797,
          -2.3040623664855957,
          -8.683883666992188,
          -17.38897705078125,
          3.6291301250457764,
          2.9398391246795654,
          25.25690269470215,
          -16.803115844726562,
          25.277738571166992,
          -54.4785041809082,
          24.129467010498047,
          25.388408660888672,
          27.830257415771484,
          26.58340072631836,
          -54.292152404785156,
          16.92473793029785,
          0.28322625160217285,
          25.83278465270996,
          25.32088279724121,
          26.969335556030273,
          12.002355575561523,
          -53.05491638183594,
          20.960580825805664,
          22.041812896728516,
          -22.24877166748047,
          15.810077667236328,
          22.409406661987305,
          16.57830810546875,
          10.404041290283203,
          7.303204536437988,
          -12.017704010009766,
          -20.698963165283203,
          -19.160234451293945,
          -54.33583450317383,
          8.46746826171875,
          11.2459077835083,
          16.499874114990234,
          -55.14659118652344,
          -22.46040153503418,
          7.292376518249512,
          -7.632524013519287,
          -6.101816654205322,
          -6.862105846405029,
          12.982874870300293,
          -9.727102279663086,
          6.743025779724121,
          10.321742057800293,
          -30.868026733398438,
          -25.73383140563965,
          18.43770980834961,
          -8.582708358764648,
          -6.304414749145508,
          -57.61648178100586,
          -6.189520835876465,
          -53.41324234008789,
          -30.769193649291992,
          9.995744705200195,
          -11.537426948547363,
          -27.528596878051758,
          -5.943635940551758,
          15.679283142089844,
          7.506246089935303,
          25.46981430053711,
          -31.0590763092041,
          0.9217788577079773,
          8.144007682800293,
          -57.101585388183594,
          23.66739273071289,
          21.20426368713379,
          -15.165398597717285,
          -23.49661636352539,
          20.782211303710938,
          14.912482261657715,
          25.26741600036621,
          0.3131198287010193,
          17.079214096069336,
          11.895159721374512,
          4.3602375984191895,
          -13.642398834228516,
          -11.121125221252441,
          -2.5011630058288574,
          -21.70224380493164,
          17.501689910888672,
          -16.15005874633789,
          23.025558471679688,
          19.401578903198242,
          22.774808883666992,
          -53.557716369628906,
          -21.561124801635742,
          20.655851364135742,
          23.132471084594727,
          -20.300729751586914,
          17.04874038696289,
          -27.385040283203125,
          25.246885299682617,
          -21.138389587402344,
          20.523942947387695,
          30.734561920166016,
          11.904909133911133,
          0.3945414423942566,
          -23.369449615478516,
          -7.351652145385742,
          28.038578033447266,
          -1.069088339805603,
          -56.20411682128906,
          -14.129154205322266,
          -7.892117023468018,
          -36.92940139770508,
          -56.18985366821289,
          -34.60585021972656,
          -33.83135986328125,
          -39.90522003173828,
          -57.01201248168945,
          6.767688751220703,
          0.8899803757667542,
          -39.880157470703125,
          22.497631072998047,
          -0.13817128539085388,
          -36.59244155883789,
          18.777280807495117,
          -34.167884826660156,
          16.030973434448242,
          -36.95356750488281,
          -33.98019790649414,
          -34.76491165161133,
          -55.26869201660156,
          -35.971923828125,
          -54.841949462890625,
          -53.690223693847656,
          -36.29021072387695,
          -36.61419677734375,
          -56.696189880371094,
          -35.52595901489258,
          -36.470611572265625,
          -33.81174850463867,
          -36.05437088012695,
          -36.779422760009766,
          -36.06877136230469,
          -36.76753234863281,
          23.94886016845703,
          -34.11568069458008,
          -37.22590637207031,
          -56.248783111572266,
          -34.345863342285156,
          -56.32754898071289,
          -55.16340255737305,
          24.091449737548828,
          -37.274757385253906,
          -36.40972137451172,
          -21.598175048828125,
          4.281129360198975,
          -23.040597915649414,
          11.60240650177002,
          21.110393524169922,
          -55.128578186035156,
          3.157443046569824,
          -56.36542510986328,
          -22.570579528808594,
          24.9514217376709,
          -24.983661651611328,
          26.70322036743164,
          3.7043793201446533,
          -28.194459915161133,
          4.632265567779541,
          -53.9062385559082,
          23.425086975097656,
          3.2853074073791504,
          -22.169862747192383,
          3.671595573425293,
          -26.170866012573242,
          -30.72193145751953,
          -17.186935424804688,
          17.11406135559082,
          -6.9043354988098145,
          -8.327386856079102,
          -53.11959457397461,
          -20.7222957611084,
          -53.70467758178711,
          3.6328041553497314,
          -56.115928649902344,
          0.1712382435798645,
          -12.270072937011719,
          -30.981477737426758,
          -12.187108993530273,
          20.68384552001953,
          -22.407352447509766,
          -7.488190650939941,
          -31.396854400634766,
          2.740537643432617,
          15.219015121459961,
          21.221839904785156,
          22.733823776245117,
          21.09665870666504,
          23.339845657348633,
          23.200841903686523,
          22.081031799316406,
          22.717226028442383,
          -53.93447494506836,
          22.893159866333008,
          -53.583919525146484,
          23.72957420349121,
          22.98020362854004,
          -54.705116271972656,
          15.44825267791748,
          -7.532042503356934,
          -54.256248474121094,
          -54.71611404418945,
          16.75737190246582,
          23.185039520263672,
          -56.199913024902344,
          23.187259674072266,
          -55.66816711425781,
          -56.54415512084961,
          -17.700027465820312,
          -55.07649612426758,
          -54.0052490234375,
          -55.63436508178711,
          -21.420085906982422,
          3.2454967498779297,
          12.681087493896484,
          -30.883913040161133,
          -27.209877014160156,
          -31.431903839111328,
          -26.727249145507812,
          -21.195262908935547,
          -3.217855930328369,
          -54.80735778808594,
          -21.539642333984375,
          -21.370147705078125,
          -21.693073272705078,
          -21.152851104736328,
          -21.640016555786133,
          -30.090986251831055,
          1.7020273208618164,
          0.742656409740448,
          25.785295486450195,
          -55.23286819458008,
          -20.84010887145996,
          21.748764038085938,
          -30.151630401611328,
          -21.2020320892334,
          -21.43189811706543,
          3.536278486251831,
          22.47688865661621
         ],
         "xaxis": "x",
         "y": [
          -3.580744981765747,
          6.213332176208496,
          -2.355821371078491,
          13.027429580688477,
          3.9454030990600586,
          -18.365028381347656,
          11.554360389709473,
          -3.8509981632232666,
          -6.717828273773193,
          -15.918070793151855,
          4.44743537902832,
          -22.854541778564453,
          -25.627662658691406,
          -16.621721267700195,
          -7.055943489074707,
          -2.0927138328552246,
          15.46216106414795,
          13.238787651062012,
          -24.11461639404297,
          -21.064449310302734,
          1.1206156015396118,
          -1.2474708557128906,
          -17.507841110229492,
          7.791321754455566,
          -10.343399047851562,
          12.78553581237793,
          -11.205994606018066,
          -20.442712783813477,
          -5.073876857757568,
          -12.500761032104492,
          -0.956750750541687,
          -17.509366989135742,
          -3.0375850200653076,
          -15.950374603271484,
          23.831205368041992,
          13.64289379119873,
          8.75987434387207,
          -1.8663537502288818,
          -12.893980979919434,
          -1.4957016706466675,
          9.555510520935059,
          -20.422157287597656,
          7.254271984100342,
          -13.740921974182129,
          -23.702407836914062,
          -22.25366973876953,
          -13.195280075073242,
          -16.12907600402832,
          -10.273186683654785,
          12.31392765045166,
          1.4369865655899048,
          -6.621683597564697,
          4.652219295501709,
          2.121838331222534,
          -23.8032169342041,
          -19.913728713989258,
          -11.249428749084473,
          12.972119331359863,
          -18.224557876586914,
          -17.534975051879883,
          -18.181804656982422,
          -5.818426609039307,
          14.808536529541016,
          -22.890907287597656,
          -10.70479679107666,
          -2.9875288009643555,
          7.061193466186523,
          7.642529487609863,
          4.9963555335998535,
          -9.742398262023926,
          -1.8088586330413818,
          2.705171823501587,
          -2.9028592109680176,
          17.398977279663086,
          8.841922760009766,
          -10.58071517944336,
          -0.8151779770851135,
          9.56729507446289,
          4.745981216430664,
          15.167892456054688,
          -2.201639413833618,
          4.638818740844727,
          -5.997858047485352,
          -9.2926607131958,
          13.991358757019043,
          -22.515628814697266,
          -7.896501064300537,
          -1.4028722047805786,
          -0.9610720276832581,
          15.968201637268066,
          13.432579040527344,
          0.08802369982004166,
          15.043099403381348,
          3.8671164512634277,
          -2.839949369430542,
          10.495333671569824,
          3.6996350288391113,
          -1.1814663410186768,
          -2.630314588546753,
          -7.981295585632324,
          1.4545657634735107,
          8.682513236999512,
          16.272851943969727,
          12.566314697265625,
          4.057651042938232,
          -6.83128547668457,
          1.9246867895126343,
          -0.907569408416748,
          16.242216110229492,
          16.843032836914062,
          -8.888050079345703,
          -3.922870635986328,
          -23.720626831054688,
          -10.702421188354492,
          -3.7581863403320312,
          -14.341593742370605,
          -6.709282875061035,
          -6.439089298248291,
          -12.426385879516602,
          -5.250518798828125,
          -6.436615467071533,
          17.98112678527832,
          16.252220153808594,
          -14.017069816589355,
          -4.091062068939209,
          -11.589160919189453,
          -4.990557670593262,
          8.92874813079834,
          10.94416618347168,
          16.395843505859375,
          -5.853813171386719,
          -5.644920349121094,
          -3.0316593647003174,
          -9.751204490661621,
          -0.07134117186069489,
          -3.9731907844543457,
          -15.243171691894531,
          -2.818631172180176,
          17.436065673828125,
          -1.8960621356964111,
          5.275882244110107,
          10.324522972106934,
          -5.933526992797852,
          11.24069595336914,
          2.6187775135040283,
          -3.302767038345337,
          3.4830377101898193,
          -5.026098251342773,
          12.219194412231445,
          -15.329424858093262,
          5.523308753967285,
          0.37618181109428406,
          6.128743648529053,
          -2.3775691986083984,
          -3.137734889984131,
          -20.32452392578125,
          -1.783034324645996,
          13.269305229187012,
          -8.728867530822754,
          -21.397247314453125,
          -1.36979341506958,
          -8.45276927947998,
          6.939456939697266,
          11.131173133850098,
          -22.022377014160156,
          -13.693005561828613,
          18.014305114746094,
          -1.620975136756897,
          -23.68278694152832,
          -17.9354248046875,
          -14.477571487426758,
          12.21066951751709,
          8.305522918701172,
          11.633416175842285,
          -2.4108967781066895,
          10.323773384094238,
          8.18442153930664,
          -3.8577892780303955,
          0.9427790641784668,
          -17.694795608520508,
          12.305343627929688,
          0.19920280575752258,
          9.372692108154297,
          14.941280364990234,
          0.4153558909893036,
          11.350912094116211,
          -4.925147533416748,
          -0.8905564546585083,
          -12.65583324432373,
          -8.844874382019043,
          -3.1681740283966064,
          -8.419899940490723,
          -3.0273642539978027,
          -1.4440456628799438,
          12.124996185302734,
          -4.47412109375,
          -4.062119007110596,
          -23.631481170654297,
          -1.2072241306304932,
          14.775749206542969,
          -6.334965229034424,
          2.536134719848633,
          -0.7918373942375183,
          10.097256660461426,
          8.089476585388184,
          -15.183363914489746,
          -12.815685272216797,
          -1.2165203094482422,
          -12.648699760437012,
          -2.4879074096679688,
          -1.9066563844680786,
          -21.895538330078125,
          -10.072218894958496,
          14.121333122253418,
          4.508245468139648,
          -8.902044296264648,
          16.1109561920166,
          -9.699978828430176,
          2.7302918434143066,
          -9.114313125610352,
          -14.505720138549805,
          -7.425365447998047,
          -1.3032727241516113,
          -19.9326114654541,
          6.93638277053833,
          4.718405723571777,
          12.69385051727295,
          12.172143936157227,
          9.746474266052246,
          12.188712120056152,
          18.800050735473633,
          -0.047280944883823395,
          2.0117104053497314,
          1.959281086921692,
          18.22454261779785,
          -19.163677215576172,
          -7.26976203918457,
          -19.266551971435547,
          -0.6819629669189453,
          16.77998161315918,
          -9.370319366455078,
          -23.254276275634766,
          -21.48632049560547,
          -12.053583145141602,
          -14.316391944885254,
          -26.14588737487793,
          9.63876724243164,
          4.5234880447387695,
          15.82835578918457,
          15.14565658569336,
          -25.48550796508789,
          5.560635566711426,
          -13.415047645568848,
          5.659600257873535,
          -6.0775227546691895,
          -3.591799736022949,
          -3.5035316944122314,
          -25.40684700012207,
          -21.930049896240234,
          -21.370813369750977,
          -16.601530075073242,
          -11.21568775177002,
          15.918736457824707,
          -15.637701988220215,
          4.462061882019043,
          -16.156688690185547,
          -9.574749946594238,
          -26.206453323364258,
          -27.038257598876953,
          -19.095420837402344,
          -21.38545036315918,
          -26.150659561157227,
          -13.121758460998535,
          -4.415773391723633,
          -10.259011268615723,
          -25.445363998413086,
          -3.736640453338623,
          -6.007526397705078,
          1.1946032047271729,
          -0.027429988607764244,
          -12.026825904846191,
          -8.72169303894043,
          -21.174232482910156,
          17.03326988220215,
          -18.132482528686523,
          -28.067508697509766,
          -23.348114013671875,
          9.139567375183105,
          -16.3758544921875,
          19.18650245666504,
          -10.732934951782227,
          -15.836353302001953,
          4.58265495300293,
          -23.858333587646484,
          1.393018126487732,
          -1.342092752456665,
          -19.512882232666016,
          -12.641143798828125,
          -15.746644020080566,
          -9.905993461608887,
          2.58420729637146,
          -26.5946044921875,
          -28.576797485351562,
          -24.339893341064453,
          -28.355331420898438,
          -25.221778869628906,
          -24.406566619873047,
          -13.761866569519043,
          -18.292360305786133,
          -25.256328582763672,
          -25.77912712097168,
          -23.87383460998535,
          -24.88420867919922,
          17.828907012939453,
          -25.920656204223633,
          -25.950382232666016,
          -15.522602081298828,
          -1.166775107383728,
          -25.053131103515625,
          16.101503372192383,
          20.666894912719727,
          -20.59969711303711,
          -20.993892669677734,
          -12.681941986083984,
          -19.282459259033203,
          -19.980209350585938,
          -21.938377380371094,
          -23.987478256225586,
          -14.482087135314941,
          -15.413850784301758,
          -21.63595962524414,
          -23.723363876342773,
          -23.94908905029297,
          -24.194808959960938,
          10.094301223754883,
          10.24040699005127,
          -3.881373643875122,
          -1.9914888143539429,
          -17.132221221923828,
          -27.708585739135742,
          -17.105234146118164,
          8.70849323272705,
          -16.63585090637207,
          -27.30653953552246,
          -24.565263748168945,
          -27.340269088745117,
          -26.292221069335938,
          -14.307637214660645,
          -20.827678680419922,
          -22.70144271850586,
          0.7051662802696228,
          15.462830543518066,
          15.148126602172852,
          -8.027732849121094,
          -6.703016757965088,
          6.136429786682129,
          -5.190159320831299,
          7.043745994567871,
          -17.922700881958008,
          -17.122623443603516,
          -18.733644485473633,
          1.6258131265640259,
          11.871179580688477,
          9.342588424682617,
          5.946061134338379,
          -2.2198991775512695,
          -4.720012187957764,
          -3.7106776237487793,
          -11.387679100036621,
          -3.502122402191162,
          -23.503313064575195,
          -17.69709587097168,
          13.759909629821777,
          -4.550550937652588,
          17.746625900268555,
          16.541765213012695,
          0.22498156130313873,
          1.2925182580947876,
          -5.055920124053955,
          0.4243590235710144,
          -20.030485153198242,
          -14.08920669555664,
          8.935393333435059,
          18.198719024658203,
          4.642201900482178,
          18.852771759033203,
          -12.50536060333252,
          17.113567352294922,
          0.8400862812995911,
          6.2040791511535645,
          4.740159034729004,
          11.777950286865234,
          0.5473545789718628,
          -4.569045066833496,
          13.962783813476562,
          8.08877182006836,
          12.470446586608887,
          17.6409969329834,
          0.0023842081427574158,
          14.723542213439941,
          9.335224151611328,
          0.7484673857688904,
          9.35527515411377,
          1.0954842567443848,
          -6.362066745758057,
          21.172266006469727,
          7.476819038391113,
          -23.674894332885742,
          -10.339408874511719,
          17.410717010498047,
          1.418107271194458,
          13.624924659729004,
          4.273571491241455,
          5.899781227111816,
          -3.398871660232544,
          7.0656023025512695,
          -5.5339274406433105,
          -2.3731887340545654,
          -5.975005626678467,
          -7.8497748374938965,
          -18.344953536987305,
          13.59062385559082,
          -1.5980465412139893,
          19.461214065551758,
          -17.22470474243164,
          -6.988653182983398,
          -6.563147068023682,
          -7.716986179351807,
          -1.0121676921844482,
          1.7625828981399536,
          2.196833848953247,
          4.373372554779053,
          13.865346908569336,
          -3.5915017127990723,
          0.3343372642993927,
          4.654898643493652,
          19.47547721862793,
          19.191831588745117,
          18.402605056762695,
          13.331876754760742,
          4.826457500457764,
          13.23839282989502,
          3.6845545768737793,
          10.174324989318848,
          5.75869083404541,
          0.3707871735095978,
          14.842157363891602,
          17.345264434814453,
          10.183893203735352,
          16.928821563720703,
          -3.6029725074768066,
          -3.0109364986419678,
          15.156535148620605,
          -3.699181318283081,
          6.019111633300781,
          6.179727554321289,
          2.744755268096924,
          -22.15016746520996,
          -18.4825496673584,
          -5.906915187835693,
          -3.0538275241851807,
          -12.909730911254883,
          -4.721951007843018,
          -10.506463050842285,
          -0.9806201457977295,
          -3.6053318977355957,
          -22.386137008666992,
          -11.55105209350586,
          -17.242355346679688,
          0.2769222557544708,
          -10.405070304870605,
          -2.113075017929077,
          9.671235084533691,
          -11.722935676574707,
          -19.116050720214844,
          -8.189437866210938,
          -14.179954528808594,
          -10.78331470489502,
          -9.66544246673584,
          -6.1899027824401855,
          -5.7376837730407715,
          -3.8198037147521973,
          -10.118833541870117,
          0.9807738065719604,
          -14.225451469421387,
          6.081132888793945,
          -9.206543922424316,
          -0.12625767290592194,
          -10.794447898864746,
          -7.074582099914551,
          1.777524709701538,
          -2.4827749729156494,
          -7.434082984924316,
          -3.4833340644836426,
          2.5669643878936768,
          -0.8293872475624084,
          0.47320887446403503,
          -8.098640441894531,
          -11.755876541137695,
          2.2161309719085693,
          1.0389423370361328,
          0.6318541169166565,
          -2.6511261463165283,
          5.195693492889404,
          -2.3230972290039062,
          -3.4652833938598633,
          -6.279703140258789,
          -25.84425926208496,
          -6.0501861572265625,
          -5.032995700836182,
          -17.38926887512207,
          -13.932068824768066,
          -12.540390014648438,
          -14.066995620727539,
          -7.700948238372803,
          -8.170412063598633,
          -13.360779762268066,
          -3.0935091972351074,
          -4.576542377471924,
          -2.301856279373169,
          -2.2732317447662354,
          -11.123387336730957,
          -3.837092638015747,
          -11.637791633605957,
          1.2184410095214844,
          4.014414310455322,
          -4.027610778808594,
          -11.046188354492188,
          -20.637643814086914,
          -4.582265853881836,
          -17.45952033996582,
          -19.226186752319336,
          -7.946598052978516,
          -1.1743104457855225,
          -8.756813049316406,
          -10.881163597106934,
          -8.635174751281738,
          -19.879690170288086,
          -0.14334630966186523,
          3.665337085723877,
          1.8367114067077637,
          5.030428886413574,
          -11.886713981628418,
          -17.06924819946289,
          12.816136360168457,
          -8.165242195129395,
          -20.98802375793457,
          11.129080772399902,
          -19.262359619140625,
          4.782228946685791,
          -0.6900436282157898,
          -1.7480149269104004,
          -5.355968475341797,
          0.9374229907989502,
          10.141865730285645,
          15.183856010437012,
          -12.618181228637695,
          3.578474283218384,
          9.384355545043945,
          11.277007102966309,
          6.332090377807617,
          0.9946838617324829,
          -1.0227313041687012,
          15.660168647766113,
          18.212541580200195,
          3.865844964981079,
          4.508207321166992,
          -2.626633405685425,
          8.623093605041504,
          -11.569445610046387,
          18.925567626953125,
          -4.429778575897217,
          3.7117018699645996,
          8.527122497558594,
          16.003564834594727,
          15.683063507080078,
          10.659950256347656,
          0.300465852022171,
          3.2414629459381104,
          -2.956153392791748,
          2.4489684104919434,
          -12.291360855102539,
          5.186014652252197,
          4.293424129486084,
          13.891891479492188,
          18.4892635345459,
          4.1725850105285645,
          -6.077245235443115,
          -17.0134220123291,
          11.956174850463867,
          -8.399270057678223,
          2.0850372314453125,
          -6.9675164222717285,
          18.704809188842773,
          -4.027078151702881,
          -8.746710777282715,
          6.2012104988098145,
          15.277253150939941,
          21.917827606201172,
          16.816633224487305,
          -11.341181755065918,
          -5.209831714630127,
          -6.042227268218994,
          -14.767017364501953,
          4.029895782470703,
          -11.156424522399902,
          -20.645349502563477,
          -15.823766708374023,
          16.181154251098633,
          0.6301271319389343,
          -6.315274238586426,
          -1.2980705499649048,
          -9.047750473022461,
          -11.212458610534668,
          -17.031391143798828,
          0.9134711623191833,
          1.56476628780365,
          4.069669246673584,
          -11.241244316101074,
          14.57931137084961,
          18.330759048461914,
          -5.476667404174805,
          1.6479445695877075,
          19.229013442993164,
          -11.708135604858398,
          0.7959577441215515,
          1.4801404476165771,
          -8.732473373413086,
          4.902385711669922,
          0.4676799178123474,
          -12.677472114562988,
          -9.28968334197998,
          -6.646740436553955,
          -2.0573489665985107,
          5.628256320953369,
          17.209951400756836,
          17.905433654785156,
          -8.850951194763184,
          -10.565390586853027,
          6.774399280548096,
          -7.818262100219727,
          -7.782359600067139,
          -2.626211643218994,
          2.2998974323272705,
          -11.475895881652832,
          7.6366119384765625,
          -12.429957389831543,
          -11.919361114501953,
          -4.706419944763184,
          -6.7809977531433105,
          -2.948796033859253,
          -16.527193069458008,
          -11.880711555480957,
          -16.106664657592773,
          -1.3956762552261353,
          0.2724892497062683,
          -6.295264720916748,
          -1.3107990026474,
          -22.081905364990234,
          -5.002822399139404,
          2.4680325984954834,
          2.184356689453125,
          -14.804239273071289,
          -4.867084980010986,
          9.620635986328125,
          13.851947784423828,
          16.083641052246094,
          19.6839599609375,
          8.151711463928223,
          6.847405910491943,
          -1.5998427867889404,
          13.12436580657959,
          0.8393318057060242,
          7.162264823913574,
          3.8785173892974854,
          -13.108651161193848,
          8.782207489013672,
          -21.029382705688477,
          15.433978080749512,
          -16.210641860961914,
          -3.798828601837158,
          -20.701412200927734,
          18.761083602905273,
          3.963609218597412,
          -4.92107629776001,
          -1.0074915885925293,
          7.168868064880371,
          5.509537696838379,
          -18.357873916625977,
          -24.768760681152344,
          -9.134000778198242,
          4.4449238777160645,
          0.3399316072463989,
          -6.807148456573486,
          -14.766883850097656,
          -10.938578605651855,
          -19.520292282104492,
          -5.120170593261719,
          -4.935949325561523,
          -12.53792667388916,
          -1.3971410989761353,
          22.797136306762695,
          -5.766788482666016,
          9.008127212524414,
          -8.265810012817383,
          0.5687209367752075,
          -15.927678108215332,
          -5.488863468170166,
          -18.83388900756836,
          1.1501542329788208,
          10.161913871765137,
          0.1964610368013382,
          -23.64531898498535,
          -9.175408363342285,
          8.775177955627441,
          -4.217624187469482,
          -1.1896299123764038,
          -13.387075424194336,
          12.415067672729492,
          1.954511284828186,
          13.91154956817627,
          -6.780181407928467,
          9.470311164855957,
          -8.550139427185059,
          9.945380210876465,
          8.107246398925781,
          2.0667693614959717,
          11.845641136169434,
          -1.6441982984542847,
          -4.73097038269043,
          11.311918258666992,
          4.176568984985352,
          -14.00340461730957,
          17.144132614135742,
          -2.0007503032684326,
          -13.115660667419434,
          10.211516380310059,
          14.791213989257812,
          -1.3462167978286743,
          -18.268230438232422,
          -2.3650460243225098,
          -9.275650024414062,
          14.570744514465332,
          -18.709354400634766,
          -8.257675170898438,
          -2.2148077487945557,
          -2.769453287124634,
          -18.879348754882812,
          -15.567427635192871,
          -26.230058670043945,
          -22.87233543395996,
          -16.43506622314453,
          -19.72526741027832,
          -13.993151664733887,
          6.655418395996094,
          -7.484576225280762,
          -0.22217914462089539,
          12.69983959197998,
          8.857202529907227,
          -12.436915397644043,
          -9.737081527709961,
          17.56810760498047,
          -3.5152454376220703,
          -9.698561668395996,
          -4.720335006713867,
          1.9420119524002075,
          21.176589965820312,
          -6.610990524291992,
          -2.6704211235046387,
          -1.868940830230713,
          15.700810432434082,
          -3.115938901901245,
          16.942813873291016,
          -0.7003169655799866,
          10.90482234954834,
          -3.154445171356201,
          11.45534610748291,
          0.8125255703926086,
          -0.0759759396314621,
          4.175898551940918,
          8.57325267791748,
          5.22825288772583,
          4.1458964347839355,
          7.123674392700195,
          -5.983044624328613,
          7.330580234527588,
          -1.0672975778579712,
          8.372584342956543,
          -12.842415809631348,
          4.278595447540283,
          21.28154945373535,
          1.4253913164138794,
          -11.620769500732422,
          -0.4147256314754486,
          5.035065174102783,
          9.110304832458496,
          12.297225952148438,
          20.803707122802734,
          -17.99160385131836,
          -1.9825631380081177,
          4.909420967102051,
          12.860487937927246,
          19.929431915283203,
          3.0964694023132324,
          -3.835845708847046,
          -11.309773445129395,
          -3.8211591243743896,
          -1.5030741691589355,
          -3.5332236289978027,
          -1.4542243480682373,
          -18.673025131225586,
          -3.260920286178589,
          -25.101884841918945,
          8.377864837646484,
          4.378021240234375,
          12.092507362365723,
          2.9590771198272705,
          19.62386131286621,
          -6.402227878570557,
          0.8798072934150696,
          0.0559530146420002,
          5.740678310394287,
          6.525923252105713,
          11.607998847961426,
          6.6943769454956055,
          16.61356544494629,
          -5.139890193939209,
          -1.4137969017028809,
          4.49468469619751,
          21.030397415161133,
          8.236113548278809,
          7.963456153869629,
          -2.6520278453826904,
          6.984643936157227,
          -15.480230331420898,
          -2.1744394302368164,
          0.8231296539306641,
          12.648140907287598,
          20.549692153930664,
          13.41330623626709,
          -2.809288740158081,
          -0.46265679597854614,
          10.865995407104492,
          -14.052647590637207,
          -8.683751106262207,
          -5.313263893127441,
          -12.813824653625488,
          -4.3804168701171875,
          -3.6415228843688965,
          -8.500798225402832,
          -8.137584686279297,
          21.68079376220703,
          15.099035263061523,
          -21.072412490844727,
          -15.662827491760254,
          -14.942123413085938,
          11.047637939453125,
          18.95993995666504,
          -15.205570220947266,
          0.6379295587539673,
          5.370923042297363,
          22.23148536682129,
          -1.1737321615219116,
          7.179182052612305,
          -23.78621482849121,
          -6.164947509765625,
          -9.310662269592285,
          -8.467636108398438,
          -0.9477304816246033,
          6.38910436630249,
          7.728567600250244,
          17.968212127685547,
          -21.5253963470459,
          -20.36782455444336,
          19.532991409301758,
          -0.7508094906806946,
          3.470358371734619,
          4.704030513763428,
          -18.49869155883789,
          -15.91477108001709,
          -0.6554433703422546,
          -17.681875228881836,
          -10.330696105957031,
          -10.822037696838379,
          3.2300734519958496,
          -16.752405166625977,
          -21.871715545654297,
          -14.137420654296875,
          -21.863910675048828,
          8.760599136352539,
          -20.474300384521484,
          4.308350086212158,
          -14.692641258239746,
          7.658285140991211,
          -21.452486038208008,
          -19.40636444091797,
          14.08692741394043,
          -23.79445457458496,
          -18.660776138305664,
          -12.330887794494629,
          17.354793548583984,
          -25.462129592895508,
          20.84612274169922,
          -21.637123107910156,
          -11.277787208557129,
          -14.23121452331543,
          15.325133323669434,
          -13.577005386352539,
          -16.583454132080078,
          20.935279846191406,
          17.98858642578125,
          -15.550501823425293,
          21.51131248474121,
          -17.960262298583984,
          -8.487424850463867,
          -15.827754974365234,
          -9.040266036987305,
          -1.4686267375946045,
          -4.967556476593018,
          15.313081741333008,
          -17.827560424804688,
          -17.079130172729492,
          -17.665817260742188,
          -10.196383476257324,
          -12.861355781555176,
          6.310238838195801,
          13.58045768737793,
          2.7258708477020264,
          -8.17584228515625,
          -1.7464064359664917,
          16.17483901977539,
          4.838825702667236,
          11.04790210723877,
          -6.211362838745117,
          -12.407010078430176,
          -9.530162811279297,
          -17.674936294555664,
          -15.742297172546387,
          -8.794907569885254,
          10.72800350189209,
          9.845975875854492,
          2.6032321453094482,
          -14.427340507507324,
          12.991646766662598,
          -7.8899760246276855,
          12.071410179138184,
          -10.080230712890625,
          12.109222412109375,
          6.793758392333984,
          16.617828369140625,
          9.662128448486328,
          17.03504180908203,
          12.178893089294434,
          -5.988700866699219,
          -11.607401847839355,
          -13.859332084655762,
          7.709348678588867,
          -21.42886734008789,
          -12.61575698852539,
          -16.321617126464844,
          -13.906342506408691,
          16.670372009277344,
          -2.404625654220581,
          1.877689003944397,
          -8.541854858398438,
          -0.3531847894191742,
          8.121826171875,
          -6.188267230987549,
          -20.40321922302246,
          0.986003041267395,
          -13.563096046447754,
          -8.722197532653809,
          -6.686349391937256,
          6.431046009063721,
          1.2091480493545532,
          17.24325180053711,
          1.3233004808425903,
          24.43841552734375,
          -14.052388191223145,
          6.089205741882324,
          12.260374069213867,
          7.856236934661865,
          -7.264993190765381,
          -21.656476974487305,
          -11.80262565612793,
          2.303581476211548,
          19.714004516601562,
          -3.1101443767547607,
          -2.921281099319458,
          -16.8886661529541,
          20.889320373535156,
          20.146217346191406,
          -9.473405838012695,
          5.194029331207275,
          -11.597957611083984,
          9.512286186218262,
          17.40440559387207,
          16.70123291015625,
          1.8378249406814575,
          13.144288063049316,
          19.184871673583984,
          6.655738830566406,
          20.9298095703125,
          -0.7122255563735962,
          -14.533573150634766,
          -12.746211051940918,
          -4.984420299530029,
          -14.172892570495605,
          -12.969366073608398,
          -15.438817977905273,
          4.715376853942871,
          8.525887489318848,
          4.863150596618652,
          9.178735733032227,
          -8.900653839111328,
          -4.469986915588379,
          2.544734239578247,
          7.924773216247559,
          -16.556316375732422,
          1.8813278675079346,
          -9.726065635681152,
          -1.9420021772384644,
          -7.21868896484375,
          -16.677072525024414,
          -16.538515090942383,
          -17.069738388061523,
          20.36172866821289,
          -10.043424606323242,
          15.177630424499512,
          9.994690895080566,
          5.875286102294922,
          3.4493343830108643,
          -5.132702827453613,
          10.960444450378418,
          -6.023184776306152,
          6.131364822387695,
          10.793722152709961,
          -15.705857276916504,
          -1.3254903554916382,
          2.0284626483917236,
          8.27109146118164,
          -10.385017395019531,
          -4.444573879241943,
          -7.114988803863525,
          -6.989828109741211,
          12.903757095336914,
          -1.714087724685669,
          5.616867542266846,
          7.570973873138428,
          -5.336451530456543,
          -7.159880638122559,
          9.19937515258789,
          -0.9044517874717712,
          7.529431343078613,
          -4.590250015258789,
          -12.340662956237793,
          18.64248275756836,
          -3.594607353210449,
          -0.17838123440742493,
          -5.419079780578613,
          6.254663467407227,
          -20.35545539855957,
          3.466519832611084,
          -5.6888322830200195,
          -14.905049324035645,
          -7.0341796875,
          -20.588247299194336,
          -22.41324806213379,
          -6.824013710021973,
          -15.051593780517578,
          -7.607712268829346,
          8.67474365234375,
          -18.02337074279785,
          0.5657979846000671,
          -7.180845260620117,
          3.0524847507476807,
          4.935757637023926,
          9.177448272705078,
          15.369756698608398,
          -20.06297492980957,
          -6.299721717834473,
          -23.967605590820312,
          15.004002571105957,
          -12.264115333557129,
          8.854044914245605,
          -2.4302237033843994,
          11.992779731750488,
          17.71421241760254,
          7.482307434082031,
          -2.596024751663208,
          15.289514541625977,
          17.245071411132812,
          -13.823312759399414,
          12.664640426635742,
          11.583035469055176,
          8.70573902130127,
          -19.01163673400879,
          -11.683595657348633,
          -9.304570198059082,
          20.52235221862793,
          -14.639507293701172,
          10.641243934631348,
          -12.9904146194458,
          8.578855514526367,
          -17.79458236694336,
          -15.613884925842285,
          1.936461091041565,
          2.606321096420288,
          -12.33592414855957,
          -8.784278869628906,
          -15.508752822875977,
          -8.319493293762207,
          6.350368022918701,
          -11.37625789642334,
          -9.289880752563477,
          -13.452310562133789,
          -5.513067722320557,
          3.8837249279022217,
          -0.15825869143009186,
          -9.056636810302734,
          -10.155473709106445,
          -10.494890213012695,
          -9.991939544677734,
          1.861674189567566,
          -17.980314254760742,
          -8.053962707519531,
          20.115243911743164,
          15.017732620239258,
          -12.59028148651123,
          15.696427345275879,
          -22.025585174560547,
          -11.410223960876465,
          -5.478566646575928,
          -10.662854194641113,
          5.238632678985596,
          -9.50210189819336,
          -10.68562126159668,
          1.0670992136001587,
          2.4058163166046143,
          21.113065719604492,
          3.8802077770233154,
          -19.74211311340332,
          -3.1448233127593994,
          -15.216400146484375,
          4.234280586242676,
          19.308815002441406,
          -10.281268119812012,
          8.275080680847168,
          -13.882365226745605,
          -10.566237449645996,
          9.29896354675293,
          -12.03055191040039,
          -9.049711227416992,
          -10.183761596679688,
          7.115226745605469,
          3.86626935005188,
          13.593934059143066,
          -11.073992729187012,
          -11.571377754211426,
          -8.719040870666504,
          -8.370970726013184,
          19.612747192382812,
          -7.48490571975708,
          -5.182151794433594,
          8.017790794372559,
          -17.398252487182617,
          -17.669387817382812,
          -2.310520648956299,
          -21.339326858520508,
          14.744047164916992,
          -15.489142417907715,
          -6.26839542388916,
          11.588065147399902,
          -6.7412543296813965,
          -18.64076805114746,
          -21.22319984436035,
          14.413737297058105,
          13.588846206665039,
          13.139921188354492,
          -1.4716465473175049,
          19.78205108642578,
          15.730854988098145,
          21.18485450744629,
          3.7257940769195557,
          1.2174103260040283,
          2.182182788848877,
          10.92131233215332,
          10.748343467712402,
          0.5517429709434509,
          -7.05609655380249,
          -15.033164024353027,
          -0.9145247340202332,
          -12.512313842773438,
          -13.589094161987305,
          6.760767459869385,
          3.0609560012817383,
          -13.797053337097168,
          2.939411163330078,
          18.19809341430664,
          -10.46310806274414,
          8.376799583435059,
          -4.480288028717041,
          -13.867287635803223,
          7.070457458496094,
          8.990638732910156,
          8.409814834594727,
          13.788248062133789,
          17.022335052490234,
          15.607209205627441,
          0.990877091884613,
          -23.569734573364258,
          -11.541899681091309,
          10.492507934570312,
          17.469823837280273,
          15.282642364501953,
          18.316905975341797,
          -0.3475036919116974,
          -4.435482025146484,
          -4.097436428070068,
          -7.898775577545166,
          -11.004293441772461,
          4.034979820251465,
          2.854526996612549,
          6.230279445648193,
          8.6996488571167,
          0.9793696403503418,
          9.309412002563477,
          2.2688820362091064,
          11.075992584228516,
          20.85808563232422,
          12.607568740844727,
          19.010835647583008,
          17.689407348632812,
          -18.720932006835938,
          -24.16716766357422,
          11.178458213806152,
          -13.254201889038086,
          -14.343067169189453,
          -4.721813201904297,
          -14.528097152709961,
          -10.155137062072754,
          24.39273452758789,
          -21.196372985839844,
          1.8921213150024414,
          -3.7717578411102295,
          7.716329574584961,
          15.342283248901367,
          8.16751480102539,
          3.9531052112579346,
          18.230241775512695,
          -19.891984939575195,
          -19.420236587524414,
          -2.3974905014038086,
          21.40104103088379,
          19.413898468017578,
          20.33305549621582,
          18.257680892944336,
          11.338316917419434,
          10.563851356506348,
          16.2723445892334,
          -8.879670143127441,
          17.734088897705078,
          5.232362270355225,
          -7.016368389129639,
          -16.235685348510742,
          -16.430932998657227,
          5.090359687805176,
          2.5002214908599854,
          3.3873109817504883,
          2.0236051082611084,
          10.660422325134277,
          19.063282012939453,
          12.076521873474121,
          20.09837532043457,
          9.685331344604492,
          -4.4366865158081055,
          -17.01561737060547,
          -2.3672749996185303,
          17.14002227783203,
          16.465816497802734,
          20.855064392089844,
          -15.284674644470215,
          5.517446517944336,
          -2.41884446144104,
          0.9878361821174622,
          -12.265982627868652,
          13.039667129516602,
          -2.011012077331543,
          14.013778686523438,
          9.408232688903809,
          14.805241584777832,
          7.339937686920166,
          -22.514896392822266,
          -23.699359893798828,
          5.436869144439697,
          -19.29835319519043,
          13.10411262512207,
          -6.761277675628662,
          -8.130256652832031,
          14.588642120361328,
          6.42445707321167,
          -17.850873947143555,
          13.251673698425293,
          9.52458667755127,
          19.34772300720215,
          -5.502297878265381,
          13.170620918273926,
          21.06406593322754,
          8.401631355285645,
          8.27833366394043,
          14.879570007324219,
          -9.277246475219727,
          -0.4453177750110626,
          10.84679126739502,
          -11.539261817932129,
          -17.519115447998047,
          17.59984016418457,
          13.05191707611084,
          20.001832962036133,
          14.106057167053223,
          13.861750602722168,
          16.704952239990234,
          -11.662310600280762,
          7.546036720275879,
          13.491129875183105,
          -14.821553230285645,
          14.889643669128418,
          -15.835748672485352,
          7.609657287597656,
          2.359374761581421,
          -13.376435279846191,
          7.397302627563477,
          2.019967555999756,
          13.800168991088867,
          13.481134414672852,
          13.074114799499512,
          -0.4995245039463043,
          12.167123794555664,
          13.849836349487305,
          14.121838569641113,
          14.28002643585205,
          -11.487100601196289,
          13.264261245727539,
          -18.694717407226562,
          -15.166586875915527,
          -16.785755157470703,
          15.941864967346191,
          14.031364440917969,
          7.8491411209106445,
          14.25677490234375,
          18.497060775756836,
          13.89850902557373,
          -15.999136924743652,
          14.284147262573242,
          2.604459047317505,
          19.109891891479492,
          13.850533485412598,
          -10.126522064208984,
          14.346717834472656,
          13.07562255859375,
          -12.979848861694336,
          13.73670482635498,
          13.764607429504395,
          5.690817356109619,
          13.511045455932617,
          13.52778434753418,
          -21.30246353149414,
          -21.450218200683594,
          -3.771798849105835,
          -12.33481216430664,
          12.726780891418457,
          -10.323506355285645,
          13.70413875579834,
          14.202034950256348,
          -16.950305938720703,
          18.077232360839844,
          -14.1006441116333,
          -11.909669876098633,
          -14.678616523742676,
          19.10069465637207,
          -9.758162498474121,
          -16.71204948425293,
          4.006460666656494,
          19.693086624145508,
          -16.52857208251953,
          17.579322814941406,
          1.5603855848312378,
          -17.750234603881836,
          1.6396106481552124,
          2.361629009246826,
          1.525139570236206,
          10.965877532958984,
          3.8916842937469482,
          1.51842200756073,
          -21.100460052490234,
          -10.64377212524414,
          2.833735227584839,
          14.8619384765625,
          19.894731521606445,
          -2.21351957321167,
          -3.01755952835083,
          16.693029403686523,
          20.498109817504883,
          -2.0164406299591064,
          4.864075183868408,
          -13.307872772216797,
          15.771987915039062,
          20.81969451904297,
          -0.09090925753116608,
          2.961925983428955,
          5.5947089195251465,
          21.778541564941406,
          10.061208724975586,
          14.746504783630371,
          5.036783218383789,
          17.684232711791992,
          11.81617546081543,
          -21.350366592407227,
          7.817888259887695,
          15.556217193603516,
          -4.904003143310547,
          15.166220664978027,
          20.643165588378906,
          14.360124588012695,
          3.044696092605591,
          -10.496359825134277,
          16.04539680480957,
          -13.961227416992188,
          -14.98757266998291,
          -14.738966941833496,
          -21.035581588745117,
          18.043498992919922,
          -13.472846031188965,
          -16.281694412231445,
          9.501118659973145,
          17.930036544799805,
          10.492185592651367,
          4.923760890960693,
          4.451824188232422,
          3.0377087593078613,
          6.755840301513672,
          7.269809722900391,
          0.8139652609825134,
          7.812222480773926,
          1.245077133178711,
          2.9728643894195557,
          4.2137451171875,
          8.163896560668945,
          -12.505361557006836,
          4.203554630279541,
          -6.688304901123047,
          3.1563501358032227,
          8.795440673828125,
          8.7130765914917,
          12.411473274230957,
          3.198772668838501,
          4.286930084228516,
          2.82100510597229,
          -3.888423204421997,
          8.559443473815918,
          10.09892463684082,
          -6.644978046417236,
          19.348052978515625,
          -8.82924747467041,
          7.663100242614746,
          -20.574209213256836,
          -18.562496185302734,
          -5.915985584259033,
          1.6520617008209229,
          9.406765937805176,
          13.010048866271973,
          10.776738166809082,
          5.002025604248047,
          2.0053458213806152,
          -19.643468856811523,
          7.9492011070251465,
          2.653972864151001,
          -1.8759920597076416,
          6.999744892120361,
          17.65228843688965,
          13.257057189941406,
          15.526975631713867,
          1.614767074584961,
          -4.275033473968506,
          -0.8111749291419983,
          22.080646514892578,
          20.020761489868164,
          -7.201052665710449,
          15.05716323852539,
          13.209630012512207,
          8.112458229064941,
          13.808798789978027,
          9.976688385009766,
          21.282258987426758,
          -1.3491723537445068,
          19.606969833374023,
          21.311132431030273,
          13.716584205627441,
          -8.650919914245605,
          -0.08036547899246216,
          20.359481811523438,
          20.920265197753906,
          -0.3382057249546051,
          -9.059014320373535,
          7.128891944885254,
          -10.447526931762695,
          7.023401260375977,
          0.4858628213405609,
          13.176532745361328,
          13.933738708496094,
          -9.682573318481445,
          -6.514224052429199,
          13.311403274536133,
          7.515320777893066,
          7.565055847167969,
          -1.7948087453842163,
          -6.697147369384766,
          1.506883144378662,
          1.015176773071289,
          9.873661994934082,
          10.102372169494629,
          12.05296516418457,
          7.848512172698975,
          -15.587596893310547,
          -14.997523307800293,
          9.250654220581055,
          11.162635803222656,
          8.014866828918457,
          6.850440979003906,
          15.016036987304688,
          -9.70989990234375,
          18.258800506591797,
          -9.89191722869873,
          13.855545997619629,
          -9.297808647155762,
          -13.894790649414062,
          -17.24161720275879,
          -15.046751976013184,
          13.504572868347168,
          15.904996871948242,
          -4.2767462730407715,
          16.50096893310547,
          7.558444499969482,
          -3.299856662750244,
          8.872051239013672,
          20.066560745239258,
          9.01633071899414,
          21.626306533813477,
          21.5347843170166,
          18.151845932006836,
          9.755722999572754,
          15.749507904052734,
          14.392921447753906,
          18.17131233215332,
          -0.6954452395439148,
          6.500502109527588,
          19.265241622924805,
          -9.256041526794434,
          21.417551040649414,
          -17.863466262817383,
          19.891639709472656,
          21.614286422729492,
          19.654653549194336,
          10.675792694091797,
          19.626440048217773,
          7.458216667175293,
          6.534167766571045,
          19.725921630859375,
          20.27485466003418,
          7.855062007904053,
          20.163782119750977,
          20.90990447998047,
          21.147706985473633,
          20.562978744506836,
          19.516633987426758,
          19.560443878173828,
          19.279434204101562,
          18.4057559967041,
          21.53559112548828,
          19.443387985229492,
          7.432191371917725,
          21.92361068725586,
          7.338125228881836,
          8.854092597961426,
          17.981294631958008,
          20.459562301635742,
          18.899150848388672,
          2.4978644847869873,
          -15.681145668029785,
          1.9633289575576782,
          -12.602418899536133,
          -16.302000045776367,
          9.053924560546875,
          -1.0105444192886353,
          6.428296089172363,
          11.83076286315918,
          12.410454750061035,
          5.835835933685303,
          -10.684849739074707,
          -1.564866304397583,
          20.668367385864258,
          -20.829435348510742,
          7.279366493225098,
          -6.054415225982666,
          1.4646655321121216,
          18.32756996154785,
          -17.085269927978516,
          7.06934928894043,
          20.074098587036133,
          13.370217323303223,
          4.818264961242676,
          -19.596633911132812,
          -18.115793228149414,
          9.925209999084473,
          2.4699597358703613,
          8.177938461303711,
          -16.798288345336914,
          6.151294708251953,
          6.83142614364624,
          -0.8637133240699768,
          20.527467727661133,
          22.05037498474121,
          -9.792947769165039,
          15.1377592086792,
          -18.239404678344727,
          19.6865291595459,
          16.03368377685547,
          -22.381359100341797,
          -9.231553077697754,
          18.36427116394043,
          6.798320293426514,
          18.009502410888672,
          17.689895629882812,
          20.272602081298828,
          18.229736328125,
          6.652190685272217,
          18.46795654296875,
          9.045519828796387,
          17.195310592651367,
          17.903059005737305,
          5.870952129364014,
          -22.024858474731445,
          -12.668777465820312,
          7.0980329513549805,
          9.389158248901367,
          -20.797733306884766,
          17.962060928344727,
          9.119484901428223,
          17.893877029418945,
          9.678949356079102,
          10.630227088928223,
          14.763447761535645,
          9.835197448730469,
          8.71142292022705,
          8.278287887573242,
          18.07988739013672,
          14.577508926391602,
          -10.40955638885498,
          21.39899253845215,
          20.00078010559082,
          22.138032913208008,
          7.04679012298584,
          8.664484024047852,
          -18.88779067993164,
          9.75859546661377,
          9.788424491882324,
          1.746674656867981,
          2.3356430530548096,
          10.015848159790039,
          2.2985169887542725,
          19.016454696655273,
          14.294102668762207,
          13.09704875946045,
          -0.6004349589347839,
          6.255862236022949,
          14.84282398223877,
          7.584785461425781,
          18.021656036376953,
          19.23078155517578,
          18.97218132019043,
          15.85505199432373,
          7.06534481048584
         ],
         "yaxis": "y"
        }
       ],
       "layout": {
        "coloraxis": {
         "colorbar": {
          "title": {
           "text": "popularity"
          }
         },
         "colorscale": [
          [
           0,
           "#0d0887"
          ],
          [
           0.1111111111111111,
           "#46039f"
          ],
          [
           0.2222222222222222,
           "#7201a8"
          ],
          [
           0.3333333333333333,
           "#9c179e"
          ],
          [
           0.4444444444444444,
           "#bd3786"
          ],
          [
           0.5555555555555556,
           "#d8576b"
          ],
          [
           0.6666666666666666,
           "#ed7953"
          ],
          [
           0.7777777777777778,
           "#fb9f3a"
          ],
          [
           0.8888888888888888,
           "#fdca26"
          ],
          [
           1,
           "#f0f921"
          ]
         ]
        },
        "legend": {
         "tracegroupgap": 0
        },
        "margin": {
         "t": 60
        },
        "template": {
         "data": {
          "bar": [
           {
            "error_x": {
             "color": "#2a3f5f"
            },
            "error_y": {
             "color": "#2a3f5f"
            },
            "marker": {
             "line": {
              "color": "#E5ECF6",
              "width": 0.5
             },
             "pattern": {
              "fillmode": "overlay",
              "size": 10,
              "solidity": 0.2
             }
            },
            "type": "bar"
           }
          ],
          "barpolar": [
           {
            "marker": {
             "line": {
              "color": "#E5ECF6",
              "width": 0.5
             },
             "pattern": {
              "fillmode": "overlay",
              "size": 10,
              "solidity": 0.2
             }
            },
            "type": "barpolar"
           }
          ],
          "carpet": [
           {
            "aaxis": {
             "endlinecolor": "#2a3f5f",
             "gridcolor": "white",
             "linecolor": "white",
             "minorgridcolor": "white",
             "startlinecolor": "#2a3f5f"
            },
            "baxis": {
             "endlinecolor": "#2a3f5f",
             "gridcolor": "white",
             "linecolor": "white",
             "minorgridcolor": "white",
             "startlinecolor": "#2a3f5f"
            },
            "type": "carpet"
           }
          ],
          "choropleth": [
           {
            "colorbar": {
             "outlinewidth": 0,
             "ticks": ""
            },
            "type": "choropleth"
           }
          ],
          "contour": [
           {
            "colorbar": {
             "outlinewidth": 0,
             "ticks": ""
            },
            "colorscale": [
             [
              0,
              "#0d0887"
             ],
             [
              0.1111111111111111,
              "#46039f"
             ],
             [
              0.2222222222222222,
              "#7201a8"
             ],
             [
              0.3333333333333333,
              "#9c179e"
             ],
             [
              0.4444444444444444,
              "#bd3786"
             ],
             [
              0.5555555555555556,
              "#d8576b"
             ],
             [
              0.6666666666666666,
              "#ed7953"
             ],
             [
              0.7777777777777778,
              "#fb9f3a"
             ],
             [
              0.8888888888888888,
              "#fdca26"
             ],
             [
              1,
              "#f0f921"
             ]
            ],
            "type": "contour"
           }
          ],
          "contourcarpet": [
           {
            "colorbar": {
             "outlinewidth": 0,
             "ticks": ""
            },
            "type": "contourcarpet"
           }
          ],
          "heatmap": [
           {
            "colorbar": {
             "outlinewidth": 0,
             "ticks": ""
            },
            "colorscale": [
             [
              0,
              "#0d0887"
             ],
             [
              0.1111111111111111,
              "#46039f"
             ],
             [
              0.2222222222222222,
              "#7201a8"
             ],
             [
              0.3333333333333333,
              "#9c179e"
             ],
             [
              0.4444444444444444,
              "#bd3786"
             ],
             [
              0.5555555555555556,
              "#d8576b"
             ],
             [
              0.6666666666666666,
              "#ed7953"
             ],
             [
              0.7777777777777778,
              "#fb9f3a"
             ],
             [
              0.8888888888888888,
              "#fdca26"
             ],
             [
              1,
              "#f0f921"
             ]
            ],
            "type": "heatmap"
           }
          ],
          "heatmapgl": [
           {
            "colorbar": {
             "outlinewidth": 0,
             "ticks": ""
            },
            "colorscale": [
             [
              0,
              "#0d0887"
             ],
             [
              0.1111111111111111,
              "#46039f"
             ],
             [
              0.2222222222222222,
              "#7201a8"
             ],
             [
              0.3333333333333333,
              "#9c179e"
             ],
             [
              0.4444444444444444,
              "#bd3786"
             ],
             [
              0.5555555555555556,
              "#d8576b"
             ],
             [
              0.6666666666666666,
              "#ed7953"
             ],
             [
              0.7777777777777778,
              "#fb9f3a"
             ],
             [
              0.8888888888888888,
              "#fdca26"
             ],
             [
              1,
              "#f0f921"
             ]
            ],
            "type": "heatmapgl"
           }
          ],
          "histogram": [
           {
            "marker": {
             "pattern": {
              "fillmode": "overlay",
              "size": 10,
              "solidity": 0.2
             }
            },
            "type": "histogram"
           }
          ],
          "histogram2d": [
           {
            "colorbar": {
             "outlinewidth": 0,
             "ticks": ""
            },
            "colorscale": [
             [
              0,
              "#0d0887"
             ],
             [
              0.1111111111111111,
              "#46039f"
             ],
             [
              0.2222222222222222,
              "#7201a8"
             ],
             [
              0.3333333333333333,
              "#9c179e"
             ],
             [
              0.4444444444444444,
              "#bd3786"
             ],
             [
              0.5555555555555556,
              "#d8576b"
             ],
             [
              0.6666666666666666,
              "#ed7953"
             ],
             [
              0.7777777777777778,
              "#fb9f3a"
             ],
             [
              0.8888888888888888,
              "#fdca26"
             ],
             [
              1,
              "#f0f921"
             ]
            ],
            "type": "histogram2d"
           }
          ],
          "histogram2dcontour": [
           {
            "colorbar": {
             "outlinewidth": 0,
             "ticks": ""
            },
            "colorscale": [
             [
              0,
              "#0d0887"
             ],
             [
              0.1111111111111111,
              "#46039f"
             ],
             [
              0.2222222222222222,
              "#7201a8"
             ],
             [
              0.3333333333333333,
              "#9c179e"
             ],
             [
              0.4444444444444444,
              "#bd3786"
             ],
             [
              0.5555555555555556,
              "#d8576b"
             ],
             [
              0.6666666666666666,
              "#ed7953"
             ],
             [
              0.7777777777777778,
              "#fb9f3a"
             ],
             [
              0.8888888888888888,
              "#fdca26"
             ],
             [
              1,
              "#f0f921"
             ]
            ],
            "type": "histogram2dcontour"
           }
          ],
          "mesh3d": [
           {
            "colorbar": {
             "outlinewidth": 0,
             "ticks": ""
            },
            "type": "mesh3d"
           }
          ],
          "parcoords": [
           {
            "line": {
             "colorbar": {
              "outlinewidth": 0,
              "ticks": ""
             }
            },
            "type": "parcoords"
           }
          ],
          "pie": [
           {
            "automargin": true,
            "type": "pie"
           }
          ],
          "scatter": [
           {
            "fillpattern": {
             "fillmode": "overlay",
             "size": 10,
             "solidity": 0.2
            },
            "type": "scatter"
           }
          ],
          "scatter3d": [
           {
            "line": {
             "colorbar": {
              "outlinewidth": 0,
              "ticks": ""
             }
            },
            "marker": {
             "colorbar": {
              "outlinewidth": 0,
              "ticks": ""
             }
            },
            "type": "scatter3d"
           }
          ],
          "scattercarpet": [
           {
            "marker": {
             "colorbar": {
              "outlinewidth": 0,
              "ticks": ""
             }
            },
            "type": "scattercarpet"
           }
          ],
          "scattergeo": [
           {
            "marker": {
             "colorbar": {
              "outlinewidth": 0,
              "ticks": ""
             }
            },
            "type": "scattergeo"
           }
          ],
          "scattergl": [
           {
            "marker": {
             "colorbar": {
              "outlinewidth": 0,
              "ticks": ""
             }
            },
            "type": "scattergl"
           }
          ],
          "scattermapbox": [
           {
            "marker": {
             "colorbar": {
              "outlinewidth": 0,
              "ticks": ""
             }
            },
            "type": "scattermapbox"
           }
          ],
          "scatterpolar": [
           {
            "marker": {
             "colorbar": {
              "outlinewidth": 0,
              "ticks": ""
             }
            },
            "type": "scatterpolar"
           }
          ],
          "scatterpolargl": [
           {
            "marker": {
             "colorbar": {
              "outlinewidth": 0,
              "ticks": ""
             }
            },
            "type": "scatterpolargl"
           }
          ],
          "scatterternary": [
           {
            "marker": {
             "colorbar": {
              "outlinewidth": 0,
              "ticks": ""
             }
            },
            "type": "scatterternary"
           }
          ],
          "surface": [
           {
            "colorbar": {
             "outlinewidth": 0,
             "ticks": ""
            },
            "colorscale": [
             [
              0,
              "#0d0887"
             ],
             [
              0.1111111111111111,
              "#46039f"
             ],
             [
              0.2222222222222222,
              "#7201a8"
             ],
             [
              0.3333333333333333,
              "#9c179e"
             ],
             [
              0.4444444444444444,
              "#bd3786"
             ],
             [
              0.5555555555555556,
              "#d8576b"
             ],
             [
              0.6666666666666666,
              "#ed7953"
             ],
             [
              0.7777777777777778,
              "#fb9f3a"
             ],
             [
              0.8888888888888888,
              "#fdca26"
             ],
             [
              1,
              "#f0f921"
             ]
            ],
            "type": "surface"
           }
          ],
          "table": [
           {
            "cells": {
             "fill": {
              "color": "#EBF0F8"
             },
             "line": {
              "color": "white"
             }
            },
            "header": {
             "fill": {
              "color": "#C8D4E3"
             },
             "line": {
              "color": "white"
             }
            },
            "type": "table"
           }
          ]
         },
         "layout": {
          "annotationdefaults": {
           "arrowcolor": "#2a3f5f",
           "arrowhead": 0,
           "arrowwidth": 1
          },
          "autotypenumbers": "strict",
          "coloraxis": {
           "colorbar": {
            "outlinewidth": 0,
            "ticks": ""
           }
          },
          "colorscale": {
           "diverging": [
            [
             0,
             "#8e0152"
            ],
            [
             0.1,
             "#c51b7d"
            ],
            [
             0.2,
             "#de77ae"
            ],
            [
             0.3,
             "#f1b6da"
            ],
            [
             0.4,
             "#fde0ef"
            ],
            [
             0.5,
             "#f7f7f7"
            ],
            [
             0.6,
             "#e6f5d0"
            ],
            [
             0.7,
             "#b8e186"
            ],
            [
             0.8,
             "#7fbc41"
            ],
            [
             0.9,
             "#4d9221"
            ],
            [
             1,
             "#276419"
            ]
           ],
           "sequential": [
            [
             0,
             "#0d0887"
            ],
            [
             0.1111111111111111,
             "#46039f"
            ],
            [
             0.2222222222222222,
             "#7201a8"
            ],
            [
             0.3333333333333333,
             "#9c179e"
            ],
            [
             0.4444444444444444,
             "#bd3786"
            ],
            [
             0.5555555555555556,
             "#d8576b"
            ],
            [
             0.6666666666666666,
             "#ed7953"
            ],
            [
             0.7777777777777778,
             "#fb9f3a"
            ],
            [
             0.8888888888888888,
             "#fdca26"
            ],
            [
             1,
             "#f0f921"
            ]
           ],
           "sequentialminus": [
            [
             0,
             "#0d0887"
            ],
            [
             0.1111111111111111,
             "#46039f"
            ],
            [
             0.2222222222222222,
             "#7201a8"
            ],
            [
             0.3333333333333333,
             "#9c179e"
            ],
            [
             0.4444444444444444,
             "#bd3786"
            ],
            [
             0.5555555555555556,
             "#d8576b"
            ],
            [
             0.6666666666666666,
             "#ed7953"
            ],
            [
             0.7777777777777778,
             "#fb9f3a"
            ],
            [
             0.8888888888888888,
             "#fdca26"
            ],
            [
             1,
             "#f0f921"
            ]
           ]
          },
          "colorway": [
           "#636efa",
           "#EF553B",
           "#00cc96",
           "#ab63fa",
           "#FFA15A",
           "#19d3f3",
           "#FF6692",
           "#B6E880",
           "#FF97FF",
           "#FECB52"
          ],
          "font": {
           "color": "#2a3f5f"
          },
          "geo": {
           "bgcolor": "white",
           "lakecolor": "white",
           "landcolor": "#E5ECF6",
           "showlakes": true,
           "showland": true,
           "subunitcolor": "white"
          },
          "hoverlabel": {
           "align": "left"
          },
          "hovermode": "closest",
          "mapbox": {
           "style": "light"
          },
          "paper_bgcolor": "white",
          "plot_bgcolor": "#E5ECF6",
          "polar": {
           "angularaxis": {
            "gridcolor": "white",
            "linecolor": "white",
            "ticks": ""
           },
           "bgcolor": "#E5ECF6",
           "radialaxis": {
            "gridcolor": "white",
            "linecolor": "white",
            "ticks": ""
           }
          },
          "scene": {
           "xaxis": {
            "backgroundcolor": "#E5ECF6",
            "gridcolor": "white",
            "gridwidth": 2,
            "linecolor": "white",
            "showbackground": true,
            "ticks": "",
            "zerolinecolor": "white"
           },
           "yaxis": {
            "backgroundcolor": "#E5ECF6",
            "gridcolor": "white",
            "gridwidth": 2,
            "linecolor": "white",
            "showbackground": true,
            "ticks": "",
            "zerolinecolor": "white"
           },
           "zaxis": {
            "backgroundcolor": "#E5ECF6",
            "gridcolor": "white",
            "gridwidth": 2,
            "linecolor": "white",
            "showbackground": true,
            "ticks": "",
            "zerolinecolor": "white"
           }
          },
          "shapedefaults": {
           "line": {
            "color": "#2a3f5f"
           }
          },
          "ternary": {
           "aaxis": {
            "gridcolor": "white",
            "linecolor": "white",
            "ticks": ""
           },
           "baxis": {
            "gridcolor": "white",
            "linecolor": "white",
            "ticks": ""
           },
           "bgcolor": "#E5ECF6",
           "caxis": {
            "gridcolor": "white",
            "linecolor": "white",
            "ticks": ""
           }
          },
          "title": {
           "x": 0.05
          },
          "xaxis": {
           "automargin": true,
           "gridcolor": "white",
           "linecolor": "white",
           "ticks": "",
           "title": {
            "standoff": 15
           },
           "zerolinecolor": "white",
           "zerolinewidth": 2
          },
          "yaxis": {
           "automargin": true,
           "gridcolor": "white",
           "linecolor": "white",
           "ticks": "",
           "title": {
            "standoff": 15
           },
           "zerolinecolor": "white",
           "zerolinewidth": 2
          }
         }
        },
        "xaxis": {
         "anchor": "y",
         "domain": [
          0,
          1
         ],
         "title": {
          "text": "tsne_1"
         }
        },
        "yaxis": {
         "anchor": "x",
         "domain": [
          0,
          1
         ],
         "title": {
          "text": "tsne_2"
         }
        }
       }
      }
     },
     "metadata": {},
     "output_type": "display_data"
    }
   ],
   "source": [
    "import plotly.express as px\n",
    "\n",
    "tsne_df = pd.DataFrame(item_tsne, columns=[\"tsne_1\", \"tsne_2\"])\n",
    "tsne_df[\"item_id\"] = np.arange(item_tsne.shape[0])\n",
    "tsne_df = tsne_df.merge(items.reset_index())\n",
    "\n",
    "px.scatter(tsne_df, x=\"tsne_1\", y=\"tsne_2\",\n",
    "           color=\"popularity\",\n",
    "           hover_data=[\"item_id\", \"title\", \"popularity\"])"
   ]
  },
  {
   "cell_type": "markdown",
   "metadata": {},
   "source": [
    "### Exercises\n",
    "\n",
    " - Add another layer to the neural network and retrain, compare train/test error.\n",
    " - Try adding more dropout and change layer sizes.\n"
   ]
  },
  {
   "cell_type": "markdown",
   "metadata": {},
   "source": [
    "### A recommendation function for a given user\n",
    "\n",
    "Once the model is trained, the system can be used to recommend a few items for a user that they haven't seen before. The following code does that.\n",
    "\n",
    "- we use the `model.predict` to compute the ratings a user would have given to all items\n",
    "- we build a function that sorts these items and excludes those the user has already seen."
   ]
  },
  {
   "cell_type": "code",
   "execution_count": 116,
   "metadata": {
    "scrolled": true
   },
   "outputs": [],
   "source": [
    "def recommend(user_id, top_n=10):\n",
    "    item_ids = range(1, items['item_id'].max())\n",
    "    seen_mask = all_ratings[\"user_id\"] == user_id\n",
    "    seen_movies = set(all_ratings[seen_mask][\"item_id\"])\n",
    "    item_ids = list(filter(lambda x: x not in seen_movies, item_ids))\n",
    "\n",
    "    user = np.zeros_like(item_ids)\n",
    "    user[:len(item_ids)] = user_id\n",
    "    items_ = np.array(item_ids)\n",
    "    ratings = model.predict([user, items_]).flatten()\n",
    "    top_items = ratings.argsort()[-top_n:][::-1]\n",
    "    return [(indexed_items.loc[item_id][\"title\"], ratings[item_id]) for item_id in top_items]"
   ]
  },
  {
   "cell_type": "code",
   "execution_count": 117,
   "metadata": {},
   "outputs": [
    {
     "name": "stdout",
     "output_type": "stream",
     "text": [
      "48/48 [==============================] - 0s 6ms/step\n",
      "    4.5: Terminator 2: Judgment Day (1991)\n",
      "    4.3: Eat Drink Man Woman (1994)\n",
      "    4.2: 20,000 Leagues Under the Sea (1954)\n",
      "    4.2: Young Guns (1988)\n",
      "    4.1: Dead Man Walking (1995)\n",
      "    4.1: Back to the Future (1985)\n",
      "    4.1: Faster Pussycat! Kill! Kill! (1965)\n",
      "    4.1: All Dogs Go to Heaven 2 (1996)\n",
      "    4.1: Get Shorty (1995)\n",
      "    4.1: Robert A. Heinlein's The Puppet Masters (1994)\n"
     ]
    }
   ],
   "source": [
    "for title, pred_rating in recommend(5):\n",
    "    print(\"    %0.1f: %s\" % (pred_rating, title))"
   ]
  },
  {
   "cell_type": "markdown",
   "metadata": {
    "collapsed": false
   },
   "source": [
    "### Exercises\n",
    "\n",
    "- Try modifying our neural network to improve recommendation. You could try adding more layers, or using a different loss function. \n",
    "- Your goal is to improve the Mean Absolute Error on the test set. Show the results of your best model."
   ]
  },
  {
   "cell_type": "code",
   "execution_count": 118,
   "metadata": {
    "collapsed": false
   },
   "outputs": [],
   "source": [
    "# Extend and improve the model below\n",
    "class RegressionModel(Model):\n",
    "    def __init__(self, embedding_size, max_user_id, max_item_id):\n",
    "        super().__init__()\n",
    "\n",
    "        self.user_embedding = Embedding(output_dim=embedding_size,\n",
    "                                        input_dim=max_user_id + 1,\n",
    "                                        name='user_embedding')\n",
    "        self.item_embedding = Embedding(output_dim=embedding_size,\n",
    "                                        input_dim=max_item_id + 1,\n",
    "                                        name='item_embedding')\n",
    "        \n",
    "        self.dense = Dense(64, activation='relu')\n",
    "        #self.dense = Dense(128, activation='relu')\n",
    "        self.dropout = Dropout(0.2)\n",
    "\n",
    "        # The following two layers don't have parameters.\n",
    "        self.flatten = Flatten()\n",
    "        self.dot = Dot(axes=1)\n",
    "\n",
    "    def call(self, inputs):\n",
    "        user_inputs = inputs[0]\n",
    "        item_inputs = inputs[1]\n",
    "\n",
    "        user_vecs = self.flatten(self.user_embedding(user_inputs))\n",
    "        item_vecs = self.flatten(self.item_embedding(item_inputs))\n",
    "\n",
    "        # Add Dropout layer\n",
    "        #user_vecs = self.dropout(self.user_embedding(user_inputs))\n",
    "        #item_vecs = self.dropout(self.item_embedding(item_inputs))\n",
    "\n",
    "\n",
    "        # Add a dense layer\n",
    "        #dense = Dense(64, activation='relu')\n",
    "        #user_vecs = self.dense(user_vecs)\n",
    "        #item_vecs = self.dense(item_vecs)\n",
    "\n",
    "        y = self.dot([user_vecs, item_vecs])\n",
    "        return y\n",
    "\n"
   ]
  },
  {
   "cell_type": "code",
   "execution_count": 119,
   "metadata": {},
   "outputs": [],
   "source": [
    "\n",
    "#model = RegressionModel(embedding_size=64, max_user_id=all_ratings['user_id'].max(), max_item_id=all_ratings['item_id'].max())\n",
    "model = RegressionModel(embedding_size=256, max_user_id=all_ratings['user_id'].max(), max_item_id=all_ratings['item_id'].max())"
   ]
  },
  {
   "cell_type": "code",
   "execution_count": 120,
   "metadata": {},
   "outputs": [],
   "source": [
    "model.compile(optimizer=\"adam\", loss='mae')"
   ]
  },
  {
   "cell_type": "code",
   "execution_count": 121,
   "metadata": {
    "collapsed": false
   },
   "outputs": [
    {
     "name": "stdout",
     "output_type": "stream",
     "text": [
      "Epoch 1/10\n",
      "1000/1000 [==============================] - 7s 6ms/step - loss: 2.4178 - val_loss: 0.9062\n",
      "Epoch 2/10\n",
      "1000/1000 [==============================] - 6s 6ms/step - loss: 0.7979 - val_loss: 0.7865\n",
      "Epoch 3/10\n",
      "1000/1000 [==============================] - 6s 6ms/step - loss: 0.7065 - val_loss: 0.7627\n",
      "Epoch 4/10\n",
      "1000/1000 [==============================] - 6s 6ms/step - loss: 0.6297 - val_loss: 0.7593\n",
      "Epoch 5/10\n",
      "1000/1000 [==============================] - 6s 6ms/step - loss: 0.5481 - val_loss: 0.7592\n",
      "Epoch 6/10\n",
      "1000/1000 [==============================] - 6s 6ms/step - loss: 0.4698 - val_loss: 0.7617\n",
      "Epoch 7/10\n",
      "1000/1000 [==============================] - 6s 6ms/step - loss: 0.4011 - val_loss: 0.7672\n",
      "Epoch 8/10\n",
      "1000/1000 [==============================] - 6s 6ms/step - loss: 0.3476 - val_loss: 0.7671\n",
      "Epoch 9/10\n",
      "1000/1000 [==============================] - 6s 6ms/step - loss: 0.3038 - val_loss: 0.7728\n",
      "Epoch 10/10\n",
      "1000/1000 [==============================] - 6s 6ms/step - loss: 0.2713 - val_loss: 0.7759\n"
     ]
    }
   ],
   "source": [
    "# Training the model\n",
    "history = model.fit([user_id_train, item_id_train], rating_train,\n",
    "                    batch_size=64, epochs=10, validation_split=0.2,\n",
    "                    shuffle=True)"
   ]
  },
  {
   "cell_type": "code",
   "execution_count": 122,
   "metadata": {},
   "outputs": [
    {
     "data": {
      "image/png": "[encoded data removed]",
      "text/plain": [
       "<Figure size 640x480 with 1 Axes>"
      ]
     },
     "metadata": {},
     "output_type": "display_data"
    }
   ],
   "source": [
    "plt.plot(history.history['loss'], label='train')\n",
    "plt.plot(history.history['val_loss'], label='validation')\n",
    "plt.ylim(0, 2)\n",
    "plt.legend(loc='best')\n",
    "plt.title('Loss');"
   ]
  }
 ],
 "metadata": {
  "kernelspec": {
   "display_name": "dsi_participant",
   "language": "python",
   "name": "python3"
  },
  "language_info": {
   "codemirror_mode": {
    "name": "ipython",
    "version": 3
   },
   "file_extension": ".py",
   "mimetype": "text/x-python",
   "name": "python",
   "nbconvert_exporter": "python",
   "pygments_lexer": "ipython3",
   "version": "3.9.15"
  }
 },
 "nbformat": 4,
 "nbformat_minor": 4
}
